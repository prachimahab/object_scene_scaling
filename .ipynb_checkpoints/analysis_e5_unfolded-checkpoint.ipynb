{
 "cells": [
  {
   "cell_type": "code",
   "execution_count": 104,
   "metadata": {},
   "outputs": [],
   "source": [
    "import numpy as np\n",
    "import os\n",
    "import pandas as pd\n",
    "import math\n",
    "import matplotlib.pyplot as plt\n",
    "from scipy.stats import sem\n"
   ]
  },
  {
   "cell_type": "code",
   "execution_count": null,
   "metadata": {},
   "outputs": [],
   "source": []
  },
  {
   "cell_type": "markdown",
   "metadata": {},
   "source": [
    "### Exclusion Criteria\n",
    " - Accuracy: 70 % (17/24 correct)\n",
    " - RT: Exclude trial if < 250 ms or > 2s\n",
    " - Remove participant if more than 10% of the data is removed (?) \n",
    "    "
   ]
  },
  {
   "cell_type": "markdown",
   "metadata": {},
   "source": [
    "### Pilot Analysis Plots\n",
    "\n",
    "1. Overall Accuracy\n",
    "    - accuracy by scene category\n",
    "    - accuracy by zoom \n",
    "    - accuracy by zoom x match\n",
    "2. RT Distribution\n",
    "    - RT by scene category\n",
    "    - RT by zoom \n",
    "    - RT by zoom x match\n",
    "3. 2x3 ANOVA\n",
    " "
   ]
  },
  {
   "cell_type": "code",
   "execution_count": 105,
   "metadata": {},
   "outputs": [],
   "source": [
    "def combineCSVs(datafolder):\n",
    "    \"\"\"\n",
    "    Combine all participant data into one pandas df\n",
    "    OR \n",
    "    Create df for single participant file \n",
    "    \"\"\"\n",
    "    \n",
    "    exclude = []\n",
    "    \n",
    "    #checks if path is a file\n",
    "    isFile = os.path.isfile(datafolder)\n",
    "\n",
    "    #checks if path is a directory\n",
    "    \n",
    "    isDirectory = os.path.isdir(datafolder)\n",
    "    \n",
    "    if isDirectory == True:\n",
    "        data = []\n",
    "        for filename in os.listdir(datafolder):\n",
    "            if 'csv' in filename:\n",
    "                path = datafolder + \"/\" + filename\n",
    "                df = pd.read_csv(path, index_col=None, header=0)\n",
    "                \n",
    "                # do NOT include subject IDs that have been flagged \n",
    "                subjID = df.subjID.unique()[0]\n",
    "                if subjID not in exclude:\n",
    "                    data.append(df)\n",
    "\n",
    "                \n",
    "        input_frame = pd.concat(data, axis=0, ignore_index=True)\n",
    "        \n",
    "    if isFile == True:\n",
    "        if 'csv' in datafolder:\n",
    "            input_frame = pd.read_csv(datafolder, index_col=None, header=0)\n",
    "    \n",
    "    print('Number of participants before cleaning: ', len(input_frame.subjID.unique()))\n",
    "\n",
    " \n",
    "    return input_frame"
   ]
  },
  {
   "cell_type": "code",
   "execution_count": 106,
   "metadata": {},
   "outputs": [],
   "source": [
    "# data_path = '/Users/prachi/Documents/object_scene_scaling_data/pilot2'\n",
    "\n",
    "data_path = '/Users/prachimahableshwarkar/Documents/GW/FacialAge/FacialAge_MTurk/OSS_MTurk/data'"
   ]
  },
  {
   "cell_type": "code",
   "execution_count": 107,
   "metadata": {},
   "outputs": [
    {
     "name": "stdout",
     "output_type": "stream",
     "text": [
      "Number of participants before cleaning:  89\n"
     ]
    }
   ],
   "source": [
    "input_data = combineCSVs(data_path)"
   ]
  },
  {
   "cell_type": "code",
   "execution_count": 108,
   "metadata": {},
   "outputs": [],
   "source": [
    "num_trials = 24"
   ]
  },
  {
   "cell_type": "code",
   "execution_count": 109,
   "metadata": {},
   "outputs": [],
   "source": [
    "def cleanbyPracticeTries(df, num_allowed_tries):\n",
    "    all_subjIDs = df.subjID.unique()\n",
    "    \n",
    "    remove = []\n",
    "    df2_list = []\n",
    "    prac_too_many_dist = []\n",
    "    for subj in all_subjIDs:\n",
    "        count = 0\n",
    "        subj_df = df.loc[df['subjID'] == subj]\n",
    "        cleaned_subj_df = subj_df.copy(deep=True) # prevent setting with copy warning \n",
    "        \n",
    "        subj_num_practice_tries = cleaned_subj_df.pracTries.unique()[0]\n",
    "        \n",
    "        if subj_num_practice_tries > num_allowed_tries:\n",
    "            prac_too_many_dist.append(subj_num_practice_tries)\n",
    "            remove.append(subj)\n",
    "        else:  \n",
    "            df2_list.append(cleaned_subj_df)\n",
    "    \n",
    "    df2 = pd.concat(df2_list)\n",
    "            \n",
    "    print('Number of participants with more than ' + str(num_allowed_tries) + ' practice tries:', len(remove))\n",
    "    \n",
    "    return df2, prac_too_many_dist\n",
    "    "
   ]
  },
  {
   "cell_type": "code",
   "execution_count": 110,
   "metadata": {},
   "outputs": [
    {
     "name": "stdout",
     "output_type": "stream",
     "text": [
      "Number of participants with more than 3 practice tries: 1\n"
     ]
    }
   ],
   "source": [
    "pracTries_cleaned_data, prac_dist = cleanbyPracticeTries(input_data, 3)"
   ]
  },
  {
   "cell_type": "code",
   "execution_count": 111,
   "metadata": {},
   "outputs": [
    {
     "data": {
      "text/plain": [
       "(0, 1)"
      ]
     },
     "execution_count": 111,
     "metadata": {},
     "output_type": "execute_result"
    }
   ],
   "source": [
    "x = [d for d in prac_dist if d > 5]\n",
    "\n",
    "len(x), len(prac_dist)"
   ]
  },
  {
   "cell_type": "code",
   "execution_count": 112,
   "metadata": {},
   "outputs": [
    {
     "data": {
      "image/png": "[encoded data removed]",
      "text/plain": [
       "<Figure size 432x288 with 1 Axes>"
      ]
     },
     "metadata": {
      "needs_background": "light"
     },
     "output_type": "display_data"
    }
   ],
   "source": [
    "plt.hist(prac_dist)\n",
    "plt.show()"
   ]
  },
  {
   "cell_type": "code",
   "execution_count": 113,
   "metadata": {},
   "outputs": [
    {
     "data": {
      "text/plain": [
       "88"
      ]
     },
     "execution_count": 113,
     "metadata": {},
     "output_type": "execute_result"
    }
   ],
   "source": [
    "len(pracTries_cleaned_data.subjID.unique())"
   ]
  },
  {
   "cell_type": "code",
   "execution_count": 114,
   "metadata": {},
   "outputs": [],
   "source": [
    "def Accuracy_Cleaning(df, accuracy_threshold, num_trials):\n",
    "    \"\"\"    \n",
    "    Remove participants with overall accuracy below the accuracy threshold (e.g. 0.7)\n",
    "    \n",
    "    Returns:\n",
    "        data of participants that passed the accuracy threshold \n",
    "        list of the number of correct trials each participant got\n",
    "    \"\"\"\n",
    "    #List unique values in the df['subjID'] column\n",
    "    all_subjIDs = df.subjID.unique()\n",
    "    \n",
    "    remove = []\n",
    "    df2_list = []\n",
    "    list_trials_correct = []\n",
    "    # number of participants where exclusion is because all responses were 'none'\n",
    "    c = 0\n",
    "    \n",
    "    for subj in all_subjIDs:\n",
    "        keypresses = []\n",
    "\n",
    "        subj_df = df.loc[df['subjID'] == subj]\n",
    "        cleaned_subj_df = subj_df.copy(deep=True) # prevent setting with copy warning \n",
    "        \n",
    "        subj_num_correct_trials = 0\n",
    "        \n",
    "        acc_column = np.array(list(subj_df['accuracy']))\n",
    "        sum_acc = np.sum(acc_column)\n",
    "        \n",
    "        \n",
    "        for idx, row in subj_df.iterrows():\n",
    "            trial_acc = row['accuracy']\n",
    "            if trial_acc == 1:\n",
    "                subj_num_correct_trials += 1\n",
    "            else:\n",
    "                keypresses.append(row['keyPress'])\n",
    "        \n",
    "        subj_acc = sum_acc/num_trials\n",
    "#         print(acc_column)\n",
    "#         print(subj, sum_acc, subj_acc)\n",
    "                \n",
    "        # minimum number of trials correct the participant must have to be included\n",
    "        if subj_acc < accuracy_threshold:\n",
    "#             print(subj_acc, subj)\n",
    "            remove.append(subj)\n",
    "#             print(len([x for x in keypresses if x == 'none']))\n",
    "            if len([x for x in keypresses if x == 'none']) >= 4:\n",
    "                c += 1\n",
    "            \n",
    "#         else:\n",
    "#             print(subj_acc)\n",
    "        \n",
    "        list_trials_correct.append(subj_num_correct_trials)\n",
    "        \n",
    "        df2_list.append(cleaned_subj_df)\n",
    "    \n",
    "    df2 = pd.concat(df2_list)\n",
    "    \n",
    "    print(\"Number of Participants with accuracy below 70%: \", len(remove))\n",
    "    \n",
    "    for index, row in df2.iterrows():\n",
    "        if row['subjID'] in remove:\n",
    "            df2.drop(index, inplace=True)\n",
    "                \n",
    "    print('Number of participants that did not respond for 4 or more trials:', c)\n",
    "    \n",
    "    print('Number of participants left: ', len(df2.subjID.unique()))\n",
    "                \n",
    "    return df2, list_trials_correct, keypresses"
   ]
  },
  {
   "cell_type": "code",
   "execution_count": null,
   "metadata": {},
   "outputs": [],
   "source": []
  },
  {
   "cell_type": "code",
   "execution_count": 115,
   "metadata": {},
   "outputs": [
    {
     "name": "stdout",
     "output_type": "stream",
     "text": [
      "Number of Participants with accuracy below 70%:  3\n",
      "Number of participants that did not respond for 4 or more trials: 0\n",
      "Number of participants left:  85\n"
     ]
    }
   ],
   "source": [
    "Accuracy_cleaned_data, correct_trials_distribution, keypresses = Accuracy_Cleaning(pracTries_cleaned_data, 0.7, num_trials)\n"
   ]
  },
  {
   "cell_type": "code",
   "execution_count": 116,
   "metadata": {},
   "outputs": [],
   "source": [
    "def RT_Cleaning(df, outlier_range, num_trials):\n",
    "    \"\"\"\n",
    "    Remove trials where trial RT is outside of the defined outlier range \n",
    "    \n",
    "    Returns:\n",
    "        dataframe with outlier RT trials removed\n",
    "        list of all RTs \n",
    "    \"\"\"\n",
    "    #List unique values in the df['subjID'] column\n",
    "    all_subjIDs = df.subjID.unique()\n",
    "    print(len(all_subjIDs))\n",
    "    \n",
    "    remove = []\n",
    "    df2_list = []\n",
    "    total_RT_outliers = 0\n",
    "    total = 0\n",
    "    list_trialRT = []\n",
    "    for subj in all_subjIDs:\n",
    "        count = 0\n",
    "        subj_df = df.loc[df['subjID'] == subj]\n",
    "        cleaned_subj_df = subj_df.copy(deep=True) # prevent setting with copy warning \n",
    "\n",
    "        for idx, row in subj_df.iterrows():\n",
    "            total += 1\n",
    "            RT = row[\"RT\"]\n",
    "            list_trialRT.append(RT)\n",
    "            if RT < outlier_range[0]: # outlier\n",
    "                cleaned_subj_df.drop([idx], inplace=True)\n",
    "                count += 1\n",
    "                total_RT_outliers += 1\n",
    "            if RT > outlier_range[1]:\n",
    "                cleaned_subj_df.drop([idx], inplace=True)\n",
    "                count += 1\n",
    "                total_RT_outliers += 1\n",
    "        \n",
    "        df2_list.append(cleaned_subj_df)\n",
    "    \n",
    "    df2 = pd.concat(df2_list)\n",
    "    print(len(df2.subjID.unique()))\n",
    "                \n",
    "    return df2, list_trialRT"
   ]
  },
  {
   "cell_type": "code",
   "execution_count": 117,
   "metadata": {},
   "outputs": [
    {
     "name": "stdout",
     "output_type": "stream",
     "text": [
      "85\n",
      "85\n"
     ]
    }
   ],
   "source": [
    "RT_cleaned_data, trialRTs_distribution = RT_Cleaning(Accuracy_cleaned_data, [250, 5000], num_trials)\n"
   ]
  },
  {
   "cell_type": "code",
   "execution_count": 118,
   "metadata": {},
   "outputs": [
    {
     "data": {
      "image/png": "[encoded data removed]",
      "text/plain": [
       "<Figure size 432x288 with 1 Axes>"
      ]
     },
     "metadata": {
      "needs_background": "light"
     },
     "output_type": "display_data"
    }
   ],
   "source": [
    "plt.hist(trialRTs_distribution)\n",
    "plt.show()"
   ]
  },
  {
   "cell_type": "code",
   "execution_count": 119,
   "metadata": {},
   "outputs": [],
   "source": [
    "all_subjIDs = RT_cleaned_data.subjID.unique()\n",
    "dist = []\n",
    "for subj in all_subjIDs:\n",
    "    count = 0\n",
    "    subj_df = RT_cleaned_data.loc[RT_cleaned_data['subjID'] == subj]\n",
    "    dist.append(len(subj_df))\n",
    "#     print(len(subj_df))"
   ]
  },
  {
   "cell_type": "code",
   "execution_count": 120,
   "metadata": {},
   "outputs": [
    {
     "data": {
      "text/plain": [
       "85"
      ]
     },
     "execution_count": 120,
     "metadata": {},
     "output_type": "execute_result"
    }
   ],
   "source": [
    "len([d for d in dist if d >11])"
   ]
  },
  {
   "cell_type": "code",
   "execution_count": 121,
   "metadata": {},
   "outputs": [],
   "source": [
    "# pracTries_cleaned_data.subjID.unique(), RT_cleaned_data.subjID.unique()"
   ]
  },
  {
   "cell_type": "code",
   "execution_count": 122,
   "metadata": {},
   "outputs": [],
   "source": [
    "def finalTrialCountCheck(df, num_trials, min_trials):\n",
    "    \"\"\"\n",
    "    If more then 10% of a participants data is missing, remove the participant\n",
    "    \"\"\"\n",
    "    #List unique values in the df['subjID'] column\n",
    "    all_subjIDs = df.subjID.unique()\n",
    "    \n",
    "    remove = []\n",
    "    for subj in all_subjIDs:\n",
    "        subj_df = df.loc[df['subjID'] == subj]\n",
    "        count_trials = len(subj_df.index)\n",
    "        if count_trials < min_trials:\n",
    "            remove.append(subj)\n",
    "            \n",
    "#         threshold_trials_remaining = num_trials - math.floor(num_trials * 0.1)\n",
    "\n",
    "#         if count_trials <= threshold_trials_remaining:\n",
    "#             remove.append(subj)\n",
    "            \n",
    "    print(\"Number of Participants with >= 10% trials removed: \", len(remove))\n",
    "            \n",
    "    for subj in remove:\n",
    "        df.drop(df[df['subjID'] == subj].index, inplace = True) \n",
    "                    \n",
    "    print(\"Number of participants left: \",len(df.subjID.unique()))\n",
    "    return df"
   ]
  },
  {
   "cell_type": "code",
   "execution_count": 123,
   "metadata": {},
   "outputs": [
    {
     "name": "stdout",
     "output_type": "stream",
     "text": [
      "Number of Participants with >= 10% trials removed:  4\n",
      "Number of participants left:  81\n"
     ]
    }
   ],
   "source": [
    "finalTrialCount_data = finalTrialCountCheck(RT_cleaned_data, num_trials, 22)"
   ]
  },
  {
   "cell_type": "code",
   "execution_count": 124,
   "metadata": {},
   "outputs": [
    {
     "data": {
      "text/plain": [
       "81"
      ]
     },
     "execution_count": 124,
     "metadata": {},
     "output_type": "execute_result"
    }
   ],
   "source": [
    "raw_final_data = finalTrialCount_data.copy(deep=True)\n",
    "len(raw_final_data.subjID.unique())"
   ]
  },
  {
   "cell_type": "code",
   "execution_count": 125,
   "metadata": {},
   "outputs": [],
   "source": [
    "def zscored_outcomes(df):\n",
    "    '''\n",
    "    z-score depth estimates and RTs:\n",
    "        for each subj calculate their avg and std \n",
    "        zscored = (estim - subj avg)/subj std\n",
    "    '''\n",
    "    #List unique values in the df['subjID'] column\n",
    "    all_subjIDs = df.subjID.unique()\n",
    "    \n",
    "    df2_list = []\n",
    "    for subj in all_subjIDs:\n",
    "        subj_df = df.loc[df['subjID'] == subj]\n",
    "        final_subj_df = subj_df.copy(deep=True) # prevent setting with copy warning \n",
    "        # Z-Score RT\n",
    "        average_RT = subj_df[\"RT\"].mean()\n",
    "        std_RT = subj_df[\"RT\"].std()\n",
    "        subj_RTs = np.array(list(subj_df[\"RT\"]))\n",
    "        zscored_subj_RTs = (subj_RTs - average_RT)/std_RT\n",
    "        final_subj_df.insert(4, 'Z-Scored RT',zscored_subj_RTs)\n",
    "        df2_list.append(final_subj_df)\n",
    "    \n",
    "    df2 = pd.concat(df2_list)    \n",
    "\n",
    "    return df2"
   ]
  },
  {
   "cell_type": "code",
   "execution_count": 126,
   "metadata": {},
   "outputs": [],
   "source": [
    "zs_final_data = zscored_outcomes(raw_final_data)"
   ]
  },
  {
   "cell_type": "code",
   "execution_count": null,
   "metadata": {},
   "outputs": [],
   "source": []
  },
  {
   "cell_type": "code",
   "execution_count": null,
   "metadata": {},
   "outputs": [],
   "source": []
  },
  {
   "cell_type": "code",
   "execution_count": null,
   "metadata": {},
   "outputs": [],
   "source": []
  },
  {
   "cell_type": "code",
   "execution_count": 127,
   "metadata": {},
   "outputs": [],
   "source": [
    "final_data = zs_final_data.copy(deep=True)"
   ]
  },
  {
   "cell_type": "code",
   "execution_count": null,
   "metadata": {},
   "outputs": [],
   "source": []
  },
  {
   "cell_type": "code",
   "execution_count": 128,
   "metadata": {},
   "outputs": [],
   "source": [
    "def add_objSceneSemCong(df):\n",
    "    \"\"\"\n",
    "    args:\n",
    "        df  \n",
    "    returns:\n",
    "        array of misscaled/scaled\n",
    "    \"\"\"\n",
    "    objSceneSemCong_col = []\n",
    "    \n",
    "    sceneCategory_mapping = {'k': 'kitchen', 'c': 'classroom'}\n",
    "    \n",
    "    for idx, row in df.iterrows():\n",
    "        sceneCategory = sceneCategory_mapping[row['scene'][0]]\n",
    "        if row['objectCategory'] == sceneCategory:\n",
    "            objSceneSemCong_col.append(1)\n",
    "        else:\n",
    "            objSceneSemCong_col.append(0)\n",
    "    \n",
    "    return np.array(objSceneSemCong_col)"
   ]
  },
  {
   "cell_type": "code",
   "execution_count": 129,
   "metadata": {},
   "outputs": [],
   "source": [
    "objSceneSemCong_column = add_objSceneSemCong(final_data)\n"
   ]
  },
  {
   "cell_type": "code",
   "execution_count": 130,
   "metadata": {},
   "outputs": [],
   "source": [
    "\n",
    "# # add column to dataframe \n",
    "final_data.insert(14, \"objSceneSemCong\", objSceneSemCong_column)\n"
   ]
  },
  {
   "cell_type": "code",
   "execution_count": 131,
   "metadata": {},
   "outputs": [],
   "source": [
    "final_data.to_csv('zs_e5v1_b1_unfolded.csv', index=False)"
   ]
  },
  {
   "cell_type": "code",
   "execution_count": 132,
   "metadata": {},
   "outputs": [
    {
     "data": {
      "text/plain": [
       "81"
      ]
     },
     "execution_count": 132,
     "metadata": {},
     "output_type": "execute_result"
    }
   ],
   "source": [
    "len(final_data.subjID.unique())"
   ]
  },
  {
   "cell_type": "code",
   "execution_count": 133,
   "metadata": {},
   "outputs": [],
   "source": [
    "# input_data"
   ]
  },
  {
   "cell_type": "markdown",
   "metadata": {},
   "source": [
    "# Analyze Data by Mis-scaling Rating"
   ]
  },
  {
   "cell_type": "code",
   "execution_count": 134,
   "metadata": {},
   "outputs": [],
   "source": [
    "data_1 = final_data.loc[final_data['rating'] == 1]\n",
    "data_2 = final_data.loc[final_data['rating'] == 2]\n",
    "data_3 = final_data.loc[final_data['rating'] == 3]\n",
    "data_4 = final_data.loc[final_data['rating'] == 4]\n",
    "\n",
    "\n",
    "data_5 = final_data.loc[final_data['rating'] == 5]\n",
    "data_6 = final_data.loc[final_data['rating'] == 6]\n",
    "data_7 = final_data.loc[final_data['rating'] == 7]"
   ]
  },
  {
   "cell_type": "code",
   "execution_count": 135,
   "metadata": {},
   "outputs": [
    {
     "data": {
      "text/plain": [
       "(47, 120, 168, 553, 340, 309, 390)"
      ]
     },
     "execution_count": 135,
     "metadata": {},
     "output_type": "execute_result"
    }
   ],
   "source": [
    "len(data_1['accuracy']), len(data_2['accuracy']), len(data_3['accuracy']), len(data_4['accuracy']), len(data_5['accuracy']), len(data_6['accuracy']), len(data_7['accuracy'])\n"
   ]
  },
  {
   "cell_type": "code",
   "execution_count": null,
   "metadata": {},
   "outputs": [],
   "source": []
  },
  {
   "cell_type": "code",
   "execution_count": 156,
   "metadata": {},
   "outputs": [
    {
     "data": {
      "image/png": "[encoded data removed]",
      "text/plain": [
       "<Figure size 576x720 with 1 Axes>"
      ]
     },
     "metadata": {
      "needs_background": "light"
     },
     "output_type": "display_data"
    }
   ],
   "source": [
    "fig, ax = plt.subplots(figsize=[8,10])\n",
    "ax.spines['right'].set_visible(False)\n",
    "ax.spines['top'].set_visible(False)\n",
    "for axis in ['bottom','left']:\n",
    "    ax.spines[axis].set_linewidth(2.3)\n",
    "    \n",
    "plt.xticks( fontsize='15')\n",
    "plt.yticks(fontsize=15) \n",
    "plt.ylabel('count', fontsize=18)\n",
    "plt.xlabel('rating', fontsize=18)\n",
    "    \n",
    "plt.bar(['1', '2', '3', '4', '5', '6', '7'], [len(data_1['accuracy']), len(data_2['accuracy']), len(data_3['accuracy']), len(data_4['accuracy']), len(data_5['accuracy']), len(data_6['accuracy']), len(data_7['accuracy'])\n",
    "])\n",
    "plt.show()"
   ]
  },
  {
   "cell_type": "code",
   "execution_count": null,
   "metadata": {},
   "outputs": [],
   "source": []
  },
  {
   "cell_type": "code",
   "execution_count": 137,
   "metadata": {},
   "outputs": [
    {
     "data": {
      "image/png": "[encoded data removed]",
      "text/plain": [
       "<Figure size 576x720 with 1 Axes>"
      ]
     },
     "metadata": {
      "needs_background": "light"
     },
     "output_type": "display_data"
    }
   ],
   "source": [
    "fig, ax = plt.subplots(figsize=[8,10])\n",
    "ax.spines['right'].set_visible(False)\n",
    "ax.spines['top'].set_visible(False)\n",
    "for axis in ['bottom','left']:\n",
    "    ax.spines[axis].set_linewidth(2.3)\n",
    "    \n",
    "x = np.arange(7)\n",
    "\n",
    "Acc_ =   [np.sum(np.array(data_1['accuracy']))/len(np.array(data_1['accuracy'])), np.sum(np.array(data_2['accuracy']))/len(np.array(data_2['accuracy'])), np.sum(np.array(data_3['accuracy']))/len(np.array(data_3['accuracy'])), np.sum(np.array(data_4['accuracy']))/len(np.array(data_4['accuracy'])), np.sum(np.array(data_5['accuracy']))/len(np.array(data_5['accuracy'])), np.sum(np.array(data_6['accuracy']))/len(np.array(data_6['accuracy'])), np.sum(np.array(data_7['accuracy']))/len(np.array(data_7['accuracy']))]\n",
    "yerr_ =  [np.std(np.array(data_1['accuracy']))/np.sqrt(len(np.array(data_1['accuracy']))), np.std(np.array(data_2['accuracy']))/np.sqrt(len(np.array(data_2['accuracy']))), np.std(np.array(data_3['accuracy']))/np.sqrt(len(np.array(data_3['accuracy']))), np.std(np.array(data_4['accuracy']))/np.sqrt(len(np.array(data_4['accuracy']))), np.std(np.array(data_5['accuracy']))/np.sqrt(len(np.array(data_5['accuracy']))), np.std(np.array(data_6['accuracy']))/np.sqrt(len(np.array(data_6['accuracy']))), np.std(np.array(data_7['accuracy']))/np.sqrt(len(np.array(data_7['accuracy'])))]\n",
    "\n",
    "width = 0.2\n",
    "  \n",
    "# plot data in grouped manner of bar type\n",
    "plt.bar(x, Acc_, width, color='gray', yerr=yerr_, capsize=5)\n",
    "plt.xticks(x, [1, 2, 3, 4, 5, 6, 7], fontsize='15')\n",
    "plt.ylim(0.70, 1)\n",
    "plt.yticks(fontsize=15) \n",
    "plt.xlabel(\"Subject Rating\", fontsize=18)\n",
    "plt.ylabel(\"Percent Correct\", fontsize=18)\n",
    "# plt.legend(loc=1, fontsize=15)\n",
    "plt.show()"
   ]
  },
  {
   "cell_type": "code",
   "execution_count": 138,
   "metadata": {},
   "outputs": [],
   "source": [
    "data_1_zo = data_1\n",
    "\n",
    "data_2_zo = data_2\n",
    "\n",
    "data_3_zo = data_3\n",
    "\n",
    "data_4_zo = data_4\n",
    "\n",
    "\n",
    "data_5_zo = data_5\n",
    "\n",
    "data_6_zo = data_6\n",
    "\n",
    "data_7_zo = data_7\n",
    "\n"
   ]
  },
  {
   "cell_type": "code",
   "execution_count": 139,
   "metadata": {},
   "outputs": [
    {
     "name": "stdout",
     "output_type": "stream",
     "text": [
      "47\n",
      "120\n",
      "168\n",
      "553\n",
      "340\n",
      "309\n",
      "390\n"
     ]
    }
   ],
   "source": [
    "# Accuracy\n",
    "\n",
    "data_1_zo_acc = np.sum(np.array(data_1_zo['accuracy']))/len(np.array(data_1_zo['accuracy']))\n",
    "\n",
    "data_1_zo_sem = np.std(np.array(data_1_zo['accuracy']))/np.sqrt(len(np.array(data_1_zo['accuracy'])))\n",
    "\n",
    "print(len(np.array(data_1_zo['accuracy'])))\n",
    "\n",
    "\n",
    "data_2_zo_acc = np.sum(np.array(data_2_zo['accuracy']))/len(np.array(data_2_zo['accuracy']))\n",
    "\n",
    "data_2_zo_sem = np.std(np.array(data_2_zo['accuracy']))/np.sqrt(len(np.array(data_2_zo['accuracy'])))\n",
    "\n",
    "print(len(np.array(data_2_zo['accuracy'])))\n",
    "\n",
    "\n",
    "data_3_zo_acc = np.sum(np.array(data_3_zo['accuracy']))/len(np.array(data_3_zo['accuracy']))\n",
    "\n",
    "data_3_zo_sem = np.std(np.array(data_3_zo['accuracy']))/np.sqrt(len(np.array(data_3_zo['accuracy'])))\n",
    "\n",
    "print(len(np.array(data_3_zo['accuracy'])))\n",
    "\n",
    "data_4_zo_acc = np.sum(np.array(data_4_zo['accuracy']))/len(np.array(data_4_zo['accuracy']))\n",
    "\n",
    "data_4_zo_sem = np.std(np.array(data_4_zo['accuracy']))/np.sqrt(len(np.array(data_4_zo['accuracy'])))\n",
    "\n",
    "print(len(np.array(data_4_zo['accuracy'])))\n",
    "\n",
    "data_5_zo_acc = np.sum(np.array(data_5_zo['accuracy']))/len(np.array(data_5_zo['accuracy']))\n",
    "\n",
    "data_5_zo_sem = np.std(np.array(data_5_zo['accuracy']))/np.sqrt(len(np.array(data_5_zo['accuracy'])))\n",
    "\n",
    "print(len(np.array(data_5_zo['accuracy'])))\n",
    "\n",
    "\n",
    "data_6_zo_acc = np.sum(np.array(data_6_zo['accuracy']))/len(np.array(data_6_zo['accuracy']))\n",
    "\n",
    "data_6_zo_sem = np.std(np.array(data_6_zo['accuracy']))/np.sqrt(len(np.array(data_6_zo['accuracy'])))\n",
    "\n",
    "print(len(np.array(data_6_zo['accuracy'])))\n",
    "\n",
    "data_7_zo_acc = np.sum(np.array(data_7_zo['accuracy']))/len(np.array(data_7_zo['accuracy']))\n",
    "\n",
    "data_7_zo_sem = np.std(np.array(data_7_zo['accuracy']))/np.sqrt(len(np.array(data_7_zo['accuracy'])))\n",
    "\n",
    "print(len(np.array(data_7_zo['accuracy'])))\n"
   ]
  },
  {
   "cell_type": "code",
   "execution_count": null,
   "metadata": {},
   "outputs": [],
   "source": []
  },
  {
   "cell_type": "code",
   "execution_count": 140,
   "metadata": {},
   "outputs": [],
   "source": [
    "data_1_objectScene1SemanticCongruency0 = data_1.loc[data_1['objSceneSemCong'] == 0]\n",
    "data_1_objectScene1SemanticCongruency1 = data_1.loc[data_1['objSceneSemCong'] == 1]\n",
    "\n",
    "data_2_objectScene1SemanticCongruency0 = data_2.loc[data_2['objSceneSemCong'] == 0]\n",
    "data_2_objectScene1SemanticCongruency1 = data_2.loc[data_2['objSceneSemCong'] == 1]\n",
    "\n",
    "data_3_objectScene1SemanticCongruency0 = data_3.loc[data_3['objSceneSemCong'] == 0]\n",
    "data_3_objectScene1SemanticCongruency1 = data_3.loc[data_3['objSceneSemCong'] == 1]\n",
    "\n",
    "data_4_objectScene1SemanticCongruency0 = data_4.loc[data_4['objSceneSemCong'] == 0]\n",
    "data_4_objectScene1SemanticCongruency1 = data_4.loc[data_4['objSceneSemCong'] == 1]\n",
    "\n",
    "data_5_objectScene1SemanticCongruency0 = data_5.loc[data_5['objSceneSemCong'] == 0]\n",
    "data_5_objectScene1SemanticCongruency1 = data_5.loc[data_5['objSceneSemCong'] == 1]\n",
    "\n",
    "data_6_objectScene1SemanticCongruency0 = data_6.loc[data_6['objSceneSemCong'] == 0]\n",
    "data_6_objectScene1SemanticCongruency1 = data_6.loc[data_6['objSceneSemCong'] == 1]\n",
    "\n",
    "data_7_objectScene1SemanticCongruency0 = data_7.loc[data_7['objSceneSemCong'] == 0]\n",
    "data_7_objectScene1SemanticCongruency1 = data_7.loc[data_7['objSceneSemCong'] == 1]\n",
    "\n"
   ]
  },
  {
   "cell_type": "code",
   "execution_count": 141,
   "metadata": {},
   "outputs": [
    {
     "name": "stdout",
     "output_type": "stream",
     "text": [
      "48\n",
      "116\n",
      "188\n",
      "498\n",
      "360\n",
      "312\n",
      "408\n"
     ]
    }
   ],
   "source": [
    "# Accuracy\n",
    "\n",
    "data_1_objectScene1SemanticCongruency0_acc = np.sum(np.array(data_1_objectScene1SemanticCongruency0['accuracy']))/len(np.array(data_1_objectScene1SemanticCongruency0['accuracy']))\n",
    "data_1_objectScene1SemanticCongruency1_acc =np.sum(np.array(data_1_objectScene1SemanticCongruency1['accuracy']))/len(np.array(data_1_objectScene1SemanticCongruency1['accuracy']))\n",
    "\n",
    "data_1_objectScene1SemanticCongruency0_sem = np.std(np.array(data_1_objectScene1SemanticCongruency0['accuracy']))/np.sqrt(len(np.array(data_1_objectScene1SemanticCongruency0['accuracy'])))\n",
    "data_1_objectScene1SemanticCongruency1_sem = np.std(np.array(data_1_objectScene1SemanticCongruency1['accuracy']))/np.sqrt(len(np.array(data_1_objectScene1SemanticCongruency1['accuracy'])))\n",
    "\n",
    "print(len(np.array(data_1_objectScene1SemanticCongruency0['accuracy'])) + len(np.array(data_1_objectScene1SemanticCongruency0['accuracy'])))\n",
    "\n",
    "data_2_objectScene1SemanticCongruency0_acc = np.sum(np.array(data_2_objectScene1SemanticCongruency0['accuracy']))/len(np.array(data_2_objectScene1SemanticCongruency0['accuracy']))\n",
    "data_2_objectScene1SemanticCongruency1_acc =np.sum(np.array(data_2_objectScene1SemanticCongruency1['accuracy']))/len(np.array(data_2_objectScene1SemanticCongruency1['accuracy']))\n",
    "\n",
    "data_2_objectScene1SemanticCongruency0_sem = np.std(np.array(data_2_objectScene1SemanticCongruency0['accuracy']))/np.sqrt(len(np.array(data_2_objectScene1SemanticCongruency0['accuracy'])))\n",
    "data_2_objectScene1SemanticCongruency1_sem = np.std(np.array(data_2_objectScene1SemanticCongruency1['accuracy']))/np.sqrt(len(np.array(data_2_objectScene1SemanticCongruency1['accuracy'])))\n",
    "\n",
    "print(len(np.array(data_2_objectScene1SemanticCongruency0['accuracy'])) + len(np.array(data_2_objectScene1SemanticCongruency0['accuracy'])))\n",
    "\n",
    "data_3_objectScene1SemanticCongruency0_acc = np.sum(np.array(data_3_objectScene1SemanticCongruency0['accuracy']))/len(np.array(data_3_objectScene1SemanticCongruency0['accuracy']))\n",
    "data_3_objectScene1SemanticCongruency1_acc =np.sum(np.array(data_3_objectScene1SemanticCongruency1['accuracy']))/len(np.array(data_3_objectScene1SemanticCongruency1['accuracy']))\n",
    "\n",
    "data_3_objectScene1SemanticCongruency0_sem = np.std(np.array(data_3_objectScene1SemanticCongruency0['accuracy']))/np.sqrt(len(np.array(data_3_objectScene1SemanticCongruency0['accuracy'])))\n",
    "data_3_objectScene1SemanticCongruency1_sem = np.std(np.array(data_3_objectScene1SemanticCongruency1['accuracy']))/np.sqrt(len(np.array(data_3_objectScene1SemanticCongruency1['accuracy'])))\n",
    "\n",
    "print(len(np.array(data_3_objectScene1SemanticCongruency0['accuracy'])) + len(np.array(data_3_objectScene1SemanticCongruency0['accuracy'])))\n",
    "\n",
    "data_4_objectScene1SemanticCongruency0_acc = np.sum(np.array(data_4_objectScene1SemanticCongruency0['accuracy']))/len(np.array(data_4_objectScene1SemanticCongruency0['accuracy']))\n",
    "data_4_objectScene1SemanticCongruency1_acc =np.sum(np.array(data_4_objectScene1SemanticCongruency1['accuracy']))/len(np.array(data_4_objectScene1SemanticCongruency1['accuracy']))\n",
    "\n",
    "data_4_objectScene1SemanticCongruency0_sem = np.std(np.array(data_4_objectScene1SemanticCongruency0['accuracy']))/np.sqrt(len(np.array(data_4_objectScene1SemanticCongruency0['accuracy'])))\n",
    "data_4_objectScene1SemanticCongruency1_sem = np.std(np.array(data_4_objectScene1SemanticCongruency1['accuracy']))/np.sqrt(len(np.array(data_4_objectScene1SemanticCongruency1['accuracy'])))\n",
    "\n",
    "print(len(np.array(data_4_objectScene1SemanticCongruency0['accuracy'])) + len(np.array(data_4_objectScene1SemanticCongruency0['accuracy'])))\n",
    "\n",
    "data_5_objectScene1SemanticCongruency0_acc = np.sum(np.array(data_5_objectScene1SemanticCongruency0['accuracy']))/len(np.array(data_5_objectScene1SemanticCongruency0['accuracy']))\n",
    "data_5_objectScene1SemanticCongruency1_acc =np.sum(np.array(data_5_objectScene1SemanticCongruency1['accuracy']))/len(np.array(data_5_objectScene1SemanticCongruency1['accuracy']))\n",
    "\n",
    "data_5_objectScene1SemanticCongruency0_sem = np.std(np.array(data_5_objectScene1SemanticCongruency0['accuracy']))/np.sqrt(len(np.array(data_5_objectScene1SemanticCongruency0['accuracy'])))\n",
    "data_5_objectScene1SemanticCongruency1_sem = np.std(np.array(data_5_objectScene1SemanticCongruency1['accuracy']))/np.sqrt(len(np.array(data_5_objectScene1SemanticCongruency1['accuracy'])))\n",
    "\n",
    "print(len(np.array(data_5_objectScene1SemanticCongruency0['accuracy'])) + len(np.array(data_5_objectScene1SemanticCongruency0['accuracy'])))\n",
    "\n",
    "data_6_objectScene1SemanticCongruency0_acc = np.sum(np.array(data_6_objectScene1SemanticCongruency0['accuracy']))/len(np.array(data_6_objectScene1SemanticCongruency0['accuracy']))\n",
    "data_6_objectScene1SemanticCongruency1_acc =np.sum(np.array(data_6_objectScene1SemanticCongruency1['accuracy']))/len(np.array(data_6_objectScene1SemanticCongruency1['accuracy']))\n",
    "\n",
    "data_6_objectScene1SemanticCongruency0_sem = np.std(np.array(data_6_objectScene1SemanticCongruency0['accuracy']))/np.sqrt(len(np.array(data_6_objectScene1SemanticCongruency0['accuracy'])))\n",
    "data_6_objectScene1SemanticCongruency1_sem = np.std(np.array(data_6_objectScene1SemanticCongruency1['accuracy']))/np.sqrt(len(np.array(data_6_objectScene1SemanticCongruency1['accuracy'])))\n",
    "\n",
    "print(len(np.array(data_6_objectScene1SemanticCongruency0['accuracy'])) + len(np.array(data_6_objectScene1SemanticCongruency0['accuracy'])))\n",
    "\n",
    "data_7_objectScene1SemanticCongruency0_acc = np.sum(np.array(data_7_objectScene1SemanticCongruency0['accuracy']))/len(np.array(data_7_objectScene1SemanticCongruency0['accuracy']))\n",
    "data_7_objectScene1SemanticCongruency1_acc =np.sum(np.array(data_7_objectScene1SemanticCongruency1['accuracy']))/len(np.array(data_7_objectScene1SemanticCongruency1['accuracy']))\n",
    "\n",
    "data_7_objectScene1SemanticCongruency0_sem = np.std(np.array(data_7_objectScene1SemanticCongruency0['accuracy']))/np.sqrt(len(np.array(data_7_objectScene1SemanticCongruency0['accuracy'])))\n",
    "data_7_objectScene1SemanticCongruency1_sem = np.std(np.array(data_7_objectScene1SemanticCongruency1['accuracy']))/np.sqrt(len(np.array(data_7_objectScene1SemanticCongruency1['accuracy'])))\n",
    "\n",
    "print(len(np.array(data_7_objectScene1SemanticCongruency0['accuracy'])) + len(np.array(data_7_objectScene1SemanticCongruency0['accuracy'])))\n",
    "\n"
   ]
  },
  {
   "cell_type": "code",
   "execution_count": 142,
   "metadata": {},
   "outputs": [
    {
     "data": {
      "image/png": "[encoded data removed]",
      "text/plain": [
       "<Figure size 576x720 with 1 Axes>"
      ]
     },
     "metadata": {
      "needs_background": "light"
     },
     "output_type": "display_data"
    }
   ],
   "source": [
    "fig, ax = plt.subplots(figsize=[8,10])\n",
    "ax.spines['right'].set_visible(False)\n",
    "ax.spines['top'].set_visible(False)\n",
    "for axis in ['bottom','left']:\n",
    "    ax.spines[axis].set_linewidth(2.3)\n",
    "    \n",
    "x = np.arange(7)\n",
    "\n",
    "Acc_0 =   [data_1_objectScene1SemanticCongruency0_acc, data_2_objectScene1SemanticCongruency0_acc, data_3_objectScene1SemanticCongruency0_acc, data_4_objectScene1SemanticCongruency0_acc, data_5_objectScene1SemanticCongruency0_acc, data_6_objectScene1SemanticCongruency0_acc, data_7_objectScene1SemanticCongruency0_acc]\n",
    "yerr_0 =  [data_1_objectScene1SemanticCongruency0_sem, data_2_objectScene1SemanticCongruency0_sem, data_3_objectScene1SemanticCongruency0_sem, data_4_objectScene1SemanticCongruency0_sem, data_5_objectScene1SemanticCongruency0_sem, data_6_objectScene1SemanticCongruency0_sem, data_7_objectScene1SemanticCongruency0_sem]\n",
    "\n",
    "Acc_1 =   [data_1_objectScene1SemanticCongruency1_acc, data_2_objectScene1SemanticCongruency1_acc, data_3_objectScene1SemanticCongruency1_acc, data_4_objectScene1SemanticCongruency1_acc, data_5_objectScene1SemanticCongruency1_acc, data_6_objectScene1SemanticCongruency1_acc, data_7_objectScene1SemanticCongruency1_acc]\n",
    "yerr_1 =  [data_1_objectScene1SemanticCongruency1_sem, data_2_objectScene1SemanticCongruency1_sem, data_3_objectScene1SemanticCongruency1_sem, data_4_objectScene1SemanticCongruency1_sem, data_5_objectScene1SemanticCongruency1_sem, data_6_objectScene1SemanticCongruency1_sem, data_7_objectScene1SemanticCongruency1_sem]\n",
    "\n",
    "width = 0.2\n",
    "  \n",
    "# plot data in grouped manner of bar type\n",
    "plt.bar(x-0.2, Acc_0, width, color='orange', label='Object-Scene1 Semantic Incongruent', yerr=yerr_0, capsize=5)\n",
    "plt.bar(x, Acc_1, width, color='chocolate', label='Object-Scene1 Semantic Congruent', yerr=yerr_1, capsize=5)\n",
    "plt.xticks(x, [1, 2, 3, 4, 5, 6, 7], fontsize='15')\n",
    "plt.ylim(0.5)\n",
    "plt.yticks(fontsize=15) \n",
    "plt.xlabel(\"Subject Rating\", fontsize=18)\n",
    "plt.ylabel(\"Percent Correct\", fontsize=18)\n",
    "plt.legend(loc=1, fontsize=15)\n",
    "plt.show()"
   ]
  },
  {
   "cell_type": "code",
   "execution_count": 143,
   "metadata": {},
   "outputs": [],
   "source": [
    "final_data_correctOnly = final_data.loc[final_data['accuracy']==1]\n"
   ]
  },
  {
   "cell_type": "code",
   "execution_count": 144,
   "metadata": {},
   "outputs": [],
   "source": [
    "data_1_CO = final_data_correctOnly.loc[final_data_correctOnly['rating'] == 1]\n",
    "data_2_CO = final_data_correctOnly.loc[final_data_correctOnly['rating'] == 2]\n",
    "data_3_CO = final_data_correctOnly.loc[final_data_correctOnly['rating'] == 3]\n",
    "data_4_CO = final_data_correctOnly.loc[final_data_correctOnly['rating'] == 4]\n",
    "\n",
    "data_1_zo_CO = data_1_CO\n",
    "\n",
    "data_2_zo_CO = data_2_CO\n",
    "\n",
    "data_3_zo_CO = data_3_CO\n",
    "\n",
    "data_4_zo_CO = data_4_CO\n",
    "\n",
    "\n",
    "\n",
    "data_5_CO = final_data_correctOnly.loc[final_data_correctOnly['rating'] == 5]\n",
    "data_6_CO = final_data_correctOnly.loc[final_data_correctOnly['rating'] == 6]\n",
    "data_7_CO = final_data_correctOnly.loc[final_data_correctOnly['rating'] == 7]\n",
    "\n",
    "data_5_zo_CO = data_5_CO\n",
    "\n",
    "data_6_zo_CO = data_6_CO\n",
    "\n",
    "data_7_zo_CO = data_7_CO\n",
    "\n"
   ]
  },
  {
   "cell_type": "code",
   "execution_count": 145,
   "metadata": {},
   "outputs": [],
   "source": [
    "# RT \n",
    "data_1_zo_RT = np.mean(np.array(data_1_zo_CO['RT']))\n",
    "\n",
    "data_1_zo_RT_sem = sem(np.array(data_1_zo_CO['RT']))\n",
    "\n",
    "\n",
    "data_2_zo_RT = np.mean(np.array(data_2_zo_CO['RT']))\n",
    "\n",
    "data_2_zo_RT_sem = sem(np.array(data_2_zo_CO['RT']))\n",
    "\n",
    "\n",
    "data_3_zo_RT = np.mean(np.array(data_3_zo_CO['RT']))\n",
    "\n",
    "data_3_zo_RT_sem = sem(np.array(data_3_zo_CO['RT']))\n",
    "\n",
    "\n",
    "data_4_zo_RT = np.mean(np.array(data_4_zo_CO['RT']))\n",
    "\n",
    "data_4_zo_RT_sem = sem(np.array(data_4_zo_CO['RT']))\n",
    "\n",
    "data_5_zo_RT = np.mean(np.array(data_5_zo_CO['RT']))\n",
    "\n",
    "data_5_zo_RT_sem = sem(np.array(data_5_zo_CO['RT']))\n",
    "\n",
    "\n",
    "data_6_zo_RT = np.mean(np.array(data_6_zo_CO['RT']))\n",
    "\n",
    "data_6_zo_RT_sem = sem(np.array(data_6_zo_CO['RT']))\n",
    "\n",
    "\n",
    "data_7_zo_RT = np.mean(np.array(data_7_zo_CO['RT']))\n",
    "\n",
    "data_7_zo_RT_sem = sem(np.array(data_7_zo_CO['RT']))\n",
    "\n"
   ]
  },
  {
   "cell_type": "code",
   "execution_count": null,
   "metadata": {},
   "outputs": [],
   "source": []
  },
  {
   "cell_type": "code",
   "execution_count": 146,
   "metadata": {},
   "outputs": [
    {
     "data": {
      "text/plain": [
       "(42, 112, 163, 547, 330, 300, 382)"
      ]
     },
     "execution_count": 146,
     "metadata": {},
     "output_type": "execute_result"
    }
   ],
   "source": [
    "len(data_1_CO['accuracy']), len(data_2_CO['accuracy']), len(data_3_CO['accuracy']), len(data_4_CO['accuracy']), len(data_5_CO['accuracy']), len(data_6_CO['accuracy']), len(data_7_CO['accuracy'])\n",
    "\n"
   ]
  },
  {
   "cell_type": "code",
   "execution_count": 147,
   "metadata": {},
   "outputs": [
    {
     "data": {
      "image/png": "[encoded data removed]",
      "text/plain": [
       "<Figure size 576x720 with 1 Axes>"
      ]
     },
     "metadata": {
      "needs_background": "light"
     },
     "output_type": "display_data"
    }
   ],
   "source": [
    "fig, ax = plt.subplots(figsize=[8,10])\n",
    "ax.spines['right'].set_visible(False)\n",
    "ax.spines['top'].set_visible(False)\n",
    "for axis in ['bottom','left']:\n",
    "    ax.spines[axis].set_linewidth(2.3)\n",
    "    \n",
    "plt.xticks( fontsize='15')\n",
    "plt.yticks(fontsize=15) \n",
    "plt.ylabel('count', fontsize=18)\n",
    "plt.xlabel('rating', fontsize=18)\n",
    "\n",
    "plt.title('Correct Trials Only', fontsize=22)\n",
    "    \n",
    "plt.bar(['1', '2', '3', '4', '5', '6', '7'], [len(data_1_CO['accuracy']), len(data_2_CO['accuracy']), len(data_3_CO['accuracy']), len(data_4_CO['accuracy']), len(data_5_CO['accuracy']), len(data_6_CO['accuracy']), len(data_7_CO['accuracy'])\n",
    "])\n",
    "\n",
    "plt.show()"
   ]
  },
  {
   "cell_type": "code",
   "execution_count": 148,
   "metadata": {},
   "outputs": [
    {
     "data": {
      "image/png": "[encoded data removed]",
      "text/plain": [
       "<Figure size 576x720 with 1 Axes>"
      ]
     },
     "metadata": {
      "needs_background": "light"
     },
     "output_type": "display_data"
    }
   ],
   "source": [
    "fig, ax = plt.subplots(figsize=[8,10])\n",
    "ax.spines['right'].set_visible(False)\n",
    "ax.spines['top'].set_visible(False)\n",
    "for axis in ['bottom','left']:\n",
    "    ax.spines[axis].set_linewidth(2.3)\n",
    "    \n",
    "x = np.arange(7)\n",
    "\n",
    "RT_ = [np.mean(np.array(data_1_CO['RT'])), np.mean(np.array(data_2_CO['RT'])), np.mean(np.array(data_3_CO['RT'])), np.mean(np.array(data_4_CO['RT'])), np.mean(np.array(data_5_CO['RT'])), np.mean(np.array(data_6_CO['RT'])), np.mean(np.array(data_7_CO['RT']))]\n",
    "yerr_RT = [sem(np.array(data_1_CO['RT'])), sem(np.array(data_2_CO['RT'])), sem(np.array(data_3_CO['RT'])), sem(np.array(data_4_CO['RT'])), sem(np.array(data_5_CO['RT'])), sem(np.array(data_6_CO['RT'])), sem(np.array(data_7_CO['RT']))]\n",
    "\n",
    "width = 0.2\n",
    "  \n",
    "# plot data in grouped manner of bar type\n",
    "plt.bar(x, RT_, width, color='gray', yerr=yerr_RT, capsize=5)\n",
    "plt.xticks(x, [1, 2, 3, 4, 5, 6, 7], fontsize='15')\n",
    "plt.ylim(800)\n",
    "plt.yticks(fontsize=15) \n",
    "plt.xlabel(\"Subject Rating\", fontsize=18)\n",
    "plt.ylabel(\"RT\", fontsize=18)\n",
    "# plt.legend(loc=1, fontsize=15)\n",
    "plt.show()"
   ]
  },
  {
   "cell_type": "code",
   "execution_count": null,
   "metadata": {},
   "outputs": [],
   "source": []
  },
  {
   "cell_type": "code",
   "execution_count": 149,
   "metadata": {},
   "outputs": [],
   "source": [
    "data_1_objectScene1SemanticCongruency0_CO = data_1_CO.loc[data_1_CO['objSceneSemCong'] == 0]\n",
    "data_1_objectScene1SemanticCongruency1_CO = data_1_CO.loc[data_1_CO['objSceneSemCong'] == 1]\n",
    "\n",
    "data_2_objectScene1SemanticCongruency0_CO = data_2_CO.loc[data_2_CO['objSceneSemCong'] == 0]\n",
    "data_2_objectScene1SemanticCongruency1_CO = data_2_CO.loc[data_2_CO['objSceneSemCong'] == 1]\n",
    "\n",
    "data_3_objectScene1SemanticCongruency0_CO = data_3_CO.loc[data_3_CO['objSceneSemCong'] == 0]\n",
    "data_3_objectScene1SemanticCongruency1_CO = data_3_CO.loc[data_3_CO['objSceneSemCong'] == 1]\n",
    "\n",
    "data_4_objectScene1SemanticCongruency0_CO = data_4_CO.loc[data_4_CO['objSceneSemCong'] == 0]\n",
    "data_4_objectScene1SemanticCongruency1_CO = data_4_CO.loc[data_4_CO['objSceneSemCong'] == 1]\n",
    "\n",
    "data_5_objectScene1SemanticCongruency0_CO = data_5_CO.loc[data_5_CO['objSceneSemCong'] == 0]\n",
    "data_5_objectScene1SemanticCongruency1_CO = data_5_CO.loc[data_5_CO['objSceneSemCong'] == 1]\n",
    "\n",
    "data_6_objectScene1SemanticCongruency0_CO = data_6_CO.loc[data_6_CO['objSceneSemCong'] == 0]\n",
    "data_6_objectScene1SemanticCongruency1_CO = data_6_CO.loc[data_6_CO['objSceneSemCong'] == 1]\n",
    "\n",
    "data_7_objectScene1SemanticCongruency0_CO = data_7_CO.loc[data_7_CO['objSceneSemCong'] == 0]\n",
    "data_7_objectScene1SemanticCongruency1_CO = data_7_CO.loc[data_7_CO['objSceneSemCong'] == 1]\n"
   ]
  },
  {
   "cell_type": "code",
   "execution_count": 150,
   "metadata": {},
   "outputs": [],
   "source": [
    "data_1_objectScene1SemanticCongruency0_CO_RT = np.mean(np.array(data_1_objectScene1SemanticCongruency0_CO['RT']))\n",
    "data_1_objectScene1SemanticCongruency1_CO_RT = np.mean(np.array(data_1_objectScene1SemanticCongruency1_CO['RT']))\n",
    "\n",
    "data_1_objectScene1SemanticCongruency0_CO_RT_sem = sem(np.array(data_1_objectScene1SemanticCongruency0_CO['RT']))\n",
    "data_1_objectScene1SemanticCongruency1_CO_RT_sem = sem(np.array(data_1_objectScene1SemanticCongruency1_CO['RT']))\n",
    "\n",
    "\n",
    "data_2_objectScene1SemanticCongruency0_CO_RT = np.mean(np.array(data_2_objectScene1SemanticCongruency0_CO['RT']))\n",
    "data_2_objectScene1SemanticCongruency1_CO_RT = np.mean(np.array(data_2_objectScene1SemanticCongruency1_CO['RT']))\n",
    "\n",
    "data_2_objectScene1SemanticCongruency0_CO_RT_sem = sem(np.array(data_2_objectScene1SemanticCongruency0_CO['RT']))\n",
    "data_2_objectScene1SemanticCongruency1_CO_RT_sem = sem(np.array(data_2_objectScene1SemanticCongruency1_CO['RT']))\n",
    "\n",
    "\n",
    "data_3_objectScene1SemanticCongruency0_CO_RT = np.mean(np.array(data_3_objectScene1SemanticCongruency0_CO['RT']))\n",
    "data_3_objectScene1SemanticCongruency1_CO_RT = np.mean(np.array(data_3_objectScene1SemanticCongruency1_CO['RT']))\n",
    "\n",
    "data_3_objectScene1SemanticCongruency0_CO_RT_sem = sem(np.array(data_3_objectScene1SemanticCongruency0_CO['RT']))\n",
    "data_3_objectScene1SemanticCongruency1_CO_RT_sem =sem(np.array(data_3_objectScene1SemanticCongruency1_CO['RT']))\n",
    "\n",
    "\n",
    "data_4_objectScene1SemanticCongruency0_CO_RT = np.mean(np.array(data_4_objectScene1SemanticCongruency0_CO['RT']))\n",
    "data_4_objectScene1SemanticCongruency1_CO_RT = np.mean(np.array(data_4_objectScene1SemanticCongruency1_CO['RT']))\n",
    "\n",
    "data_4_objectScene1SemanticCongruency0_CO_RT_sem = sem(np.array(data_4_objectScene1SemanticCongruency0_CO['RT']))\n",
    "data_4_objectScene1SemanticCongruency1_CO_RT_sem = sem(np.array(data_4_objectScene1SemanticCongruency1_CO['RT']))\n",
    "\n",
    "\n",
    "data_5_objectScene1SemanticCongruency0_CO_RT = np.mean(np.array(data_5_objectScene1SemanticCongruency0_CO['RT']))\n",
    "data_5_objectScene1SemanticCongruency1_CO_RT = np.mean(np.array(data_5_objectScene1SemanticCongruency1_CO['RT']))\n",
    "\n",
    "data_5_objectScene1SemanticCongruency0_CO_RT_sem = sem(np.array(data_5_objectScene1SemanticCongruency0_CO['RT']))\n",
    "data_5_objectScene1SemanticCongruency1_CO_RT_sem = sem(np.array(data_5_objectScene1SemanticCongruency1_CO['RT']))\n",
    "\n",
    "\n",
    "data_6_objectScene1SemanticCongruency0_CO_RT = np.mean(np.array(data_6_objectScene1SemanticCongruency0_CO['RT']))\n",
    "data_6_objectScene1SemanticCongruency1_CO_RT = np.mean(np.array(data_6_objectScene1SemanticCongruency1_CO['RT']))\n",
    "\n",
    "data_6_objectScene1SemanticCongruency0_CO_RT_sem = sem(np.array(data_6_objectScene1SemanticCongruency0_CO['RT']))\n",
    "data_6_objectScene1SemanticCongruency1_CO_RT_sem = sem(np.array(data_6_objectScene1SemanticCongruency1_CO['RT']))\n",
    "\n",
    "\n",
    "data_7_objectScene1SemanticCongruency0_CO_RT = np.mean(np.array(data_7_objectScene1SemanticCongruency0_CO['RT']))\n",
    "data_7_objectScene1SemanticCongruency1_CO_RT = np.mean(np.array(data_7_objectScene1SemanticCongruency1_CO['RT']))\n",
    "\n",
    "data_7_objectScene1SemanticCongruency0_CO_RT_sem = sem(np.array(data_7_objectScene1SemanticCongruency0_CO['RT']))\n",
    "data_7_objectScene1SemanticCongruency1_CO_RT_sem = sem(np.array(data_7_objectScene1SemanticCongruency1_CO['RT']))"
   ]
  },
  {
   "cell_type": "code",
   "execution_count": 151,
   "metadata": {},
   "outputs": [
    {
     "data": {
      "image/png": "[encoded data removed]",
      "text/plain": [
       "<Figure size 576x720 with 1 Axes>"
      ]
     },
     "metadata": {
      "needs_background": "light"
     },
     "output_type": "display_data"
    }
   ],
   "source": [
    "fig, ax = plt.subplots(figsize=[8,10])\n",
    "ax.spines['right'].set_visible(False)\n",
    "ax.spines['top'].set_visible(False)\n",
    "for axis in ['bottom','left']:\n",
    "    ax.spines[axis].set_linewidth(2.3)\n",
    "    \n",
    "x = np.arange(7)\n",
    "\n",
    "RT_0 =   [data_1_objectScene1SemanticCongruency0_CO_RT, data_2_objectScene1SemanticCongruency0_CO_RT, data_3_objectScene1SemanticCongruency0_CO_RT, data_4_objectScene1SemanticCongruency0_CO_RT, data_5_objectScene1SemanticCongruency0_CO_RT, data_6_objectScene1SemanticCongruency0_CO_RT, data_7_objectScene1SemanticCongruency0_CO_RT]\n",
    "yerr_RT_0 =  [data_1_objectScene1SemanticCongruency0_CO_RT_sem, data_2_objectScene1SemanticCongruency0_CO_RT_sem, data_3_objectScene1SemanticCongruency0_CO_RT_sem, data_4_objectScene1SemanticCongruency0_CO_RT_sem, data_5_objectScene1SemanticCongruency0_CO_RT_sem, data_6_objectScene1SemanticCongruency0_CO_RT_sem, data_7_objectScene1SemanticCongruency0_CO_RT_sem]\n",
    "\n",
    "RT_1 =   [data_1_objectScene1SemanticCongruency1_CO_RT, data_2_objectScene1SemanticCongruency1_CO_RT, data_3_objectScene1SemanticCongruency1_CO_RT, data_4_objectScene1SemanticCongruency1_CO_RT, data_5_objectScene1SemanticCongruency1_CO_RT, data_6_objectScene1SemanticCongruency1_CO_RT, data_7_objectScene1SemanticCongruency1_CO_RT]\n",
    "yerr_RT_1 =  [data_1_objectScene1SemanticCongruency1_CO_RT_sem, data_2_objectScene1SemanticCongruency1_CO_RT_sem, data_3_objectScene1SemanticCongruency1_CO_RT_sem, data_4_objectScene1SemanticCongruency1_CO_RT_sem, data_5_objectScene1SemanticCongruency1_CO_RT_sem, data_6_objectScene1SemanticCongruency1_CO_RT_sem, data_7_objectScene1SemanticCongruency1_CO_RT_sem]\n",
    "\n",
    "width = 0.2\n",
    "  \n",
    "# plot data in grouped manner of bar type\n",
    "plt.bar(x-0.2, RT_0, width, color='plum', label='Object-Scene Semantic Incongruent', yerr=yerr_RT_0, capsize=5)\n",
    "plt.bar(x, RT_1, width, color='purple', label='Object-Scene Semantic Congruent', yerr=yerr_RT_1, capsize=5)\n",
    "plt.xticks(x, [1, 2, 3, 4, 5, 6, 7], fontsize='15')\n",
    "plt.ylim(800)\n",
    "plt.yticks(fontsize=15) \n",
    "plt.xlabel(\"Subject Rating\", fontsize=18)\n",
    "plt.ylabel(\"RT (ms)\", fontsize=18)\n",
    "plt.legend(loc=1, fontsize=15)\n",
    "plt.show()"
   ]
  },
  {
   "cell_type": "code",
   "execution_count": 152,
   "metadata": {},
   "outputs": [],
   "source": [
    "# How to correct for a not normal distribution"
   ]
  },
  {
   "cell_type": "code",
   "execution_count": 153,
   "metadata": {},
   "outputs": [],
   "source": [
    "data_1_ms = len(data_1.loc[data_1['scale']=='misscaled']['accuracy'])\n",
    "data_1_s = len(data_1.loc[data_1['scale']=='scaled']['accuracy'])\n",
    "\n",
    "data_2_ms = len(data_2.loc[data_2['scale']=='misscaled']['accuracy'])\n",
    "data_2_s = len(data_2.loc[data_2['scale']=='scaled']['accuracy'])\n",
    "\n",
    "data_3_ms = len(data_3.loc[data_3['scale']=='misscaled']['accuracy'])\n",
    "data_3_s = len(data_3.loc[data_3['scale']=='scaled']['accuracy'])\n",
    "\n",
    "data_4_ms = len(data_4.loc[data_4['scale']=='misscaled']['accuracy'])\n",
    "data_4_s = len(data_4.loc[data_4['scale']=='scaled']['accuracy'])\n",
    "\n",
    "data_5_ms = len(data_5.loc[data_5['scale']=='misscaled']['accuracy'])\n",
    "data_5_s = len(data_5.loc[data_5['scale']=='scaled']['accuracy'])\n",
    "\n",
    "data_6_ms = len(data_6.loc[data_6['scale']=='misscaled']['accuracy'])\n",
    "data_6_s = len(data_6.loc[data_6['scale']=='scaled']['accuracy'])\n",
    "\n",
    "data_7_ms = len(data_7.loc[data_7['scale']=='misscaled']['accuracy'])\n",
    "data_7_s = len(data_7.loc[data_7['scale']=='scaled']['accuracy'])"
   ]
  },
  {
   "cell_type": "code",
   "execution_count": 154,
   "metadata": {},
   "outputs": [
    {
     "data": {
      "image/png": "[encoded data removed]",
      "text/plain": [
       "<Figure size 576x720 with 1 Axes>"
      ]
     },
     "metadata": {
      "needs_background": "light"
     },
     "output_type": "display_data"
    }
   ],
   "source": [
    "fig, ax = plt.subplots(figsize=[8,10])\n",
    "ax.spines['right'].set_visible(False)\n",
    "ax.spines['top'].set_visible(False)\n",
    "for axis in ['bottom','left']:\n",
    "    ax.spines[axis].set_linewidth(2.3)\n",
    "    \n",
    "x = np.arange(7)\n",
    "\n",
    "rating_ms =   [data_1_ms, data_2_ms, data_3_ms, data_4_ms, data_5_ms, data_6_ms, data_7_ms]\n",
    "\n",
    "rating_s =   [data_1_s, data_2_s, data_3_s, data_4_s, data_5_s, data_6_s, data_7_s]\n",
    "\n",
    "width = 0.2\n",
    "  \n",
    "# plot data in grouped manner of bar type\n",
    "plt.bar(x-0.2, rating_ms, width, color='lightcoral', label='Misscaled')\n",
    "plt.bar(x, rating_s, width, color='brown', label='Scaled')\n",
    "plt.xticks(x, [1, 2, 3, 4, 5, 6, 7], fontsize='15')\n",
    "\n",
    "plt.yticks(fontsize=15) \n",
    "plt.xlabel(\"Subject Rating\", fontsize=18)\n",
    "plt.ylabel(\"Count\", fontsize=18)\n",
    "plt.legend(loc=1, fontsize=15)\n",
    "plt.show()"
   ]
  },
  {
   "cell_type": "markdown",
   "metadata": {},
   "source": [
    "## Inverse Efficiency Score \n",
    "\n",
    "RT/acc"
   ]
  },
  {
   "cell_type": "code",
   "execution_count": 64,
   "metadata": {},
   "outputs": [
    {
     "data": {
      "image/png": "[encoded data removed]",
      "text/plain": [
       "<Figure size 720x720 with 1 Axes>"
      ]
     },
     "metadata": {
      "needs_background": "light"
     },
     "output_type": "display_data"
    }
   ],
   "source": [
    "fig, ax = plt.subplots(figsize=[10,10])\n",
    "ax.spines['right'].set_visible(False)\n",
    "ax.spines['top'].set_visible(False)\n",
    "for axis in ['bottom','left']:\n",
    "    ax.spines[axis].set_linewidth(2.3)\n",
    "    \n",
    "x = np.arange(4)\n",
    "\n",
    "IES_objSemCong =   [misscaled_zo_objSemCong_RT/misscaled_zo_objSemCong_acc, misscaled_zi_objSemCong_RT/misscaled_zi_objSemCong_acc, scaled_zo_objSemCong_RT/scaled_zo_objSemCong_acc, scaled_zi_objSemCong_RT/scaled_zi_objSemCong_acc]\n",
    "IES_objSemCong_sem = [misscaled_zo_objSemCong_RT_sem/misscaled_zo_objSemCong_sem, misscaled_zi_objSemCong_RT_sem/misscaled_zi_objSemCong_sem, scaled_zo_objSemCong_RT_sem/scaled_zo_objSemCong_sem, scaled_zi_objSemCong_RT_sem/scaled_zi_objSemCong_sem]\n",
    "\n",
    "IES_objSemIncong = [misscaled_zo_objSemIncong_RT/misscaled_zo_objSemIncong_acc, misscaled_zi_objSemIncong_RT/misscaled_zi_objSemIncong_acc, scaled_zo_objSemIncong_RT/scaled_zo_objSemIncong_acc, scaled_zi_objSemIncong_RT/scaled_zi_objSemIncong_acc]\n",
    "IES_objSemIncong_sem = [misscaled_zo_objSemIncong_RT_sem/misscaled_zo_objSemIncong_sem, misscaled_zi_objSemIncong_RT_sem/misscaled_zi_objSemIncong_sem, scaled_zo_objSemIncong_RT_sem/scaled_zo_objSemIncong_sem, scaled_zi_objSemIncong_RT_sem/scaled_zi_objSemIncong_sem]\n",
    "\n",
    "width = 0.2\n",
    "  \n",
    "# plot data in grouped manner of bar type\n",
    "plt.bar(x-0.2, IES_objSemCong, width, color='violet', label='Object-Scene1 Semantic Congruency', yerr=RT_objSemCong_sem, capsize=5, alpha=0.8)\n",
    "plt.bar(x, IES_objSemIncong, width, color='purple', label='Object-Scene1 Semantic Incongruency', yerr=RT_objSemIncong_sem, capsize=5, alpha=0.8)\n",
    "plt.xticks(x, ['Misscaled zo', 'Misscaled zi', 'Canonical zo', 'Canonical zi'], fontsize='15')\n",
    "plt.yticks(fontsize=15) \n",
    "plt.ylim(900)\n",
    "plt.ylabel(\"IES (RT/PC)\", fontsize=16)\n",
    "plt.legend(loc=0, fontsize=12)\n",
    "plt.show()"
   ]
  },
  {
   "cell_type": "code",
   "execution_count": null,
   "metadata": {},
   "outputs": [],
   "source": []
  },
  {
   "cell_type": "code",
   "execution_count": null,
   "metadata": {},
   "outputs": [],
   "source": []
  }
 ],
 "metadata": {
  "kernelspec": {
   "display_name": "Python 3",
   "language": "python",
   "name": "python3"
  },
  "language_info": {
   "codemirror_mode": {
    "name": "ipython",
    "version": 3
   },
   "file_extension": ".py",
   "mimetype": "text/x-python",
   "name": "python",
   "nbconvert_exporter": "python",
   "pygments_lexer": "ipython3",
   "version": "3.7.5"
  }
 },
 "nbformat": 4,
 "nbformat_minor": 4
}
