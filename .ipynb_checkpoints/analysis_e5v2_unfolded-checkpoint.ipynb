{
 "cells": [
  {
   "cell_type": "code",
   "execution_count": 142,
   "metadata": {},
   "outputs": [],
   "source": [
    "import numpy as np\n",
    "import os\n",
    "import pandas as pd\n",
    "import math\n",
    "import matplotlib.pyplot as plt\n",
    "from scipy.stats import sem\n"
   ]
  },
  {
   "cell_type": "code",
   "execution_count": null,
   "metadata": {},
   "outputs": [],
   "source": []
  },
  {
   "cell_type": "markdown",
   "metadata": {},
   "source": [
    "### Exclusion Criteria\n",
    " - Accuracy: 70 % (17/24 correct)\n",
    " - RT: Exclude trial if < 250 ms or > 2s\n",
    " - Remove participant if more than 10% of the data is removed (?) \n",
    "    "
   ]
  },
  {
   "cell_type": "markdown",
   "metadata": {},
   "source": [
    "### Pilot Analysis Plots\n",
    "\n",
    "1. Overall Accuracy\n",
    "    - accuracy by scene category\n",
    "    - accuracy by zoom \n",
    "    - accuracy by zoom x match\n",
    "2. RT Distribution\n",
    "    - RT by scene category\n",
    "    - RT by zoom \n",
    "    - RT by zoom x match\n",
    "3. 2x3 ANOVA\n",
    " "
   ]
  },
  {
   "cell_type": "code",
   "execution_count": 143,
   "metadata": {},
   "outputs": [],
   "source": [
    "def combineCSVs(datafolder):\n",
    "    \"\"\"\n",
    "    Combine all participant data into one pandas df\n",
    "    OR \n",
    "    Create df for single participant file \n",
    "    \"\"\"\n",
    "    \n",
    "    exclude = []\n",
    "    \n",
    "    #checks if path is a file\n",
    "    isFile = os.path.isfile(datafolder)\n",
    "\n",
    "    #checks if path is a directory\n",
    "    \n",
    "    isDirectory = os.path.isdir(datafolder)\n",
    "    \n",
    "    if isDirectory == True:\n",
    "        data = []\n",
    "        for filename in os.listdir(datafolder):\n",
    "            if 'csv' in filename:\n",
    "                path = datafolder + \"/\" + filename\n",
    "                df = pd.read_csv(path, index_col=None, header=0)\n",
    "                \n",
    "                # do NOT include subject IDs that have been flagged \n",
    "                subjID = df.subjID.unique()[0]\n",
    "                if subjID not in exclude:\n",
    "                    data.append(df)\n",
    "\n",
    "                \n",
    "        input_frame = pd.concat(data, axis=0, ignore_index=True)\n",
    "        \n",
    "    if isFile == True:\n",
    "        if 'csv' in datafolder:\n",
    "            input_frame = pd.read_csv(datafolder, index_col=None, header=0)\n",
    "    \n",
    "    print('Number of participants before cleaning: ', len(input_frame.subjID.unique()))\n",
    "\n",
    " \n",
    "    return input_frame"
   ]
  },
  {
   "cell_type": "code",
   "execution_count": 144,
   "metadata": {},
   "outputs": [],
   "source": [
    "# data_path = '/Users/prachi/Documents/object_scene_scaling_data/pilot2'\n",
    "\n",
    "data_path = '/Users/prachimahableshwarkar/Documents/GW/FacialAge/FacialAge_MTurk/OSS_MTurk/data'"
   ]
  },
  {
   "cell_type": "code",
   "execution_count": 145,
   "metadata": {},
   "outputs": [
    {
     "name": "stdout",
     "output_type": "stream",
     "text": [
      "Number of participants before cleaning:  274\n"
     ]
    }
   ],
   "source": [
    "input_data = combineCSVs(data_path)"
   ]
  },
  {
   "cell_type": "code",
   "execution_count": 146,
   "metadata": {},
   "outputs": [],
   "source": [
    "num_trials = 24"
   ]
  },
  {
   "cell_type": "code",
   "execution_count": 147,
   "metadata": {},
   "outputs": [],
   "source": [
    "def cleanbyPracticeTries(df, num_allowed_tries):\n",
    "    all_subjIDs = df.subjID.unique()\n",
    "    \n",
    "    remove = []\n",
    "    df2_list = []\n",
    "    prac_too_many_dist = []\n",
    "    for subj in all_subjIDs:\n",
    "        count = 0\n",
    "        subj_df = df.loc[df['subjID'] == subj]\n",
    "        cleaned_subj_df = subj_df.copy(deep=True) # prevent setting with copy warning \n",
    "        \n",
    "        subj_num_practice_tries = cleaned_subj_df.pracTries.unique()[0]\n",
    "        \n",
    "        if subj_num_practice_tries > num_allowed_tries:\n",
    "            prac_too_many_dist.append(subj_num_practice_tries)\n",
    "            remove.append(subj)\n",
    "        else:  \n",
    "            df2_list.append(cleaned_subj_df)\n",
    "    \n",
    "    df2 = pd.concat(df2_list)\n",
    "            \n",
    "    print('Number of participants with more than ' + str(num_allowed_tries) + ' practice tries:', len(remove))\n",
    "    \n",
    "    return df2, prac_too_many_dist\n",
    "    "
   ]
  },
  {
   "cell_type": "code",
   "execution_count": 148,
   "metadata": {},
   "outputs": [
    {
     "name": "stdout",
     "output_type": "stream",
     "text": [
      "Number of participants with more than 3 practice tries: 9\n"
     ]
    }
   ],
   "source": [
    "pracTries_cleaned_data, prac_dist = cleanbyPracticeTries(input_data, 3)"
   ]
  },
  {
   "cell_type": "code",
   "execution_count": 149,
   "metadata": {},
   "outputs": [
    {
     "data": {
      "text/plain": [
       "(3, 9)"
      ]
     },
     "execution_count": 149,
     "metadata": {},
     "output_type": "execute_result"
    }
   ],
   "source": [
    "x = [d for d in prac_dist if d > 5]\n",
    "\n",
    "len(x), len(prac_dist)"
   ]
  },
  {
   "cell_type": "code",
   "execution_count": 150,
   "metadata": {},
   "outputs": [
    {
     "data": {
      "image/png": "[encoded data removed]",
      "text/plain": [
       "<Figure size 432x288 with 1 Axes>"
      ]
     },
     "metadata": {
      "needs_background": "light"
     },
     "output_type": "display_data"
    }
   ],
   "source": [
    "plt.hist(prac_dist)\n",
    "plt.show()"
   ]
  },
  {
   "cell_type": "code",
   "execution_count": 151,
   "metadata": {},
   "outputs": [
    {
     "data": {
      "text/plain": [
       "265"
      ]
     },
     "execution_count": 151,
     "metadata": {},
     "output_type": "execute_result"
    }
   ],
   "source": [
    "len(pracTries_cleaned_data.subjID.unique())"
   ]
  },
  {
   "cell_type": "code",
   "execution_count": 152,
   "metadata": {
    "jupyter": {
     "source_hidden": true
    }
   },
   "outputs": [],
   "source": [
    "def Accuracy_Cleaning(df, accuracy_threshold, num_trials):\n",
    "    \"\"\"    \n",
    "    Remove participants with overall accuracy below the accuracy threshold (e.g. 0.7)\n",
    "    \n",
    "    Returns:\n",
    "        data of participants that passed the accuracy threshold \n",
    "        list of the number of correct trials each participant got\n",
    "    \"\"\"\n",
    "    #List unique values in the df['subjID'] column\n",
    "    all_subjIDs = df.subjID.unique()\n",
    "    \n",
    "    remove = []\n",
    "    df2_list = []\n",
    "    list_trials_correct = []\n",
    "    # number of participants where exclusion is because all responses were 'none'\n",
    "    c = 0\n",
    "    \n",
    "    for subj in all_subjIDs:\n",
    "        keypresses = []\n",
    "\n",
    "        subj_df = df.loc[df['subjID'] == subj]\n",
    "        cleaned_subj_df = subj_df.copy(deep=True) # prevent setting with copy warning \n",
    "        \n",
    "        subj_num_correct_trials = 0\n",
    "        \n",
    "        acc_column = np.array(list(subj_df['accuracy']))\n",
    "        sum_acc = np.sum(acc_column)\n",
    "        \n",
    "        \n",
    "        for idx, row in subj_df.iterrows():\n",
    "            trial_acc = row['accuracy']\n",
    "            if trial_acc == 1:\n",
    "                subj_num_correct_trials += 1\n",
    "            else:\n",
    "                keypresses.append(row['keyPress'])\n",
    "        \n",
    "        subj_acc = sum_acc/num_trials\n",
    "#         print(acc_column)\n",
    "#         print(subj, sum_acc, subj_acc)\n",
    "                \n",
    "        # minimum number of trials correct the participant must have to be included\n",
    "        if subj_acc < accuracy_threshold:\n",
    "#             print(subj_acc, subj)\n",
    "            remove.append(subj)\n",
    "#             print(len([x for x in keypresses if x == 'none']))\n",
    "            if len([x for x in keypresses if x == 'none']) >= 4:\n",
    "                c += 1\n",
    "            \n",
    "#         else:\n",
    "#             print(subj_acc)\n",
    "        \n",
    "        list_trials_correct.append(subj_num_correct_trials)\n",
    "        \n",
    "        df2_list.append(cleaned_subj_df)\n",
    "    \n",
    "    df2 = pd.concat(df2_list)\n",
    "    \n",
    "    print(\"Number of Participants with accuracy below 70%: \", len(remove))\n",
    "    \n",
    "    for index, row in df2.iterrows():\n",
    "        if row['subjID'] in remove:\n",
    "            df2.drop(index, inplace=True)\n",
    "                \n",
    "    print('Number of participants that did not respond for 4 or more trials:', c)\n",
    "    \n",
    "    print('Number of participants left: ', len(df2.subjID.unique()))\n",
    "                \n",
    "    return df2, list_trials_correct, keypresses"
   ]
  },
  {
   "cell_type": "code",
   "execution_count": null,
   "metadata": {},
   "outputs": [],
   "source": []
  },
  {
   "cell_type": "code",
   "execution_count": 153,
   "metadata": {},
   "outputs": [
    {
     "name": "stdout",
     "output_type": "stream",
     "text": [
      "Number of Participants with accuracy below 70%:  27\n",
      "Number of participants that did not respond for 4 or more trials: 4\n",
      "Number of participants left:  238\n"
     ]
    }
   ],
   "source": [
    "Accuracy_cleaned_data, correct_trials_distribution, keypresses = Accuracy_Cleaning(pracTries_cleaned_data, 0.7, num_trials)\n"
   ]
  },
  {
   "cell_type": "code",
   "execution_count": 154,
   "metadata": {
    "jupyter": {
     "source_hidden": true
    }
   },
   "outputs": [],
   "source": [
    "def RT_Cleaning(df, outlier_range, num_trials):\n",
    "    \"\"\"\n",
    "    Remove trials where trial RT is outside of the defined outlier range \n",
    "    \n",
    "    Returns:\n",
    "        dataframe with outlier RT trials removed\n",
    "        list of all RTs \n",
    "    \"\"\"\n",
    "    #List unique values in the df['subjID'] column\n",
    "    all_subjIDs = df.subjID.unique()\n",
    "    print(len(all_subjIDs))\n",
    "    \n",
    "    remove = []\n",
    "    df2_list = []\n",
    "    total_RT_outliers = 0\n",
    "    total = 0\n",
    "    list_trialRT = []\n",
    "    for subj in all_subjIDs:\n",
    "        count = 0\n",
    "        subj_df = df.loc[df['subjID'] == subj]\n",
    "        cleaned_subj_df = subj_df.copy(deep=True) # prevent setting with copy warning \n",
    "\n",
    "        for idx, row in subj_df.iterrows():\n",
    "            total += 1\n",
    "            RT = row[\"RT\"]\n",
    "            list_trialRT.append(RT)\n",
    "            if RT < outlier_range[0]: # outlier\n",
    "                cleaned_subj_df.drop([idx], inplace=True)\n",
    "                count += 1\n",
    "                total_RT_outliers += 1\n",
    "            if RT > outlier_range[1]:\n",
    "                cleaned_subj_df.drop([idx], inplace=True)\n",
    "                count += 1\n",
    "                total_RT_outliers += 1\n",
    "        \n",
    "        df2_list.append(cleaned_subj_df)\n",
    "    \n",
    "    df2 = pd.concat(df2_list)\n",
    "    print(len(df2.subjID.unique()))\n",
    "                \n",
    "    return df2, list_trialRT"
   ]
  },
  {
   "cell_type": "code",
   "execution_count": 155,
   "metadata": {},
   "outputs": [
    {
     "name": "stdout",
     "output_type": "stream",
     "text": [
      "238\n",
      "238\n"
     ]
    }
   ],
   "source": [
    "RT_cleaned_data, trialRTs_distribution = RT_Cleaning(Accuracy_cleaned_data, [250, 5000], num_trials)\n"
   ]
  },
  {
   "cell_type": "code",
   "execution_count": 156,
   "metadata": {},
   "outputs": [
    {
     "data": {
      "image/png": "[encoded data removed]",
      "text/plain": [
       "<Figure size 432x288 with 1 Axes>"
      ]
     },
     "metadata": {
      "needs_background": "light"
     },
     "output_type": "display_data"
    }
   ],
   "source": [
    "plt.hist(trialRTs_distribution)\n",
    "plt.show()"
   ]
  },
  {
   "cell_type": "code",
   "execution_count": 157,
   "metadata": {},
   "outputs": [],
   "source": [
    "all_subjIDs = RT_cleaned_data.subjID.unique()\n",
    "dist = []\n",
    "for subj in all_subjIDs:\n",
    "    count = 0\n",
    "    subj_df = RT_cleaned_data.loc[RT_cleaned_data['subjID'] == subj]\n",
    "    dist.append(len(subj_df))\n",
    "#     print(len(subj_df))"
   ]
  },
  {
   "cell_type": "code",
   "execution_count": 158,
   "metadata": {},
   "outputs": [
    {
     "data": {
      "text/plain": [
       "230"
      ]
     },
     "execution_count": 158,
     "metadata": {},
     "output_type": "execute_result"
    }
   ],
   "source": [
    "len([d for d in dist if d >11])"
   ]
  },
  {
   "cell_type": "code",
   "execution_count": 159,
   "metadata": {},
   "outputs": [],
   "source": [
    "# pracTries_cleaned_data.subjID.unique(), RT_cleaned_data.subjID.unique()"
   ]
  },
  {
   "cell_type": "code",
   "execution_count": 160,
   "metadata": {
    "jupyter": {
     "source_hidden": true
    }
   },
   "outputs": [],
   "source": [
    "def finalTrialCountCheck(df, num_trials, min_trials):\n",
    "    \"\"\"\n",
    "    If more then 10% of a participants data is missing, remove the participant\n",
    "    \"\"\"\n",
    "    #List unique values in the df['subjID'] column\n",
    "    all_subjIDs = df.subjID.unique()\n",
    "    \n",
    "    remove = []\n",
    "    for subj in all_subjIDs:\n",
    "        subj_df = df.loc[df['subjID'] == subj]\n",
    "        count_trials = len(subj_df.index)\n",
    "        if count_trials < min_trials:\n",
    "            remove.append(subj)\n",
    "            \n",
    "#         threshold_trials_remaining = num_trials - math.floor(num_trials * 0.1)\n",
    "\n",
    "#         if count_trials <= threshold_trials_remaining:\n",
    "#             remove.append(subj)\n",
    "            \n",
    "    print(\"Number of Participants with >= 10% trials removed: \", len(remove))\n",
    "            \n",
    "    for subj in remove:\n",
    "        df.drop(df[df['subjID'] == subj].index, inplace = True) \n",
    "                    \n",
    "    print(\"Number of participants left: \",len(df.subjID.unique()))\n",
    "    return df"
   ]
  },
  {
   "cell_type": "code",
   "execution_count": 161,
   "metadata": {},
   "outputs": [
    {
     "name": "stdout",
     "output_type": "stream",
     "text": [
      "Number of Participants with >= 10% trials removed:  46\n",
      "Number of participants left:  192\n"
     ]
    }
   ],
   "source": [
    "finalTrialCount_data = finalTrialCountCheck(RT_cleaned_data, num_trials, 22)"
   ]
  },
  {
   "cell_type": "code",
   "execution_count": 162,
   "metadata": {},
   "outputs": [
    {
     "data": {
      "text/plain": [
       "192"
      ]
     },
     "execution_count": 162,
     "metadata": {},
     "output_type": "execute_result"
    }
   ],
   "source": [
    "raw_final_data = finalTrialCount_data.copy(deep=True)\n",
    "len(raw_final_data.subjID.unique())"
   ]
  },
  {
   "cell_type": "code",
   "execution_count": 163,
   "metadata": {},
   "outputs": [],
   "source": [
    "def zscored_outcomes(df):\n",
    "    '''\n",
    "    z-score depth estimates and RTs:\n",
    "        for each subj calculate their avg and std \n",
    "        zscored = (estim - subj avg)/subj std\n",
    "    '''\n",
    "    #List unique values in the df['subjID'] column\n",
    "    all_subjIDs = df.subjID.unique()\n",
    "    \n",
    "    df2_list = []\n",
    "    for subj in all_subjIDs:\n",
    "        subj_df = df.loc[df['subjID'] == subj]\n",
    "        final_subj_df = subj_df.copy(deep=True) # prevent setting with copy warning \n",
    "        # Z-Score RT\n",
    "        average_RT = subj_df[\"RT\"].mean()\n",
    "        std_RT = subj_df[\"RT\"].std()\n",
    "        subj_RTs = np.array(list(subj_df[\"RT\"]))\n",
    "        zscored_subj_RTs = (subj_RTs - average_RT)/std_RT\n",
    "        final_subj_df.insert(4, 'Z-Scored RT',zscored_subj_RTs)\n",
    "        df2_list.append(final_subj_df)\n",
    "    \n",
    "    df2 = pd.concat(df2_list)    \n",
    "\n",
    "    return df2"
   ]
  },
  {
   "cell_type": "code",
   "execution_count": 164,
   "metadata": {},
   "outputs": [],
   "source": [
    "zs_final_data = zscored_outcomes(raw_final_data)"
   ]
  },
  {
   "cell_type": "code",
   "execution_count": 165,
   "metadata": {},
   "outputs": [],
   "source": [
    "final_data = zs_final_data.copy(deep=True)"
   ]
  },
  {
   "cell_type": "code",
   "execution_count": 166,
   "metadata": {},
   "outputs": [],
   "source": [
    "def add_image_col(df):\n",
    "    \"\"\"\n",
    "    \"\"\"\n",
    "    image_col = []\n",
    "    \n",
    "    for idx, row in df.iterrows():\n",
    "        image_col.append(row['image'][:-6])\n",
    "\n",
    "    \n",
    "    return np.array(image_col)"
   ]
  },
  {
   "cell_type": "code",
   "execution_count": 167,
   "metadata": {},
   "outputs": [],
   "source": [
    "image_column = add_image_col(final_data)\n",
    "\n",
    "# # add misscaled column to dataframe \n",
    "final_data.insert(14, \"image_name\", image_column)\n"
   ]
  },
  {
   "cell_type": "code",
   "execution_count": 168,
   "metadata": {},
   "outputs": [],
   "source": [
    "def add_size_col(df):\n",
    "    \"\"\"\n",
    "    \"\"\"\n",
    "    big_objects = ['clipboard', 'kettle', 'laptop', 'notebook', 'pot', 'toaster']\n",
    "    small_objects = ['binderclip', 'eraser', 'flashdrive', 'saltshaker', 'sponge', 'spoon']\n",
    "    \n",
    "    size_col = []\n",
    "    \n",
    "    for idx, row in df.iterrows():\n",
    "        obj = row['object']\n",
    "        presentationSize = row['presentationSize']\n",
    "        if obj in big_objects:\n",
    "            if presentationSize == 'large':\n",
    "                size_col.append('canonical')\n",
    "            if presentationSize =='small':\n",
    "                size_col.append('tooSmall')\n",
    "        if obj in small_objects:\n",
    "            if presentationSize == 'large':\n",
    "                size_col.append('tooBig')\n",
    "            if presentationSize =='small':\n",
    "                size_col.append('canonical')\n",
    "                \n",
    "        size_col.append(row['image'][:-6])\n",
    "\n",
    "    \n",
    "    return np.array(size_col)"
   ]
  },
  {
   "cell_type": "code",
   "execution_count": null,
   "metadata": {},
   "outputs": [],
   "source": []
  },
  {
   "cell_type": "code",
   "execution_count": 169,
   "metadata": {},
   "outputs": [],
   "source": [
    "size_column = add_size_col(final_data)\n",
    "\n",
    "# # add misscaled column to dataframe \n",
    "final_data.insert(14, \"size_name\", image_column)\n"
   ]
  },
  {
   "cell_type": "code",
   "execution_count": 170,
   "metadata": {},
   "outputs": [],
   "source": [
    "final_data = final_data.copy(deep=True)"
   ]
  },
  {
   "cell_type": "code",
   "execution_count": 171,
   "metadata": {},
   "outputs": [],
   "source": [
    "final_data.to_csv('zs_e5v2Final_unfolded.csv', index=False)"
   ]
  },
  {
   "cell_type": "code",
   "execution_count": 172,
   "metadata": {},
   "outputs": [
    {
     "data": {
      "text/plain": [
       "192"
      ]
     },
     "execution_count": 172,
     "metadata": {},
     "output_type": "execute_result"
    }
   ],
   "source": [
    "len(final_data.subjID.unique())"
   ]
  },
  {
   "cell_type": "code",
   "execution_count": 141,
   "metadata": {},
   "outputs": [],
   "source": [
    "# input_data"
   ]
  },
  {
   "cell_type": "code",
   "execution_count": 37,
   "metadata": {},
   "outputs": [],
   "source": [
    "final_data = pd.read_csv('/Users/prachimahableshwarkar/Documents/GW/OSS/zs_e5v2Final_unfolded.csv')"
   ]
  },
  {
   "cell_type": "code",
   "execution_count": 106,
   "metadata": {},
   "outputs": [
    {
     "data": {
      "text/plain": [
       "351.30654159688424"
      ]
     },
     "execution_count": 106,
     "metadata": {},
     "output_type": "execute_result"
    }
   ],
   "source": [
    "np.max(np.array(final_data['IES']))"
   ]
  },
  {
   "cell_type": "markdown",
   "metadata": {},
   "source": [
    "# Analyze Data by Mis-scaling Rating"
   ]
  },
  {
   "cell_type": "code",
   "execution_count": 173,
   "metadata": {},
   "outputs": [],
   "source": [
    "data_1 = final_data.loc[final_data['rating'] == 1]\n",
    "data_2 = final_data.loc[final_data['rating'] == 2]\n",
    "data_3 = final_data.loc[final_data['rating'] == 3]\n",
    "data_4 = final_data.loc[final_data['rating'] == 4]\n",
    "\n",
    "\n",
    "data_5 = final_data.loc[final_data['rating'] == 5]\n",
    "data_6 = final_data.loc[final_data['rating'] == 6]\n",
    "data_7 = final_data.loc[final_data['rating'] == 7]"
   ]
  },
  {
   "cell_type": "code",
   "execution_count": 174,
   "metadata": {},
   "outputs": [
    {
     "data": {
      "text/plain": [
       "(483, 473, 475, 1456, 552, 379, 721)"
      ]
     },
     "execution_count": 174,
     "metadata": {},
     "output_type": "execute_result"
    }
   ],
   "source": [
    "len(data_1['accuracy']), len(data_2['accuracy']), len(data_3['accuracy']), len(data_4['accuracy']), len(data_5['accuracy']), len(data_6['accuracy']), len(data_7['accuracy'])\n"
   ]
  },
  {
   "cell_type": "code",
   "execution_count": null,
   "metadata": {},
   "outputs": [],
   "source": []
  },
  {
   "cell_type": "code",
   "execution_count": 175,
   "metadata": {},
   "outputs": [
    {
     "data": {
      "image/png": "[encoded data removed]",
      "text/plain": [
       "<Figure size 576x720 with 1 Axes>"
      ]
     },
     "metadata": {
      "needs_background": "light"
     },
     "output_type": "display_data"
    }
   ],
   "source": [
    "fig, ax = plt.subplots(figsize=[8,10])\n",
    "ax.spines['right'].set_visible(False)\n",
    "ax.spines['top'].set_visible(False)\n",
    "for axis in ['bottom','left']:\n",
    "    ax.spines[axis].set_linewidth(2.3)\n",
    "    \n",
    "plt.xticks( fontsize='15')\n",
    "plt.yticks(fontsize=15) \n",
    "plt.ylabel('count', fontsize=18)\n",
    "plt.xlabel('rating', fontsize=18)\n",
    "    \n",
    "plt.bar(['1', '2', '3', '4', '5', '6', '7'], [len(data_1['accuracy']), len(data_2['accuracy']), len(data_3['accuracy']), len(data_4['accuracy']), len(data_5['accuracy']), len(data_6['accuracy']), len(data_7['accuracy'])\n",
    "])\n",
    "plt.show()"
   ]
  },
  {
   "cell_type": "code",
   "execution_count": null,
   "metadata": {},
   "outputs": [],
   "source": []
  },
  {
   "cell_type": "code",
   "execution_count": 176,
   "metadata": {},
   "outputs": [
    {
     "data": {
      "image/png": "[encoded data removed]",
      "text/plain": [
       "<Figure size 576x720 with 1 Axes>"
      ]
     },
     "metadata": {
      "needs_background": "light"
     },
     "output_type": "display_data"
    }
   ],
   "source": [
    "fig, ax = plt.subplots(figsize=[8,10])\n",
    "ax.spines['right'].set_visible(False)\n",
    "ax.spines['top'].set_visible(False)\n",
    "for axis in ['bottom','left']:\n",
    "    ax.spines[axis].set_linewidth(2.3)\n",
    "    \n",
    "x = np.arange(7)\n",
    "\n",
    "Acc_ =   [np.sum(np.array(data_1['accuracy']))/len(np.array(data_1['accuracy'])), np.sum(np.array(data_2['accuracy']))/len(np.array(data_2['accuracy'])), np.sum(np.array(data_3['accuracy']))/len(np.array(data_3['accuracy'])), np.sum(np.array(data_4['accuracy']))/len(np.array(data_4['accuracy'])), np.sum(np.array(data_5['accuracy']))/len(np.array(data_5['accuracy'])), np.sum(np.array(data_6['accuracy']))/len(np.array(data_6['accuracy'])), np.sum(np.array(data_7['accuracy']))/len(np.array(data_7['accuracy']))]\n",
    "yerr_ =  [np.std(np.array(data_1['accuracy']))/np.sqrt(len(np.array(data_1['accuracy']))), np.std(np.array(data_2['accuracy']))/np.sqrt(len(np.array(data_2['accuracy']))), np.std(np.array(data_3['accuracy']))/np.sqrt(len(np.array(data_3['accuracy']))), np.std(np.array(data_4['accuracy']))/np.sqrt(len(np.array(data_4['accuracy']))), np.std(np.array(data_5['accuracy']))/np.sqrt(len(np.array(data_5['accuracy']))), np.std(np.array(data_6['accuracy']))/np.sqrt(len(np.array(data_6['accuracy']))), np.std(np.array(data_7['accuracy']))/np.sqrt(len(np.array(data_7['accuracy'])))]\n",
    "\n",
    "width = 0.2\n",
    "  \n",
    "# plot data in grouped manner of bar type\n",
    "plt.bar(x, Acc_, width, color='gray', yerr=yerr_, capsize=5)\n",
    "plt.xticks(x, [1, 2, 3, 4, 5, 6, 7], fontsize='15')\n",
    "plt.ylim(0.70, 1)\n",
    "plt.yticks(fontsize=15) \n",
    "plt.xlabel(\"Subject Rating\", fontsize=18)\n",
    "plt.ylabel(\"Percent Correct\", fontsize=18)\n",
    "# plt.legend(loc=1, fontsize=15)\n",
    "plt.show()"
   ]
  },
  {
   "cell_type": "code",
   "execution_count": 177,
   "metadata": {},
   "outputs": [],
   "source": [
    "data_1_zo = data_1.loc[data_1['presentationSize'] == 'large']\n",
    "data_1_zi = data_1.loc[data_1['presentationSize'] == 'small']\n",
    "\n",
    "data_2_zo = data_2.loc[data_2['presentationSize'] == 'large']\n",
    "data_2_zi = data_2.loc[data_2['presentationSize'] == 'small']\n",
    "\n",
    "data_3_zo = data_3.loc[data_3['presentationSize'] == 'large']\n",
    "data_3_zi = data_3.loc[data_3['presentationSize'] == 'small']\n",
    "\n",
    "data_4_zo = data_4.loc[data_4['presentationSize'] == 'large']\n",
    "data_4_zi = data_4.loc[data_4['presentationSize'] == 'small']\n",
    "\n",
    "\n",
    "data_5_zo = data_5.loc[data_5['presentationSize'] == 'large']\n",
    "data_5_zi = data_5.loc[data_5['presentationSize'] == 'small']\n",
    "\n",
    "data_6_zo = data_6.loc[data_6['presentationSize'] == 'large']\n",
    "data_6_zi = data_6.loc[data_6['presentationSize'] == 'small']\n",
    "\n",
    "data_7_zo = data_7.loc[data_7['presentationSize'] == 'large']\n",
    "data_7_zi = data_7.loc[data_7['presentationSize'] == 'small']\n",
    "\n"
   ]
  },
  {
   "cell_type": "code",
   "execution_count": 178,
   "metadata": {},
   "outputs": [
    {
     "name": "stdout",
     "output_type": "stream",
     "text": [
      "11\n",
      "46\n",
      "105\n",
      "757\n",
      "380\n",
      "306\n",
      "678\n"
     ]
    }
   ],
   "source": [
    "# Accuracy\n",
    "\n",
    "data_1_zo_acc = np.sum(np.array(data_1_zo['accuracy']))/len(np.array(data_1_zo['accuracy']))\n",
    "\n",
    "data_1_zo_sem = np.std(np.array(data_1_zo['accuracy']))/np.sqrt(len(np.array(data_1_zo['accuracy'])))\n",
    "\n",
    "print(len(np.array(data_1_zo['accuracy'])))\n",
    "\n",
    "\n",
    "data_2_zo_acc = np.sum(np.array(data_2_zo['accuracy']))/len(np.array(data_2_zo['accuracy']))\n",
    "\n",
    "data_2_zo_sem = np.std(np.array(data_2_zo['accuracy']))/np.sqrt(len(np.array(data_2_zo['accuracy'])))\n",
    "\n",
    "print(len(np.array(data_2_zo['accuracy'])))\n",
    "\n",
    "\n",
    "data_3_zo_acc = np.sum(np.array(data_3_zo['accuracy']))/len(np.array(data_3_zo['accuracy']))\n",
    "\n",
    "data_3_zo_sem = np.std(np.array(data_3_zo['accuracy']))/np.sqrt(len(np.array(data_3_zo['accuracy'])))\n",
    "\n",
    "print(len(np.array(data_3_zo['accuracy'])))\n",
    "\n",
    "data_4_zo_acc = np.sum(np.array(data_4_zo['accuracy']))/len(np.array(data_4_zo['accuracy']))\n",
    "\n",
    "data_4_zo_sem = np.std(np.array(data_4_zo['accuracy']))/np.sqrt(len(np.array(data_4_zo['accuracy'])))\n",
    "\n",
    "print(len(np.array(data_4_zo['accuracy'])))\n",
    "\n",
    "data_5_zo_acc = np.sum(np.array(data_5_zo['accuracy']))/len(np.array(data_5_zo['accuracy']))\n",
    "\n",
    "data_5_zo_sem = np.std(np.array(data_5_zo['accuracy']))/np.sqrt(len(np.array(data_5_zo['accuracy'])))\n",
    "\n",
    "print(len(np.array(data_5_zo['accuracy'])))\n",
    "\n",
    "\n",
    "data_6_zo_acc = np.sum(np.array(data_6_zo['accuracy']))/len(np.array(data_6_zo['accuracy']))\n",
    "\n",
    "data_6_zo_sem = np.std(np.array(data_6_zo['accuracy']))/np.sqrt(len(np.array(data_6_zo['accuracy'])))\n",
    "\n",
    "print(len(np.array(data_6_zo['accuracy'])))\n",
    "\n",
    "data_7_zo_acc = np.sum(np.array(data_7_zo['accuracy']))/len(np.array(data_7_zo['accuracy']))\n",
    "\n",
    "data_7_zo_sem = np.std(np.array(data_7_zo['accuracy']))/np.sqrt(len(np.array(data_7_zo['accuracy'])))\n",
    "\n",
    "print(len(np.array(data_7_zo['accuracy'])))\n"
   ]
  },
  {
   "cell_type": "code",
   "execution_count": null,
   "metadata": {},
   "outputs": [],
   "source": []
  },
  {
   "cell_type": "code",
   "execution_count": 179,
   "metadata": {},
   "outputs": [],
   "source": [
    "data_1_objectScene1SemanticCongruency0 = data_1.loc[data_1['objSceneSemCong'] == 0]\n",
    "data_1_objectScene1SemanticCongruency1 = data_1.loc[data_1['objSceneSemCong'] == 1]\n",
    "\n",
    "data_2_objectScene1SemanticCongruency0 = data_2.loc[data_2['objSceneSemCong'] == 0]\n",
    "data_2_objectScene1SemanticCongruency1 = data_2.loc[data_2['objSceneSemCong'] == 1]\n",
    "\n",
    "data_3_objectScene1SemanticCongruency0 = data_3.loc[data_3['objSceneSemCong'] == 0]\n",
    "data_3_objectScene1SemanticCongruency1 = data_3.loc[data_3['objSceneSemCong'] == 1]\n",
    "\n",
    "data_4_objectScene1SemanticCongruency0 = data_4.loc[data_4['objSceneSemCong'] == 0]\n",
    "data_4_objectScene1SemanticCongruency1 = data_4.loc[data_4['objSceneSemCong'] == 1]\n",
    "\n",
    "data_5_objectScene1SemanticCongruency0 = data_5.loc[data_5['objSceneSemCong'] == 0]\n",
    "data_5_objectScene1SemanticCongruency1 = data_5.loc[data_5['objSceneSemCong'] == 1]\n",
    "\n",
    "data_6_objectScene1SemanticCongruency0 = data_6.loc[data_6['objSceneSemCong'] == 0]\n",
    "data_6_objectScene1SemanticCongruency1 = data_6.loc[data_6['objSceneSemCong'] == 1]\n",
    "\n",
    "data_7_objectScene1SemanticCongruency0 = data_7.loc[data_7['objSceneSemCong'] == 0]\n",
    "data_7_objectScene1SemanticCongruency1 = data_7.loc[data_7['objSceneSemCong'] == 1]\n",
    "\n"
   ]
  },
  {
   "cell_type": "code",
   "execution_count": 180,
   "metadata": {},
   "outputs": [
    {
     "name": "stdout",
     "output_type": "stream",
     "text": [
      "11\n",
      "472\n",
      "46\n",
      "427\n",
      "105\n",
      "370\n",
      "757\n",
      "699\n",
      "380\n",
      "172\n",
      "306\n",
      "73\n",
      "678\n",
      "43\n"
     ]
    }
   ],
   "source": [
    "# Accuracy\n",
    "\n",
    "data_1_zo_acc = np.sum(np.array(data_1_zo['accuracy']))/len(np.array(data_1_zo['accuracy']))\n",
    "data_1_zi_acc =np.sum(np.array(data_1_zi['accuracy']))/len(np.array(data_1_zi['accuracy']))\n",
    "\n",
    "data_1_zo_sem = np.std(np.array(data_1_zo['accuracy']))/np.sqrt(len(np.array(data_1_zo['accuracy'])))\n",
    "data_1_zi_sem = np.std(np.array(data_1_zi['accuracy']))/np.sqrt(len(np.array(data_1_zi['accuracy'])))\n",
    "\n",
    "print(len(np.array(data_1_zo['accuracy'])))\n",
    "print(len(np.array(data_1_zi['accuracy'])))\n",
    "\n",
    "\n",
    "data_2_zo_acc = np.sum(np.array(data_2_zo['accuracy']))/len(np.array(data_2_zo['accuracy']))\n",
    "data_2_zi_acc =np.sum(np.array(data_2_zi['accuracy']))/len(np.array(data_2_zi['accuracy']))\n",
    "\n",
    "data_2_zo_sem = np.std(np.array(data_2_zo['accuracy']))/np.sqrt(len(np.array(data_2_zo['accuracy'])))\n",
    "data_2_zi_sem = np.std(np.array(data_2_zi['accuracy']))/np.sqrt(len(np.array(data_2_zi['accuracy'])))\n",
    "\n",
    "print(len(np.array(data_2_zo['accuracy'])))\n",
    "print(len(np.array(data_2_zi['accuracy'])))\n",
    "\n",
    "\n",
    "data_3_zo_acc = np.sum(np.array(data_3_zo['accuracy']))/len(np.array(data_3_zo['accuracy']))\n",
    "data_3_zi_acc =np.sum(np.array(data_3_zi['accuracy']))/len(np.array(data_3_zi['accuracy']))\n",
    "\n",
    "data_3_zo_sem = np.std(np.array(data_3_zo['accuracy']))/np.sqrt(len(np.array(data_3_zo['accuracy'])))\n",
    "data_3_zi_sem = np.std(np.array(data_3_zi['accuracy']))/np.sqrt(len(np.array(data_3_zi['accuracy'])))\n",
    "\n",
    "print(len(np.array(data_3_zo['accuracy'])))\n",
    "print(len(np.array(data_3_zi['accuracy'])))\n",
    "\n",
    "data_4_zo_acc = np.sum(np.array(data_4_zo['accuracy']))/len(np.array(data_4_zo['accuracy']))\n",
    "data_4_zi_acc =np.sum(np.array(data_4_zi['accuracy']))/len(np.array(data_4_zi['accuracy']))\n",
    "\n",
    "data_4_zo_sem = np.std(np.array(data_4_zo['accuracy']))/np.sqrt(len(np.array(data_4_zo['accuracy'])))\n",
    "data_4_zi_sem = np.std(np.array(data_4_zi['accuracy']))/np.sqrt(len(np.array(data_4_zi['accuracy'])))\n",
    "\n",
    "print(len(np.array(data_4_zo['accuracy'])))\n",
    "print(len(np.array(data_4_zi['accuracy'])))\n",
    "\n",
    "data_5_zo_acc = np.sum(np.array(data_5_zo['accuracy']))/len(np.array(data_5_zo['accuracy']))\n",
    "data_5_zi_acc =np.sum(np.array(data_5_zi['accuracy']))/len(np.array(data_5_zi['accuracy']))\n",
    "\n",
    "data_5_zo_sem = np.std(np.array(data_5_zo['accuracy']))/np.sqrt(len(np.array(data_5_zo['accuracy'])))\n",
    "data_5_zi_sem = np.std(np.array(data_5_zi['accuracy']))/np.sqrt(len(np.array(data_5_zi['accuracy'])))\n",
    "\n",
    "print(len(np.array(data_5_zo['accuracy'])))\n",
    "print(len(np.array(data_5_zi['accuracy'])))\n",
    "\n",
    "\n",
    "data_6_zo_acc = np.sum(np.array(data_6_zo['accuracy']))/len(np.array(data_6_zo['accuracy']))\n",
    "data_6_zi_acc =np.sum(np.array(data_6_zi['accuracy']))/len(np.array(data_6_zi['accuracy']))\n",
    "\n",
    "data_6_zo_sem = np.std(np.array(data_6_zo['accuracy']))/np.sqrt(len(np.array(data_6_zo['accuracy'])))\n",
    "data_6_zi_sem = np.std(np.array(data_6_zi['accuracy']))/np.sqrt(len(np.array(data_6_zi['accuracy'])))\n",
    "\n",
    "print(len(np.array(data_6_zo['accuracy'])))\n",
    "print(len(np.array(data_6_zi['accuracy'])))\n",
    "\n",
    "data_7_zo_acc = np.sum(np.array(data_7_zo['accuracy']))/len(np.array(data_7_zo['accuracy']))\n",
    "data_7_zi_acc =np.sum(np.array(data_7_zi['accuracy']))/len(np.array(data_7_zi['accuracy']))\n",
    "\n",
    "data_7_zo_sem = np.std(np.array(data_7_zo['accuracy']))/np.sqrt(len(np.array(data_7_zo['accuracy'])))\n",
    "data_7_zi_sem = np.std(np.array(data_7_zi['accuracy']))/np.sqrt(len(np.array(data_7_zi['accuracy'])))\n",
    "\n",
    "print(len(np.array(data_7_zo['accuracy'])))\n",
    "print(len(np.array(data_7_zi['accuracy'])))\n"
   ]
  },
  {
   "cell_type": "code",
   "execution_count": 181,
   "metadata": {},
   "outputs": [
    {
     "data": {
      "image/png": "[encoded data removed]",
      "text/plain": [
       "<Figure size 576x720 with 1 Axes>"
      ]
     },
     "metadata": {
      "needs_background": "light"
     },
     "output_type": "display_data"
    }
   ],
   "source": [
    "fig, ax = plt.subplots(figsize=[8,10])\n",
    "ax.spines['right'].set_visible(False)\n",
    "ax.spines['top'].set_visible(False)\n",
    "for axis in ['bottom','left']:\n",
    "    ax.spines[axis].set_linewidth(2.3)\n",
    "    \n",
    "x = np.arange(7)\n",
    "\n",
    "Acc_zo =   [data_1_zo_acc, data_2_zo_acc, data_3_zo_acc, data_4_zo_acc, data_5_zo_acc, data_6_zo_acc, data_7_zo_acc]\n",
    "yerr_zo =  [data_1_zo_sem, data_2_zo_sem, data_3_zo_sem, data_4_zo_sem, data_5_zo_sem, data_6_zo_sem, data_7_zo_sem]\n",
    "\n",
    "Acc_zi =   [data_1_zi_acc, data_2_zi_acc, data_3_zi_acc, data_4_zi_acc, data_5_zi_acc, data_6_zi_acc, data_7_zi_acc]\n",
    "yerr_zi =  [data_1_zi_sem, data_2_zi_sem, data_3_zi_sem, data_4_zi_sem, data_5_zi_sem, data_6_zi_sem, data_7_zi_sem]\n",
    "\n",
    "width = 0.2\n",
    "  \n",
    "# plot data in grouped manner of bar type\n",
    "plt.bar(x-0.2, Acc_zo, width, color='orange', label='Large', yerr=yerr_zo, capsize=5)\n",
    "plt.bar(x, Acc_zi, width, color='chocolate', label='Small', yerr=yerr_zi, capsize=5)\n",
    "plt.xticks(x, [1, 2, 3, 4, 5, 6, 7], fontsize='15')\n",
    "plt.ylim(0.70)\n",
    "plt.yticks(fontsize=15) \n",
    "plt.xlabel(\"Subject Rating\", fontsize=18)\n",
    "plt.ylabel(\"Percent Correct\", fontsize=18)\n",
    "plt.legend(loc=1, fontsize=15)\n",
    "plt.show()"
   ]
  },
  {
   "cell_type": "code",
   "execution_count": 182,
   "metadata": {},
   "outputs": [],
   "source": [
    "data_1_objectScene1SemanticCongruency0 = data_1.loc[data_1['objSceneSemCong'] == 0]\n",
    "data_1_objectScene1SemanticCongruency1 = data_1.loc[data_1['objSceneSemCong'] == 1]\n",
    "\n",
    "data_2_objectScene1SemanticCongruency0 = data_2.loc[data_2['objSceneSemCong'] == 0]\n",
    "data_2_objectScene1SemanticCongruency1 = data_2.loc[data_2['objSceneSemCong'] == 1]\n",
    "\n",
    "data_3_objectScene1SemanticCongruency0 = data_3.loc[data_3['objSceneSemCong'] == 0]\n",
    "data_3_objectScene1SemanticCongruency1 = data_3.loc[data_3['objSceneSemCong'] == 1]\n",
    "\n",
    "data_4_objectScene1SemanticCongruency0 = data_4.loc[data_4['objSceneSemCong'] == 0]\n",
    "data_4_objectScene1SemanticCongruency1 = data_4.loc[data_4['objSceneSemCong'] == 1]\n",
    "\n",
    "data_5_objectScene1SemanticCongruency0 = data_5.loc[data_5['objSceneSemCong'] == 0]\n",
    "data_5_objectScene1SemanticCongruency1 = data_5.loc[data_5['objSceneSemCong'] == 1]\n",
    "\n",
    "data_6_objectScene1SemanticCongruency0 = data_6.loc[data_6['objSceneSemCong'] == 0]\n",
    "data_6_objectScene1SemanticCongruency1 = data_6.loc[data_6['objSceneSemCong'] == 1]\n",
    "\n",
    "data_7_objectScene1SemanticCongruency0 = data_7.loc[data_7['objSceneSemCong'] == 0]\n",
    "data_7_objectScene1SemanticCongruency1 = data_7.loc[data_7['objSceneSemCong'] == 1]"
   ]
  },
  {
   "cell_type": "code",
   "execution_count": 183,
   "metadata": {},
   "outputs": [
    {
     "name": "stdout",
     "output_type": "stream",
     "text": [
      "484\n",
      "454\n",
      "456\n",
      "1484\n",
      "538\n",
      "408\n",
      "734\n"
     ]
    }
   ],
   "source": [
    "# Accuracy\n",
    "\n",
    "data_1_objectScene1SemanticCongruency0_acc = np.sum(np.array(data_1_objectScene1SemanticCongruency0['accuracy']))/len(np.array(data_1_objectScene1SemanticCongruency0['accuracy']))\n",
    "data_1_objectScene1SemanticCongruency1_acc =np.sum(np.array(data_1_objectScene1SemanticCongruency1['accuracy']))/len(np.array(data_1_objectScene1SemanticCongruency1['accuracy']))\n",
    "\n",
    "data_1_objectScene1SemanticCongruency0_sem = np.std(np.array(data_1_objectScene1SemanticCongruency0['accuracy']))/np.sqrt(len(np.array(data_1_objectScene1SemanticCongruency0['accuracy'])))\n",
    "data_1_objectScene1SemanticCongruency1_sem = np.std(np.array(data_1_objectScene1SemanticCongruency1['accuracy']))/np.sqrt(len(np.array(data_1_objectScene1SemanticCongruency1['accuracy'])))\n",
    "\n",
    "print(len(np.array(data_1_objectScene1SemanticCongruency0['accuracy'])) + len(np.array(data_1_objectScene1SemanticCongruency0['accuracy'])))\n",
    "\n",
    "data_2_objectScene1SemanticCongruency0_acc = np.sum(np.array(data_2_objectScene1SemanticCongruency0['accuracy']))/len(np.array(data_2_objectScene1SemanticCongruency0['accuracy']))\n",
    "data_2_objectScene1SemanticCongruency1_acc =np.sum(np.array(data_2_objectScene1SemanticCongruency1['accuracy']))/len(np.array(data_2_objectScene1SemanticCongruency1['accuracy']))\n",
    "\n",
    "data_2_objectScene1SemanticCongruency0_sem = np.std(np.array(data_2_objectScene1SemanticCongruency0['accuracy']))/np.sqrt(len(np.array(data_2_objectScene1SemanticCongruency0['accuracy'])))\n",
    "data_2_objectScene1SemanticCongruency1_sem = np.std(np.array(data_2_objectScene1SemanticCongruency1['accuracy']))/np.sqrt(len(np.array(data_2_objectScene1SemanticCongruency1['accuracy'])))\n",
    "\n",
    "print(len(np.array(data_2_objectScene1SemanticCongruency0['accuracy'])) + len(np.array(data_2_objectScene1SemanticCongruency0['accuracy'])))\n",
    "\n",
    "data_3_objectScene1SemanticCongruency0_acc = np.sum(np.array(data_3_objectScene1SemanticCongruency0['accuracy']))/len(np.array(data_3_objectScene1SemanticCongruency0['accuracy']))\n",
    "data_3_objectScene1SemanticCongruency1_acc =np.sum(np.array(data_3_objectScene1SemanticCongruency1['accuracy']))/len(np.array(data_3_objectScene1SemanticCongruency1['accuracy']))\n",
    "\n",
    "data_3_objectScene1SemanticCongruency0_sem = np.std(np.array(data_3_objectScene1SemanticCongruency0['accuracy']))/np.sqrt(len(np.array(data_3_objectScene1SemanticCongruency0['accuracy'])))\n",
    "data_3_objectScene1SemanticCongruency1_sem = np.std(np.array(data_3_objectScene1SemanticCongruency1['accuracy']))/np.sqrt(len(np.array(data_3_objectScene1SemanticCongruency1['accuracy'])))\n",
    "\n",
    "print(len(np.array(data_3_objectScene1SemanticCongruency0['accuracy'])) + len(np.array(data_3_objectScene1SemanticCongruency0['accuracy'])))\n",
    "\n",
    "data_4_objectScene1SemanticCongruency0_acc = np.sum(np.array(data_4_objectScene1SemanticCongruency0['accuracy']))/len(np.array(data_4_objectScene1SemanticCongruency0['accuracy']))\n",
    "data_4_objectScene1SemanticCongruency1_acc =np.sum(np.array(data_4_objectScene1SemanticCongruency1['accuracy']))/len(np.array(data_4_objectScene1SemanticCongruency1['accuracy']))\n",
    "\n",
    "data_4_objectScene1SemanticCongruency0_sem = np.std(np.array(data_4_objectScene1SemanticCongruency0['accuracy']))/np.sqrt(len(np.array(data_4_objectScene1SemanticCongruency0['accuracy'])))\n",
    "data_4_objectScene1SemanticCongruency1_sem = np.std(np.array(data_4_objectScene1SemanticCongruency1['accuracy']))/np.sqrt(len(np.array(data_4_objectScene1SemanticCongruency1['accuracy'])))\n",
    "\n",
    "print(len(np.array(data_4_objectScene1SemanticCongruency0['accuracy'])) + len(np.array(data_4_objectScene1SemanticCongruency0['accuracy'])))\n",
    "\n",
    "data_5_objectScene1SemanticCongruency0_acc = np.sum(np.array(data_5_objectScene1SemanticCongruency0['accuracy']))/len(np.array(data_5_objectScene1SemanticCongruency0['accuracy']))\n",
    "data_5_objectScene1SemanticCongruency1_acc =np.sum(np.array(data_5_objectScene1SemanticCongruency1['accuracy']))/len(np.array(data_5_objectScene1SemanticCongruency1['accuracy']))\n",
    "\n",
    "data_5_objectScene1SemanticCongruency0_sem = np.std(np.array(data_5_objectScene1SemanticCongruency0['accuracy']))/np.sqrt(len(np.array(data_5_objectScene1SemanticCongruency0['accuracy'])))\n",
    "data_5_objectScene1SemanticCongruency1_sem = np.std(np.array(data_5_objectScene1SemanticCongruency1['accuracy']))/np.sqrt(len(np.array(data_5_objectScene1SemanticCongruency1['accuracy'])))\n",
    "\n",
    "print(len(np.array(data_5_objectScene1SemanticCongruency0['accuracy'])) + len(np.array(data_5_objectScene1SemanticCongruency0['accuracy'])))\n",
    "\n",
    "data_6_objectScene1SemanticCongruency0_acc = np.sum(np.array(data_6_objectScene1SemanticCongruency0['accuracy']))/len(np.array(data_6_objectScene1SemanticCongruency0['accuracy']))\n",
    "data_6_objectScene1SemanticCongruency1_acc =np.sum(np.array(data_6_objectScene1SemanticCongruency1['accuracy']))/len(np.array(data_6_objectScene1SemanticCongruency1['accuracy']))\n",
    "\n",
    "data_6_objectScene1SemanticCongruency0_sem = np.std(np.array(data_6_objectScene1SemanticCongruency0['accuracy']))/np.sqrt(len(np.array(data_6_objectScene1SemanticCongruency0['accuracy'])))\n",
    "data_6_objectScene1SemanticCongruency1_sem = np.std(np.array(data_6_objectScene1SemanticCongruency1['accuracy']))/np.sqrt(len(np.array(data_6_objectScene1SemanticCongruency1['accuracy'])))\n",
    "\n",
    "print(len(np.array(data_6_objectScene1SemanticCongruency0['accuracy'])) + len(np.array(data_6_objectScene1SemanticCongruency0['accuracy'])))\n",
    "\n",
    "data_7_objectScene1SemanticCongruency0_acc = np.sum(np.array(data_7_objectScene1SemanticCongruency0['accuracy']))/len(np.array(data_7_objectScene1SemanticCongruency0['accuracy']))\n",
    "data_7_objectScene1SemanticCongruency1_acc =np.sum(np.array(data_7_objectScene1SemanticCongruency1['accuracy']))/len(np.array(data_7_objectScene1SemanticCongruency1['accuracy']))\n",
    "\n",
    "data_7_objectScene1SemanticCongruency0_sem = np.std(np.array(data_7_objectScene1SemanticCongruency0['accuracy']))/np.sqrt(len(np.array(data_7_objectScene1SemanticCongruency0['accuracy'])))\n",
    "data_7_objectScene1SemanticCongruency1_sem = np.std(np.array(data_7_objectScene1SemanticCongruency1['accuracy']))/np.sqrt(len(np.array(data_7_objectScene1SemanticCongruency1['accuracy'])))\n",
    "\n",
    "print(len(np.array(data_7_objectScene1SemanticCongruency0['accuracy'])) + len(np.array(data_7_objectScene1SemanticCongruency0['accuracy'])))\n",
    "\n"
   ]
  },
  {
   "cell_type": "code",
   "execution_count": 184,
   "metadata": {},
   "outputs": [
    {
     "data": {
      "image/png": "[encoded data removed]",
      "text/plain": [
       "<Figure size 576x720 with 1 Axes>"
      ]
     },
     "metadata": {
      "needs_background": "light"
     },
     "output_type": "display_data"
    }
   ],
   "source": [
    "fig, ax = plt.subplots(figsize=[8,10])\n",
    "ax.spines['right'].set_visible(False)\n",
    "ax.spines['top'].set_visible(False)\n",
    "for axis in ['bottom','left']:\n",
    "    ax.spines[axis].set_linewidth(2.3)\n",
    "    \n",
    "x = np.arange(7)\n",
    "\n",
    "Acc_0 =   [data_1_objectScene1SemanticCongruency0_acc, data_2_objectScene1SemanticCongruency0_acc, data_3_objectScene1SemanticCongruency0_acc, data_4_objectScene1SemanticCongruency0_acc, data_5_objectScene1SemanticCongruency0_acc, data_6_objectScene1SemanticCongruency0_acc, data_7_objectScene1SemanticCongruency0_acc]\n",
    "yerr_0 =  [data_1_objectScene1SemanticCongruency0_sem, data_2_objectScene1SemanticCongruency0_sem, data_3_objectScene1SemanticCongruency0_sem, data_4_objectScene1SemanticCongruency0_sem, data_5_objectScene1SemanticCongruency0_sem, data_6_objectScene1SemanticCongruency0_sem, data_7_objectScene1SemanticCongruency0_sem]\n",
    "\n",
    "Acc_1 =   [data_1_objectScene1SemanticCongruency1_acc, data_2_objectScene1SemanticCongruency1_acc, data_3_objectScene1SemanticCongruency1_acc, data_4_objectScene1SemanticCongruency1_acc, data_5_objectScene1SemanticCongruency1_acc, data_6_objectScene1SemanticCongruency1_acc, data_7_objectScene1SemanticCongruency1_acc]\n",
    "yerr_1 =  [data_1_objectScene1SemanticCongruency1_sem, data_2_objectScene1SemanticCongruency1_sem, data_3_objectScene1SemanticCongruency1_sem, data_4_objectScene1SemanticCongruency1_sem, data_5_objectScene1SemanticCongruency1_sem, data_6_objectScene1SemanticCongruency1_sem, data_7_objectScene1SemanticCongruency1_sem]\n",
    "\n",
    "width = 0.2\n",
    "  \n",
    "# plot data in grouped manner of bar type\n",
    "plt.bar(x-0.2, Acc_0, width, color='orange', label='Object-Scene Semantic Incongruent', yerr=yerr_0, capsize=5)\n",
    "plt.bar(x, Acc_1, width, color='chocolate', label='Object-Scene Semantic Congruent', yerr=yerr_1, capsize=5)\n",
    "plt.xticks(x, [1, 2, 3, 4, 5, 6, 7], fontsize='15')\n",
    "plt.ylim(0.7)\n",
    "plt.yticks(fontsize=15) \n",
    "plt.xlabel(\"Subject Rating\", fontsize=18)\n",
    "plt.ylabel(\"Percent Correct\", fontsize=18)\n",
    "plt.legend(loc=1, fontsize=15)\n",
    "plt.show()"
   ]
  },
  {
   "cell_type": "code",
   "execution_count": 185,
   "metadata": {},
   "outputs": [],
   "source": [
    "final_data_correctOnly = final_data.loc[final_data['accuracy']==1]\n"
   ]
  },
  {
   "cell_type": "code",
   "execution_count": 186,
   "metadata": {},
   "outputs": [],
   "source": [
    "data_1_CO = final_data_correctOnly.loc[final_data_correctOnly['rating'] == 1]\n",
    "data_2_CO = final_data_correctOnly.loc[final_data_correctOnly['rating'] == 2]\n",
    "data_3_CO = final_data_correctOnly.loc[final_data_correctOnly['rating'] == 3]\n",
    "data_4_CO = final_data_correctOnly.loc[final_data_correctOnly['rating'] == 4]\n",
    "\n",
    "data_1_zo_CO = data_1_CO.loc[data_1_CO['presentationSize'] == 'large']\n",
    "data_1_zi_CO = data_1_CO.loc[data_1_CO['presentationSize'] == 'small']\n",
    "\n",
    "data_2_zo_CO = data_2_CO.loc[data_2_CO['presentationSize'] == 'large']\n",
    "data_2_zi_CO = data_2_CO.loc[data_2_CO['presentationSize'] == 'small']\n",
    "\n",
    "data_3_zo_CO = data_3_CO.loc[data_3_CO['presentationSize'] == 'large']\n",
    "data_3_zi_CO = data_3_CO.loc[data_3_CO['presentationSize'] == 'small']\n",
    "\n",
    "data_4_zo_CO = data_4_CO.loc[data_4_CO['presentationSize'] == 'large']\n",
    "data_4_zi_CO = data_4_CO.loc[data_4_CO['presentationSize'] == 'small']\n",
    "\n",
    "\n",
    "\n",
    "data_5_CO = final_data_correctOnly.loc[final_data_correctOnly['rating'] == 5]\n",
    "data_6_CO = final_data_correctOnly.loc[final_data_correctOnly['rating'] == 6]\n",
    "data_7_CO = final_data_correctOnly.loc[final_data_correctOnly['rating'] == 7]\n",
    "\n",
    "data_5_zo_CO = data_5_CO.loc[data_5_CO['presentationSize'] == 'large']\n",
    "data_5_zi_CO = data_5_CO.loc[data_5_CO['presentationSize'] == 'small']\n",
    "\n",
    "data_6_zo_CO = data_6_CO.loc[data_6_CO['presentationSize'] == 'large']\n",
    "data_6_zi_CO = data_6_CO.loc[data_6_CO['presentationSize'] == 'small']\n",
    "\n",
    "data_7_zo_CO = data_7_CO.loc[data_7_CO['presentationSize'] == 'large']\n",
    "data_7_zi_CO = data_7_CO.loc[data_7_CO['presentationSize'] == 'small']\n"
   ]
  },
  {
   "cell_type": "code",
   "execution_count": 187,
   "metadata": {},
   "outputs": [],
   "source": [
    "# RT \n",
    "data_1_zo_RT = np.mean(np.array(data_1_zo_CO['RT']))\n",
    "data_1_zi_RT = np.mean(np.array(data_1_zi_CO['RT']))\n",
    "\n",
    "data_1_zo_RT_sem = sem(np.array(data_1_zo_CO['RT']))\n",
    "data_1_zi_RT_sem = sem(np.array(data_1_zi_CO['RT']))\n",
    "\n",
    "\n",
    "data_2_zo_RT = np.mean(np.array(data_2_zo_CO['RT']))\n",
    "data_2_zi_RT = np.mean(np.array(data_2_zi_CO['RT']))\n",
    "\n",
    "data_2_zo_RT_sem = sem(np.array(data_2_zo_CO['RT']))\n",
    "data_2_zi_RT_sem = sem(np.array(data_2_zi_CO['RT']))\n",
    "\n",
    "\n",
    "data_3_zo_RT = np.mean(np.array(data_3_zo_CO['RT']))\n",
    "data_3_zi_RT = np.mean(np.array(data_3_zi_CO['RT']))\n",
    "\n",
    "data_3_zo_RT_sem = sem(np.array(data_3_zo_CO['RT']))\n",
    "data_3_zi_RT_sem =sem(np.array(data_3_zi_CO['RT']))\n",
    "\n",
    "\n",
    "data_4_zo_RT = np.mean(np.array(data_4_zo_CO['RT']))\n",
    "data_4_zi_RT = np.mean(np.array(data_4_zi_CO['RT']))\n",
    "\n",
    "data_4_zo_RT_sem = sem(np.array(data_4_zo_CO['RT']))\n",
    "data_4_zi_RT_sem = sem(np.array(data_4_zi_CO['RT']))\n",
    "\n",
    "data_5_zo_RT = np.mean(np.array(data_5_zo_CO['RT']))\n",
    "data_5_zi_RT = np.mean(np.array(data_5_zi_CO['RT']))\n",
    "\n",
    "data_5_zo_RT_sem = sem(np.array(data_5_zo_CO['RT']))\n",
    "data_5_zi_RT_sem = sem(np.array(data_5_zi_CO['RT']))\n",
    "\n",
    "\n",
    "data_6_zo_RT = np.mean(np.array(data_6_zo_CO['RT']))\n",
    "data_6_zi_RT = np.mean(np.array(data_6_zi_CO['RT']))\n",
    "\n",
    "data_6_zo_RT_sem = sem(np.array(data_6_zo_CO['RT']))\n",
    "data_6_zi_RT_sem = sem(np.array(data_6_zi_CO['RT']))\n",
    "\n",
    "\n",
    "data_7_zo_RT = np.mean(np.array(data_7_zo_CO['RT']))\n",
    "data_7_zi_RT = np.mean(np.array(data_7_zi_CO['RT']))\n",
    "\n",
    "data_7_zo_RT_sem = sem(np.array(data_7_zo_CO['RT']))\n",
    "data_7_zi_RT_sem = sem(np.array(data_7_zi_CO['RT']))\n",
    "\n"
   ]
  },
  {
   "cell_type": "code",
   "execution_count": null,
   "metadata": {},
   "outputs": [],
   "source": []
  },
  {
   "cell_type": "code",
   "execution_count": 188,
   "metadata": {},
   "outputs": [
    {
     "data": {
      "text/plain": [
       "(472, 448, 453, 1425, 534, 375, 696)"
      ]
     },
     "execution_count": 188,
     "metadata": {},
     "output_type": "execute_result"
    }
   ],
   "source": [
    "len(data_1_CO['accuracy']), len(data_2_CO['accuracy']), len(data_3_CO['accuracy']), len(data_4_CO['accuracy']), len(data_5_CO['accuracy']), len(data_6_CO['accuracy']), len(data_7_CO['accuracy'])\n",
    "\n"
   ]
  },
  {
   "cell_type": "code",
   "execution_count": 189,
   "metadata": {},
   "outputs": [
    {
     "data": {
      "image/png": "[encoded data removed]",
      "text/plain": [
       "<Figure size 576x720 with 1 Axes>"
      ]
     },
     "metadata": {
      "needs_background": "light"
     },
     "output_type": "display_data"
    }
   ],
   "source": [
    "fig, ax = plt.subplots(figsize=[8,10])\n",
    "ax.spines['right'].set_visible(False)\n",
    "ax.spines['top'].set_visible(False)\n",
    "for axis in ['bottom','left']:\n",
    "    ax.spines[axis].set_linewidth(2.3)\n",
    "    \n",
    "plt.xticks( fontsize='15')\n",
    "plt.yticks(fontsize=15) \n",
    "plt.ylabel('count', fontsize=18)\n",
    "plt.xlabel('rating', fontsize=18)\n",
    "\n",
    "plt.title('Correct Trials Only', fontsize=22)\n",
    "    \n",
    "plt.bar(['1', '2', '3', '4', '5', '6', '7'], [len(data_1_CO['accuracy']), len(data_2_CO['accuracy']), len(data_3_CO['accuracy']), len(data_4_CO['accuracy']), len(data_5_CO['accuracy']), len(data_6_CO['accuracy']), len(data_7_CO['accuracy'])\n",
    "])\n",
    "\n",
    "plt.show()"
   ]
  },
  {
   "cell_type": "code",
   "execution_count": 190,
   "metadata": {},
   "outputs": [
    {
     "data": {
      "image/png": "[encoded data removed]",
      "text/plain": [
       "<Figure size 576x720 with 1 Axes>"
      ]
     },
     "metadata": {
      "needs_background": "light"
     },
     "output_type": "display_data"
    }
   ],
   "source": [
    "fig, ax = plt.subplots(figsize=[8,10])\n",
    "ax.spines['right'].set_visible(False)\n",
    "ax.spines['top'].set_visible(False)\n",
    "for axis in ['bottom','left']:\n",
    "    ax.spines[axis].set_linewidth(2.3)\n",
    "    \n",
    "x = np.arange(7)\n",
    "\n",
    "RT_ = [np.mean(np.array(data_1_CO['RT'])), np.mean(np.array(data_2_CO['RT'])), np.mean(np.array(data_3_CO['RT'])), np.mean(np.array(data_4_CO['RT'])), np.mean(np.array(data_5_CO['RT'])), np.mean(np.array(data_6_CO['RT'])), np.mean(np.array(data_7_CO['RT']))]\n",
    "yerr_RT = [sem(np.array(data_1_CO['RT'])), sem(np.array(data_2_CO['RT'])), sem(np.array(data_3_CO['RT'])), sem(np.array(data_4_CO['RT'])), sem(np.array(data_5_CO['RT'])), sem(np.array(data_6_CO['RT'])), sem(np.array(data_7_CO['RT']))]\n",
    "\n",
    "width = 0.2\n",
    "  \n",
    "# plot data in grouped manner of bar type\n",
    "plt.bar(x, RT_, width, color='gray', yerr=yerr_RT, capsize=5)\n",
    "plt.xticks(x, [1, 2, 3, 4, 5, 6, 7], fontsize='15')\n",
    "plt.ylim(800)\n",
    "plt.yticks(fontsize=15) \n",
    "plt.xlabel(\"Subject Rating\", fontsize=18)\n",
    "plt.ylabel(\"RT\", fontsize=18)\n",
    "# plt.legend(loc=1, fontsize=15)\n",
    "plt.show()"
   ]
  },
  {
   "cell_type": "code",
   "execution_count": 191,
   "metadata": {},
   "outputs": [
    {
     "data": {
      "image/png": "[encoded data removed]",
      "text/plain": [
       "<Figure size 576x720 with 1 Axes>"
      ]
     },
     "metadata": {
      "needs_background": "light"
     },
     "output_type": "display_data"
    }
   ],
   "source": [
    "fig, ax = plt.subplots(figsize=[8,10])\n",
    "ax.spines['right'].set_visible(False)\n",
    "ax.spines['top'].set_visible(False)\n",
    "for axis in ['bottom','left']:\n",
    "    ax.spines[axis].set_linewidth(2.3)\n",
    "    \n",
    "x = np.arange(7)\n",
    "\n",
    "RT_zo =   [data_1_zo_RT, data_2_zo_RT, data_3_zo_RT, data_4_zo_RT, data_5_zo_RT, data_6_zo_RT, data_7_zo_RT]\n",
    "yerr_RT_zo =  [data_1_zo_RT_sem, data_2_zo_RT_sem, data_3_zo_RT_sem, data_4_zo_RT_sem, data_5_zo_RT_sem, data_6_zo_RT_sem, data_7_zo_RT_sem]\n",
    "\n",
    "RT_zi =   [data_1_zi_RT, data_2_zi_RT, data_3_zi_RT, data_4_zi_RT, data_5_zi_RT, data_6_zi_RT, data_7_zi_RT]\n",
    "yerr_RT_zi =  [data_1_zi_RT_sem, data_2_zi_RT_sem, data_3_zi_RT_sem, data_4_zi_RT_sem, data_5_zi_RT_sem, data_6_zi_RT_sem, data_7_zi_RT_sem]\n",
    "\n",
    "width = 0.2\n",
    "  \n",
    "# plot data in grouped manner of bar type\n",
    "plt.bar(x-0.2, RT_zo, width, color='plum', label='Large', yerr=yerr_RT_zo, capsize=5)\n",
    "plt.bar(x, RT_zi, width, color='purple', label='Small', yerr=yerr_RT_zi, capsize=5)\n",
    "plt.xticks(x, [1, 2, 3, 4, 5, 6, 7], fontsize='15')\n",
    "plt.ylim(600)\n",
    "plt.yticks(fontsize=15) \n",
    "plt.xlabel(\"Subject Rating\", fontsize=18)\n",
    "plt.ylabel(\"RT (ms)\", fontsize=18)\n",
    "plt.legend(loc=1, fontsize=15)\n",
    "plt.show()"
   ]
  },
  {
   "cell_type": "code",
   "execution_count": null,
   "metadata": {},
   "outputs": [],
   "source": []
  },
  {
   "cell_type": "code",
   "execution_count": 192,
   "metadata": {},
   "outputs": [],
   "source": [
    "data_1_objectScene1SemanticCongruency0_CO = data_1_CO.loc[data_1_CO['objSceneSemCong'] == 0]\n",
    "data_1_objectScene1SemanticCongruency1_CO = data_1_CO.loc[data_1_CO['objSceneSemCong'] == 1]\n",
    "\n",
    "data_2_objectScene1SemanticCongruency0_CO = data_2_CO.loc[data_2_CO['objSceneSemCong'] == 0]\n",
    "data_2_objectScene1SemanticCongruency1_CO = data_2_CO.loc[data_2_CO['objSceneSemCong'] == 1]\n",
    "\n",
    "data_3_objectScene1SemanticCongruency0_CO = data_3_CO.loc[data_3_CO['objSceneSemCong'] == 0]\n",
    "data_3_objectScene1SemanticCongruency1_CO = data_3_CO.loc[data_3_CO['objSceneSemCong'] == 1]\n",
    "\n",
    "data_4_objectScene1SemanticCongruency0_CO = data_4_CO.loc[data_4_CO['objSceneSemCong'] == 0]\n",
    "data_4_objectScene1SemanticCongruency1_CO = data_4_CO.loc[data_4_CO['objSceneSemCong'] == 1]\n",
    "\n",
    "data_5_objectScene1SemanticCongruency0_CO = data_5_CO.loc[data_5_CO['objSceneSemCong'] == 0]\n",
    "data_5_objectScene1SemanticCongruency1_CO = data_5_CO.loc[data_5_CO['objSceneSemCong'] == 1]\n",
    "\n",
    "data_6_objectScene1SemanticCongruency0_CO = data_6_CO.loc[data_6_CO['objSceneSemCong'] == 0]\n",
    "data_6_objectScene1SemanticCongruency1_CO = data_6_CO.loc[data_6_CO['objSceneSemCong'] == 1]\n",
    "\n",
    "data_7_objectScene1SemanticCongruency0_CO = data_7_CO.loc[data_7_CO['objSceneSemCong'] == 0]\n",
    "data_7_objectScene1SemanticCongruency1_CO = data_7_CO.loc[data_7_CO['objSceneSemCong'] == 1]\n"
   ]
  },
  {
   "cell_type": "code",
   "execution_count": 193,
   "metadata": {},
   "outputs": [],
   "source": [
    "data_1_objectScene1SemanticCongruency0_CO_RT = np.mean(np.array(data_1_objectScene1SemanticCongruency0_CO['RT']))\n",
    "data_1_objectScene1SemanticCongruency1_CO_RT = np.mean(np.array(data_1_objectScene1SemanticCongruency1_CO['RT']))\n",
    "\n",
    "data_1_objectScene1SemanticCongruency0_CO_RT_sem = sem(np.array(data_1_objectScene1SemanticCongruency0_CO['RT']))\n",
    "data_1_objectScene1SemanticCongruency1_CO_RT_sem = sem(np.array(data_1_objectScene1SemanticCongruency1_CO['RT']))\n",
    "\n",
    "\n",
    "data_2_objectScene1SemanticCongruency0_CO_RT = np.mean(np.array(data_2_objectScene1SemanticCongruency0_CO['RT']))\n",
    "data_2_objectScene1SemanticCongruency1_CO_RT = np.mean(np.array(data_2_objectScene1SemanticCongruency1_CO['RT']))\n",
    "\n",
    "data_2_objectScene1SemanticCongruency0_CO_RT_sem = sem(np.array(data_2_objectScene1SemanticCongruency0_CO['RT']))\n",
    "data_2_objectScene1SemanticCongruency1_CO_RT_sem = sem(np.array(data_2_objectScene1SemanticCongruency1_CO['RT']))\n",
    "\n",
    "\n",
    "data_3_objectScene1SemanticCongruency0_CO_RT = np.mean(np.array(data_3_objectScene1SemanticCongruency0_CO['RT']))\n",
    "data_3_objectScene1SemanticCongruency1_CO_RT = np.mean(np.array(data_3_objectScene1SemanticCongruency1_CO['RT']))\n",
    "\n",
    "data_3_objectScene1SemanticCongruency0_CO_RT_sem = sem(np.array(data_3_objectScene1SemanticCongruency0_CO['RT']))\n",
    "data_3_objectScene1SemanticCongruency1_CO_RT_sem =sem(np.array(data_3_objectScene1SemanticCongruency1_CO['RT']))\n",
    "\n",
    "\n",
    "data_4_objectScene1SemanticCongruency0_CO_RT = np.mean(np.array(data_4_objectScene1SemanticCongruency0_CO['RT']))\n",
    "data_4_objectScene1SemanticCongruency1_CO_RT = np.mean(np.array(data_4_objectScene1SemanticCongruency1_CO['RT']))\n",
    "\n",
    "data_4_objectScene1SemanticCongruency0_CO_RT_sem = sem(np.array(data_4_objectScene1SemanticCongruency0_CO['RT']))\n",
    "data_4_objectScene1SemanticCongruency1_CO_RT_sem = sem(np.array(data_4_objectScene1SemanticCongruency1_CO['RT']))\n",
    "\n",
    "\n",
    "data_5_objectScene1SemanticCongruency0_CO_RT = np.mean(np.array(data_5_objectScene1SemanticCongruency0_CO['RT']))\n",
    "data_5_objectScene1SemanticCongruency1_CO_RT = np.mean(np.array(data_5_objectScene1SemanticCongruency1_CO['RT']))\n",
    "\n",
    "data_5_objectScene1SemanticCongruency0_CO_RT_sem = sem(np.array(data_5_objectScene1SemanticCongruency0_CO['RT']))\n",
    "data_5_objectScene1SemanticCongruency1_CO_RT_sem = sem(np.array(data_5_objectScene1SemanticCongruency1_CO['RT']))\n",
    "\n",
    "\n",
    "data_6_objectScene1SemanticCongruency0_CO_RT = np.mean(np.array(data_6_objectScene1SemanticCongruency0_CO['RT']))\n",
    "data_6_objectScene1SemanticCongruency1_CO_RT = np.mean(np.array(data_6_objectScene1SemanticCongruency1_CO['RT']))\n",
    "\n",
    "data_6_objectScene1SemanticCongruency0_CO_RT_sem = sem(np.array(data_6_objectScene1SemanticCongruency0_CO['RT']))\n",
    "data_6_objectScene1SemanticCongruency1_CO_RT_sem = sem(np.array(data_6_objectScene1SemanticCongruency1_CO['RT']))\n",
    "\n",
    "\n",
    "data_7_objectScene1SemanticCongruency0_CO_RT = np.mean(np.array(data_7_objectScene1SemanticCongruency0_CO['RT']))\n",
    "data_7_objectScene1SemanticCongruency1_CO_RT = np.mean(np.array(data_7_objectScene1SemanticCongruency1_CO['RT']))\n",
    "\n",
    "data_7_objectScene1SemanticCongruency0_CO_RT_sem = sem(np.array(data_7_objectScene1SemanticCongruency0_CO['RT']))\n",
    "data_7_objectScene1SemanticCongruency1_CO_RT_sem = sem(np.array(data_7_objectScene1SemanticCongruency1_CO['RT']))"
   ]
  },
  {
   "cell_type": "code",
   "execution_count": 194,
   "metadata": {},
   "outputs": [
    {
     "data": {
      "image/png": "[encoded data removed]",
      "text/plain": [
       "<Figure size 576x720 with 1 Axes>"
      ]
     },
     "metadata": {
      "needs_background": "light"
     },
     "output_type": "display_data"
    }
   ],
   "source": [
    "fig, ax = plt.subplots(figsize=[8,10])\n",
    "ax.spines['right'].set_visible(False)\n",
    "ax.spines['top'].set_visible(False)\n",
    "for axis in ['bottom','left']:\n",
    "    ax.spines[axis].set_linewidth(2.3)\n",
    "    \n",
    "x = np.arange(7)\n",
    "\n",
    "RT_0 =   [data_1_objectScene1SemanticCongruency0_CO_RT, data_2_objectScene1SemanticCongruency0_CO_RT, data_3_objectScene1SemanticCongruency0_CO_RT, data_4_objectScene1SemanticCongruency0_CO_RT, data_5_objectScene1SemanticCongruency0_CO_RT, data_6_objectScene1SemanticCongruency0_CO_RT, data_7_objectScene1SemanticCongruency0_CO_RT]\n",
    "yerr_RT_0 =  [data_1_objectScene1SemanticCongruency0_CO_RT_sem, data_2_objectScene1SemanticCongruency0_CO_RT_sem, data_3_objectScene1SemanticCongruency0_CO_RT_sem, data_4_objectScene1SemanticCongruency0_CO_RT_sem, data_5_objectScene1SemanticCongruency0_CO_RT_sem, data_6_objectScene1SemanticCongruency0_CO_RT_sem, data_7_objectScene1SemanticCongruency0_CO_RT_sem]\n",
    "\n",
    "RT_1 =   [data_1_objectScene1SemanticCongruency1_CO_RT, data_2_objectScene1SemanticCongruency1_CO_RT, data_3_objectScene1SemanticCongruency1_CO_RT, data_4_objectScene1SemanticCongruency1_CO_RT, data_5_objectScene1SemanticCongruency1_CO_RT, data_6_objectScene1SemanticCongruency1_CO_RT, data_7_objectScene1SemanticCongruency1_CO_RT]\n",
    "yerr_RT_1 =  [data_1_objectScene1SemanticCongruency1_CO_RT_sem, data_2_objectScene1SemanticCongruency1_CO_RT_sem, data_3_objectScene1SemanticCongruency1_CO_RT_sem, data_4_objectScene1SemanticCongruency1_CO_RT_sem, data_5_objectScene1SemanticCongruency1_CO_RT_sem, data_6_objectScene1SemanticCongruency1_CO_RT_sem, data_7_objectScene1SemanticCongruency1_CO_RT_sem]\n",
    "\n",
    "width = 0.2\n",
    "  \n",
    "# plot data in grouped manner of bar type\n",
    "plt.bar(x-0.2, RT_0, width, color='plum', label='Object-Scene Semantic Incongruent', yerr=yerr_RT_0, capsize=5)\n",
    "plt.bar(x, RT_1, width, color='purple', label='Object-Scene Semantic Congruent', yerr=yerr_RT_1, capsize=5)\n",
    "plt.xticks(x, [1, 2, 3, 4, 5, 6, 7], fontsize='15')\n",
    "plt.ylim(1100)\n",
    "plt.yticks(fontsize=15) \n",
    "plt.xlabel(\"Subject Rating\", fontsize=18)\n",
    "plt.ylabel(\"RT (ms)\", fontsize=18)\n",
    "plt.legend(loc=1, fontsize=15)\n",
    "plt.show()"
   ]
  },
  {
   "cell_type": "code",
   "execution_count": null,
   "metadata": {},
   "outputs": [],
   "source": []
  },
  {
   "cell_type": "code",
   "execution_count": 195,
   "metadata": {},
   "outputs": [],
   "source": [
    "data_1_ms = len(data_1.loc[data_1['scale']=='misscaled']['accuracy'])\n",
    "data_1_s = len(data_1.loc[data_1['scale']=='scaled']['accuracy'])\n",
    "\n",
    "data_2_ms = len(data_2.loc[data_2['scale']=='misscaled']['accuracy'])\n",
    "data_2_s = len(data_2.loc[data_2['scale']=='scaled']['accuracy'])\n",
    "\n",
    "data_3_ms = len(data_3.loc[data_3['scale']=='misscaled']['accuracy'])\n",
    "data_3_s = len(data_3.loc[data_3['scale']=='scaled']['accuracy'])\n",
    "\n",
    "data_4_ms = len(data_4.loc[data_4['scale']=='misscaled']['accuracy'])\n",
    "data_4_s = len(data_4.loc[data_4['scale']=='scaled']['accuracy'])\n",
    "\n",
    "data_5_ms = len(data_5.loc[data_5['scale']=='misscaled']['accuracy'])\n",
    "data_5_s = len(data_5.loc[data_5['scale']=='scaled']['accuracy'])\n",
    "\n",
    "data_6_ms = len(data_6.loc[data_6['scale']=='misscaled']['accuracy'])\n",
    "data_6_s = len(data_6.loc[data_6['scale']=='scaled']['accuracy'])\n",
    "\n",
    "data_7_ms = len(data_7.loc[data_7['scale']=='misscaled']['accuracy'])\n",
    "data_7_s = len(data_7.loc[data_7['scale']=='scaled']['accuracy'])"
   ]
  },
  {
   "cell_type": "code",
   "execution_count": null,
   "metadata": {},
   "outputs": [],
   "source": []
  },
  {
   "cell_type": "code",
   "execution_count": 196,
   "metadata": {},
   "outputs": [
    {
     "data": {
      "image/png": "[encoded data removed]",
      "text/plain": [
       "<Figure size 576x720 with 1 Axes>"
      ]
     },
     "metadata": {
      "needs_background": "light"
     },
     "output_type": "display_data"
    }
   ],
   "source": [
    "fig, ax = plt.subplots(figsize=[8,10])\n",
    "ax.spines['right'].set_visible(False)\n",
    "ax.spines['top'].set_visible(False)\n",
    "for axis in ['bottom','left']:\n",
    "    ax.spines[axis].set_linewidth(2.3)\n",
    "    \n",
    "x = np.arange(7)\n",
    "\n",
    "rating_ms =   [data_1_ms, data_2_ms, data_3_ms, data_4_ms, data_5_ms, data_6_ms, data_7_ms]\n",
    "\n",
    "rating_s =   [data_1_s, data_2_s, data_3_s, data_4_s, data_5_s, data_6_s, data_7_s]\n",
    "\n",
    "width = 0.2\n",
    "  \n",
    "# plot data in grouped manner of bar type\n",
    "plt.bar(x-0.2, rating_ms, width, color='lightcoral', label='Misscaled')\n",
    "plt.bar(x, rating_s, width, color='brown', label='Scaled')\n",
    "plt.xticks(x, [1, 2, 3, 4, 5, 6, 7], fontsize='15')\n",
    "\n",
    "plt.yticks(fontsize=15) \n",
    "plt.xlabel(\"Subject Rating\", fontsize=18)\n",
    "plt.ylabel(\"Count\", fontsize=18)\n",
    "plt.legend(loc=1, fontsize=15)\n",
    "plt.show()"
   ]
  },
  {
   "cell_type": "code",
   "execution_count": 197,
   "metadata": {},
   "outputs": [],
   "source": [
    "data_1_sm = len(data_1.loc[data_1['presentationSize']=='small']['accuracy'])\n",
    "data_1_l = len(data_1.loc[data_1['presentationSize']=='large']['accuracy'])\n",
    "\n",
    "data_2_sm = len(data_2.loc[data_2['presentationSize']=='small']['accuracy'])\n",
    "data_2_l = len(data_2.loc[data_2['presentationSize']=='large']['accuracy'])\n",
    "\n",
    "data_3_sm = len(data_3.loc[data_3['presentationSize']=='small']['accuracy'])\n",
    "data_3_l = len(data_3.loc[data_3['presentationSize']=='large']['accuracy'])\n",
    "\n",
    "data_4_sm = len(data_4.loc[data_4['presentationSize']=='small']['accuracy'])\n",
    "data_4_l = len(data_4.loc[data_4['presentationSize']=='large']['accuracy'])\n",
    "\n",
    "data_5_sm = len(data_5.loc[data_5['presentationSize']=='small']['accuracy'])\n",
    "data_5_l = len(data_5.loc[data_5['presentationSize']=='large']['accuracy'])\n",
    "\n",
    "data_6_sm = len(data_6.loc[data_6['presentationSize']=='small']['accuracy'])\n",
    "data_6_l = len(data_6.loc[data_6['presentationSize']=='large']['accuracy'])\n",
    "\n",
    "data_7_sm = len(data_7.loc[data_7['presentationSize']=='small']['accuracy'])\n",
    "data_7_l = len(data_7.loc[data_7['presentationSize']=='large']['accuracy'])"
   ]
  },
  {
   "cell_type": "code",
   "execution_count": null,
   "metadata": {},
   "outputs": [],
   "source": []
  },
  {
   "cell_type": "code",
   "execution_count": 198,
   "metadata": {},
   "outputs": [
    {
     "data": {
      "image/png": "[encoded data removed]",
      "text/plain": [
       "<Figure size 576x720 with 1 Axes>"
      ]
     },
     "metadata": {
      "needs_background": "light"
     },
     "output_type": "display_data"
    }
   ],
   "source": [
    "fig, ax = plt.subplots(figsize=[8,10])\n",
    "ax.spines['right'].set_visible(False)\n",
    "ax.spines['top'].set_visible(False)\n",
    "for axis in ['bottom','left']:\n",
    "    ax.spines[axis].set_linewidth(2.3)\n",
    "    \n",
    "x = np.arange(7)\n",
    "\n",
    "rating_sm =   [data_1_sm, data_2_sm, data_3_sm, data_4_sm, data_5_sm, data_6_sm, data_7_sm]\n",
    "\n",
    "rating_l =   [data_1_l, data_2_l, data_3_l, data_4_l, data_5_l, data_6_s, data_7_l]\n",
    "\n",
    "width = 0.2\n",
    "  \n",
    "# plot data in grouped manner of bar type\n",
    "plt.bar(x-0.2, rating_sm, width, color='lightcoral', label='Small')\n",
    "plt.bar(x, rating_l, width, color='brown', label='Large')\n",
    "plt.xticks(x, [1, 2, 3, 4, 5, 6, 7], fontsize='15')\n",
    "\n",
    "plt.yticks(fontsize=15) \n",
    "plt.xlabel(\"Subject Rating\", fontsize=18)\n",
    "plt.ylabel(\"Count\", fontsize=18)\n",
    "plt.legend(loc=1, fontsize=15)\n",
    "plt.show()"
   ]
  },
  {
   "cell_type": "markdown",
   "metadata": {},
   "source": [
    "## Demographics"
   ]
  },
  {
   "cell_type": "code",
   "execution_count": 64,
   "metadata": {},
   "outputs": [
    {
     "data": {
      "text/plain": [
       "(34.285839416058394, 10.133048383919576)"
      ]
     },
     "execution_count": 64,
     "metadata": {},
     "output_type": "execute_result"
    }
   ],
   "source": [
    "ages = list(input_data['age'])\n",
    "\n",
    "cleaned_ages = []\n",
    "for age in ages:\n",
    "    if age > 100:\n",
    "        c_age = 2023-age\n",
    "        cleaned_ages.append(c_age)\n",
    "    else:\n",
    "        cleaned_ages.append(age)\n",
    "\n",
    "np.mean(np.array(cleaned_ages)), np.std(np.array(cleaned_ages))"
   ]
  },
  {
   "cell_type": "code",
   "execution_count": 65,
   "metadata": {},
   "outputs": [
    {
     "data": {
      "text/plain": [
       "array(['Man', 'Woman', 'man'], dtype=object)"
      ]
     },
     "execution_count": 65,
     "metadata": {},
     "output_type": "execute_result"
    }
   ],
   "source": [
    "genders = input_data.gender.unique()\n",
    "genders"
   ]
  },
  {
   "cell_type": "code",
   "execution_count": 66,
   "metadata": {},
   "outputs": [],
   "source": [
    "women_df = final_data.loc[final_data['gender']=='Woman']\n",
    "men_df = final_data.loc[final_data['gender']=='Man']\n"
   ]
  },
  {
   "cell_type": "code",
   "execution_count": 67,
   "metadata": {},
   "outputs": [
    {
     "data": {
      "text/plain": [
       "(96, 96)"
      ]
     },
     "execution_count": 67,
     "metadata": {},
     "output_type": "execute_result"
    }
   ],
   "source": [
    "len(women_df.subjID.unique()), len(men_df.subjID.unique())"
   ]
  },
  {
   "cell_type": "markdown",
   "metadata": {},
   "source": [
    "## Time Spent"
   ]
  },
  {
   "cell_type": "code",
   "execution_count": 68,
   "metadata": {},
   "outputs": [],
   "source": [
    "subjs = final_data.subjID.unique()\n",
    "expTimes = []\n",
    "for subj in subjs:\n",
    "    subj_df = final_data.loc[final_data['subjID']==subj]\n",
    "    expTime = subj_df.experimentTime.unique()[0]\n",
    "    expTimes.append(expTime)"
   ]
  },
  {
   "cell_type": "code",
   "execution_count": 69,
   "metadata": {},
   "outputs": [
    {
     "data": {
      "text/plain": [
       "(5.599206423611111, 2.0249286387337073)"
      ]
     },
     "execution_count": 69,
     "metadata": {},
     "output_type": "execute_result"
    }
   ],
   "source": [
    "np.mean(np.array(expTimes))/60000, np.std(np.array(expTimes))/60000\n",
    "# in minutes"
   ]
  },
  {
   "cell_type": "code",
   "execution_count": null,
   "metadata": {},
   "outputs": [],
   "source": []
  }
 ],
 "metadata": {
  "kernelspec": {
   "display_name": "Python 3",
   "language": "python",
   "name": "python3"
  },
  "language_info": {
   "codemirror_mode": {
    "name": "ipython",
    "version": 3
   },
   "file_extension": ".py",
   "mimetype": "text/x-python",
   "name": "python",
   "nbconvert_exporter": "python",
   "pygments_lexer": "ipython3",
   "version": "3.7.4"
  }
 },
 "nbformat": 4,
 "nbformat_minor": 4
}
