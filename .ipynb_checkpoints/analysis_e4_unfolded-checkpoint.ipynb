{
 "cells": [
  {
   "cell_type": "code",
   "execution_count": 2,
   "metadata": {},
   "outputs": [],
   "source": [
    "import numpy as np\n",
    "import os\n",
    "import pandas as pd\n",
    "import math\n",
    "import matplotlib.pyplot as plt\n",
    "from scipy.stats import sem\n"
   ]
  },
  {
   "cell_type": "code",
   "execution_count": null,
   "metadata": {},
   "outputs": [],
   "source": []
  },
  {
   "cell_type": "markdown",
   "metadata": {},
   "source": [
    "### Exclusion Criteria\n",
    " - Accuracy: 70 % (17/24 correct)\n",
    " - RT: Exclude trial if < 250 ms or > 2s\n",
    " - Remove participant if more than 10% of the data is removed (?) \n",
    "    "
   ]
  },
  {
   "cell_type": "markdown",
   "metadata": {},
   "source": [
    "### Pilot Analysis Plots\n",
    "\n",
    "1. Overall Accuracy\n",
    "    - accuracy by scene category\n",
    "    - accuracy by zoom \n",
    "    - accuracy by zoom x match\n",
    "2. RT Distribution\n",
    "    - RT by scene category\n",
    "    - RT by zoom \n",
    "    - RT by zoom x match\n",
    "3. 2x3 ANOVA\n",
    " "
   ]
  },
  {
   "cell_type": "code",
   "execution_count": 3,
   "metadata": {},
   "outputs": [],
   "source": [
    "def combineCSVs(datafolder):\n",
    "    \"\"\"\n",
    "    Combine all participant data into one pandas df\n",
    "    OR \n",
    "    Create df for single participant file \n",
    "    \"\"\"\n",
    "    \n",
    "    exclude = []\n",
    "    \n",
    "    #checks if path is a file\n",
    "    isFile = os.path.isfile(datafolder)\n",
    "\n",
    "    #checks if path is a directory\n",
    "    \n",
    "    isDirectory = os.path.isdir(datafolder)\n",
    "    \n",
    "    if isDirectory == True:\n",
    "        data = []\n",
    "        for filename in os.listdir(datafolder):\n",
    "            if 'csv' in filename:\n",
    "                path = datafolder + \"/\" + filename\n",
    "                df = pd.read_csv(path, index_col=None, header=0)\n",
    "                \n",
    "                # do NOT include subject IDs that have been flagged \n",
    "                subjID = df.subjID.unique()[0]\n",
    "                if subjID not in exclude:\n",
    "                    data.append(df)\n",
    "\n",
    "                \n",
    "        input_frame = pd.concat(data, axis=0, ignore_index=True)\n",
    "        \n",
    "    if isFile == True:\n",
    "        if 'csv' in datafolder:\n",
    "            input_frame = pd.read_csv(datafolder, index_col=None, header=0)\n",
    "    \n",
    "    print('Number of participants before cleaning: ', len(input_frame.subjID.unique()))\n",
    "\n",
    " \n",
    "    return input_frame"
   ]
  },
  {
   "cell_type": "code",
   "execution_count": 4,
   "metadata": {},
   "outputs": [],
   "source": [
    "# data_path = '/Users/prachi/Documents/object_scene_scaling_data/pilot2'\n",
    "\n",
    "data_path = '/Users/prachimahableshwarkar/Documents/GW/FacialAge/FacialAge_MTurk/OSS_MTurk/data'"
   ]
  },
  {
   "cell_type": "code",
   "execution_count": 5,
   "metadata": {},
   "outputs": [
    {
     "name": "stdout",
     "output_type": "stream",
     "text": [
      "Number of participants before cleaning:  165\n"
     ]
    }
   ],
   "source": [
    "input_data = combineCSVs(data_path)"
   ]
  },
  {
   "cell_type": "code",
   "execution_count": 6,
   "metadata": {},
   "outputs": [],
   "source": [
    "# input_data"
   ]
  },
  {
   "cell_type": "code",
   "execution_count": 7,
   "metadata": {},
   "outputs": [],
   "source": [
    "num_trials = 16"
   ]
  },
  {
   "cell_type": "code",
   "execution_count": 8,
   "metadata": {},
   "outputs": [],
   "source": [
    "def cleanbyPracticeTries(df, num_allowed_tries):\n",
    "    all_subjIDs = df.subjID.unique()\n",
    "    \n",
    "    remove = []\n",
    "    df2_list = []\n",
    "    prac_too_many_dist = []\n",
    "    for subj in all_subjIDs:\n",
    "        count = 0\n",
    "        subj_df = df.loc[df['subjID'] == subj]\n",
    "        cleaned_subj_df = subj_df.copy(deep=True) # prevent setting with copy warning \n",
    "        \n",
    "        subj_num_practice_tries = cleaned_subj_df.pracTries.unique()[0]\n",
    "        \n",
    "        if subj_num_practice_tries > num_allowed_tries:\n",
    "            prac_too_many_dist.append(subj_num_practice_tries)\n",
    "            remove.append(subj)\n",
    "        else:  \n",
    "            df2_list.append(cleaned_subj_df)\n",
    "    \n",
    "    df2 = pd.concat(df2_list)\n",
    "            \n",
    "    print('Number of participants with more than ' + str(num_allowed_tries) + ' practice tries:', len(remove))\n",
    "    \n",
    "    return df2, prac_too_many_dist\n",
    "    "
   ]
  },
  {
   "cell_type": "code",
   "execution_count": 9,
   "metadata": {},
   "outputs": [
    {
     "name": "stdout",
     "output_type": "stream",
     "text": [
      "Number of participants with more than 3 practice tries: 44\n"
     ]
    }
   ],
   "source": [
    "pracTries_cleaned_data, prac_dist = cleanbyPracticeTries(input_data, 3)"
   ]
  },
  {
   "cell_type": "code",
   "execution_count": 10,
   "metadata": {},
   "outputs": [
    {
     "data": {
      "text/plain": [
       "(22, 44)"
      ]
     },
     "execution_count": 10,
     "metadata": {},
     "output_type": "execute_result"
    }
   ],
   "source": [
    "x = [d for d in prac_dist if d > 5]\n",
    "\n",
    "len(x), len(prac_dist)"
   ]
  },
  {
   "cell_type": "code",
   "execution_count": 11,
   "metadata": {},
   "outputs": [
    {
     "data": {
      "image/png": "[encoded data removed]",
      "text/plain": [
       "<Figure size 432x288 with 1 Axes>"
      ]
     },
     "metadata": {
      "needs_background": "light"
     },
     "output_type": "display_data"
    }
   ],
   "source": [
    "plt.hist(prac_dist)\n",
    "plt.show()"
   ]
  },
  {
   "cell_type": "code",
   "execution_count": 12,
   "metadata": {},
   "outputs": [
    {
     "data": {
      "text/plain": [
       "121"
      ]
     },
     "execution_count": 12,
     "metadata": {},
     "output_type": "execute_result"
    }
   ],
   "source": [
    "len(pracTries_cleaned_data.subjID.unique())"
   ]
  },
  {
   "cell_type": "code",
   "execution_count": 13,
   "metadata": {},
   "outputs": [],
   "source": [
    "def Accuracy_Cleaning(df, accuracy_threshold, num_trials):\n",
    "    \"\"\"    \n",
    "    Remove participants with overall accuracy below the accuracy threshold (e.g. 0.7)\n",
    "    \n",
    "    Returns:\n",
    "        data of participants that passed the accuracy threshold \n",
    "        list of the number of correct trials each participant got\n",
    "    \"\"\"\n",
    "    #List unique values in the df['subjID'] column\n",
    "    all_subjIDs = df.subjID.unique()\n",
    "    \n",
    "    remove = []\n",
    "    df2_list = []\n",
    "    list_trials_correct = []\n",
    "    # number of participants where exclusion is because all responses were 'none'\n",
    "    c = 0\n",
    "    \n",
    "    for subj in all_subjIDs:\n",
    "        keypresses = []\n",
    "\n",
    "        subj_df = df.loc[df['subjID'] == subj]\n",
    "        cleaned_subj_df = subj_df.copy(deep=True) # prevent setting with copy warning \n",
    "        \n",
    "        subj_num_correct_trials = 0\n",
    "        \n",
    "        acc_column = np.array(list(subj_df['accuracy']))\n",
    "        sum_acc = np.sum(acc_column)\n",
    "        \n",
    "        \n",
    "        for idx, row in subj_df.iterrows():\n",
    "            trial_acc = row['accuracy']\n",
    "            if trial_acc == 1:\n",
    "                subj_num_correct_trials += 1\n",
    "            else:\n",
    "                keypresses.append(row['keyPress'])\n",
    "        \n",
    "        subj_acc = sum_acc/num_trials\n",
    "#         print(acc_column)\n",
    "#         print(subj, sum_acc, subj_acc)\n",
    "                \n",
    "        # minimum number of trials correct the participant must have to be included\n",
    "        if subj_acc < accuracy_threshold:\n",
    "#             print(subj_acc, subj)\n",
    "            remove.append(subj)\n",
    "#             print(len([x for x in keypresses if x == 'none']))\n",
    "            if len([x for x in keypresses if x == 'none']) >= 4:\n",
    "                c += 1\n",
    "            \n",
    "#         else:\n",
    "#             print(subj_acc)\n",
    "        \n",
    "        list_trials_correct.append(subj_num_correct_trials)\n",
    "        \n",
    "        df2_list.append(cleaned_subj_df)\n",
    "    \n",
    "    df2 = pd.concat(df2_list)\n",
    "    \n",
    "    print(\"Number of Participants with accuracy below 70%: \", len(remove))\n",
    "    \n",
    "    for index, row in df2.iterrows():\n",
    "        if row['subjID'] in remove:\n",
    "            df2.drop(index, inplace=True)\n",
    "                \n",
    "    print('Number of participants that did not respond for 4 or more trials:', c)\n",
    "    \n",
    "    print('Number of participants left: ', len(df2.subjID.unique()))\n",
    "                \n",
    "    return df2, list_trials_correct, keypresses"
   ]
  },
  {
   "cell_type": "code",
   "execution_count": null,
   "metadata": {},
   "outputs": [],
   "source": []
  },
  {
   "cell_type": "code",
   "execution_count": 14,
   "metadata": {},
   "outputs": [
    {
     "name": "stdout",
     "output_type": "stream",
     "text": [
      "Number of Participants with accuracy below 70%:  58\n",
      "Number of participants that did not respond for 4 or more trials: 0\n",
      "Number of participants left:  63\n"
     ]
    }
   ],
   "source": [
    "Accuracy_cleaned_data, correct_trials_distribution, keypresses = Accuracy_Cleaning(pracTries_cleaned_data, 0.7, num_trials)\n"
   ]
  },
  {
   "cell_type": "code",
   "execution_count": 15,
   "metadata": {},
   "outputs": [],
   "source": [
    "def RT_Cleaning(df, outlier_range, num_trials):\n",
    "    \"\"\"\n",
    "    Remove trials where trial RT is outside of the defined outlier range \n",
    "    \n",
    "    Returns:\n",
    "        dataframe with outlier RT trials removed\n",
    "        list of all RTs \n",
    "    \"\"\"\n",
    "    #List unique values in the df['subjID'] column\n",
    "    all_subjIDs = df.subjID.unique()\n",
    "    print(len(all_subjIDs))\n",
    "    \n",
    "    remove = []\n",
    "    df2_list = []\n",
    "    total_RT_outliers = 0\n",
    "    total = 0\n",
    "    list_trialRT = []\n",
    "    for subj in all_subjIDs:\n",
    "        count = 0\n",
    "        subj_df = df.loc[df['subjID'] == subj]\n",
    "        cleaned_subj_df = subj_df.copy(deep=True) # prevent setting with copy warning \n",
    "\n",
    "        for idx, row in subj_df.iterrows():\n",
    "            total += 1\n",
    "            RT = row[\"RT\"]\n",
    "            list_trialRT.append(RT)\n",
    "            if RT < outlier_range[0]: # outlier\n",
    "                cleaned_subj_df.drop([idx], inplace=True)\n",
    "                count += 1\n",
    "                total_RT_outliers += 1\n",
    "            if RT > outlier_range[1]:\n",
    "                cleaned_subj_df.drop([idx], inplace=True)\n",
    "                count += 1\n",
    "                total_RT_outliers += 1\n",
    "        \n",
    "        df2_list.append(cleaned_subj_df)\n",
    "    \n",
    "    df2 = pd.concat(df2_list)\n",
    "    print(len(df2.subjID.unique()))\n",
    "                \n",
    "    return df2, list_trialRT"
   ]
  },
  {
   "cell_type": "code",
   "execution_count": 16,
   "metadata": {},
   "outputs": [
    {
     "name": "stdout",
     "output_type": "stream",
     "text": [
      "63\n",
      "62\n"
     ]
    }
   ],
   "source": [
    "RT_cleaned_data, trialRTs_distribution = RT_Cleaning(Accuracy_cleaned_data, [250, 2000], num_trials)\n"
   ]
  },
  {
   "cell_type": "code",
   "execution_count": 17,
   "metadata": {},
   "outputs": [
    {
     "data": {
      "image/png": "[encoded data removed]",
      "text/plain": [
       "<Figure size 432x288 with 1 Axes>"
      ]
     },
     "metadata": {
      "needs_background": "light"
     },
     "output_type": "display_data"
    }
   ],
   "source": [
    "plt.hist(trialRTs_distribution)\n",
    "plt.show()"
   ]
  },
  {
   "cell_type": "code",
   "execution_count": 18,
   "metadata": {},
   "outputs": [],
   "source": [
    "all_subjIDs = RT_cleaned_data.subjID.unique()\n",
    "dist = []\n",
    "for subj in all_subjIDs:\n",
    "    count = 0\n",
    "    subj_df = RT_cleaned_data.loc[RT_cleaned_data['subjID'] == subj]\n",
    "    dist.append(len(subj_df))\n",
    "#     print(len(subj_df))"
   ]
  },
  {
   "cell_type": "code",
   "execution_count": 19,
   "metadata": {},
   "outputs": [
    {
     "data": {
      "text/plain": [
       "46"
      ]
     },
     "execution_count": 19,
     "metadata": {},
     "output_type": "execute_result"
    }
   ],
   "source": [
    "len([d for d in dist if d >11])"
   ]
  },
  {
   "cell_type": "code",
   "execution_count": 20,
   "metadata": {},
   "outputs": [],
   "source": [
    "# pracTries_cleaned_data.subjID.unique(), RT_cleaned_data.subjID.unique()"
   ]
  },
  {
   "cell_type": "code",
   "execution_count": 21,
   "metadata": {},
   "outputs": [],
   "source": [
    "def finalTrialCountCheck(df, num_trials, min_trials):\n",
    "    \"\"\"\n",
    "    If more then 10% of a participants data is missing, remove the participant\n",
    "    \"\"\"\n",
    "    #List unique values in the df['subjID'] column\n",
    "    all_subjIDs = df.subjID.unique()\n",
    "    \n",
    "    remove = []\n",
    "    for subj in all_subjIDs:\n",
    "        subj_df = df.loc[df['subjID'] == subj]\n",
    "        count_trials = len(subj_df.index)\n",
    "        if count_trials < min_trials:\n",
    "            remove.append(subj)\n",
    "            \n",
    "#         threshold_trials_remaining = num_trials - math.floor(num_trials * 0.1)\n",
    "\n",
    "#         if count_trials <= threshold_trials_remaining:\n",
    "#             remove.append(subj)\n",
    "            \n",
    "    print(\"Number of Participants with >= 10% trials removed: \", len(remove))\n",
    "            \n",
    "    for subj in remove:\n",
    "        df.drop(df[df['subjID'] == subj].index, inplace = True) \n",
    "                    \n",
    "    print(\"Number of participants left: \",len(df.subjID.unique()))\n",
    "    return df"
   ]
  },
  {
   "cell_type": "code",
   "execution_count": 22,
   "metadata": {},
   "outputs": [
    {
     "name": "stdout",
     "output_type": "stream",
     "text": [
      "Number of Participants with >= 10% trials removed:  16\n",
      "Number of participants left:  46\n"
     ]
    }
   ],
   "source": [
    "finalTrialCount_data = finalTrialCountCheck(RT_cleaned_data, num_trials, 12)"
   ]
  },
  {
   "cell_type": "code",
   "execution_count": 23,
   "metadata": {},
   "outputs": [
    {
     "data": {
      "text/plain": [
       "46"
      ]
     },
     "execution_count": 23,
     "metadata": {},
     "output_type": "execute_result"
    }
   ],
   "source": [
    "raw_final_data = finalTrialCount_data.copy(deep=True)\n",
    "len(raw_final_data.subjID.unique())"
   ]
  },
  {
   "cell_type": "code",
   "execution_count": 24,
   "metadata": {},
   "outputs": [],
   "source": [
    "def zscored_outcomes(df):\n",
    "    '''\n",
    "    z-score depth estimates and RTs:\n",
    "        for each subj calculate their avg and std \n",
    "        zscored = (estim - subj avg)/subj std\n",
    "    '''\n",
    "    #List unique values in the df['subjID'] column\n",
    "    all_subjIDs = df.subjID.unique()\n",
    "    \n",
    "    df2_list = []\n",
    "    for subj in all_subjIDs:\n",
    "        subj_df = df.loc[df['subjID'] == subj]\n",
    "        final_subj_df = subj_df.copy(deep=True) # prevent setting with copy warning \n",
    "        # Z-Score RT\n",
    "        average_RT = subj_df[\"RT\"].mean()\n",
    "        std_RT = subj_df[\"RT\"].std()\n",
    "        subj_RTs = np.array(list(subj_df[\"RT\"]))\n",
    "        zscored_subj_RTs = (subj_RTs - average_RT)/std_RT\n",
    "        final_subj_df.insert(4, 'Z-Scored RT',zscored_subj_RTs)\n",
    "        df2_list.append(final_subj_df)\n",
    "    \n",
    "    df2 = pd.concat(df2_list)    \n",
    "\n",
    "    return df2"
   ]
  },
  {
   "cell_type": "code",
   "execution_count": 25,
   "metadata": {},
   "outputs": [],
   "source": [
    "zs_final_data = zscored_outcomes(raw_final_data)"
   ]
  },
  {
   "cell_type": "code",
   "execution_count": 26,
   "metadata": {},
   "outputs": [],
   "source": [
    "final_data = zs_final_data.copy(deep=True)"
   ]
  },
  {
   "cell_type": "code",
   "execution_count": null,
   "metadata": {},
   "outputs": [],
   "source": []
  },
  {
   "cell_type": "code",
   "execution_count": 27,
   "metadata": {},
   "outputs": [],
   "source": [
    "def get_misscaled_trials(df):\n",
    "    \"\"\"\n",
    "    args:\n",
    "        df  \n",
    "    returns:\n",
    "        array of misscaled/scaled\n",
    "    \"\"\"\n",
    "    misscaled_col = []\n",
    "    \n",
    "    for idx, row in df.iterrows():\n",
    "        if row['scene1ZoomName'] == 'zo' and row['objectSize']=='small':\n",
    "            misscaled_col.append('misscaled')\n",
    "\n",
    "        if row['scene1ZoomName'] == 'zi' and row['objectSize']=='large':\n",
    "            misscaled_col.append('misscaled')\n",
    "            \n",
    "        if row['scene1ZoomName'] == 'zo' and row['objectSize']=='large':\n",
    "            misscaled_col.append('scaled')\n",
    "\n",
    "        if row['scene1ZoomName'] == 'zi' and row['objectSize']=='small':\n",
    "            misscaled_col.append('scaled')\n",
    "            \n",
    "            \n",
    "            \n",
    "    \n",
    "    return np.array(misscaled_col)"
   ]
  },
  {
   "cell_type": "code",
   "execution_count": 28,
   "metadata": {},
   "outputs": [],
   "source": [
    "misscaled_column = get_misscaled_trials(final_data)\n",
    "\n",
    "# # add misscaled column to dataframe \n",
    "final_data.insert(14, \"misscaled\", misscaled_column)\n"
   ]
  },
  {
   "cell_type": "code",
   "execution_count": 29,
   "metadata": {},
   "outputs": [],
   "source": [
    "final_data.to_csv('e4v1_b3b4_unfolded.csv', index=False)"
   ]
  },
  {
   "cell_type": "code",
   "execution_count": 437,
   "metadata": {},
   "outputs": [
    {
     "data": {
      "text/plain": [
       "46"
      ]
     },
     "execution_count": 437,
     "metadata": {},
     "output_type": "execute_result"
    }
   ],
   "source": [
    "len(final_data.subjID.unique())"
   ]
  },
  {
   "cell_type": "markdown",
   "metadata": {},
   "source": [
    "## Accuracy\n",
    "\n",
    "\n",
    "add error bars\n",
    "- overall accuracy per subj in each condition "
   ]
  },
  {
   "cell_type": "code",
   "execution_count": null,
   "metadata": {},
   "outputs": [],
   "source": []
  },
  {
   "cell_type": "code",
   "execution_count": 30,
   "metadata": {},
   "outputs": [
    {
     "data": {
      "text/plain": [
       "(0.8951841359773371, 0.889196675900277)"
      ]
     },
     "execution_count": 30,
     "metadata": {},
     "output_type": "execute_result"
    }
   ],
   "source": [
    "# data split by object-scene size congruency aka scene zoom \n",
    "\n",
    "zo_df = final_data.loc[final_data['scene1ZoomName']=='zo']\n",
    "zi_df = final_data.loc[final_data['scene1ZoomName']=='zi']\n",
    "\n",
    "zo_acc = np.sum(np.array(zo_df['accuracy']))/len(np.array(zo_df['accuracy']))\n",
    "zi_acc = np.sum(np.array(zi_df['accuracy']))/len(np.array(zi_df['accuracy']))\n",
    "\n",
    "zo_acc, zi_acc"
   ]
  },
  {
   "cell_type": "code",
   "execution_count": 31,
   "metadata": {},
   "outputs": [
    {
     "data": {
      "text/plain": [
       "(0.8845070422535212, 0.8997214484679665)"
      ]
     },
     "execution_count": 31,
     "metadata": {},
     "output_type": "execute_result"
    }
   ],
   "source": [
    "misscaled_zo = zo_df.loc[zo_df['misscaled'] =='misscaled'] \n",
    "misscaled_zi = zi_df.loc[zi_df['misscaled'] =='misscaled']\n",
    "misscaled = misscaled_zo.append(misscaled_zi)\n",
    "\n",
    "scaled_zo = zo_df.loc[zo_df['misscaled'] =='scaled'] \n",
    "scaled_zi = zi_df.loc[zi_df['misscaled'] =='scaled']\n",
    "scaled = scaled_zo.append(scaled_zi)\n",
    "\n",
    "misscaled_acc = np.sum(np.array(misscaled['accuracy']))/len(np.array(misscaled['accuracy']))\n",
    "scaled_acc = np.sum(np.array(scaled['accuracy']))/len(np.array(scaled['accuracy']))\n",
    "\n",
    "misscaled_acc, scaled_acc"
   ]
  },
  {
   "cell_type": "code",
   "execution_count": 32,
   "metadata": {},
   "outputs": [],
   "source": [
    "# object scene semantic congruency \n",
    "# var = objectScene1SemanticCongruency\n",
    "# acc = np.sum(np.array(misscaled_zo_objSemCong['accuracy']))/len(np.array(misscaled_zo_objSemCong['accuracy']))\n",
    "\n",
    "misscaled_zo_objSemCong = misscaled_zo.loc[misscaled_zo[\"objectScene1SemanticCongruency\"]==1]\n",
    "misscaled_zo_objSemIncong = misscaled_zo.loc[misscaled_zo[\"objectScene1SemanticCongruency\"]==0]\n",
    "\n",
    "misscaled_zo_objSemCong_acc = np.sum(np.array(misscaled_zo_objSemCong['accuracy']))/len(np.array(misscaled_zo_objSemCong['accuracy']))\n",
    "misscaled_zo_objSemIncong_acc =np.sum(np.array(misscaled_zo_objSemIncong['accuracy']))/len(np.array(misscaled_zo_objSemIncong['accuracy']))\n",
    "\n",
    "misscaled_zo_objSemCong_sem = np.std(np.array(misscaled_zo_objSemCong['accuracy']))/np.sqrt(len(np.array(misscaled_zo_objSemCong['accuracy'])))\n",
    "misscaled_zo_objSemIncong_sem = np.std(np.array(misscaled_zo_objSemIncong['accuracy']))/np.sqrt(len(np.array(misscaled_zo_objSemIncong['accuracy'])))\n",
    "\n",
    "\n",
    "misscaled_zi_objSemCong = misscaled_zi.loc[misscaled_zi[\"objectScene1SemanticCongruency\"]==1]\n",
    "misscaled_zi_objSemIncong = misscaled_zi.loc[misscaled_zi[\"objectScene1SemanticCongruency\"]==0]\n",
    "\n",
    "misscaled_zi_objSemCong_acc = np.sum(np.array(misscaled_zi_objSemCong['accuracy']))/len(np.array(misscaled_zi_objSemCong['accuracy']))\n",
    "misscaled_zi_objSemIncong_acc = np.sum(np.array(misscaled_zi_objSemIncong['accuracy']))/len(np.array(misscaled_zi_objSemIncong['accuracy']))\n",
    "\n",
    "misscaled_zi_objSemCong_sem = np.std(np.array(misscaled_zi_objSemCong['accuracy']))/np.sqrt(len(np.array(misscaled_zi_objSemCong['accuracy'])))\n",
    "misscaled_zi_objSemIncong_sem = np.std(np.array(misscaled_zi_objSemIncong['accuracy']))/np.sqrt(len(np.array(misscaled_zi_objSemIncong['accuracy'])))\n",
    "\n",
    "# scaled\n",
    "scaled_zo_objSemCong = scaled_zo.loc[scaled_zo[\"objectScene1SemanticCongruency\"]==1]\n",
    "scaled_zo_objSemIncong = scaled_zo.loc[scaled_zo[\"objectScene1SemanticCongruency\"]==0]\n",
    "\n",
    "scaled_zo_objSemCong_acc = np.sum(np.array(scaled_zo_objSemCong['accuracy']))/len(np.array(scaled_zo_objSemCong['accuracy']))\n",
    "scaled_zo_objSemIncong_acc =np.sum(np.array(scaled_zo_objSemIncong['accuracy']))/len(np.array(scaled_zo_objSemIncong['accuracy']))\n",
    "\n",
    "scaled_zo_objSemCong_sem = np.std(np.array(scaled_zo_objSemCong['accuracy']))/np.sqrt(len(np.array(scaled_zo_objSemCong['accuracy'])))\n",
    "scaled_zo_objSemIncong_sem = np.std(np.array(scaled_zo_objSemIncong['accuracy']))/np.sqrt(len(np.array(scaled_zo_objSemIncong['accuracy'])))\n",
    "\n",
    "\n",
    "scaled_zi_objSemCong = scaled_zi.loc[scaled_zi[\"objectScene1SemanticCongruency\"]==1]\n",
    "scaled_zi_objSemIncong = scaled_zi.loc[scaled_zi[\"objectScene1SemanticCongruency\"]==0]\n",
    "\n",
    "scaled_zi_objSemCong_acc = np.sum(np.array(scaled_zi_objSemCong['accuracy']))/len(np.array(scaled_zi_objSemCong['accuracy']))\n",
    "scaled_zi_objSemIncong_acc = np.sum(np.array(scaled_zi_objSemIncong['accuracy']))/len(np.array(scaled_zi_objSemIncong['accuracy']))\n",
    "\n",
    "scaled_zi_objSemCong_sem = np.std(np.array(scaled_zi_objSemCong['accuracy']))/np.sqrt(len(np.array(scaled_zi_objSemCong['accuracy'])))\n",
    "scaled_zi_objSemIncong_sem = np.std(np.array(scaled_zi_objSemIncong['accuracy']))/np.sqrt(len(np.array(scaled_zi_objSemIncong['accuracy'])))"
   ]
  },
  {
   "cell_type": "code",
   "execution_count": null,
   "metadata": {},
   "outputs": [],
   "source": []
  },
  {
   "cell_type": "code",
   "execution_count": null,
   "metadata": {},
   "outputs": [],
   "source": []
  },
  {
   "cell_type": "code",
   "execution_count": 33,
   "metadata": {},
   "outputs": [
    {
     "data": {
      "image/png": "[encoded data removed]",
      "text/plain": [
       "<Figure size 576x720 with 1 Axes>"
      ]
     },
     "metadata": {
      "needs_background": "light"
     },
     "output_type": "display_data"
    }
   ],
   "source": [
    "fig, ax = plt.subplots(figsize=[8,10])\n",
    "ax.spines['right'].set_visible(False)\n",
    "ax.spines['top'].set_visible(False)\n",
    "for axis in ['bottom','left']:\n",
    "    ax.spines[axis].set_linewidth(2.3)\n",
    "    \n",
    "x = np.arange(4)\n",
    "#                                          Misscaled                                               Scaled\n",
    "#                                zo                          zi                         zo                       zi\n",
    "Acc_objSemCong =   [misscaled_zo_objSemCong_acc, misscaled_zi_objSemCong_acc, scaled_zo_objSemCong_acc, scaled_zi_objSemCong_acc]\n",
    "yerr_objSemCong =  [misscaled_zo_objSemCong_sem, misscaled_zi_objSemCong_sem, scaled_zo_objSemCong_sem, scaled_zi_objSemCong_sem]\n",
    "\n",
    "Acc_objSemIncong =   [misscaled_zo_objSemIncong_acc, misscaled_zi_objSemIncong_acc, scaled_zo_objSemIncong_acc, scaled_zi_objSemIncong_acc]\n",
    "yerr_objSemIncong =  [misscaled_zo_objSemIncong_sem, misscaled_zi_objSemIncong_sem, scaled_zo_objSemIncong_sem, scaled_zi_objSemIncong_sem]\n",
    "\n",
    "width = 0.2\n",
    "  \n",
    "# plot data in grouped manner of bar type\n",
    "plt.bar(x-0.2, Acc_objSemCong, width, color='lightgreen', label='Object-Scene1 Semantic Congruency', yerr=yerr_objSemCong, capsize=5)\n",
    "plt.bar(x, Acc_objSemIncong, width, color='darkgreen', label='Object-Scene1 Semantic Incongruency', yerr=yerr_objSemIncong, capsize=5)\n",
    "plt.xticks(x, ['Misscaled zo', 'Misscaled zi', 'Canonical zo', 'Canonical zi'], fontsize='15')\n",
    "plt.ylim(0.50)\n",
    "plt.yticks(fontsize=15) \n",
    "plt.ylabel(\"Percent Correct\", fontsize=16)\n",
    "plt.legend(loc=1, fontsize=12)\n",
    "plt.show()"
   ]
  },
  {
   "cell_type": "code",
   "execution_count": null,
   "metadata": {},
   "outputs": [],
   "source": []
  },
  {
   "cell_type": "markdown",
   "metadata": {},
   "source": [
    "## RT\n",
    "\n",
    "CREATE DIFF DF - ONLY INCLUDE CORRECT TRIALS\n",
    "\n",
    "WITHIN PARTICIPANT SEM"
   ]
  },
  {
   "cell_type": "code",
   "execution_count": null,
   "metadata": {},
   "outputs": [],
   "source": []
  },
  {
   "cell_type": "code",
   "execution_count": 34,
   "metadata": {},
   "outputs": [
    {
     "data": {
      "text/plain": [
       "1170.6703296703297"
      ]
     },
     "execution_count": 34,
     "metadata": {},
     "output_type": "execute_result"
    }
   ],
   "source": [
    "final_data_correctOnly = final_data.loc[final_data['accuracy']==1]\n",
    "\n",
    "np.mean(np.array(final_data_correctOnly['RT']))"
   ]
  },
  {
   "cell_type": "code",
   "execution_count": null,
   "metadata": {},
   "outputs": [],
   "source": []
  },
  {
   "cell_type": "code",
   "execution_count": 35,
   "metadata": {},
   "outputs": [
    {
     "data": {
      "text/plain": [
       "(1145.737341772152, 1195.214953271028)"
      ]
     },
     "execution_count": 35,
     "metadata": {},
     "output_type": "execute_result"
    }
   ],
   "source": [
    "# data split by object-scene size congruency aka scene zoom \n",
    "\n",
    "zo_df_CO = final_data_correctOnly.loc[final_data_correctOnly['scene1ZoomName']=='zo']\n",
    "zi_df_CO = final_data_correctOnly.loc[final_data_correctOnly['scene1ZoomName']=='zi']\n",
    "\n",
    "zo_RT = np.mean(np.array(zo_df_CO['RT']))\n",
    "zi_RT = np.mean(np.array(zi_df_CO['RT']))\n",
    "\n",
    "\n",
    "zo_RT, zi_RT"
   ]
  },
  {
   "cell_type": "code",
   "execution_count": 36,
   "metadata": {},
   "outputs": [],
   "source": [
    "misscaled_zo_CO = zo_df_CO.loc[zo_df_CO['misscaled'] =='misscaled'] \n",
    "misscaled_zi_CO = zi_df_CO.loc[zi_df_CO['misscaled'] =='misscaled']\n",
    "misscaled_CO = misscaled_zo_CO.append(misscaled_zi_CO)\n",
    "\n",
    "scaled_zo_CO = zo_df_CO.loc[zo_df_CO['misscaled'] =='scaled'] \n",
    "scaled_zi_CO = zi_df_CO.loc[zi_df_CO['misscaled'] =='scaled']\n",
    "scaled_CO = scaled_zo_CO.append(scaled_zi_CO)"
   ]
  },
  {
   "cell_type": "code",
   "execution_count": 37,
   "metadata": {},
   "outputs": [],
   "source": [
    "misscaled_zo_objSemCong_CO = misscaled_zo_CO.loc[misscaled_zo_CO[\"objectScene1SemanticCongruency\"]==1]\n",
    "misscaled_zo_objSemIncong_CO = misscaled_zo_CO.loc[misscaled_zo_CO[\"objectScene1SemanticCongruency\"]==0]\n",
    "\n",
    "misscaled_zo_objSemCong_RT = np.mean(np.array(misscaled_zo_objSemCong_CO['RT']))\n",
    "misscaled_zo_objSemIncong_RT = np.mean(np.array(misscaled_zo_objSemIncong_CO['RT']))\n",
    "\n",
    "misscaled_zo_objSemCong_RT_sem = sem(np.array(misscaled_zo_objSemCong_CO['RT']))\n",
    "misscaled_zo_objSemIncong_RT_sem = sem(np.array(misscaled_zo_objSemIncong_CO['RT']))\n",
    "\n",
    "\n",
    "misscaled_zi_objSemCong_CO = misscaled_zi_CO.loc[misscaled_zi_CO[\"objectScene1SemanticCongruency\"]==1]\n",
    "misscaled_zi_objSemIncong_CO = misscaled_zi_CO.loc[misscaled_zi_CO[\"objectScene1SemanticCongruency\"]==0]\n",
    "\n",
    "misscaled_zi_objSemCong_RT = np.mean(np.array(misscaled_zi_objSemCong_CO['RT']))\n",
    "misscaled_zi_objSemIncong_RT = np.mean(np.array(misscaled_zi_objSemIncong_CO['RT']))\n",
    "\n",
    "misscaled_zi_objSemCong_RT_sem = sem(np.array(misscaled_zi_objSemCong_CO['RT']))\n",
    "misscaled_zi_objSemIncong_RT_sem = sem(np.array(misscaled_zi_objSemIncong_CO['RT']))\n",
    "\n",
    "\n",
    "# scaled\n",
    "scaled_zo_objSemCong_CO = scaled_zo_CO.loc[scaled_zo_CO[\"objectScene1SemanticCongruency\"]==1]\n",
    "scaled_zo_objSemIncong_CO = scaled_zo_CO.loc[scaled_zo_CO[\"objectScene1SemanticCongruency\"]==0]\n",
    "\n",
    "scaled_zo_objSemCong_RT = np.mean(np.array(scaled_zo_objSemCong_CO['RT']))\n",
    "scaled_zo_objSemIncong_RT = np.mean(np.array(scaled_zo_objSemIncong_CO['RT']))\n",
    "\n",
    "scaled_zo_objSemCong_RT_sem = sem(np.array(scaled_zo_objSemCong_CO['RT']))\n",
    "scaled_zo_objSemIncong_RT_sem = sem(np.array(scaled_zo_objSemIncong_CO['RT']))\n",
    "\n",
    "\n",
    "scaled_zi_objSemCong_CO = scaled_zi_CO.loc[scaled_zi_CO[\"objectScene1SemanticCongruency\"]==1]\n",
    "scaled_zi_objSemIncong_CO = scaled_zi_CO.loc[scaled_zi_CO[\"objectScene1SemanticCongruency\"]==0]\n",
    "\n",
    "scaled_zi_objSemCong_RT = np.mean(np.array(scaled_zi_objSemCong_CO['RT']))\n",
    "scaled_zi_objSemIncong_RT = np.mean(np.array(scaled_zi_objSemIncong_CO['RT']))\n",
    "\n",
    "scaled_zi_objSemCong_RT_sem = sem(np.array(scaled_zi_objSemCong_CO['RT']))\n",
    "scaled_zi_objSemIncong_RT_sem = sem(np.array(scaled_zi_objSemIncong_CO['RT']))\n"
   ]
  },
  {
   "cell_type": "code",
   "execution_count": null,
   "metadata": {},
   "outputs": [],
   "source": []
  },
  {
   "cell_type": "code",
   "execution_count": null,
   "metadata": {},
   "outputs": [],
   "source": []
  },
  {
   "cell_type": "code",
   "execution_count": null,
   "metadata": {},
   "outputs": [],
   "source": []
  },
  {
   "cell_type": "code",
   "execution_count": 38,
   "metadata": {},
   "outputs": [
    {
     "data": {
      "image/png": "[encoded data removed]",
      "text/plain": [
       "<Figure size 720x720 with 1 Axes>"
      ]
     },
     "metadata": {
      "needs_background": "light"
     },
     "output_type": "display_data"
    }
   ],
   "source": [
    "fig, ax = plt.subplots(figsize=[10,10])\n",
    "ax.spines['right'].set_visible(False)\n",
    "ax.spines['top'].set_visible(False)\n",
    "for axis in ['bottom','left']:\n",
    "    ax.spines[axis].set_linewidth(2.3)\n",
    "    \n",
    "x = np.arange(4)\n",
    "#                                          Misscaled                                             Scaled\n",
    "#                               zo                          zi                         zo                     zi\n",
    "RT_objSemCong =   [misscaled_zo_objSemCong_RT, misscaled_zi_objSemCong_RT, scaled_zo_objSemCong_RT, scaled_zi_objSemCong_RT]\n",
    "RT_objSemCong_sem = [misscaled_zo_objSemCong_RT_sem, misscaled_zi_objSemCong_RT_sem, scaled_zo_objSemCong_RT_sem, scaled_zi_objSemCong_RT_sem]\n",
    "\n",
    "RT_objSemIncong = [misscaled_zo_objSemIncong_RT, misscaled_zi_objSemIncong_RT, scaled_zo_objSemIncong_RT, scaled_zi_objSemIncong_RT]\n",
    "RT_objSemIncong_sem = [misscaled_zo_objSemIncong_RT_sem, misscaled_zi_objSemIncong_RT_sem, scaled_zo_objSemIncong_RT_sem, scaled_zi_objSemIncong_RT_sem]\n",
    "\n",
    "width = 0.2\n",
    "  \n",
    "# plot data in grouped manner of bar type\n",
    "plt.bar(x-0.2, RT_objSemCong, width, color='lightgreen', label='Object-Scene1 Semantic Congruency', yerr=RT_objSemCong_sem, capsize=5, alpha=0.8)\n",
    "plt.bar(x, RT_objSemIncong, width, color='darkgreen', label='Object-Scene1 Semantic Incongruency', yerr=RT_objSemIncong_sem, capsize=5, alpha=0.8)\n",
    "plt.xticks(x, ['Misscaled zo', 'Misscaled zi', 'Canonical zo', 'Canonical zi'], fontsize='15')\n",
    "plt.yticks(fontsize=15) \n",
    "plt.ylim(400)\n",
    "plt.ylabel(\"RT (ms)\", fontsize=16)\n",
    "plt.legend(loc=0, fontsize=12)\n",
    "plt.show()"
   ]
  },
  {
   "cell_type": "code",
   "execution_count": 39,
   "metadata": {},
   "outputs": [],
   "source": [
    "RTs_correctOnly = list(final_data_correctOnly['RT']) "
   ]
  },
  {
   "cell_type": "code",
   "execution_count": 40,
   "metadata": {},
   "outputs": [
    {
     "data": {
      "image/png": "[encoded data removed]",
      "text/plain": [
       "<Figure size 576x576 with 1 Axes>"
      ]
     },
     "metadata": {
      "needs_background": "light"
     },
     "output_type": "display_data"
    }
   ],
   "source": [
    "\n",
    "fig, ax = plt.subplots(figsize=[8,8])\n",
    "ax.spines['right'].set_visible(False)\n",
    "\n",
    "ax.spines['top'].set_visible(False)\n",
    "\n",
    "\n",
    "\n",
    "for axis in ['bottom','left']:\n",
    "\n",
    "    ax.spines[axis].set_linewidth(2.3)\n",
    "\n",
    "plt.hist(np.array(RTs_correctOnly), color='orange', bins=20)\n",
    "plt.title('RT Distribution: Correct Trials', fontsize=20)\n",
    "plt.xlabel('RT (ms)', fontsize=15)\n",
    "plt.ylabel('Number of trials', fontsize=15)\n",
    "plt.xticks(fontsize=15)\n",
    "plt.yticks(fontsize=15)\n",
    "plt.show()"
   ]
  },
  {
   "cell_type": "markdown",
   "metadata": {},
   "source": [
    "# Analyze Data by Mis-scaling Rating"
   ]
  },
  {
   "cell_type": "code",
   "execution_count": 42,
   "metadata": {},
   "outputs": [],
   "source": [
    "data_1 = final_data.loc[final_data['rating'] == 1]\n",
    "data_2 = final_data.loc[final_data['rating'] == 2]\n",
    "data_3 = final_data.loc[final_data['rating'] == 3]\n",
    "data_4 = final_data.loc[final_data['rating'] == 4]\n",
    "\n",
    "\n",
    "data_5 = final_data.loc[final_data['rating'] == 5]\n",
    "data_6 = final_data.loc[final_data['rating'] == 6]\n",
    "data_7 = final_data.loc[final_data['rating'] == 7]"
   ]
  },
  {
   "cell_type": "code",
   "execution_count": 43,
   "metadata": {},
   "outputs": [
    {
     "data": {
      "text/plain": [
       "(111, 79, 41, 151, 88, 87, 157)"
      ]
     },
     "execution_count": 43,
     "metadata": {},
     "output_type": "execute_result"
    }
   ],
   "source": [
    "len(data_1['accuracy']), len(data_2['accuracy']), len(data_3['accuracy']), len(data_4['accuracy']), len(data_5['accuracy']), len(data_6['accuracy']), len(data_7['accuracy'])\n"
   ]
  },
  {
   "cell_type": "code",
   "execution_count": null,
   "metadata": {},
   "outputs": [],
   "source": []
  },
  {
   "cell_type": "code",
   "execution_count": 45,
   "metadata": {},
   "outputs": [
    {
     "data": {
      "image/png": "[encoded data removed]",
      "text/plain": [
       "<Figure size 576x720 with 1 Axes>"
      ]
     },
     "metadata": {
      "needs_background": "light"
     },
     "output_type": "display_data"
    }
   ],
   "source": [
    "fig, ax = plt.subplots(figsize=[8,10])\n",
    "ax.spines['right'].set_visible(False)\n",
    "ax.spines['top'].set_visible(False)\n",
    "for axis in ['bottom','left']:\n",
    "    ax.spines[axis].set_linewidth(2.3)\n",
    "    \n",
    "plt.xticks( fontsize='15')\n",
    "plt.yticks(fontsize=15) \n",
    "plt.ylabel('count', fontsize=18)\n",
    "plt.xlabel('rating', fontsize=18)\n",
    "    \n",
    "plt.bar(['1', '2', '3', '4', '5', '6', '7'], [111, 79, 41, 151, 88, 87, 157])\n",
    "plt.show()"
   ]
  },
  {
   "cell_type": "code",
   "execution_count": null,
   "metadata": {},
   "outputs": [],
   "source": []
  },
  {
   "cell_type": "code",
   "execution_count": 47,
   "metadata": {},
   "outputs": [
    {
     "data": {
      "image/png": "[encoded data removed]",
      "text/plain": [
       "<Figure size 576x720 with 1 Axes>"
      ]
     },
     "metadata": {
      "needs_background": "light"
     },
     "output_type": "display_data"
    }
   ],
   "source": [
    "fig, ax = plt.subplots(figsize=[8,10])\n",
    "ax.spines['right'].set_visible(False)\n",
    "ax.spines['top'].set_visible(False)\n",
    "for axis in ['bottom','left']:\n",
    "    ax.spines[axis].set_linewidth(2.3)\n",
    "    \n",
    "x = np.arange(7)\n",
    "\n",
    "Acc_ =   [np.sum(np.array(data_1['accuracy']))/len(np.array(data_1['accuracy'])), np.sum(np.array(data_2['accuracy']))/len(np.array(data_2['accuracy'])), np.sum(np.array(data_3['accuracy']))/len(np.array(data_3['accuracy'])), np.sum(np.array(data_4['accuracy']))/len(np.array(data_4['accuracy'])), np.sum(np.array(data_5['accuracy']))/len(np.array(data_5['accuracy'])), np.sum(np.array(data_6['accuracy']))/len(np.array(data_6['accuracy'])), np.sum(np.array(data_7['accuracy']))/len(np.array(data_7['accuracy']))]\n",
    "yerr_ =  [np.std(np.array(data_1['accuracy']))/np.sqrt(len(np.array(data_1['accuracy']))), np.std(np.array(data_2['accuracy']))/np.sqrt(len(np.array(data_2['accuracy']))), np.std(np.array(data_3['accuracy']))/np.sqrt(len(np.array(data_3['accuracy']))), np.std(np.array(data_4['accuracy']))/np.sqrt(len(np.array(data_4['accuracy']))), np.std(np.array(data_5['accuracy']))/np.sqrt(len(np.array(data_5['accuracy']))), np.std(np.array(data_6['accuracy']))/np.sqrt(len(np.array(data_6['accuracy']))), np.std(np.array(data_7['accuracy']))/np.sqrt(len(np.array(data_7['accuracy'])))]\n",
    "\n",
    "width = 0.2\n",
    "  \n",
    "# plot data in grouped manner of bar type\n",
    "plt.bar(x, Acc_, width, color='gray', yerr=yerr_, capsize=5)\n",
    "plt.xticks(x, [1, 2, 3, 4, 5, 6, 7], fontsize='15')\n",
    "plt.ylim(0.70, 1)\n",
    "plt.yticks(fontsize=15) \n",
    "plt.xlabel(\"Subject Rating\", fontsize=18)\n",
    "plt.ylabel(\"Percent Correct\", fontsize=18)\n",
    "# plt.legend(loc=1, fontsize=15)\n",
    "plt.show()"
   ]
  },
  {
   "cell_type": "code",
   "execution_count": 48,
   "metadata": {},
   "outputs": [],
   "source": [
    "data_1_zo = data_1.loc[data_1['scene1ZoomName'] == 'zo']\n",
    "data_1_zi = data_1.loc[data_1['scene1ZoomName'] == 'zi']\n",
    "\n",
    "data_2_zo = data_2.loc[data_2['scene1ZoomName'] == 'zo']\n",
    "data_2_zi = data_2.loc[data_2['scene1ZoomName'] == 'zi']\n",
    "\n",
    "data_3_zo = data_3.loc[data_3['scene1ZoomName'] == 'zo']\n",
    "data_3_zi = data_3.loc[data_3['scene1ZoomName'] == 'zi']\n",
    "\n",
    "data_4_zo = data_4.loc[data_4['scene1ZoomName'] == 'zo']\n",
    "data_4_zi = data_4.loc[data_4['scene1ZoomName'] == 'zi']\n",
    "\n",
    "\n",
    "data_5_zo = data_5.loc[data_5['scene1ZoomName'] == 'zo']\n",
    "data_5_zi = data_5.loc[data_5['scene1ZoomName'] == 'zi']\n",
    "\n",
    "data_6_zo = data_6.loc[data_6['scene1ZoomName'] == 'zo']\n",
    "data_6_zi = data_6.loc[data_6['scene1ZoomName'] == 'zi']\n",
    "\n",
    "data_7_zo = data_7.loc[data_7['scene1ZoomName'] == 'zo']\n",
    "data_7_zi = data_7.loc[data_7['scene1ZoomName'] == 'zi']\n",
    "\n"
   ]
  },
  {
   "cell_type": "code",
   "execution_count": 49,
   "metadata": {},
   "outputs": [
    {
     "name": "stdout",
     "output_type": "stream",
     "text": [
      "20\n",
      "91\n",
      "16\n",
      "63\n",
      "16\n",
      "25\n",
      "66\n",
      "85\n",
      "54\n",
      "34\n",
      "61\n",
      "26\n",
      "120\n",
      "37\n"
     ]
    }
   ],
   "source": [
    "# Accuracy\n",
    "\n",
    "data_1_zo_acc = np.sum(np.array(data_1_zo['accuracy']))/len(np.array(data_1_zo['accuracy']))\n",
    "data_1_zi_acc =np.sum(np.array(data_1_zi['accuracy']))/len(np.array(data_1_zi['accuracy']))\n",
    "\n",
    "data_1_zo_sem = np.std(np.array(data_1_zo['accuracy']))/np.sqrt(len(np.array(data_1_zo['accuracy'])))\n",
    "data_1_zi_sem = np.std(np.array(data_1_zi['accuracy']))/np.sqrt(len(np.array(data_1_zi['accuracy'])))\n",
    "\n",
    "print(len(np.array(data_1_zo['accuracy'])))\n",
    "print(len(np.array(data_1_zi['accuracy'])))\n",
    "\n",
    "\n",
    "data_2_zo_acc = np.sum(np.array(data_2_zo['accuracy']))/len(np.array(data_2_zo['accuracy']))\n",
    "data_2_zi_acc =np.sum(np.array(data_2_zi['accuracy']))/len(np.array(data_2_zi['accuracy']))\n",
    "\n",
    "data_2_zo_sem = np.std(np.array(data_2_zo['accuracy']))/np.sqrt(len(np.array(data_2_zo['accuracy'])))\n",
    "data_2_zi_sem = np.std(np.array(data_2_zi['accuracy']))/np.sqrt(len(np.array(data_2_zi['accuracy'])))\n",
    "\n",
    "print(len(np.array(data_2_zo['accuracy'])))\n",
    "print(len(np.array(data_2_zi['accuracy'])))\n",
    "\n",
    "\n",
    "data_3_zo_acc = np.sum(np.array(data_3_zo['accuracy']))/len(np.array(data_3_zo['accuracy']))\n",
    "data_3_zi_acc =np.sum(np.array(data_3_zi['accuracy']))/len(np.array(data_3_zi['accuracy']))\n",
    "\n",
    "data_3_zo_sem = np.std(np.array(data_3_zo['accuracy']))/np.sqrt(len(np.array(data_3_zo['accuracy'])))\n",
    "data_3_zi_sem = np.std(np.array(data_3_zi['accuracy']))/np.sqrt(len(np.array(data_3_zi['accuracy'])))\n",
    "\n",
    "print(len(np.array(data_3_zo['accuracy'])))\n",
    "print(len(np.array(data_3_zi['accuracy'])))\n",
    "\n",
    "data_4_zo_acc = np.sum(np.array(data_4_zo['accuracy']))/len(np.array(data_4_zo['accuracy']))\n",
    "data_4_zi_acc =np.sum(np.array(data_4_zi['accuracy']))/len(np.array(data_4_zi['accuracy']))\n",
    "\n",
    "data_4_zo_sem = np.std(np.array(data_4_zo['accuracy']))/np.sqrt(len(np.array(data_4_zo['accuracy'])))\n",
    "data_4_zi_sem = np.std(np.array(data_4_zi['accuracy']))/np.sqrt(len(np.array(data_4_zi['accuracy'])))\n",
    "\n",
    "print(len(np.array(data_4_zo['accuracy'])))\n",
    "print(len(np.array(data_4_zi['accuracy'])))\n",
    "\n",
    "data_5_zo_acc = np.sum(np.array(data_5_zo['accuracy']))/len(np.array(data_5_zo['accuracy']))\n",
    "data_5_zi_acc =np.sum(np.array(data_5_zi['accuracy']))/len(np.array(data_5_zi['accuracy']))\n",
    "\n",
    "data_5_zo_sem = np.std(np.array(data_5_zo['accuracy']))/np.sqrt(len(np.array(data_5_zo['accuracy'])))\n",
    "data_5_zi_sem = np.std(np.array(data_5_zi['accuracy']))/np.sqrt(len(np.array(data_5_zi['accuracy'])))\n",
    "\n",
    "print(len(np.array(data_5_zo['accuracy'])))\n",
    "print(len(np.array(data_5_zi['accuracy'])))\n",
    "\n",
    "\n",
    "data_6_zo_acc = np.sum(np.array(data_6_zo['accuracy']))/len(np.array(data_6_zo['accuracy']))\n",
    "data_6_zi_acc =np.sum(np.array(data_6_zi['accuracy']))/len(np.array(data_6_zi['accuracy']))\n",
    "\n",
    "data_6_zo_sem = np.std(np.array(data_6_zo['accuracy']))/np.sqrt(len(np.array(data_6_zo['accuracy'])))\n",
    "data_6_zi_sem = np.std(np.array(data_6_zi['accuracy']))/np.sqrt(len(np.array(data_6_zi['accuracy'])))\n",
    "\n",
    "print(len(np.array(data_6_zo['accuracy'])))\n",
    "print(len(np.array(data_6_zi['accuracy'])))\n",
    "\n",
    "data_7_zo_acc = np.sum(np.array(data_7_zo['accuracy']))/len(np.array(data_7_zo['accuracy']))\n",
    "data_7_zi_acc =np.sum(np.array(data_7_zi['accuracy']))/len(np.array(data_7_zi['accuracy']))\n",
    "\n",
    "data_7_zo_sem = np.std(np.array(data_7_zo['accuracy']))/np.sqrt(len(np.array(data_7_zo['accuracy'])))\n",
    "data_7_zi_sem = np.std(np.array(data_7_zi['accuracy']))/np.sqrt(len(np.array(data_7_zi['accuracy'])))\n",
    "\n",
    "print(len(np.array(data_7_zo['accuracy'])))\n",
    "print(len(np.array(data_7_zi['accuracy'])))\n"
   ]
  },
  {
   "cell_type": "code",
   "execution_count": 51,
   "metadata": {},
   "outputs": [
    {
     "data": {
      "image/png": "[encoded data removed]",
      "text/plain": [
       "<Figure size 576x720 with 1 Axes>"
      ]
     },
     "metadata": {
      "needs_background": "light"
     },
     "output_type": "display_data"
    }
   ],
   "source": [
    "fig, ax = plt.subplots(figsize=[8,10])\n",
    "ax.spines['right'].set_visible(False)\n",
    "ax.spines['top'].set_visible(False)\n",
    "for axis in ['bottom','left']:\n",
    "    ax.spines[axis].set_linewidth(2.3)\n",
    "    \n",
    "x = np.arange(7)\n",
    "\n",
    "Acc_zo =   [data_1_zo_acc, data_2_zo_acc, data_3_zo_acc, data_4_zo_acc, data_5_zo_acc, data_6_zo_acc, data_7_zo_acc]\n",
    "yerr_zo =  [data_1_zo_sem, data_2_zo_sem, data_3_zo_sem, data_4_zo_sem, data_5_zo_sem, data_6_zo_sem, data_7_zo_sem]\n",
    "\n",
    "Acc_zi =   [data_1_zi_acc, data_2_zi_acc, data_3_zi_acc, data_4_zi_acc, data_5_zi_acc, data_6_zi_acc, data_7_zi_acc]\n",
    "yerr_zi =  [data_1_zi_sem, data_2_zi_sem, data_3_zi_sem, data_4_zi_sem, data_5_zi_sem, data_6_zi_sem, data_7_zi_sem]\n",
    "\n",
    "width = 0.2\n",
    "  \n",
    "# plot data in grouped manner of bar type\n",
    "plt.bar(x-0.2, Acc_zo, width, color='orange', label='Zoom out', yerr=yerr_zo, capsize=5)\n",
    "plt.bar(x, Acc_zi, width, color='chocolate', label='Zoom in', yerr=yerr_zi, capsize=5)\n",
    "plt.xticks(x, [1, 2, 3, 4, 5, 6, 7], fontsize='15')\n",
    "plt.ylim(0.50)\n",
    "plt.yticks(fontsize=15) \n",
    "plt.xlabel(\"Subject Rating\", fontsize=18)\n",
    "plt.ylabel(\"Percent Correct\", fontsize=18)\n",
    "plt.legend(loc=1, fontsize=15)\n",
    "plt.show()"
   ]
  },
  {
   "cell_type": "code",
   "execution_count": 52,
   "metadata": {},
   "outputs": [],
   "source": [
    "data_1_objectScene1SemanticCongruency0 = data_1.loc[data_1['objectScene1SemanticCongruency'] == 0]\n",
    "data_1_objectScene1SemanticCongruency1 = data_1.loc[data_1['objectScene1SemanticCongruency'] == 1]\n",
    "\n",
    "data_2_objectScene1SemanticCongruency0 = data_2.loc[data_2['objectScene1SemanticCongruency'] == 0]\n",
    "data_2_objectScene1SemanticCongruency1 = data_2.loc[data_2['objectScene1SemanticCongruency'] == 1]\n",
    "\n",
    "data_3_objectScene1SemanticCongruency0 = data_3.loc[data_3['objectScene1SemanticCongruency'] == 0]\n",
    "data_3_objectScene1SemanticCongruency1 = data_3.loc[data_3['objectScene1SemanticCongruency'] == 1]\n",
    "\n",
    "data_4_objectScene1SemanticCongruency0 = data_4.loc[data_4['objectScene1SemanticCongruency'] == 0]\n",
    "data_4_objectScene1SemanticCongruency1 = data_4.loc[data_4['objectScene1SemanticCongruency'] == 1]\n",
    "\n",
    "data_5_objectScene1SemanticCongruency0 = data_5.loc[data_5['objectScene1SemanticCongruency'] == 0]\n",
    "data_5_objectScene1SemanticCongruency1 = data_5.loc[data_5['objectScene1SemanticCongruency'] == 1]\n",
    "\n",
    "data_6_objectScene1SemanticCongruency0 = data_6.loc[data_6['objectScene1SemanticCongruency'] == 0]\n",
    "data_6_objectScene1SemanticCongruency1 = data_6.loc[data_6['objectScene1SemanticCongruency'] == 1]\n",
    "\n",
    "data_7_objectScene1SemanticCongruency0 = data_7.loc[data_7['objectScene1SemanticCongruency'] == 0]\n",
    "data_7_objectScene1SemanticCongruency1 = data_7.loc[data_7['objectScene1SemanticCongruency'] == 1]\n",
    "\n"
   ]
  },
  {
   "cell_type": "code",
   "execution_count": 53,
   "metadata": {},
   "outputs": [
    {
     "name": "stdout",
     "output_type": "stream",
     "text": [
      "96\n",
      "90\n",
      "36\n",
      "134\n",
      "86\n",
      "100\n",
      "176\n"
     ]
    }
   ],
   "source": [
    "# Accuracy\n",
    "\n",
    "data_1_objectScene1SemanticCongruency0_acc = np.sum(np.array(data_1_objectScene1SemanticCongruency0['accuracy']))/len(np.array(data_1_objectScene1SemanticCongruency0['accuracy']))\n",
    "data_1_objectScene1SemanticCongruency1_acc =np.sum(np.array(data_1_objectScene1SemanticCongruency1['accuracy']))/len(np.array(data_1_objectScene1SemanticCongruency1['accuracy']))\n",
    "\n",
    "data_1_objectScene1SemanticCongruency0_sem = np.std(np.array(data_1_objectScene1SemanticCongruency0['accuracy']))/np.sqrt(len(np.array(data_1_objectScene1SemanticCongruency0['accuracy'])))\n",
    "data_1_objectScene1SemanticCongruency1_sem = np.std(np.array(data_1_objectScene1SemanticCongruency1['accuracy']))/np.sqrt(len(np.array(data_1_objectScene1SemanticCongruency1['accuracy'])))\n",
    "\n",
    "print(len(np.array(data_1_objectScene1SemanticCongruency0['accuracy'])) + len(np.array(data_1_objectScene1SemanticCongruency0['accuracy'])))\n",
    "\n",
    "data_2_objectScene1SemanticCongruency0_acc = np.sum(np.array(data_2_objectScene1SemanticCongruency0['accuracy']))/len(np.array(data_2_objectScene1SemanticCongruency0['accuracy']))\n",
    "data_2_objectScene1SemanticCongruency1_acc =np.sum(np.array(data_2_objectScene1SemanticCongruency1['accuracy']))/len(np.array(data_2_objectScene1SemanticCongruency1['accuracy']))\n",
    "\n",
    "data_2_objectScene1SemanticCongruency0_sem = np.std(np.array(data_2_objectScene1SemanticCongruency0['accuracy']))/np.sqrt(len(np.array(data_2_objectScene1SemanticCongruency0['accuracy'])))\n",
    "data_2_objectScene1SemanticCongruency1_sem = np.std(np.array(data_2_objectScene1SemanticCongruency1['accuracy']))/np.sqrt(len(np.array(data_2_objectScene1SemanticCongruency1['accuracy'])))\n",
    "\n",
    "print(len(np.array(data_2_objectScene1SemanticCongruency0['accuracy'])) + len(np.array(data_2_objectScene1SemanticCongruency0['accuracy'])))\n",
    "\n",
    "data_3_objectScene1SemanticCongruency0_acc = np.sum(np.array(data_3_objectScene1SemanticCongruency0['accuracy']))/len(np.array(data_3_objectScene1SemanticCongruency0['accuracy']))\n",
    "data_3_objectScene1SemanticCongruency1_acc =np.sum(np.array(data_3_objectScene1SemanticCongruency1['accuracy']))/len(np.array(data_3_objectScene1SemanticCongruency1['accuracy']))\n",
    "\n",
    "data_3_objectScene1SemanticCongruency0_sem = np.std(np.array(data_3_objectScene1SemanticCongruency0['accuracy']))/np.sqrt(len(np.array(data_3_objectScene1SemanticCongruency0['accuracy'])))\n",
    "data_3_objectScene1SemanticCongruency1_sem = np.std(np.array(data_3_objectScene1SemanticCongruency1['accuracy']))/np.sqrt(len(np.array(data_3_objectScene1SemanticCongruency1['accuracy'])))\n",
    "\n",
    "print(len(np.array(data_3_objectScene1SemanticCongruency0['accuracy'])) + len(np.array(data_3_objectScene1SemanticCongruency0['accuracy'])))\n",
    "\n",
    "data_4_objectScene1SemanticCongruency0_acc = np.sum(np.array(data_4_objectScene1SemanticCongruency0['accuracy']))/len(np.array(data_4_objectScene1SemanticCongruency0['accuracy']))\n",
    "data_4_objectScene1SemanticCongruency1_acc =np.sum(np.array(data_4_objectScene1SemanticCongruency1['accuracy']))/len(np.array(data_4_objectScene1SemanticCongruency1['accuracy']))\n",
    "\n",
    "data_4_objectScene1SemanticCongruency0_sem = np.std(np.array(data_4_objectScene1SemanticCongruency0['accuracy']))/np.sqrt(len(np.array(data_4_objectScene1SemanticCongruency0['accuracy'])))\n",
    "data_4_objectScene1SemanticCongruency1_sem = np.std(np.array(data_4_objectScene1SemanticCongruency1['accuracy']))/np.sqrt(len(np.array(data_4_objectScene1SemanticCongruency1['accuracy'])))\n",
    "\n",
    "print(len(np.array(data_4_objectScene1SemanticCongruency0['accuracy'])) + len(np.array(data_4_objectScene1SemanticCongruency0['accuracy'])))\n",
    "\n",
    "data_5_objectScene1SemanticCongruency0_acc = np.sum(np.array(data_5_objectScene1SemanticCongruency0['accuracy']))/len(np.array(data_5_objectScene1SemanticCongruency0['accuracy']))\n",
    "data_5_objectScene1SemanticCongruency1_acc =np.sum(np.array(data_5_objectScene1SemanticCongruency1['accuracy']))/len(np.array(data_5_objectScene1SemanticCongruency1['accuracy']))\n",
    "\n",
    "data_5_objectScene1SemanticCongruency0_sem = np.std(np.array(data_5_objectScene1SemanticCongruency0['accuracy']))/np.sqrt(len(np.array(data_5_objectScene1SemanticCongruency0['accuracy'])))\n",
    "data_5_objectScene1SemanticCongruency1_sem = np.std(np.array(data_5_objectScene1SemanticCongruency1['accuracy']))/np.sqrt(len(np.array(data_5_objectScene1SemanticCongruency1['accuracy'])))\n",
    "\n",
    "print(len(np.array(data_5_objectScene1SemanticCongruency0['accuracy'])) + len(np.array(data_5_objectScene1SemanticCongruency0['accuracy'])))\n",
    "\n",
    "data_6_objectScene1SemanticCongruency0_acc = np.sum(np.array(data_6_objectScene1SemanticCongruency0['accuracy']))/len(np.array(data_6_objectScene1SemanticCongruency0['accuracy']))\n",
    "data_6_objectScene1SemanticCongruency1_acc =np.sum(np.array(data_6_objectScene1SemanticCongruency1['accuracy']))/len(np.array(data_6_objectScene1SemanticCongruency1['accuracy']))\n",
    "\n",
    "data_6_objectScene1SemanticCongruency0_sem = np.std(np.array(data_6_objectScene1SemanticCongruency0['accuracy']))/np.sqrt(len(np.array(data_6_objectScene1SemanticCongruency0['accuracy'])))\n",
    "data_6_objectScene1SemanticCongruency1_sem = np.std(np.array(data_6_objectScene1SemanticCongruency1['accuracy']))/np.sqrt(len(np.array(data_6_objectScene1SemanticCongruency1['accuracy'])))\n",
    "\n",
    "print(len(np.array(data_6_objectScene1SemanticCongruency0['accuracy'])) + len(np.array(data_6_objectScene1SemanticCongruency0['accuracy'])))\n",
    "\n",
    "data_7_objectScene1SemanticCongruency0_acc = np.sum(np.array(data_7_objectScene1SemanticCongruency0['accuracy']))/len(np.array(data_7_objectScene1SemanticCongruency0['accuracy']))\n",
    "data_7_objectScene1SemanticCongruency1_acc =np.sum(np.array(data_7_objectScene1SemanticCongruency1['accuracy']))/len(np.array(data_7_objectScene1SemanticCongruency1['accuracy']))\n",
    "\n",
    "data_7_objectScene1SemanticCongruency0_sem = np.std(np.array(data_7_objectScene1SemanticCongruency0['accuracy']))/np.sqrt(len(np.array(data_7_objectScene1SemanticCongruency0['accuracy'])))\n",
    "data_7_objectScene1SemanticCongruency1_sem = np.std(np.array(data_7_objectScene1SemanticCongruency1['accuracy']))/np.sqrt(len(np.array(data_7_objectScene1SemanticCongruency1['accuracy'])))\n",
    "\n",
    "print(len(np.array(data_7_objectScene1SemanticCongruency0['accuracy'])) + len(np.array(data_7_objectScene1SemanticCongruency0['accuracy'])))\n",
    "\n"
   ]
  },
  {
   "cell_type": "code",
   "execution_count": 58,
   "metadata": {},
   "outputs": [
    {
     "data": {
      "image/png": "[encoded data removed]",
      "text/plain": [
       "<Figure size 576x720 with 1 Axes>"
      ]
     },
     "metadata": {
      "needs_background": "light"
     },
     "output_type": "display_data"
    }
   ],
   "source": [
    "fig, ax = plt.subplots(figsize=[8,10])\n",
    "ax.spines['right'].set_visible(False)\n",
    "ax.spines['top'].set_visible(False)\n",
    "for axis in ['bottom','left']:\n",
    "    ax.spines[axis].set_linewidth(2.3)\n",
    "    \n",
    "x = np.arange(7)\n",
    "\n",
    "Acc_0 =   [data_1_objectScene1SemanticCongruency0_acc, data_2_objectScene1SemanticCongruency0_acc, data_3_objectScene1SemanticCongruency0_acc, data_4_objectScene1SemanticCongruency0_acc, data_5_objectScene1SemanticCongruency0_acc, data_6_objectScene1SemanticCongruency0_acc, data_7_objectScene1SemanticCongruency0_acc]\n",
    "yerr_0 =  [data_1_objectScene1SemanticCongruency0_sem, data_2_objectScene1SemanticCongruency0_sem, data_3_objectScene1SemanticCongruency0_sem, data_4_objectScene1SemanticCongruency0_sem, data_5_objectScene1SemanticCongruency0_sem, data_6_objectScene1SemanticCongruency0_sem, data_7_objectScene1SemanticCongruency0_sem]\n",
    "\n",
    "Acc_1 =   [data_1_objectScene1SemanticCongruency1_acc, data_2_objectScene1SemanticCongruency1_acc, data_3_objectScene1SemanticCongruency1_acc, data_4_objectScene1SemanticCongruency1_acc, data_5_objectScene1SemanticCongruency1_acc, data_6_objectScene1SemanticCongruency1_acc, data_7_objectScene1SemanticCongruency1_acc]\n",
    "yerr_1 =  [data_1_objectScene1SemanticCongruency1_sem, data_2_objectScene1SemanticCongruency1_sem, data_3_objectScene1SemanticCongruency1_sem, data_4_objectScene1SemanticCongruency1_sem, data_5_objectScene1SemanticCongruency1_sem, data_6_objectScene1SemanticCongruency1_sem, data_7_objectScene1SemanticCongruency1_sem]\n",
    "\n",
    "width = 0.2\n",
    "  \n",
    "# plot data in grouped manner of bar type\n",
    "plt.bar(x-0.2, Acc_0, width, color='orange', label='Object-Scene1 Semantic Incongruent', yerr=yerr_0, capsize=5)\n",
    "plt.bar(x, Acc_1, width, color='chocolate', label='Object-Scene1 Semantic Congruent', yerr=yerr_1, capsize=5)\n",
    "plt.xticks(x, [1, 2, 3, 4, 5, 6, 7], fontsize='15')\n",
    "plt.ylim(0.5)\n",
    "plt.yticks(fontsize=15) \n",
    "plt.xlabel(\"Subject Rating\", fontsize=18)\n",
    "plt.ylabel(\"Percent Correct\", fontsize=18)\n",
    "plt.legend(loc=1, fontsize=15)\n",
    "plt.show()"
   ]
  },
  {
   "cell_type": "code",
   "execution_count": 59,
   "metadata": {},
   "outputs": [],
   "source": [
    "data_1_CO = final_data_correctOnly.loc[final_data_correctOnly['rating'] == 1]\n",
    "data_2_CO = final_data_correctOnly.loc[final_data_correctOnly['rating'] == 2]\n",
    "data_3_CO = final_data_correctOnly.loc[final_data_correctOnly['rating'] == 3]\n",
    "data_4_CO = final_data_correctOnly.loc[final_data_correctOnly['rating'] == 4]\n",
    "\n",
    "data_1_zo_CO = data_1_CO.loc[data_1_CO['scene1ZoomName'] == 'zo']\n",
    "data_1_zi_CO = data_1_CO.loc[data_1_CO['scene1ZoomName'] == 'zi']\n",
    "\n",
    "data_2_zo_CO = data_2_CO.loc[data_2_CO['scene1ZoomName'] == 'zo']\n",
    "data_2_zi_CO = data_2_CO.loc[data_2_CO['scene1ZoomName'] == 'zi']\n",
    "\n",
    "data_3_zo_CO = data_3_CO.loc[data_3_CO['scene1ZoomName'] == 'zo']\n",
    "data_3_zi_CO = data_3_CO.loc[data_3_CO['scene1ZoomName'] == 'zi']\n",
    "\n",
    "data_4_zo_CO = data_4_CO.loc[data_4_CO['scene1ZoomName'] == 'zo']\n",
    "data_4_zi_CO = data_4_CO.loc[data_4_CO['scene1ZoomName'] == 'zi']\n",
    "\n",
    "\n",
    "\n",
    "data_5_CO = final_data_correctOnly.loc[final_data_correctOnly['rating'] == 5]\n",
    "data_6_CO = final_data_correctOnly.loc[final_data_correctOnly['rating'] == 6]\n",
    "data_7_CO = final_data_correctOnly.loc[final_data_correctOnly['rating'] == 7]\n",
    "\n",
    "data_5_zo_CO = data_5_CO.loc[data_5_CO['scene1ZoomName'] == 'zo']\n",
    "data_5_zi_CO = data_5_CO.loc[data_5_CO['scene1ZoomName'] == 'zi']\n",
    "\n",
    "data_6_zo_CO = data_6_CO.loc[data_6_CO['scene1ZoomName'] == 'zo']\n",
    "data_6_zi_CO = data_6_CO.loc[data_6_CO['scene1ZoomName'] == 'zi']\n",
    "\n",
    "data_7_zo_CO = data_7_CO.loc[data_7_CO['scene1ZoomName'] == 'zo']\n",
    "data_7_zi_CO = data_7_CO.loc[data_7_CO['scene1ZoomName'] == 'zi']\n",
    "\n"
   ]
  },
  {
   "cell_type": "code",
   "execution_count": 60,
   "metadata": {},
   "outputs": [],
   "source": [
    "# RT \n",
    "data_1_zo_RT = np.mean(np.array(data_1_zo_CO['RT']))\n",
    "data_1_zi_RT = np.mean(np.array(data_1_zi_CO['RT']))\n",
    "\n",
    "data_1_zo_RT_sem = sem(np.array(data_1_zo_CO['RT']))\n",
    "data_1_zi_RT_sem = sem(np.array(data_1_zi_CO['RT']))\n",
    "\n",
    "\n",
    "data_2_zo_RT = np.mean(np.array(data_2_zo_CO['RT']))\n",
    "data_2_zi_RT = np.mean(np.array(data_2_zi_CO['RT']))\n",
    "\n",
    "data_2_zo_RT_sem = sem(np.array(data_2_zo_CO['RT']))\n",
    "data_2_zi_RT_sem = sem(np.array(data_2_zi_CO['RT']))\n",
    "\n",
    "\n",
    "data_3_zo_RT = np.mean(np.array(data_3_zo_CO['RT']))\n",
    "data_3_zi_RT = np.mean(np.array(data_3_zi_CO['RT']))\n",
    "\n",
    "data_3_zo_RT_sem = sem(np.array(data_3_zo_CO['RT']))\n",
    "data_3_zi_RT_sem =sem(np.array(data_3_zi_CO['RT']))\n",
    "\n",
    "\n",
    "data_4_zo_RT = np.mean(np.array(data_4_zo_CO['RT']))\n",
    "data_4_zi_RT = np.mean(np.array(data_4_zi_CO['RT']))\n",
    "\n",
    "data_4_zo_RT_sem = sem(np.array(data_4_zo_CO['RT']))\n",
    "data_4_zi_RT_sem = sem(np.array(data_4_zi_CO['RT']))\n",
    "\n",
    "data_5_zo_RT = np.mean(np.array(data_5_zo_CO['RT']))\n",
    "data_5_zi_RT = np.mean(np.array(data_5_zi_CO['RT']))\n",
    "\n",
    "data_5_zo_RT_sem = sem(np.array(data_5_zo_CO['RT']))\n",
    "data_5_zi_RT_sem = sem(np.array(data_5_zi_CO['RT']))\n",
    "\n",
    "\n",
    "data_6_zo_RT = np.mean(np.array(data_6_zo_CO['RT']))\n",
    "data_6_zi_RT = np.mean(np.array(data_6_zi_CO['RT']))\n",
    "\n",
    "data_6_zo_RT_sem = sem(np.array(data_6_zo_CO['RT']))\n",
    "data_6_zi_RT_sem = sem(np.array(data_6_zi_CO['RT']))\n",
    "\n",
    "\n",
    "data_7_zo_RT = np.mean(np.array(data_7_zo_CO['RT']))\n",
    "data_7_zi_RT = np.mean(np.array(data_7_zi_CO['RT']))\n",
    "\n",
    "data_7_zo_RT_sem = sem(np.array(data_7_zo_CO['RT']))\n",
    "data_7_zi_RT_sem = sem(np.array(data_7_zi_CO['RT']))\n",
    "\n"
   ]
  },
  {
   "cell_type": "code",
   "execution_count": null,
   "metadata": {},
   "outputs": [],
   "source": []
  },
  {
   "cell_type": "code",
   "execution_count": 61,
   "metadata": {},
   "outputs": [
    {
     "data": {
      "text/plain": [
       "(97, 70, 37, 135, 80, 77, 141)"
      ]
     },
     "execution_count": 61,
     "metadata": {},
     "output_type": "execute_result"
    }
   ],
   "source": [
    "len(data_1_CO['accuracy']), len(data_2_CO['accuracy']), len(data_3_CO['accuracy']), len(data_4_CO['accuracy']), len(data_5_CO['accuracy']), len(data_6_CO['accuracy']), len(data_7_CO['accuracy'])\n",
    "\n"
   ]
  },
  {
   "cell_type": "code",
   "execution_count": 62,
   "metadata": {},
   "outputs": [
    {
     "data": {
      "image/png": "[encoded data removed]",
      "text/plain": [
       "<Figure size 576x720 with 1 Axes>"
      ]
     },
     "metadata": {
      "needs_background": "light"
     },
     "output_type": "display_data"
    }
   ],
   "source": [
    "fig, ax = plt.subplots(figsize=[8,10])\n",
    "ax.spines['right'].set_visible(False)\n",
    "ax.spines['top'].set_visible(False)\n",
    "for axis in ['bottom','left']:\n",
    "    ax.spines[axis].set_linewidth(2.3)\n",
    "    \n",
    "plt.xticks( fontsize='15')\n",
    "plt.yticks(fontsize=15) \n",
    "plt.ylabel('count', fontsize=18)\n",
    "plt.xlabel('rating', fontsize=18)\n",
    "\n",
    "plt.title('Correct Trials Only', fontsize=22)\n",
    "    \n",
    "plt.bar(['1', '2', '3', '4', '5', '6', '7'], [97, 70, 37, 135, 80, 77, 141])\n",
    "\n",
    "plt.show()"
   ]
  },
  {
   "cell_type": "code",
   "execution_count": 64,
   "metadata": {},
   "outputs": [
    {
     "data": {
      "image/png": "[encoded data removed]",
      "text/plain": [
       "<Figure size 576x720 with 1 Axes>"
      ]
     },
     "metadata": {
      "needs_background": "light"
     },
     "output_type": "display_data"
    }
   ],
   "source": [
    "fig, ax = plt.subplots(figsize=[8,10])\n",
    "ax.spines['right'].set_visible(False)\n",
    "ax.spines['top'].set_visible(False)\n",
    "for axis in ['bottom','left']:\n",
    "    ax.spines[axis].set_linewidth(2.3)\n",
    "    \n",
    "x = np.arange(7)\n",
    "\n",
    "RT_ = [np.mean(np.array(data_1_CO['RT'])), np.mean(np.array(data_2_CO['RT'])), np.mean(np.array(data_3_CO['RT'])), np.mean(np.array(data_4_CO['RT'])), np.mean(np.array(data_5_CO['RT'])), np.mean(np.array(data_6_CO['RT'])), np.mean(np.array(data_7_CO['RT']))]\n",
    "yerr_RT = [sem(np.array(data_1_CO['RT'])), sem(np.array(data_2_CO['RT'])), sem(np.array(data_3_CO['RT'])), sem(np.array(data_4_CO['RT'])), sem(np.array(data_5_CO['RT'])), sem(np.array(data_6_CO['RT'])), sem(np.array(data_7_CO['RT']))]\n",
    "\n",
    "width = 0.2\n",
    "  \n",
    "# plot data in grouped manner of bar type\n",
    "plt.bar(x, RT_, width, color='gray', yerr=yerr_RT, capsize=5)\n",
    "plt.xticks(x, [1, 2, 3, 4, 5, 6, 7], fontsize='15')\n",
    "plt.ylim(800)\n",
    "plt.yticks(fontsize=15) \n",
    "plt.xlabel(\"Subject Rating\", fontsize=18)\n",
    "plt.ylabel(\"RT\", fontsize=18)\n",
    "# plt.legend(loc=1, fontsize=15)\n",
    "plt.show()"
   ]
  },
  {
   "cell_type": "code",
   "execution_count": 65,
   "metadata": {},
   "outputs": [
    {
     "data": {
      "image/png": "[encoded data removed]",
      "text/plain": [
       "<Figure size 576x720 with 1 Axes>"
      ]
     },
     "metadata": {
      "needs_background": "light"
     },
     "output_type": "display_data"
    }
   ],
   "source": [
    "fig, ax = plt.subplots(figsize=[8,10])\n",
    "ax.spines['right'].set_visible(False)\n",
    "ax.spines['top'].set_visible(False)\n",
    "for axis in ['bottom','left']:\n",
    "    ax.spines[axis].set_linewidth(2.3)\n",
    "    \n",
    "x = np.arange(7)\n",
    "\n",
    "RT_zo =   [data_1_zo_RT, data_2_zo_RT, data_3_zo_RT, data_4_zo_RT, data_5_zo_RT, data_6_zo_RT, data_7_zo_RT]\n",
    "yerr_RT_zo =  [data_1_zo_RT_sem, data_2_zo_RT_sem, data_3_zo_RT_sem, data_4_zo_RT_sem, data_5_zo_RT_sem, data_6_zo_RT_sem, data_7_zo_RT_sem]\n",
    "\n",
    "RT_zi =   [data_1_zi_RT, data_2_zi_RT, data_3_zi_RT, data_4_zi_RT, data_5_zi_RT, data_6_zi_RT, data_7_zi_RT]\n",
    "yerr_RT_zi =  [data_1_zi_RT_sem, data_2_zi_RT_sem, data_3_zi_RT_sem, data_4_zi_RT_sem, data_5_zi_RT_sem, data_6_zi_RT_sem, data_7_zi_RT_sem]\n",
    "\n",
    "width = 0.2\n",
    "  \n",
    "# plot data in grouped manner of bar type\n",
    "plt.bar(x-0.2, RT_zo, width, color='plum', label='Zoom out', yerr=yerr_RT_zo, capsize=5)\n",
    "plt.bar(x, RT_zi, width, color='purple', label='Zoom in', yerr=yerr_RT_zi, capsize=5)\n",
    "plt.xticks(x, [1, 2, 3, 4, 5, 6, 7], fontsize='15')\n",
    "plt.ylim(600)\n",
    "plt.yticks(fontsize=15) \n",
    "plt.xlabel(\"Subject Rating\", fontsize=18)\n",
    "plt.ylabel(\"RT (ms)\", fontsize=18)\n",
    "plt.legend(loc=1, fontsize=15)\n",
    "plt.show()"
   ]
  },
  {
   "cell_type": "code",
   "execution_count": 66,
   "metadata": {},
   "outputs": [],
   "source": [
    "data_1_objectScene1SemanticCongruency0_CO = data_1_CO.loc[data_1_CO['objectScene1SemanticCongruency'] == 0]\n",
    "data_1_objectScene1SemanticCongruency1_CO = data_1_CO.loc[data_1_CO['objectScene1SemanticCongruency'] == 1]\n",
    "\n",
    "data_2_objectScene1SemanticCongruency0_CO = data_2_CO.loc[data_2_CO['objectScene1SemanticCongruency'] == 0]\n",
    "data_2_objectScene1SemanticCongruency1_CO = data_2_CO.loc[data_2_CO['objectScene1SemanticCongruency'] == 1]\n",
    "\n",
    "data_3_objectScene1SemanticCongruency0_CO = data_3_CO.loc[data_3_CO['objectScene1SemanticCongruency'] == 0]\n",
    "data_3_objectScene1SemanticCongruency1_CO = data_3_CO.loc[data_3_CO['objectScene1SemanticCongruency'] == 1]\n",
    "\n",
    "data_4_objectScene1SemanticCongruency0_CO = data_4_CO.loc[data_4_CO['objectScene1SemanticCongruency'] == 0]\n",
    "data_4_objectScene1SemanticCongruency1_CO = data_4_CO.loc[data_4_CO['objectScene1SemanticCongruency'] == 1]\n",
    "\n",
    "data_5_objectScene1SemanticCongruency0_CO = data_5_CO.loc[data_5_CO['objectScene1SemanticCongruency'] == 0]\n",
    "data_5_objectScene1SemanticCongruency1_CO = data_5_CO.loc[data_5_CO['objectScene1SemanticCongruency'] == 1]\n",
    "\n",
    "data_6_objectScene1SemanticCongruency0_CO = data_6_CO.loc[data_6_CO['objectScene1SemanticCongruency'] == 0]\n",
    "data_6_objectScene1SemanticCongruency1_CO = data_6_CO.loc[data_6_CO['objectScene1SemanticCongruency'] == 1]\n",
    "\n",
    "data_7_objectScene1SemanticCongruency0_CO = data_7_CO.loc[data_7_CO['objectScene1SemanticCongruency'] == 0]\n",
    "data_7_objectScene1SemanticCongruency1_CO = data_7_CO.loc[data_7_CO['objectScene1SemanticCongruency'] == 1]\n"
   ]
  },
  {
   "cell_type": "code",
   "execution_count": 67,
   "metadata": {},
   "outputs": [],
   "source": [
    "data_1_objectScene1SemanticCongruency0_CO_RT = np.mean(np.array(data_1_objectScene1SemanticCongruency0_CO['RT']))\n",
    "data_1_objectScene1SemanticCongruency1_CO_RT = np.mean(np.array(data_1_objectScene1SemanticCongruency1_CO['RT']))\n",
    "\n",
    "data_1_objectScene1SemanticCongruency0_CO_RT_sem = sem(np.array(data_1_objectScene1SemanticCongruency0_CO['RT']))\n",
    "data_1_objectScene1SemanticCongruency1_CO_RT_sem = sem(np.array(data_1_objectScene1SemanticCongruency1_CO['RT']))\n",
    "\n",
    "\n",
    "data_2_objectScene1SemanticCongruency0_CO_RT = np.mean(np.array(data_2_objectScene1SemanticCongruency0_CO['RT']))\n",
    "data_2_objectScene1SemanticCongruency1_CO_RT = np.mean(np.array(data_2_objectScene1SemanticCongruency1_CO['RT']))\n",
    "\n",
    "data_2_objectScene1SemanticCongruency0_CO_RT_sem = sem(np.array(data_2_objectScene1SemanticCongruency0_CO['RT']))\n",
    "data_2_objectScene1SemanticCongruency1_CO_RT_sem = sem(np.array(data_2_objectScene1SemanticCongruency1_CO['RT']))\n",
    "\n",
    "\n",
    "data_3_objectScene1SemanticCongruency0_CO_RT = np.mean(np.array(data_3_objectScene1SemanticCongruency0_CO['RT']))\n",
    "data_3_objectScene1SemanticCongruency1_CO_RT = np.mean(np.array(data_3_objectScene1SemanticCongruency1_CO['RT']))\n",
    "\n",
    "data_3_objectScene1SemanticCongruency0_CO_RT_sem = sem(np.array(data_3_objectScene1SemanticCongruency0_CO['RT']))\n",
    "data_3_objectScene1SemanticCongruency1_CO_RT_sem =sem(np.array(data_3_objectScene1SemanticCongruency1_CO['RT']))\n",
    "\n",
    "\n",
    "data_4_objectScene1SemanticCongruency0_CO_RT = np.mean(np.array(data_4_objectScene1SemanticCongruency0_CO['RT']))\n",
    "data_4_objectScene1SemanticCongruency1_CO_RT = np.mean(np.array(data_4_objectScene1SemanticCongruency1_CO['RT']))\n",
    "\n",
    "data_4_objectScene1SemanticCongruency0_CO_RT_sem = sem(np.array(data_4_objectScene1SemanticCongruency0_CO['RT']))\n",
    "data_4_objectScene1SemanticCongruency1_CO_RT_sem = sem(np.array(data_4_objectScene1SemanticCongruency1_CO['RT']))\n",
    "\n",
    "\n",
    "data_5_objectScene1SemanticCongruency0_CO_RT = np.mean(np.array(data_5_objectScene1SemanticCongruency0_CO['RT']))\n",
    "data_5_objectScene1SemanticCongruency1_CO_RT = np.mean(np.array(data_5_objectScene1SemanticCongruency1_CO['RT']))\n",
    "\n",
    "data_5_objectScene1SemanticCongruency0_CO_RT_sem = sem(np.array(data_5_objectScene1SemanticCongruency0_CO['RT']))\n",
    "data_5_objectScene1SemanticCongruency1_CO_RT_sem = sem(np.array(data_5_objectScene1SemanticCongruency1_CO['RT']))\n",
    "\n",
    "\n",
    "data_6_objectScene1SemanticCongruency0_CO_RT = np.mean(np.array(data_6_objectScene1SemanticCongruency0_CO['RT']))\n",
    "data_6_objectScene1SemanticCongruency1_CO_RT = np.mean(np.array(data_6_objectScene1SemanticCongruency1_CO['RT']))\n",
    "\n",
    "data_6_objectScene1SemanticCongruency0_CO_RT_sem = sem(np.array(data_6_objectScene1SemanticCongruency0_CO['RT']))\n",
    "data_6_objectScene1SemanticCongruency1_CO_RT_sem = sem(np.array(data_6_objectScene1SemanticCongruency1_CO['RT']))\n",
    "\n",
    "\n",
    "data_7_objectScene1SemanticCongruency0_CO_RT = np.mean(np.array(data_7_objectScene1SemanticCongruency0_CO['RT']))\n",
    "data_7_objectScene1SemanticCongruency1_CO_RT = np.mean(np.array(data_7_objectScene1SemanticCongruency1_CO['RT']))\n",
    "\n",
    "data_7_objectScene1SemanticCongruency0_CO_RT_sem = sem(np.array(data_7_objectScene1SemanticCongruency0_CO['RT']))\n",
    "data_7_objectScene1SemanticCongruency1_CO_RT_sem = sem(np.array(data_7_objectScene1SemanticCongruency1_CO['RT']))"
   ]
  },
  {
   "cell_type": "code",
   "execution_count": 69,
   "metadata": {},
   "outputs": [
    {
     "data": {
      "image/png": "[encoded data removed]",
      "text/plain": [
       "<Figure size 576x720 with 1 Axes>"
      ]
     },
     "metadata": {
      "needs_background": "light"
     },
     "output_type": "display_data"
    }
   ],
   "source": [
    "fig, ax = plt.subplots(figsize=[8,10])\n",
    "ax.spines['right'].set_visible(False)\n",
    "ax.spines['top'].set_visible(False)\n",
    "for axis in ['bottom','left']:\n",
    "    ax.spines[axis].set_linewidth(2.3)\n",
    "    \n",
    "x = np.arange(7)\n",
    "\n",
    "RT_0 =   [data_1_objectScene1SemanticCongruency0_CO_RT, data_2_objectScene1SemanticCongruency0_CO_RT, data_3_objectScene1SemanticCongruency0_CO_RT, data_4_objectScene1SemanticCongruency0_CO_RT, data_5_objectScene1SemanticCongruency0_CO_RT, data_6_objectScene1SemanticCongruency0_CO_RT, data_7_objectScene1SemanticCongruency0_CO_RT]\n",
    "yerr_RT_0 =  [data_1_objectScene1SemanticCongruency0_CO_RT_sem, data_2_objectScene1SemanticCongruency0_CO_RT_sem, data_3_objectScene1SemanticCongruency0_CO_RT_sem, data_4_objectScene1SemanticCongruency0_CO_RT_sem, data_5_objectScene1SemanticCongruency0_CO_RT_sem, data_6_objectScene1SemanticCongruency0_CO_RT_sem, data_7_objectScene1SemanticCongruency0_CO_RT_sem]\n",
    "\n",
    "RT_1 =   [data_1_objectScene1SemanticCongruency1_CO_RT, data_2_objectScene1SemanticCongruency1_CO_RT, data_3_objectScene1SemanticCongruency1_CO_RT, data_4_objectScene1SemanticCongruency1_CO_RT, data_5_objectScene1SemanticCongruency1_CO_RT, data_6_objectScene1SemanticCongruency1_CO_RT, data_7_objectScene1SemanticCongruency1_CO_RT]\n",
    "yerr_RT_1 =  [data_1_objectScene1SemanticCongruency1_CO_RT_sem, data_2_objectScene1SemanticCongruency1_CO_RT_sem, data_3_objectScene1SemanticCongruency1_CO_RT_sem, data_4_objectScene1SemanticCongruency1_CO_RT_sem, data_5_objectScene1SemanticCongruency1_CO_RT_sem, data_6_objectScene1SemanticCongruency1_CO_RT_sem, data_7_objectScene1SemanticCongruency1_CO_RT_sem]\n",
    "\n",
    "width = 0.2\n",
    "  \n",
    "# plot data in grouped manner of bar type\n",
    "plt.bar(x-0.2, RT_0, width, color='plum', label='Object-Scene Semantic Incongruent', yerr=yerr_RT_0, capsize=5)\n",
    "plt.bar(x, RT_1, width, color='purple', label='Object-Scene Semantic Congruent', yerr=yerr_RT_1, capsize=5)\n",
    "plt.xticks(x, [1, 2, 3, 4, 5, 6, 7], fontsize='15')\n",
    "plt.ylim(800)\n",
    "plt.yticks(fontsize=15) \n",
    "plt.xlabel(\"Subject Rating\", fontsize=18)\n",
    "plt.ylabel(\"RT (ms)\", fontsize=18)\n",
    "plt.legend(loc=1, fontsize=15)\n",
    "plt.show()"
   ]
  },
  {
   "cell_type": "code",
   "execution_count": 403,
   "metadata": {},
   "outputs": [],
   "source": [
    "# How to correct for a not normal distribution"
   ]
  },
  {
   "cell_type": "code",
   "execution_count": 83,
   "metadata": {},
   "outputs": [],
   "source": [
    "data_1_ms = len(data_1.loc[data_1['misscaled']=='misscaled']['accuracy'])\n",
    "data_1_s = len(data_1.loc[data_1['misscaled']=='scaled']['accuracy'])\n",
    "\n",
    "data_2_ms = len(data_2.loc[data_2['misscaled']=='misscaled']['accuracy'])\n",
    "data_2_s = len(data_2.loc[data_2['misscaled']=='scaled']['accuracy'])\n",
    "\n",
    "data_3_ms = len(data_3.loc[data_3['misscaled']=='misscaled']['accuracy'])\n",
    "data_3_s = len(data_3.loc[data_3['misscaled']=='scaled']['accuracy'])\n",
    "\n",
    "data_4_ms = len(data_4.loc[data_4['misscaled']=='misscaled']['accuracy'])\n",
    "data_4_s = len(data_4.loc[data_4['misscaled']=='scaled']['accuracy'])\n",
    "\n",
    "data_5_ms = len(data_5.loc[data_5['misscaled']=='misscaled']['accuracy'])\n",
    "data_5_s = len(data_5.loc[data_5['misscaled']=='scaled']['accuracy'])\n",
    "\n",
    "data_6_ms = len(data_6.loc[data_6['misscaled']=='misscaled']['accuracy'])\n",
    "data_6_s = len(data_6.loc[data_6['misscaled']=='scaled']['accuracy'])\n",
    "\n",
    "data_7_ms = len(data_7.loc[data_7['misscaled']=='misscaled']['accuracy'])\n",
    "data_7_s = len(data_7.loc[data_7['misscaled']=='scaled']['accuracy'])"
   ]
  },
  {
   "cell_type": "code",
   "execution_count": 86,
   "metadata": {},
   "outputs": [
    {
     "data": {
      "image/png": "[encoded data removed]",
      "text/plain": [
       "<Figure size 576x720 with 1 Axes>"
      ]
     },
     "metadata": {
      "needs_background": "light"
     },
     "output_type": "display_data"
    }
   ],
   "source": [
    "fig, ax = plt.subplots(figsize=[8,10])\n",
    "ax.spines['right'].set_visible(False)\n",
    "ax.spines['top'].set_visible(False)\n",
    "for axis in ['bottom','left']:\n",
    "    ax.spines[axis].set_linewidth(2.3)\n",
    "    \n",
    "x = np.arange(7)\n",
    "\n",
    "rating_ms =   [data_1_ms, data_2_ms, data_3_ms, data_4_ms, data_5_ms, data_6_ms, data_7_ms]\n",
    "\n",
    "rating_s =   [data_1_s, data_2_s, data_3_s, data_4_s, data_5_s, data_6_s, data_7_s]\n",
    "\n",
    "width = 0.2\n",
    "  \n",
    "# plot data in grouped manner of bar type\n",
    "plt.bar(x-0.2, rating_ms, width, color='lightcoral', label='Misscaled')\n",
    "plt.bar(x, rating_s, width, color='brown', label='Scaled')\n",
    "plt.xticks(x, [1, 2, 3, 4, 5, 6, 7], fontsize='15')\n",
    "\n",
    "plt.yticks(fontsize=15) \n",
    "plt.xlabel(\"Subject Rating\", fontsize=18)\n",
    "plt.ylabel(\"Count\", fontsize=18)\n",
    "plt.legend(loc=1, fontsize=15)\n",
    "plt.show()"
   ]
  },
  {
   "cell_type": "code",
   "execution_count": null,
   "metadata": {},
   "outputs": [],
   "source": []
  },
  {
   "cell_type": "code",
   "execution_count": null,
   "metadata": {},
   "outputs": [],
   "source": []
  }
 ],
 "metadata": {
  "kernelspec": {
   "display_name": "Python 3",
   "language": "python",
   "name": "python3"
  },
  "language_info": {
   "codemirror_mode": {
    "name": "ipython",
    "version": 3
   },
   "file_extension": ".py",
   "mimetype": "text/x-python",
   "name": "python",
   "nbconvert_exporter": "python",
   "pygments_lexer": "ipython3",
   "version": "3.7.5"
  }
 },
 "nbformat": 4,
 "nbformat_minor": 4
}
