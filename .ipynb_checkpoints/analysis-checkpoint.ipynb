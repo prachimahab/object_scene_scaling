{
 "cells": [
  {
   "cell_type": "markdown",
   "metadata": {},
   "source": [
    "# Object-Scene Scaling Analysis"
   ]
  },
  {
   "cell_type": "code",
   "execution_count": 276,
   "metadata": {},
   "outputs": [],
   "source": [
    "import numpy as np\n",
    "import os\n",
    "import pandas as pd\n",
    "import math\n",
    "import matplotlib.pyplot as plt\n",
    "from scipy.stats import sem\n"
   ]
  },
  {
   "cell_type": "code",
   "execution_count": null,
   "metadata": {},
   "outputs": [],
   "source": []
  },
  {
   "cell_type": "markdown",
   "metadata": {},
   "source": [
    "### Exclusion Criteria\n",
    " - Accuracy: 70 % (17/24 correct)\n",
    " - RT: Exclude trial if < 250 ms or > 2s\n",
    " - Remove participant if more than 10% of the data is removed (?) \n",
    "    "
   ]
  },
  {
   "cell_type": "markdown",
   "metadata": {},
   "source": [
    "### Pilot Analysis Plots\n",
    "\n",
    "1. Overall Accuracy\n",
    "    - accuracy by scene category\n",
    "    - accuracy by zoom \n",
    "    - accuracy by zoom x match\n",
    "2. RT Distribution\n",
    "    - RT by scene category\n",
    "    - RT by zoom \n",
    "    - RT by zoom x match\n",
    "3. 2x3 ANOVA\n",
    " "
   ]
  },
  {
   "cell_type": "code",
   "execution_count": 277,
   "metadata": {},
   "outputs": [],
   "source": [
    "def combineCSVs(datafolder):\n",
    "    \"\"\"\n",
    "    Combine all participant data into one pandas df\n",
    "    OR \n",
    "    Create df for single participant file \n",
    "    \"\"\"\n",
    "    \n",
    "    exclude = []\n",
    "    \n",
    "    #checks if path is a file\n",
    "    isFile = os.path.isfile(datafolder)\n",
    "\n",
    "    #checks if path is a directory\n",
    "    \n",
    "    isDirectory = os.path.isdir(datafolder)\n",
    "    \n",
    "    if isDirectory == True:\n",
    "        data = []\n",
    "        for filename in os.listdir(datafolder):\n",
    "            if 'csv' in filename:\n",
    "                path = datafolder + \"/\" + filename\n",
    "                df = pd.read_csv(path, index_col=None, header=0)\n",
    "                \n",
    "                # do NOT include subject IDs that have been flagged \n",
    "                subjID = df.subjID.unique()[0]\n",
    "                if subjID not in exclude:\n",
    "                    data.append(df)\n",
    "\n",
    "        input_frame = pd.concat(data, axis=0, ignore_index=True)\n",
    "        \n",
    "    if isFile == True:\n",
    "        if 'csv' in datafolder:\n",
    "            input_frame = pd.read_csv(datafolder, index_col=None, header=0)\n",
    "    \n",
    "    print('Number of participants before cleaning: ', len(input_frame.subjID.unique()))\n",
    "\n",
    " \n",
    "    return input_frame"
   ]
  },
  {
   "cell_type": "code",
   "execution_count": 278,
   "metadata": {},
   "outputs": [],
   "source": [
    "# data_path = '/Users/prachi/Documents/object_scene_scaling_data/pilot2'\n",
    "\n",
    "data_path = '/Users/pmahableshwarkar/Downloads/pilot_b3b4'"
   ]
  },
  {
   "cell_type": "code",
   "execution_count": 279,
   "metadata": {},
   "outputs": [
    {
     "name": "stdout",
     "output_type": "stream",
     "text": [
      "Number of participants before cleaning:  43\n"
     ]
    }
   ],
   "source": [
    "input_data = combineCSVs(data_path)"
   ]
  },
  {
   "cell_type": "code",
   "execution_count": 280,
   "metadata": {},
   "outputs": [],
   "source": [
    "num_trials = 24"
   ]
  },
  {
   "cell_type": "code",
   "execution_count": 291,
   "metadata": {},
   "outputs": [],
   "source": [
    "def removeMissedTrials(input_data, num_trials):\n",
    "    \"\"\"\n",
    "    Remove trials where keypress was 'none'\n",
    "    \n",
    "    Remove participants who have more than 10% of their data removed\n",
    "    \"\"\"\n",
    "    \n",
    "    missedTrials_participants = {}\n",
    "    total_missed = 0\n",
    "    total = 0\n",
    "    for idx, row in input_data.iterrows():\n",
    "        total += 1\n",
    "        keyPress = row['keyPress']\n",
    "        if keyPress == 'none':\n",
    "            total_missed += 1\n",
    "            subjID = row['subjID']\n",
    "            if subjID not in missedTrials_participants:\n",
    "                missedTrials_participants[subjID] = 1\n",
    "            else:\n",
    "                missedTrials_participants[subjID] += 1\n",
    "\n",
    "            # remove trials with keyPress = none \n",
    "            input_data.drop(idx, inplace=True)\n",
    "    \n",
    "    # remove participants data if the participant's missed trial count is 10% or more of num_trials\n",
    "    threshold = math.floor(num_trials * 0.1)\n",
    "    \n",
    "#     remove_ids = []\n",
    "#     for key in missedTrials_participants:\n",
    "#         if missedTrials_participants[key] >= threshold:\n",
    "#             remove_ids.append(key)\n",
    "#     print(\"Number of participants with 10% or more missed trials: \", len(remove_ids))\n",
    "#     print(\"Percent of missed trials: \", total_missed/total)\n",
    "\n",
    "#     for index, row in input_data.iterrows():\n",
    "#         if row['subjID'] in remove_ids:\n",
    "#             input_data.drop(index, inplace=True)\n",
    "    \n",
    "    return input_data"
   ]
  },
  {
   "cell_type": "code",
   "execution_count": 292,
   "metadata": {},
   "outputs": [],
   "source": [
    "missed_trial_cleaned_data = removeMissedTrials(input_data, num_trials)"
   ]
  },
  {
   "cell_type": "code",
   "execution_count": 293,
   "metadata": {},
   "outputs": [],
   "source": [
    "def RT_Cleaning(df, outlier_range, num_trials):\n",
    "    \"\"\"\n",
    "    Remove trials where trial RT is outside of the defined outlier range \n",
    "    \n",
    "    Remove participants who have more than 10% of their data removed\n",
    "    \n",
    "    Returns:\n",
    "        dataframe with outlier RT trials and outlier participants removed\n",
    "        list of all RTs \n",
    "    \"\"\"\n",
    "    #List unique values in the df['subjID'] column\n",
    "    all_subjIDs = df.subjID.unique()\n",
    "    \n",
    "    remove = []\n",
    "    df2_list = []\n",
    "    total_RT_outliers = 0\n",
    "    total = 0\n",
    "    list_trialRT = []\n",
    "    for subj in all_subjIDs:\n",
    "        count = 0\n",
    "        subj_df = df.loc[df['subjID'] == subj]\n",
    "        cleaned_subj_df = subj_df.copy(deep=True) # prevent setting with copy warning \n",
    "\n",
    "        for idx, row in subj_df.iterrows():\n",
    "            total += 1\n",
    "            RT = row[\"RT\"]\n",
    "            list_trialRT.append(RT)\n",
    "            if RT < outlier_range[0]: # outlier\n",
    "                cleaned_subj_df.drop([idx], inplace=True)\n",
    "                count += 1\n",
    "                total_RT_outliers += 1\n",
    "            if RT > outlier_range[1]:\n",
    "                cleaned_subj_df.drop([idx], inplace=True)\n",
    "                count += 1\n",
    "                total_RT_outliers += 1\n",
    "                \n",
    "        threshold = math.floor(num_trials * 0.1)\n",
    "        if count >= threshold:\n",
    "            remove.append(subj)\n",
    "        \n",
    "        df2_list.append(cleaned_subj_df)\n",
    "    \n",
    "    df2 = pd.concat(df2_list)\n",
    "            \n",
    "#     print(\"Number of Participants with 10% or more trials outside their RT range: \", len(remove))\n",
    "#     print(\"Percent of RT trials outside the outlier range: \", total_RT_outliers/total)\n",
    "    \n",
    "#     for index, row in df2.iterrows():\n",
    "#         if row['subjID'] in remove:\n",
    "#             df2.drop(index, inplace=True)\n",
    "                \n",
    "    return df2, list_trialRT"
   ]
  },
  {
   "cell_type": "code",
   "execution_count": 294,
   "metadata": {},
   "outputs": [],
   "source": [
    "RT_cleaned_data, trialRTs_distribution = RT_Cleaning(input_data, [250, 2000], num_trials)\n"
   ]
  },
  {
   "cell_type": "code",
   "execution_count": null,
   "metadata": {},
   "outputs": [],
   "source": []
  },
  {
   "cell_type": "code",
   "execution_count": 295,
   "metadata": {},
   "outputs": [
    {
     "data": {
      "image/png": "[encoded data removed]",
      "text/plain": [
       "<Figure size 432x288 with 1 Axes>"
      ]
     },
     "metadata": {
      "needs_background": "light"
     },
     "output_type": "display_data"
    }
   ],
   "source": [
    "plt.figure()\n",
    "plt.hist(list(RT_cleaned_data['RT']), color='darkorange')\n",
    "plt.title('RT Distribution', fontsize=16)\n",
    "plt.xlabel('RT (ms)', fontsize=12)\n",
    "plt.ylabel('Number of participants', fontsize=12)\n",
    "plt.show()"
   ]
  },
  {
   "cell_type": "code",
   "execution_count": 296,
   "metadata": {},
   "outputs": [],
   "source": [
    "def Accuracy_Cleaning(df, accuracy_threshold, num_trials):\n",
    "    \"\"\"    \n",
    "    Remove participants with overall accuracy below the accuracy threshold (e.g. 0.7)\n",
    "    \n",
    "    Returns:\n",
    "        data of participants that passed the accuracy threshold \n",
    "        list of the number of correct trials each participant got\n",
    "    \"\"\"\n",
    "    #List unique values in the df['subjID'] column\n",
    "    all_subjIDs = df.subjID.unique()\n",
    "    \n",
    "    remove = []\n",
    "    df2_list = []\n",
    "    list_trials_correct = []\n",
    "    for subj in all_subjIDs:\n",
    "        subj_df = df.loc[df['subjID'] == subj]\n",
    "        cleaned_subj_df = subj_df.copy(deep=True) # prevent setting with copy warning \n",
    "        \n",
    "        subj_num_correct_trials = 0\n",
    "        for idx, row in subj_df.iterrows():\n",
    "            trial_acc = row['accuracy']\n",
    "            if trial_acc == 1:\n",
    "                subj_num_correct_trials += 1\n",
    "                    \n",
    "        # minimum number of trials correct the participant must have to be included\n",
    "        threshold = math.floor(num_trials * accuracy_threshold)\n",
    "        if subj_num_correct_trials < threshold:\n",
    "            remove.append(subj)\n",
    "        \n",
    "        list_trials_correct.append(subj_num_correct_trials)\n",
    "        \n",
    "        df2_list.append(cleaned_subj_df)\n",
    "    \n",
    "    df2 = pd.concat(df2_list)\n",
    "    \n",
    "    print('Minimum number of trials correct: ', threshold)\n",
    "    print(\"Number of Participants with accuracy below 70%: \", len(remove))\n",
    "    \n",
    "    for index, row in df2.iterrows():\n",
    "        if row['subjID'] in remove:\n",
    "            df2.drop(index, inplace=True)\n",
    "                \n",
    "    return df2, list_trials_correct "
   ]
  },
  {
   "cell_type": "code",
   "execution_count": 297,
   "metadata": {},
   "outputs": [
    {
     "name": "stdout",
     "output_type": "stream",
     "text": [
      "Minimum number of trials correct:  16\n",
      "Number of Participants with accuracy below 70%:  18\n"
     ]
    }
   ],
   "source": [
    "Accuracy_cleaned_data, correct_trials_distribution = Accuracy_Cleaning(RT_cleaned_data, 0.7, num_trials)\n"
   ]
  },
  {
   "cell_type": "code",
   "execution_count": 298,
   "metadata": {},
   "outputs": [
    {
     "data": {
      "text/plain": [
       "0.8525754884547069"
      ]
     },
     "execution_count": 298,
     "metadata": {},
     "output_type": "execute_result"
    }
   ],
   "source": [
    "np.sum(np.array(Accuracy_cleaned_data['accuracy']))/len(np.array(Accuracy_cleaned_data['accuracy']))"
   ]
  },
  {
   "cell_type": "code",
   "execution_count": 299,
   "metadata": {},
   "outputs": [
    {
     "data": {
      "image/png": "[encoded data removed]",
      "text/plain": [
       "<Figure size 432x288 with 1 Axes>"
      ]
     },
     "metadata": {
      "needs_background": "light"
     },
     "output_type": "display_data"
    }
   ],
   "source": [
    "plt.figure()\n",
    "plt.hist((np.array(correct_trials_distribution))/num_trials, color='darkblue', bins=20)\n",
    "plt.yticks(np.arange(1,3))\n",
    "plt.title('Accuracy Distribution', fontsize=16)\n",
    "plt.xlabel('Percent Correct', fontsize=12)\n",
    "plt.ylabel('Number of participants', fontsize=12)\n",
    "plt.show()"
   ]
  },
  {
   "cell_type": "code",
   "execution_count": 300,
   "metadata": {},
   "outputs": [
    {
     "data": {
      "text/html": [
       "<div>\n",
       "<style scoped>\n",
       "    .dataframe tbody tr th:only-of-type {\n",
       "        vertical-align: middle;\n",
       "    }\n",
       "\n",
       "    .dataframe tbody tr th {\n",
       "        vertical-align: top;\n",
       "    }\n",
       "\n",
       "    .dataframe thead th {\n",
       "        text-align: right;\n",
       "    }\n",
       "</style>\n",
       "<table border=\"1\" class=\"dataframe\">\n",
       "  <thead>\n",
       "    <tr style=\"text-align: right;\">\n",
       "      <th></th>\n",
       "      <th>subjID</th>\n",
       "      <th>experimentName</th>\n",
       "      <th>versionName</th>\n",
       "      <th>windowWidth</th>\n",
       "      <th>windowHeight</th>\n",
       "      <th>screenWidth</th>\n",
       "      <th>screenHeight</th>\n",
       "      <th>startDate</th>\n",
       "      <th>startTime</th>\n",
       "      <th>pracTries</th>\n",
       "      <th>...</th>\n",
       "      <th>objectCategory</th>\n",
       "      <th>sceneImage</th>\n",
       "      <th>objectImage</th>\n",
       "      <th>semanticMatch</th>\n",
       "      <th>sceneZoom</th>\n",
       "      <th>keyPress</th>\n",
       "      <th>accuracy</th>\n",
       "      <th>RT</th>\n",
       "      <th>experimentTime</th>\n",
       "      <th>totalTime</th>\n",
       "    </tr>\n",
       "  </thead>\n",
       "  <tbody>\n",
       "    <tr>\n",
       "      <td>0</td>\n",
       "      <td>107406</td>\n",
       "      <td>OSS</td>\n",
       "      <td>v1</td>\n",
       "      <td>877</td>\n",
       "      <td>911</td>\n",
       "      <td>1920</td>\n",
       "      <td>1080</td>\n",
       "      <td>9-5-2022</td>\n",
       "      <td>11-29-11</td>\n",
       "      <td>2</td>\n",
       "      <td>...</td>\n",
       "      <td>classroom</td>\n",
       "      <td>g5_zo.png</td>\n",
       "      <td>c_mouse.png</td>\n",
       "      <td>0</td>\n",
       "      <td>zo</td>\n",
       "      <td>m</td>\n",
       "      <td>1</td>\n",
       "      <td>919</td>\n",
       "      <td>61697</td>\n",
       "      <td>124270</td>\n",
       "    </tr>\n",
       "    <tr>\n",
       "      <td>1</td>\n",
       "      <td>107406</td>\n",
       "      <td>OSS</td>\n",
       "      <td>v1</td>\n",
       "      <td>877</td>\n",
       "      <td>911</td>\n",
       "      <td>1920</td>\n",
       "      <td>1080</td>\n",
       "      <td>9-5-2022</td>\n",
       "      <td>11-29-11</td>\n",
       "      <td>2</td>\n",
       "      <td>...</td>\n",
       "      <td>classroom</td>\n",
       "      <td>c2_zc.png</td>\n",
       "      <td>c_eraser.png</td>\n",
       "      <td>1</td>\n",
       "      <td>zc</td>\n",
       "      <td>m</td>\n",
       "      <td>0</td>\n",
       "      <td>1175</td>\n",
       "      <td>61697</td>\n",
       "      <td>124270</td>\n",
       "    </tr>\n",
       "    <tr>\n",
       "      <td>2</td>\n",
       "      <td>107406</td>\n",
       "      <td>OSS</td>\n",
       "      <td>v1</td>\n",
       "      <td>877</td>\n",
       "      <td>911</td>\n",
       "      <td>1920</td>\n",
       "      <td>1080</td>\n",
       "      <td>9-5-2022</td>\n",
       "      <td>11-29-11</td>\n",
       "      <td>2</td>\n",
       "      <td>...</td>\n",
       "      <td>gym</td>\n",
       "      <td>g2_zo.png</td>\n",
       "      <td>g_boxingglove.png</td>\n",
       "      <td>1</td>\n",
       "      <td>zo</td>\n",
       "      <td>c</td>\n",
       "      <td>1</td>\n",
       "      <td>1025</td>\n",
       "      <td>61697</td>\n",
       "      <td>124270</td>\n",
       "    </tr>\n",
       "    <tr>\n",
       "      <td>3</td>\n",
       "      <td>107406</td>\n",
       "      <td>OSS</td>\n",
       "      <td>v1</td>\n",
       "      <td>877</td>\n",
       "      <td>911</td>\n",
       "      <td>1920</td>\n",
       "      <td>1080</td>\n",
       "      <td>9-5-2022</td>\n",
       "      <td>11-29-11</td>\n",
       "      <td>2</td>\n",
       "      <td>...</td>\n",
       "      <td>bathroom</td>\n",
       "      <td>k2_zi.png</td>\n",
       "      <td>b_toothpaste.png</td>\n",
       "      <td>0</td>\n",
       "      <td>zi</td>\n",
       "      <td>m</td>\n",
       "      <td>1</td>\n",
       "      <td>1190</td>\n",
       "      <td>61697</td>\n",
       "      <td>124270</td>\n",
       "    </tr>\n",
       "    <tr>\n",
       "      <td>4</td>\n",
       "      <td>107406</td>\n",
       "      <td>OSS</td>\n",
       "      <td>v1</td>\n",
       "      <td>877</td>\n",
       "      <td>911</td>\n",
       "      <td>1920</td>\n",
       "      <td>1080</td>\n",
       "      <td>9-5-2022</td>\n",
       "      <td>11-29-11</td>\n",
       "      <td>2</td>\n",
       "      <td>...</td>\n",
       "      <td>kitchen</td>\n",
       "      <td>k4_zo.png</td>\n",
       "      <td>k_ovenmitt.png</td>\n",
       "      <td>1</td>\n",
       "      <td>zo</td>\n",
       "      <td>c</td>\n",
       "      <td>1</td>\n",
       "      <td>749</td>\n",
       "      <td>61697</td>\n",
       "      <td>124270</td>\n",
       "    </tr>\n",
       "    <tr>\n",
       "      <td>...</td>\n",
       "      <td>...</td>\n",
       "      <td>...</td>\n",
       "      <td>...</td>\n",
       "      <td>...</td>\n",
       "      <td>...</td>\n",
       "      <td>...</td>\n",
       "      <td>...</td>\n",
       "      <td>...</td>\n",
       "      <td>...</td>\n",
       "      <td>...</td>\n",
       "      <td>...</td>\n",
       "      <td>...</td>\n",
       "      <td>...</td>\n",
       "      <td>...</td>\n",
       "      <td>...</td>\n",
       "      <td>...</td>\n",
       "      <td>...</td>\n",
       "      <td>...</td>\n",
       "      <td>...</td>\n",
       "      <td>...</td>\n",
       "      <td>...</td>\n",
       "    </tr>\n",
       "    <tr>\n",
       "      <td>1026</td>\n",
       "      <td>448423</td>\n",
       "      <td>OSS</td>\n",
       "      <td>v1</td>\n",
       "      <td>1500</td>\n",
       "      <td>749</td>\n",
       "      <td>1200</td>\n",
       "      <td>750</td>\n",
       "      <td>9-5-2022</td>\n",
       "      <td>13-10-50</td>\n",
       "      <td>2</td>\n",
       "      <td>...</td>\n",
       "      <td>bathroom</td>\n",
       "      <td>k5_zo.png</td>\n",
       "      <td>b_soap.png</td>\n",
       "      <td>0</td>\n",
       "      <td>zo</td>\n",
       "      <td>c</td>\n",
       "      <td>0</td>\n",
       "      <td>1006</td>\n",
       "      <td>63778</td>\n",
       "      <td>116513</td>\n",
       "    </tr>\n",
       "    <tr>\n",
       "      <td>1027</td>\n",
       "      <td>448423</td>\n",
       "      <td>OSS</td>\n",
       "      <td>v1</td>\n",
       "      <td>1500</td>\n",
       "      <td>749</td>\n",
       "      <td>1200</td>\n",
       "      <td>750</td>\n",
       "      <td>9-5-2022</td>\n",
       "      <td>13-10-50</td>\n",
       "      <td>2</td>\n",
       "      <td>...</td>\n",
       "      <td>bathroom</td>\n",
       "      <td>b0_zo.png</td>\n",
       "      <td>b_toothpaste.png</td>\n",
       "      <td>1</td>\n",
       "      <td>zo</td>\n",
       "      <td>c</td>\n",
       "      <td>1</td>\n",
       "      <td>1081</td>\n",
       "      <td>63778</td>\n",
       "      <td>116513</td>\n",
       "    </tr>\n",
       "    <tr>\n",
       "      <td>1028</td>\n",
       "      <td>448423</td>\n",
       "      <td>OSS</td>\n",
       "      <td>v1</td>\n",
       "      <td>1500</td>\n",
       "      <td>749</td>\n",
       "      <td>1200</td>\n",
       "      <td>750</td>\n",
       "      <td>9-5-2022</td>\n",
       "      <td>13-10-50</td>\n",
       "      <td>2</td>\n",
       "      <td>...</td>\n",
       "      <td>gym</td>\n",
       "      <td>c1_zi.png</td>\n",
       "      <td>g_dumbell.png</td>\n",
       "      <td>0</td>\n",
       "      <td>zi</td>\n",
       "      <td>m</td>\n",
       "      <td>1</td>\n",
       "      <td>926</td>\n",
       "      <td>63778</td>\n",
       "      <td>116513</td>\n",
       "    </tr>\n",
       "    <tr>\n",
       "      <td>1029</td>\n",
       "      <td>448423</td>\n",
       "      <td>OSS</td>\n",
       "      <td>v1</td>\n",
       "      <td>1500</td>\n",
       "      <td>749</td>\n",
       "      <td>1200</td>\n",
       "      <td>750</td>\n",
       "      <td>9-5-2022</td>\n",
       "      <td>13-10-50</td>\n",
       "      <td>2</td>\n",
       "      <td>...</td>\n",
       "      <td>gym</td>\n",
       "      <td>g3_zi.png</td>\n",
       "      <td>g_jumprope.png</td>\n",
       "      <td>1</td>\n",
       "      <td>zi</td>\n",
       "      <td>c</td>\n",
       "      <td>1</td>\n",
       "      <td>1070</td>\n",
       "      <td>63778</td>\n",
       "      <td>116513</td>\n",
       "    </tr>\n",
       "    <tr>\n",
       "      <td>1030</td>\n",
       "      <td>448423</td>\n",
       "      <td>OSS</td>\n",
       "      <td>v1</td>\n",
       "      <td>1500</td>\n",
       "      <td>749</td>\n",
       "      <td>1200</td>\n",
       "      <td>750</td>\n",
       "      <td>9-5-2022</td>\n",
       "      <td>13-10-50</td>\n",
       "      <td>2</td>\n",
       "      <td>...</td>\n",
       "      <td>kitchen</td>\n",
       "      <td>k2_zi.png</td>\n",
       "      <td>k_mug.png</td>\n",
       "      <td>1</td>\n",
       "      <td>zi</td>\n",
       "      <td>c</td>\n",
       "      <td>1</td>\n",
       "      <td>809</td>\n",
       "      <td>63778</td>\n",
       "      <td>116513</td>\n",
       "    </tr>\n",
       "  </tbody>\n",
       "</table>\n",
       "<p>563 rows × 22 columns</p>\n",
       "</div>"
      ],
      "text/plain": [
       "      subjID experimentName versionName  windowWidth  windowHeight  \\\n",
       "0     107406            OSS          v1          877           911   \n",
       "1     107406            OSS          v1          877           911   \n",
       "2     107406            OSS          v1          877           911   \n",
       "3     107406            OSS          v1          877           911   \n",
       "4     107406            OSS          v1          877           911   \n",
       "...      ...            ...         ...          ...           ...   \n",
       "1026  448423            OSS          v1         1500           749   \n",
       "1027  448423            OSS          v1         1500           749   \n",
       "1028  448423            OSS          v1         1500           749   \n",
       "1029  448423            OSS          v1         1500           749   \n",
       "1030  448423            OSS          v1         1500           749   \n",
       "\n",
       "      screenWidth  screenHeight startDate startTime  pracTries  ...  \\\n",
       "0            1920          1080  9-5-2022  11-29-11          2  ...   \n",
       "1            1920          1080  9-5-2022  11-29-11          2  ...   \n",
       "2            1920          1080  9-5-2022  11-29-11          2  ...   \n",
       "3            1920          1080  9-5-2022  11-29-11          2  ...   \n",
       "4            1920          1080  9-5-2022  11-29-11          2  ...   \n",
       "...           ...           ...       ...       ...        ...  ...   \n",
       "1026         1200           750  9-5-2022  13-10-50          2  ...   \n",
       "1027         1200           750  9-5-2022  13-10-50          2  ...   \n",
       "1028         1200           750  9-5-2022  13-10-50          2  ...   \n",
       "1029         1200           750  9-5-2022  13-10-50          2  ...   \n",
       "1030         1200           750  9-5-2022  13-10-50          2  ...   \n",
       "\n",
       "      objectCategory sceneImage        objectImage semanticMatch sceneZoom  \\\n",
       "0          classroom  g5_zo.png        c_mouse.png             0        zo   \n",
       "1          classroom  c2_zc.png       c_eraser.png             1        zc   \n",
       "2                gym  g2_zo.png  g_boxingglove.png             1        zo   \n",
       "3           bathroom  k2_zi.png   b_toothpaste.png             0        zi   \n",
       "4            kitchen  k4_zo.png     k_ovenmitt.png             1        zo   \n",
       "...              ...        ...                ...           ...       ...   \n",
       "1026        bathroom  k5_zo.png         b_soap.png             0        zo   \n",
       "1027        bathroom  b0_zo.png   b_toothpaste.png             1        zo   \n",
       "1028             gym  c1_zi.png      g_dumbell.png             0        zi   \n",
       "1029             gym  g3_zi.png     g_jumprope.png             1        zi   \n",
       "1030         kitchen  k2_zi.png          k_mug.png             1        zi   \n",
       "\n",
       "      keyPress accuracy    RT  experimentTime  totalTime  \n",
       "0            m        1   919           61697     124270  \n",
       "1            m        0  1175           61697     124270  \n",
       "2            c        1  1025           61697     124270  \n",
       "3            m        1  1190           61697     124270  \n",
       "4            c        1   749           61697     124270  \n",
       "...        ...      ...   ...             ...        ...  \n",
       "1026         c        0  1006           63778     116513  \n",
       "1027         c        1  1081           63778     116513  \n",
       "1028         m        1   926           63778     116513  \n",
       "1029         c        1  1070           63778     116513  \n",
       "1030         c        1   809           63778     116513  \n",
       "\n",
       "[563 rows x 22 columns]"
      ]
     },
     "execution_count": 300,
     "metadata": {},
     "output_type": "execute_result"
    }
   ],
   "source": [
    "final_data = Accuracy_cleaned_data.copy(deep=True)\n",
    "final_data"
   ]
  },
  {
   "cell_type": "code",
   "execution_count": 301,
   "metadata": {},
   "outputs": [],
   "source": [
    "# data split by semantic match\n",
    "catCongruent_df = final_data.loc[final_data['semanticMatch'] == 1.0]\n",
    "catIncongruent_df = final_data.loc[final_data['semanticMatch'] == 0.0]\n"
   ]
  },
  {
   "cell_type": "code",
   "execution_count": 302,
   "metadata": {},
   "outputs": [],
   "source": [
    "# data split by zoom level \n",
    "zo_df = final_data.loc[final_data['sceneZoom'] == 'zo']\n",
    "zi_df = final_data.loc[final_data['sceneZoom'] == 'zi']\n",
    "zc_df = final_data.loc[final_data['sceneZoom'] == 'zc']\n"
   ]
  },
  {
   "cell_type": "code",
   "execution_count": 303,
   "metadata": {},
   "outputs": [],
   "source": [
    "# semantic matched data across all zooms \n",
    "zo_catCongruent = catCongruent_df.loc[catCongruent_df['sceneZoom'] == 'zo']\n",
    "zi_catCongruent = catCongruent_df.loc[catCongruent_df['sceneZoom'] == 'zi']\n",
    "zc_catCongruent = catCongruent_df.loc[catCongruent_df['sceneZoom'] == 'zc']\n"
   ]
  },
  {
   "cell_type": "code",
   "execution_count": 304,
   "metadata": {},
   "outputs": [],
   "source": [
    "# semantic mis-matched data across all zooms \n",
    "zo_catIncongruent = catIncongruent_df.loc[catIncongruent_df['sceneZoom'] == 'zo']\n",
    "zi_catIncongruent = catIncongruent_df.loc[catIncongruent_df['sceneZoom'] == 'zi']\n",
    "zc_catIncongruent = catIncongruent_df.loc[catIncongruent_df['sceneZoom'] == 'zc']\n"
   ]
  },
  {
   "cell_type": "markdown",
   "metadata": {},
   "source": [
    "## Accuracy\n",
    "\n",
    "\n",
    "add error bars\n",
    "- overall accuracy per subj in each condition "
   ]
  },
  {
   "cell_type": "code",
   "execution_count": 305,
   "metadata": {},
   "outputs": [
    {
     "data": {
      "text/plain": [
       "(0.9148936170212766, 0.7900355871886121)"
      ]
     },
     "execution_count": 305,
     "metadata": {},
     "output_type": "execute_result"
    }
   ],
   "source": [
    "catCongruent_acc = np.sum(np.array(catCongruent_df['accuracy']))/len(np.array(catCongruent_df['accuracy']))\n",
    "catIncongruent_acc = np.sum(np.array(catIncongruent_df['accuracy']))/len(np.array(catIncongruent_df['accuracy']))\n",
    "\n",
    "catCongruent_acc, catIncongruent_acc"
   ]
  },
  {
   "cell_type": "code",
   "execution_count": 306,
   "metadata": {},
   "outputs": [
    {
     "data": {
      "text/plain": [
       "(0.8333333333333334, 0.8578947368421053, 0.8663101604278075)"
      ]
     },
     "execution_count": 306,
     "metadata": {},
     "output_type": "execute_result"
    }
   ],
   "source": [
    "zo_acc = np.sum(np.array(zo_df['accuracy']))/len(np.array(zo_df['accuracy']))\n",
    "zi_acc = np.sum(np.array(zi_df['accuracy']))/len(np.array(zi_df['accuracy']))\n",
    "zc_acc = np.sum(np.array(zc_df['accuracy']))/len(np.array(zc_df['accuracy']))\n",
    "\n",
    "zo_acc, zi_acc, zc_acc"
   ]
  },
  {
   "cell_type": "code",
   "execution_count": 307,
   "metadata": {},
   "outputs": [
    {
     "data": {
      "text/plain": [
       "(0.9139784946236559, 0.925531914893617, 0.9052631578947369)"
      ]
     },
     "execution_count": 307,
     "metadata": {},
     "output_type": "execute_result"
    }
   ],
   "source": [
    "zo_catCongruent_acc = np.sum(np.array(zo_catCongruent['accuracy']))/len(np.array(zo_catCongruent['accuracy']))\n",
    "zi_catCongruent_acc = np.sum(np.array(zi_catCongruent['accuracy']))/len(np.array(zi_catCongruent['accuracy']))\n",
    "zc_catCongruent_acc = np.sum(np.array(zc_catCongruent['accuracy']))/len(np.array(zc_catCongruent['accuracy']))\n",
    "\n",
    "zo_catCongruent_acc,  zc_catCongruent_acc, zi_catCongruent_acc"
   ]
  },
  {
   "cell_type": "code",
   "execution_count": 308,
   "metadata": {},
   "outputs": [],
   "source": [
    "zo_catCongruent_acc_sem = sem(np.array(zo_catCongruent['accuracy']))/len(np.array(zo_catCongruent['accuracy']))\n",
    "zi_catCongruent_acc_sem = sem(np.array(zi_catCongruent['accuracy']))/len(np.array(zi_catCongruent['accuracy']))\n",
    "zc_catCongruent_acc_sem = sem(np.array(zc_catCongruent['accuracy']))/len(np.array(zc_catCongruent['accuracy']))\n",
    "\n"
   ]
  },
  {
   "cell_type": "code",
   "execution_count": 309,
   "metadata": {},
   "outputs": [
    {
     "data": {
      "text/plain": [
       "(0.7526881720430108, 0.8064516129032258, 0.8105263157894737)"
      ]
     },
     "execution_count": 309,
     "metadata": {},
     "output_type": "execute_result"
    }
   ],
   "source": [
    "zo_catIncongruent_acc = np.sum(np.array(zo_catIncongruent['accuracy']))/len(np.array(zo_catIncongruent['accuracy']))\n",
    "zi_catIncongruent_acc = np.sum(np.array(zi_catIncongruent['accuracy']))/len(np.array(zi_catIncongruent['accuracy']))\n",
    "zc_catIncongruent_acc = np.sum(np.array(zc_catIncongruent['accuracy']))/len(np.array(zc_catIncongruent['accuracy']))\n",
    "\n",
    "zo_catIncongruent_acc, zc_catIncongruent_acc ,zi_catIncongruent_acc"
   ]
  },
  {
   "cell_type": "code",
   "execution_count": 310,
   "metadata": {},
   "outputs": [
    {
     "data": {
      "image/png": "[encoded data removed]",
      "text/plain": [
       "<Figure size 576x576 with 1 Axes>"
      ]
     },
     "metadata": {
      "needs_background": "light"
     },
     "output_type": "display_data"
    }
   ],
   "source": [
    "plt.figure(figsize=[8,8])\n",
    "x = np.arange(3)\n",
    "#                          z0                   zc                  zi\n",
    "Acc_catCongruent =   [zo_catCongruent_acc, zc_catCongruent_acc, zi_catCongruent_acc]\n",
    "\n",
    "Acc_catIncongruent = [zo_catIncongruent_acc, zc_catIncongruent_acc, zi_catIncongruent_acc]\n",
    "\n",
    "width = 0.2\n",
    "  \n",
    "# plot data in grouped manner of bar type\n",
    "plt.bar(x-0.2, Acc_catCongruent, width, color='cyan', label='Category Congruent')\n",
    "plt.bar(x, Acc_catIncongruent, width, color='royalblue', label='Category Incongruent')\n",
    "plt.xticks(x, ['zo', 'zc', 'zi'], fontsize='12')\n",
    "plt.xlabel(\"Zoom level\", fontsize=15)\n",
    "plt.ylabel(\"Percent Correct\", fontsize=15)\n",
    "plt.legend(loc=1, fontsize=10)\n",
    "plt.show()"
   ]
  },
  {
   "cell_type": "markdown",
   "metadata": {},
   "source": [
    "### Accuracy by Scene Category"
   ]
  },
  {
   "cell_type": "code",
   "execution_count": 311,
   "metadata": {},
   "outputs": [
    {
     "data": {
      "text/plain": [
       "['gym', 'classroom', 'kitchen', 'bathroom']"
      ]
     },
     "execution_count": 311,
     "metadata": {},
     "output_type": "execute_result"
    }
   ],
   "source": [
    "all_sceneCategories = final_data.sceneCategory.unique()\n",
    "all_sceneCategories = [scene for scene in all_sceneCategories if type(scene) == str]\n",
    "all_sceneCategories"
   ]
  },
  {
   "cell_type": "code",
   "execution_count": 312,
   "metadata": {},
   "outputs": [],
   "source": [
    "scenes = []\n",
    "scenes_acc = []\n",
    "for scene in all_sceneCategories:\n",
    "    scene_df = final_data.loc[final_data['sceneCategory'] == scene]\n",
    "    scene_acc = np.sum(np.array(scene_df['accuracy']))/len(np.array(scene_df['accuracy']))\n",
    "    scenes.append(scene)\n",
    "    scenes_acc.append(scene_acc)\n"
   ]
  },
  {
   "cell_type": "code",
   "execution_count": 313,
   "metadata": {},
   "outputs": [
    {
     "data": {
      "image/png": "[encoded data removed]",
      "text/plain": [
       "<Figure size 432x432 with 1 Axes>"
      ]
     },
     "metadata": {
      "needs_background": "light"
     },
     "output_type": "display_data"
    }
   ],
   "source": [
    "plt.figure(figsize=[6,6])\n",
    "\n",
    "width = 0.2\n",
    "\n",
    "plt.xticks(np.arange(len(scenes)), scenes, fontsize=12)\n",
    "plt.ylim([0, 1])\n",
    "plt.bar(np.arange(len(scenes)), scenes_acc, color='darkblue')\n",
    "plt.xlabel('Scene Category', fontsize=14)\n",
    "plt.ylabel('Percent Correct', fontsize=14)\n",
    "plt.title('Accuracy x Scene Category', fontsize=16)\n",
    "\n",
    "plt.show();"
   ]
  },
  {
   "cell_type": "markdown",
   "metadata": {},
   "source": [
    "## RT\n",
    "\n",
    "CREATE DIFF DF - ONLY INCLUDE CORRECT TRIALS\n",
    "\n",
    "WITHIN PARTICIPANT SEM"
   ]
  },
  {
   "cell_type": "code",
   "execution_count": 314,
   "metadata": {},
   "outputs": [],
   "source": [
    "catCongruent_df_correctOnly = catCongruent_df.loc[catCongruent_df['accuracy'] == 1]\n",
    "catIncongruent_df_correctOnly = catIncongruent_df.loc[catIncongruent_df['accuracy'] == 1]\n",
    "\n",
    "catCongruent_RT_correctOnly = np.mean(np.array(catCongruent_df_correctOnly['RT']))\n",
    "catIncongruent_RT_correctOnly = np.mean(np.array(catIncongruent_df_correctOnly['RT']))"
   ]
  },
  {
   "cell_type": "code",
   "execution_count": 315,
   "metadata": {},
   "outputs": [
    {
     "data": {
      "text/plain": [
       "(1036.514184397163, 1082.6725978647687)"
      ]
     },
     "execution_count": 315,
     "metadata": {},
     "output_type": "execute_result"
    }
   ],
   "source": [
    "catCongruent_RT = np.mean(np.array(catCongruent_df['RT']))\n",
    "catIncongruent_RT = np.mean(np.array(catIncongruent_df['RT']))\n",
    "\n",
    "catCongruent_RT, catIncongruent_RT"
   ]
  },
  {
   "cell_type": "code",
   "execution_count": 316,
   "metadata": {},
   "outputs": [],
   "source": [
    "zo_df_correctOnly = zo_df.loc[zo_df['accuracy'] == 1]\n",
    "zi_df_correctOnly = zi_df.loc[zi_df['accuracy'] == 1]\n",
    "zc_df_correctOnly = zc_df.loc[zc_df['accuracy'] == 1]\n",
    "\n",
    "zo_RT_correctOnly = np.mean(np.array(zo_df_correctOnly['RT']))\n",
    "zi_RT_correctOnly = np.mean(np.array(zi_df_correctOnly['RT']))\n",
    "zc_RT_correctOnly = np.mean(np.array(zc_df_correctOnly['RT']))"
   ]
  },
  {
   "cell_type": "code",
   "execution_count": 317,
   "metadata": {},
   "outputs": [
    {
     "data": {
      "text/plain": [
       "(1033.5645161290322, 1087.4315789473685, 1057.0748663101604)"
      ]
     },
     "execution_count": 317,
     "metadata": {},
     "output_type": "execute_result"
    }
   ],
   "source": [
    "zo_RT = np.mean(np.array(zo_df['RT']))\n",
    "zi_RT = np.mean(np.array(zi_df['RT']))\n",
    "zc_RT = np.mean(np.array(zc_df['RT']))\n",
    "\n",
    "zo_RT, zi_RT, zc_RT"
   ]
  },
  {
   "cell_type": "code",
   "execution_count": 318,
   "metadata": {},
   "outputs": [],
   "source": [
    "zo_catCongruent_correctOnly = zo_catCongruent.loc[zo_catCongruent['accuracy'] == 1]\n",
    "zi_catCongruent_correctOnly = zi_catCongruent.loc[zi_catCongruent['accuracy'] == 1]\n",
    "zc_catCongruent_correctOnly = zc_catCongruent.loc[zc_catCongruent['accuracy'] == 1]\n",
    "\n",
    "zo_catCongruent_RT_correctOnly = np.mean(np.array(zo_catCongruent_correctOnly['RT']))\n",
    "zi_catCongruent_RT_correctOnly = np.mean(np.array(zi_catCongruent_correctOnly['RT']))\n",
    "zc_catCongruent_RT_correctOnly = np.mean(np.array(zc_catCongruent_correctOnly['RT']))"
   ]
  },
  {
   "cell_type": "code",
   "execution_count": 319,
   "metadata": {},
   "outputs": [
    {
     "data": {
      "text/plain": [
       "(1023.9569892473119, 1059.6105263157895, 1025.595744680851)"
      ]
     },
     "execution_count": 319,
     "metadata": {},
     "output_type": "execute_result"
    }
   ],
   "source": [
    "zo_catCongruent_RT = np.mean(np.array(zo_catCongruent['RT']))\n",
    "zi_catCongruent_RT = np.mean(np.array(zi_catCongruent['RT']))\n",
    "zc_catCongruent_RT = np.mean(np.array(zc_catCongruent['RT']))\n",
    "\n",
    "zo_catCongruent_RT, zi_catCongruent_RT, zc_catCongruent_RT"
   ]
  },
  {
   "cell_type": "code",
   "execution_count": 320,
   "metadata": {},
   "outputs": [],
   "source": [
    "zo_catCongruent_RT_sem_correctOnly = sem(np.array(zo_catCongruent_correctOnly['RT']))\n",
    "zi_catCongruent_RT_sem_correctOnly = sem(np.array(zi_catCongruent_correctOnly['RT']))\n",
    "zc_catCongruent_RT_sem_correctOnly = sem(np.array(zc_catCongruent_correctOnly['RT']))"
   ]
  },
  {
   "cell_type": "code",
   "execution_count": 321,
   "metadata": {},
   "outputs": [],
   "source": [
    "zo_catCongruent_RT_sem = sem(np.array(zo_catCongruent['RT']))\n",
    "zi_catCongruent_RT_sem = sem(np.array(zi_catCongruent['RT']))\n",
    "zc_catCongruent_RT_sem = sem(np.array(zc_catCongruent['RT']))\n"
   ]
  },
  {
   "cell_type": "code",
   "execution_count": 322,
   "metadata": {},
   "outputs": [],
   "source": [
    "zo_catIncongruent_correctOnly = zo_catIncongruent.loc[zo_catIncongruent['accuracy']==1]\n",
    "zi_catIncongruent_correctOnly = zi_catIncongruent.loc[zi_catIncongruent['accuracy']==1]\n",
    "zc_catIncongruent_correctOnly = zc_catIncongruent.loc[zc_catIncongruent['accuracy']==1]\n",
    "\n",
    "\n",
    "zo_catIncongruent_RT_correctOnly = np.mean(np.array(zo_catIncongruent_correctOnly['RT']))\n",
    "zi_catIncongruent_RT_correctOnly = np.mean(np.array(zi_catIncongruent_correctOnly['RT']))\n",
    "zc_catIncongruent_RT_correctOnly = np.mean(np.array(zc_catIncongruent_correctOnly['RT']))"
   ]
  },
  {
   "cell_type": "code",
   "execution_count": 323,
   "metadata": {},
   "outputs": [
    {
     "data": {
      "text/plain": [
       "(1043.1720430107528, 1115.2526315789473, 1088.8924731182797)"
      ]
     },
     "execution_count": 323,
     "metadata": {},
     "output_type": "execute_result"
    }
   ],
   "source": [
    "zo_catIncongruent_RT = np.mean(np.array(zo_catIncongruent['RT']))\n",
    "zi_catIncongruent_RT = np.mean(np.array(zi_catIncongruent['RT']))\n",
    "zc_catIncongruent_RT = np.mean(np.array(zc_catIncongruent['RT']))\n",
    "\n",
    "zo_catIncongruent_RT, zi_catIncongruent_RT, zc_catIncongruent_RT"
   ]
  },
  {
   "cell_type": "code",
   "execution_count": 324,
   "metadata": {},
   "outputs": [],
   "source": [
    "zo_catIncongruent_RT_sem_correctOnly = sem(np.array(zo_catIncongruent_correctOnly['RT']))\n",
    "zi_catIncongruent_RT_sem_correctOnly = sem(np.array(zi_catIncongruent_correctOnly['RT']))\n",
    "zc_catIncongruent_RT_sem_correctOnly = sem(np.array(zc_catIncongruent_correctOnly['RT']))\n"
   ]
  },
  {
   "cell_type": "code",
   "execution_count": 325,
   "metadata": {},
   "outputs": [],
   "source": [
    "zo_catIncongruent_RT_sem = sem(np.array(zo_catIncongruent['RT']))\n",
    "zi_catIncongruent_RT_sem = sem(np.array(zi_catIncongruent['RT']))\n",
    "zc_catIncongruent_RT_sem = sem(np.array(zc_catIncongruent['RT']))\n"
   ]
  },
  {
   "cell_type": "code",
   "execution_count": 326,
   "metadata": {},
   "outputs": [
    {
     "data": {
      "image/png": "[encoded data removed]",
      "text/plain": [
       "<Figure size 576x576 with 1 Axes>"
      ]
     },
     "metadata": {
      "needs_background": "light"
     },
     "output_type": "display_data"
    }
   ],
   "source": [
    "plt.figure(figsize=[8,8])\n",
    "x = np.arange(3)\n",
    "\n",
    "#                          z0                   zc                  zi\n",
    "RT_catCongruent =   [zo_catCongruent_RT_correctOnly, zc_catCongruent_RT_correctOnly, zi_catCongruent_RT_correctOnly]\n",
    "RT_catCongruent_sem = [zo_catCongruent_RT_sem_correctOnly, zc_catCongruent_RT_sem_correctOnly, zi_catCongruent_RT_sem_correctOnly]\n",
    "#                          z0                   zc                  zi\n",
    "\n",
    "RT_catIncongruent = [zo_catIncongruent_RT_correctOnly, zc_catIncongruent_RT_correctOnly, zi_catIncongruent_RT_correctOnly]\n",
    "RT_catIncongruent_sem = [zo_catIncongruent_RT_sem_correctOnly, zc_catIncongruent_RT_sem_correctOnly, zi_catIncongruent_RT_sem_correctOnly]\n",
    "\n",
    "width = 0.2\n",
    "  \n",
    "# plot data in grouped manner of bar type\n",
    "plt.bar(x-0.2, RT_catCongruent, width, color='orange', label='Category Congruent', yerr=RT_catCongruent_sem, capsize=5)\n",
    "plt.bar(x, RT_catIncongruent, width, color='orangered', label='Category Incongruent', yerr=RT_catIncongruent_sem, capsize=5)\n",
    "plt.xticks(x, ['zo', 'zc', 'zi'], fontsize='12')\n",
    "plt.xlabel(\"Zoom level\", fontsize=15)\n",
    "plt.ylabel(\"Average RT (ms)\", fontsize=15)\n",
    "plt.legend(loc=2, fontsize=10)\n",
    "plt.show()"
   ]
  },
  {
   "cell_type": "code",
   "execution_count": 327,
   "metadata": {},
   "outputs": [
    {
     "data": {
      "text/plain": [
       "['gym', 'classroom', 'kitchen', 'bathroom']"
      ]
     },
     "execution_count": 327,
     "metadata": {},
     "output_type": "execute_result"
    }
   ],
   "source": [
    "all_sceneCategories = final_data.sceneCategory.unique()\n",
    "all_sceneCategories = [scene for scene in all_sceneCategories if type(scene) == str]\n",
    "all_sceneCategories"
   ]
  },
  {
   "cell_type": "code",
   "execution_count": 328,
   "metadata": {},
   "outputs": [],
   "source": [
    "scenes = []\n",
    "scenes_RT = []\n",
    "scenes_sem = []\n",
    "for scene in all_sceneCategories:\n",
    "    scene_df = final_data.loc[final_data['sceneCategory'] == scene]\n",
    "    scene_RT = np.mean(np.array(scene_df['RT']))\n",
    "    scene_sem = sem(np.array(scene_df['RT']))\n",
    "    scenes.append(scene)\n",
    "    scenes_RT.append(scene_RT)\n",
    "    scenes_sem.append(scene_sem)\n"
   ]
  },
  {
   "cell_type": "code",
   "execution_count": 329,
   "metadata": {},
   "outputs": [
    {
     "data": {
      "image/png": "[encoded data removed]",
      "text/plain": [
       "<Figure size 432x432 with 1 Axes>"
      ]
     },
     "metadata": {
      "needs_background": "light"
     },
     "output_type": "display_data"
    }
   ],
   "source": [
    "plt.figure(figsize=[6,6])\n",
    "\n",
    "width = 0.2\n",
    "\n",
    "plt.xticks(np.arange(len(scenes)), scenes, fontsize=12)\n",
    "plt.bar(np.arange(len(scenes)), scenes_RT, color='darkorange', yerr = scenes_sem, capsize=5)\n",
    "plt.xlabel('Scene Category', fontsize=14)\n",
    "plt.ylabel('RT (ms)', fontsize=14)\n",
    "plt.title('RT x Scene Category', fontsize=16)\n",
    "\n",
    "plt.show();"
   ]
  },
  {
   "cell_type": "markdown",
   "metadata": {},
   "source": [
    "## IES: Inverse Efficiency Score\n",
    "\n",
    "RT for correct trials only or all?\n"
   ]
  },
  {
   "cell_type": "code",
   "execution_count": 330,
   "metadata": {},
   "outputs": [
    {
     "data": {
      "image/png": "[encoded data removed]",
      "text/plain": [
       "<Figure size 576x576 with 1 Axes>"
      ]
     },
     "metadata": {
      "needs_background": "light"
     },
     "output_type": "display_data"
    }
   ],
   "source": [
    "plt.figure(figsize=[8,8])\n",
    "x = np.arange(3)\n",
    "\n",
    "#                          z0                   zc                  zi\n",
    "IES_catCongruent =   [zo_catCongruent_RT/zo_catCongruent_acc, zc_catCongruent_RT/zc_catCongruent_acc, zi_catCongruent_RT/zi_catCongruent_acc]\n",
    "#                          z0                   zc                  zi\n",
    "\n",
    "IES_catIncongruent = [zo_catIncongruent_RT/zo_catIncongruent_acc, zc_catIncongruent_RT/zc_catIncongruent_acc, zi_catIncongruent_RT/zi_catIncongruent_acc]\n",
    "\n",
    "width = 0.2\n",
    "  \n",
    "# plot data in grouped manner of bar type\n",
    "plt.bar(x-0.2, IES_catCongruent, width, color='mediumorchid', label='Category Congruent', yerr=RT_catCongruent_sem, capsize=5)\n",
    "plt.bar(x, IES_catIncongruent, width, color='indigo', label='Category Inongruent', yerr=RT_catIncongruent_sem, capsize=5)\n",
    "plt.xticks(x, ['zo', 'zc', 'zi'], fontsize='12')\n",
    "plt.xlabel(\"Zoom level\", fontsize=15)\n",
    "plt.ylabel(\"IES (RT(ms)/Percent Correct)\", fontsize=15)\n",
    "plt.legend(loc=1, fontsize=10)\n",
    "plt.show()"
   ]
  },
  {
   "cell_type": "code",
   "execution_count": null,
   "metadata": {},
   "outputs": [],
   "source": []
  },
  {
   "cell_type": "code",
   "execution_count": null,
   "metadata": {},
   "outputs": [],
   "source": []
  }
 ],
 "metadata": {
  "kernelspec": {
   "display_name": "Python 3",
   "language": "python",
   "name": "python3"
  },
  "language_info": {
   "codemirror_mode": {
    "name": "ipython",
    "version": 3
   },
   "file_extension": ".py",
   "mimetype": "text/x-python",
   "name": "python",
   "nbconvert_exporter": "python",
   "pygments_lexer": "ipython3",
   "version": "3.7.4"
  }
 },
 "nbformat": 4,
 "nbformat_minor": 4
}
