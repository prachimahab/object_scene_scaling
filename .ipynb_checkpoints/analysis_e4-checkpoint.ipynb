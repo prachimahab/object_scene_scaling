{
 "cells": [
  {
   "cell_type": "code",
<<<<<<< HEAD
   "execution_count": 407,
=======
   "execution_count": 1,
>>>>>>> 6bb30d8c7b8bcf3d8c65055fe82471633cb4eb10
   "metadata": {},
   "outputs": [],
   "source": [
    "import numpy as np\n",
    "import os\n",
    "import pandas as pd\n",
    "import math\n",
    "import matplotlib.pyplot as plt\n",
    "from scipy.stats import sem\n"
   ]
  },
  {
   "cell_type": "code",
   "execution_count": null,
   "metadata": {},
   "outputs": [],
   "source": []
  },
  {
   "cell_type": "markdown",
   "metadata": {},
   "source": [
    "### Exclusion Criteria\n",
    " - Accuracy: 70 % (17/24 correct)\n",
    " - RT: Exclude trial if < 250 ms or > 2s\n",
    " - Remove participant if more than 10% of the data is removed (?) \n",
    "    "
   ]
  },
  {
   "cell_type": "markdown",
   "metadata": {},
   "source": [
    "### Pilot Analysis Plots\n",
    "\n",
    "1. Overall Accuracy\n",
    "    - accuracy by scene category\n",
    "    - accuracy by zoom \n",
    "    - accuracy by zoom x match\n",
    "2. RT Distribution\n",
    "    - RT by scene category\n",
    "    - RT by zoom \n",
    "    - RT by zoom x match\n",
    "3. 2x3 ANOVA\n",
    " "
   ]
  },
  {
   "cell_type": "code",
<<<<<<< HEAD
   "execution_count": 408,
=======
   "execution_count": 35,
>>>>>>> 6bb30d8c7b8bcf3d8c65055fe82471633cb4eb10
   "metadata": {},
   "outputs": [],
   "source": [
    "def combineCSVs(datafolder):\n",
    "    \"\"\"\n",
    "    Combine all participant data into one pandas df\n",
    "    OR \n",
    "    Create df for single participant file \n",
    "    \"\"\"\n",
    "    \n",
    "    exclude = []\n",
    "    \n",
    "    #checks if path is a file\n",
    "    isFile = os.path.isfile(datafolder)\n",
    "\n",
    "    #checks if path is a directory\n",
    "    \n",
    "    isDirectory = os.path.isdir(datafolder)\n",
    "    \n",
    "    if isDirectory == True:\n",
    "        data = []\n",
    "        for filename in os.listdir(datafolder):\n",
    "            if 'csv' in filename:\n",
    "                path = datafolder + \"/\" + filename\n",
    "                df = pd.read_csv(path, index_col=None, header=0)\n",
    "                \n",
    "                # do NOT include subject IDs that have been flagged \n",
    "                subjID = df.subjID.unique()[0]\n",
    "                if subjID not in exclude:\n",
    "                    data.append(df)\n",
    "\n",
    "                \n",
    "        input_frame = pd.concat(data, axis=0, ignore_index=True)\n",
    "        \n",
    "    if isFile == True:\n",
    "        if 'csv' in datafolder:\n",
    "            input_frame = pd.read_csv(datafolder, index_col=None, header=0)\n",
    "    \n",
    "    print('Number of participants before cleaning: ', len(input_frame.subjID.unique()))\n",
    "\n",
    " \n",
    "    return input_frame"
   ]
  },
  {
   "cell_type": "code",
<<<<<<< HEAD
   "execution_count": 409,
=======
   "execution_count": 36,
>>>>>>> 6bb30d8c7b8bcf3d8c65055fe82471633cb4eb10
   "metadata": {},
   "outputs": [],
   "source": [
    "\n",
    "# data_path = '/Users/prachimahableshwarkar/Documents/GW/FacialAge/FacialAge_MTurk/OSS_MTurk/data'\n",
    "\n",
    "data_path = '/Users/pmahableshwarkar/Downloads/data'"
   ]
  },
  {
   "cell_type": "code",
<<<<<<< HEAD
   "execution_count": 410,
=======
   "execution_count": 37,
>>>>>>> 6bb30d8c7b8bcf3d8c65055fe82471633cb4eb10
   "metadata": {},
   "outputs": [
    {
     "name": "stdout",
     "output_type": "stream",
     "text": [
      "Number of participants before cleaning:  165\n"
     ]
    }
   ],
   "source": [
    "input_data = combineCSVs(data_path)"
   ]
  },
  {
   "cell_type": "code",
<<<<<<< HEAD
   "execution_count": 411,
=======
   "execution_count": 38,
>>>>>>> 6bb30d8c7b8bcf3d8c65055fe82471633cb4eb10
   "metadata": {},
   "outputs": [],
   "source": [
    "# input_data"
   ]
  },
  {
   "cell_type": "code",
<<<<<<< HEAD
   "execution_count": 412,
=======
   "execution_count": 39,
>>>>>>> 6bb30d8c7b8bcf3d8c65055fe82471633cb4eb10
   "metadata": {},
   "outputs": [],
   "source": [
    "num_trials = 16"
   ]
  },
  {
   "cell_type": "code",
<<<<<<< HEAD
   "execution_count": 413,
=======
   "execution_count": 40,
>>>>>>> 6bb30d8c7b8bcf3d8c65055fe82471633cb4eb10
   "metadata": {},
   "outputs": [],
   "source": [
    "def cleanbyPracticeTries(df, num_allowed_tries):\n",
    "    all_subjIDs = df.subjID.unique()\n",
    "    \n",
    "    remove = []\n",
    "    df2_list = []\n",
    "    prac_too_many_dist = []\n",
    "    for subj in all_subjIDs:\n",
    "        count = 0\n",
    "        subj_df = df.loc[df['subjID'] == subj]\n",
    "        cleaned_subj_df = subj_df.copy(deep=True) # prevent setting with copy warning \n",
    "        \n",
    "        subj_num_practice_tries = cleaned_subj_df.pracTries.unique()[0]\n",
    "        \n",
    "        if subj_num_practice_tries > num_allowed_tries:\n",
    "            prac_too_many_dist.append(subj_num_practice_tries)\n",
    "            remove.append(subj)\n",
    "        else:  \n",
    "            df2_list.append(cleaned_subj_df)\n",
    "    \n",
    "    df2 = pd.concat(df2_list)\n",
    "            \n",
    "    print('Number of participants with more than ' + str(num_allowed_tries) + ' practice tries:', len(remove))\n",
    "    \n",
    "    return df2, prac_too_many_dist\n",
    "    "
   ]
  },
  {
   "cell_type": "code",
<<<<<<< HEAD
   "execution_count": 414,
=======
   "execution_count": 41,
>>>>>>> 6bb30d8c7b8bcf3d8c65055fe82471633cb4eb10
   "metadata": {},
   "outputs": [
    {
     "name": "stdout",
     "output_type": "stream",
     "text": [
      "Number of participants with more than 3 practice tries: 44\n"
     ]
    }
   ],
   "source": [
    "pracTries_cleaned_data, prac_dist = cleanbyPracticeTries(input_data, 3)"
   ]
  },
  {
   "cell_type": "code",
<<<<<<< HEAD
   "execution_count": 415,
=======
   "execution_count": 42,
>>>>>>> 6bb30d8c7b8bcf3d8c65055fe82471633cb4eb10
   "metadata": {},
   "outputs": [
    {
     "data": {
      "text/plain": [
       "(22, 44)"
      ]
     },
<<<<<<< HEAD
     "execution_count": 415,
=======
     "execution_count": 42,
>>>>>>> 6bb30d8c7b8bcf3d8c65055fe82471633cb4eb10
     "metadata": {},
     "output_type": "execute_result"
    }
   ],
   "source": [
    "x = [d for d in prac_dist if d > 5]\n",
    "\n",
    "len(x), len(prac_dist)"
   ]
  },
  {
   "cell_type": "code",
<<<<<<< HEAD
   "execution_count": 416,
=======
   "execution_count": 43,
>>>>>>> 6bb30d8c7b8bcf3d8c65055fe82471633cb4eb10
   "metadata": {},
   "outputs": [
    {
     "data": {
      "image/png": "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\n",
      "text/plain": [
       "<Figure size 432x288 with 1 Axes>"
      ]
     },
     "metadata": {
      "needs_background": "light"
     },
     "output_type": "display_data"
    }
   ],
   "source": [
    "plt.hist(prac_dist)\n",
    "plt.show()"
   ]
  },
  {
   "cell_type": "code",
<<<<<<< HEAD
   "execution_count": 417,
=======
   "execution_count": 44,
>>>>>>> 6bb30d8c7b8bcf3d8c65055fe82471633cb4eb10
   "metadata": {},
   "outputs": [
    {
     "data": {
      "text/plain": [
       "121"
      ]
     },
<<<<<<< HEAD
     "execution_count": 417,
=======
     "execution_count": 44,
>>>>>>> 6bb30d8c7b8bcf3d8c65055fe82471633cb4eb10
     "metadata": {},
     "output_type": "execute_result"
    }
   ],
   "source": [
    "len(pracTries_cleaned_data.subjID.unique())"
   ]
  },
  {
   "cell_type": "code",
<<<<<<< HEAD
   "execution_count": 418,
=======
   "execution_count": 45,
>>>>>>> 6bb30d8c7b8bcf3d8c65055fe82471633cb4eb10
   "metadata": {},
   "outputs": [],
   "source": [
    "def Accuracy_Cleaning(df, accuracy_threshold, num_trials):\n",
    "    \"\"\"    \n",
    "    Remove participants with overall accuracy below the accuracy threshold (e.g. 0.7)\n",
    "    \n",
    "    Returns:\n",
    "        data of participants that passed the accuracy threshold \n",
    "        list of the number of correct trials each participant got\n",
    "    \"\"\"\n",
    "    #List unique values in the df['subjID'] column\n",
    "    all_subjIDs = df.subjID.unique()\n",
    "    \n",
    "    remove = []\n",
    "    df2_list = []\n",
    "    list_trials_correct = []\n",
    "    # number of participants where exclusion is because all responses were 'none'\n",
    "    c = 0\n",
    "    \n",
    "    for subj in all_subjIDs:\n",
    "        keypresses = []\n",
    "\n",
    "        subj_df = df.loc[df['subjID'] == subj]\n",
    "        cleaned_subj_df = subj_df.copy(deep=True) # prevent setting with copy warning \n",
    "        \n",
    "        subj_num_correct_trials = 0\n",
    "        \n",
    "        acc_column = np.array(list(subj_df['accuracy']))\n",
    "        sum_acc = np.sum(acc_column)\n",
    "        \n",
    "        \n",
    "        for idx, row in subj_df.iterrows():\n",
    "            trial_acc = row['accuracy']\n",
    "            if trial_acc == 1:\n",
    "                subj_num_correct_trials += 1\n",
    "            else:\n",
    "                keypresses.append(row['keyPress'])\n",
    "        \n",
    "        subj_acc = sum_acc/num_trials\n",
    "#         print(acc_column)\n",
    "#         print(subj, sum_acc, subj_acc)\n",
    "                \n",
    "        # minimum number of trials correct the participant must have to be included\n",
    "        if subj_acc < accuracy_threshold:\n",
    "#             print(subj_acc, subj)\n",
    "            remove.append(subj)\n",
    "#             print(len([x for x in keypresses if x == 'none']))\n",
    "            if len([x for x in keypresses if x == 'none']) >= 4:\n",
    "                c += 1\n",
    "            \n",
    "#         else:\n",
    "#             print(subj_acc)\n",
    "        \n",
    "        list_trials_correct.append(subj_num_correct_trials)\n",
    "        \n",
    "        df2_list.append(cleaned_subj_df)\n",
    "    \n",
    "    df2 = pd.concat(df2_list)\n",
    "    \n",
    "    print(\"Number of Participants with accuracy below 70%: \", len(remove))\n",
    "    \n",
    "    for index, row in df2.iterrows():\n",
    "        if row['subjID'] in remove:\n",
    "            df2.drop(index, inplace=True)\n",
    "                \n",
    "    print('Number of participants that did not respond for 4 or more trials:', c)\n",
    "    \n",
    "    print('Number of participants left: ', len(df2.subjID.unique()))\n",
    "                \n",
    "    return df2, list_trials_correct, keypresses"
   ]
  },
  {
   "cell_type": "code",
   "execution_count": null,
   "metadata": {},
   "outputs": [],
   "source": []
  },
  {
   "cell_type": "code",
<<<<<<< HEAD
   "execution_count": 419,
=======
   "execution_count": 46,
>>>>>>> 6bb30d8c7b8bcf3d8c65055fe82471633cb4eb10
   "metadata": {},
   "outputs": [
    {
     "name": "stdout",
     "output_type": "stream",
     "text": [
      "Number of Participants with accuracy below 70%:  58\n",
      "Number of participants that did not respond for 4 or more trials: 0\n",
      "Number of participants left:  63\n"
     ]
    }
   ],
   "source": [
    "Accuracy_cleaned_data, correct_trials_distribution, keypresses = Accuracy_Cleaning(pracTries_cleaned_data, 0.7, num_trials)\n"
   ]
  },
  {
   "cell_type": "code",
<<<<<<< HEAD
   "execution_count": 420,
=======
   "execution_count": 47,
>>>>>>> 6bb30d8c7b8bcf3d8c65055fe82471633cb4eb10
   "metadata": {},
   "outputs": [],
   "source": [
    "def RT_Cleaning(df, outlier_range, num_trials):\n",
    "    \"\"\"\n",
    "    Remove trials where trial RT is outside of the defined outlier range \n",
    "    \n",
    "    Returns:\n",
    "        dataframe with outlier RT trials removed\n",
    "        list of all RTs \n",
    "    \"\"\"\n",
    "    #List unique values in the df['subjID'] column\n",
    "    all_subjIDs = df.subjID.unique()\n",
    "    print(len(all_subjIDs))\n",
    "    \n",
    "    remove = []\n",
    "    df2_list = []\n",
    "    total_RT_outliers = 0\n",
    "    total = 0\n",
    "    list_trialRT = []\n",
    "    for subj in all_subjIDs:\n",
    "        count = 0\n",
    "        subj_df = df.loc[df['subjID'] == subj]\n",
    "        cleaned_subj_df = subj_df.copy(deep=True) # prevent setting with copy warning \n",
    "\n",
    "        for idx, row in subj_df.iterrows():\n",
    "            total += 1\n",
    "            RT = row[\"RT\"]\n",
    "            list_trialRT.append(RT)\n",
    "            if RT < outlier_range[0]: # outlier\n",
    "                cleaned_subj_df.drop([idx], inplace=True)\n",
    "                count += 1\n",
    "                total_RT_outliers += 1\n",
    "            if RT > outlier_range[1]:\n",
    "                cleaned_subj_df.drop([idx], inplace=True)\n",
    "                count += 1\n",
    "                total_RT_outliers += 1\n",
    "        \n",
    "        df2_list.append(cleaned_subj_df)\n",
    "    \n",
    "    df2 = pd.concat(df2_list)\n",
    "    print(len(df2.subjID.unique()))\n",
    "                \n",
    "    return df2, list_trialRT"
   ]
  },
  {
   "cell_type": "code",
<<<<<<< HEAD
   "execution_count": 421,
=======
   "execution_count": 48,
>>>>>>> 6bb30d8c7b8bcf3d8c65055fe82471633cb4eb10
   "metadata": {},
   "outputs": [
    {
     "name": "stdout",
     "output_type": "stream",
     "text": [
      "63\n",
      "63\n"
     ]
    }
   ],
   "source": [
    "RT_cleaned_data, trialRTs_distribution = RT_Cleaning(Accuracy_cleaned_data, [250, 10000], num_trials)\n"
   ]
  },
  {
   "cell_type": "code",
<<<<<<< HEAD
   "execution_count": 422,
=======
   "execution_count": 49,
>>>>>>> 6bb30d8c7b8bcf3d8c65055fe82471633cb4eb10
   "metadata": {},
   "outputs": [
    {
     "data": {
      "image/png": "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\n",
      "text/plain": [
       "<Figure size 432x288 with 1 Axes>"
      ]
     },
     "metadata": {
      "needs_background": "light"
     },
     "output_type": "display_data"
    }
   ],
   "source": [
    "plt.hist(trialRTs_distribution)\n",
    "plt.show()"
   ]
  },
  {
   "cell_type": "code",
<<<<<<< HEAD
   "execution_count": 423,
=======
   "execution_count": 50,
>>>>>>> 6bb30d8c7b8bcf3d8c65055fe82471633cb4eb10
   "metadata": {},
   "outputs": [],
   "source": [
    "all_subjIDs = RT_cleaned_data.subjID.unique()\n",
    "dist = []\n",
    "for subj in all_subjIDs:\n",
    "    count = 0\n",
    "    subj_df = RT_cleaned_data.loc[RT_cleaned_data['subjID'] == subj]\n",
    "    dist.append(len(subj_df))\n",
    "#     print(len(subj_df))"
   ]
  },
  {
   "cell_type": "code",
<<<<<<< HEAD
   "execution_count": 424,
=======
   "execution_count": 51,
>>>>>>> 6bb30d8c7b8bcf3d8c65055fe82471633cb4eb10
   "metadata": {},
   "outputs": [
    {
     "data": {
      "text/plain": [
       "63"
      ]
     },
<<<<<<< HEAD
     "execution_count": 424,
=======
     "execution_count": 51,
>>>>>>> 6bb30d8c7b8bcf3d8c65055fe82471633cb4eb10
     "metadata": {},
     "output_type": "execute_result"
    }
   ],
   "source": [
    "len([d for d in dist if d >11])"
   ]
  },
  {
   "cell_type": "code",
<<<<<<< HEAD
   "execution_count": 425,
=======
   "execution_count": 52,
>>>>>>> 6bb30d8c7b8bcf3d8c65055fe82471633cb4eb10
   "metadata": {},
   "outputs": [],
   "source": [
    "# pracTries_cleaned_data.subjID.unique(), RT_cleaned_data.subjID.unique()"
   ]
  },
  {
   "cell_type": "code",
<<<<<<< HEAD
   "execution_count": 426,
=======
   "execution_count": 53,
>>>>>>> 6bb30d8c7b8bcf3d8c65055fe82471633cb4eb10
   "metadata": {},
   "outputs": [],
   "source": [
    "def finalTrialCountCheck(df, num_trials, min_trials):\n",
    "    \"\"\"\n",
    "    If more then 10% of a participants data is missing, remove the participant\n",
    "    \"\"\"\n",
    "    #List unique values in the df['subjID'] column\n",
    "    all_subjIDs = df.subjID.unique()\n",
    "    \n",
    "    remove = []\n",
    "    for subj in all_subjIDs:\n",
    "        subj_df = df.loc[df['subjID'] == subj]\n",
    "        count_trials = len(subj_df.index)\n",
    "        if count_trials < min_trials:\n",
    "            remove.append(subj)\n",
    "            \n",
    "#         threshold_trials_remaining = num_trials - math.floor(num_trials * 0.1)\n",
    "\n",
    "#         if count_trials <= threshold_trials_remaining:\n",
    "#             remove.append(subj)\n",
    "            \n",
    "    print(\"Number of Participants with >= 10% trials removed: \", len(remove))\n",
    "            \n",
    "    for subj in remove:\n",
    "        df.drop(df[df['subjID'] == subj].index, inplace = True) \n",
    "                    \n",
    "    print(\"Number of participants left: \",len(df.subjID.unique()))\n",
    "    return df"
   ]
  },
  {
   "cell_type": "code",
<<<<<<< HEAD
   "execution_count": 427,
=======
   "execution_count": 54,
>>>>>>> 6bb30d8c7b8bcf3d8c65055fe82471633cb4eb10
   "metadata": {},
   "outputs": [
    {
     "name": "stdout",
     "output_type": "stream",
     "text": [
      "Number of Participants with >= 10% trials removed:  0\n",
      "Number of participants left:  63\n"
     ]
    }
   ],
   "source": [
    "finalTrialCount_data = finalTrialCountCheck(RT_cleaned_data, num_trials, 12)"
   ]
  },
  {
   "cell_type": "code",
<<<<<<< HEAD
   "execution_count": 428,
=======
   "execution_count": 55,
>>>>>>> 6bb30d8c7b8bcf3d8c65055fe82471633cb4eb10
   "metadata": {},
   "outputs": [
    {
     "data": {
      "text/plain": [
       "63"
      ]
     },
<<<<<<< HEAD
     "execution_count": 428,
=======
     "execution_count": 55,
>>>>>>> 6bb30d8c7b8bcf3d8c65055fe82471633cb4eb10
     "metadata": {},
     "output_type": "execute_result"
    }
   ],
   "source": [
    "raw_final_data = finalTrialCount_data.copy(deep=True)\n",
    "len(raw_final_data.subjID.unique())"
   ]
  },
  {
   "cell_type": "code",
<<<<<<< HEAD
   "execution_count": 429,
=======
   "execution_count": 56,
>>>>>>> 6bb30d8c7b8bcf3d8c65055fe82471633cb4eb10
   "metadata": {},
   "outputs": [],
   "source": [
    "def zscored_outcomes(df):\n",
    "    '''\n",
    "    z-score depth estimates and RTs:\n",
    "        for each subj calculate their avg and std \n",
    "        zscored = (estim - subj avg)/subj std\n",
    "    '''\n",
    "    #List unique values in the df['subjID'] column\n",
    "    all_subjIDs = df.subjID.unique()\n",
    "    \n",
    "    df2_list = []\n",
    "    for subj in all_subjIDs:\n",
    "        subj_df = df.loc[df['subjID'] == subj]\n",
    "        final_subj_df = subj_df.copy(deep=True) # prevent setting with copy warning \n",
    "        # Z-Score RT\n",
    "        average_RT = subj_df[\"RT\"].mean()\n",
    "        std_RT = subj_df[\"RT\"].std()\n",
    "        subj_RTs = np.array(list(subj_df[\"RT\"]))\n",
    "        zscored_subj_RTs = (subj_RTs - average_RT)/std_RT\n",
    "        final_subj_df.insert(4, 'Z-Scored RT',zscored_subj_RTs)\n",
    "        df2_list.append(final_subj_df)\n",
    "    \n",
    "    df2 = pd.concat(df2_list)    \n",
    "\n",
    "    return df2"
   ]
  },
  {
   "cell_type": "code",
<<<<<<< HEAD
   "execution_count": 430,
=======
   "execution_count": 138,
>>>>>>> 6bb30d8c7b8bcf3d8c65055fe82471633cb4eb10
   "metadata": {},
   "outputs": [],
   "source": [
    "zs_final_data = zscored_outcomes(raw_final_data)"
   ]
  },
  {
   "cell_type": "code",
<<<<<<< HEAD
   "execution_count": 443,
=======
   "execution_count": 139,
>>>>>>> 6bb30d8c7b8bcf3d8c65055fe82471633cb4eb10
   "metadata": {},
   "outputs": [],
   "source": [
    "def recode_ratings(df):\n",
    "    '''\n",
    "    4, 3+5, 2+6, 1+7\n",
    "    labeled: 4, 3, 2, 1\n",
    "    where 4 is scaled, and 1 is most mis-scaled\n",
    "    '''\n",
    "    \n",
    "    df['rating'] = df['rating'].replace(5, 3)\n",
    "    df['rating'] = df['rating'].replace(6, 2)\n",
    "    df['rating'] = df['rating'].replace(7, 1) \n",
    "\n",
    "    return df\n",
    "\n",
    "def recode_binary_ratings(df):\n",
    "    '''\n",
    "    4, 3+5, 2+6, 1+7\n",
    "    labeled: 4, 3, 2, 1\n",
    "    where 4 is scaled, and 1 is most mis-scaled\n",
    "    '''\n",
    "    \n",
    "    df['rating'] = df['rating'].replace(1, 1)\n",
    "    df['rating'] = df['rating'].replace(2, 1)\n",
    "    df['rating'] = df['rating'].replace(3, 1)\n",
    "    df['rating'] = df['rating'].replace(5, 1)\n",
    "    df['rating'] = df['rating'].replace(6, 1) \n",
    "    df['rating'] = df['rating'].replace(7, 1)\n",
    "    \n",
    "    return df"
   ]
  },
  {
   "cell_type": "code",
<<<<<<< HEAD
   "execution_count": 444,
=======
   "execution_count": 140,
>>>>>>> 6bb30d8c7b8bcf3d8c65055fe82471633cb4eb10
   "metadata": {},
   "outputs": [],
   "source": [
    "# recoded_ratings_data = recode_ratings(zs_final_data)"
   ]
  },
  {
   "cell_type": "code",
<<<<<<< HEAD
   "execution_count": 445,
=======
   "execution_count": 141,
   "metadata": {},
   "outputs": [],
   "source": [
    "recoded_ratings_data = recode_binary_ratings(zs_final_data)"
   ]
  },
  {
   "cell_type": "code",
   "execution_count": 142,
>>>>>>> 6bb30d8c7b8bcf3d8c65055fe82471633cb4eb10
   "metadata": {},
   "outputs": [
    {
     "data": {
      "text/plain": [
       "array([1, 4])"
      ]
     },
<<<<<<< HEAD
     "execution_count": 445,
=======
     "execution_count": 142,
>>>>>>> 6bb30d8c7b8bcf3d8c65055fe82471633cb4eb10
     "metadata": {},
     "output_type": "execute_result"
    }
   ],
   "source": [
    "recoded_ratings_data.rating.unique()"
   ]
  },
  {
   "cell_type": "code",
<<<<<<< HEAD
   "execution_count": 434,
=======
   "execution_count": 143,
>>>>>>> 6bb30d8c7b8bcf3d8c65055fe82471633cb4eb10
   "metadata": {},
   "outputs": [],
   "source": [
    "final_data = recoded_ratings_data.copy(deep=True)"
   ]
  },
  {
   "cell_type": "code",
<<<<<<< HEAD
   "execution_count": 435,
=======
   "execution_count": 144,
>>>>>>> 6bb30d8c7b8bcf3d8c65055fe82471633cb4eb10
   "metadata": {},
   "outputs": [],
   "source": [
    "def get_misscaled_trials(df):\n",
    "    \"\"\"\n",
    "    args:\n",
    "        df  \n",
    "    returns:\n",
    "        array of misscaled/scaled\n",
    "    \"\"\"\n",
    "    misscaled_col = []\n",
    "    \n",
    "    for idx, row in df.iterrows():\n",
    "        if row['scene1ZoomName'] == 'zo' and row['objectSize']=='small':\n",
    "            misscaled_col.append('misscaled')\n",
    "\n",
    "        if row['scene1ZoomName'] == 'zi' and row['objectSize']=='large':\n",
    "            misscaled_col.append('misscaled')\n",
    "            \n",
    "        if row['scene1ZoomName'] == 'zo' and row['objectSize']=='large':\n",
    "            misscaled_col.append('scaled')\n",
    "\n",
    "        if row['scene1ZoomName'] == 'zi' and row['objectSize']=='small':\n",
    "            misscaled_col.append('scaled')\n",
    "            \n",
    "            \n",
    "            \n",
    "    \n",
    "    return np.array(misscaled_col)"
   ]
  },
  {
   "cell_type": "code",
<<<<<<< HEAD
   "execution_count": 436,
=======
   "execution_count": 145,
>>>>>>> 6bb30d8c7b8bcf3d8c65055fe82471633cb4eb10
   "metadata": {},
   "outputs": [],
   "source": [
    "misscaled_column = get_misscaled_trials(final_data)\n",
    "\n",
    "# # add misscaled column to dataframe \n",
    "final_data.insert(14, \"misscaled\", misscaled_column)\n"
   ]
  },
  {
   "cell_type": "code",
   "execution_count": 146,
   "metadata": {},
   "outputs": [],
   "source": [
    "final_data.to_csv('NoRTCleaning_BINARY_e4v1_b3b4.csv', index=False)"
   ]
  },
  {
   "cell_type": "code",
<<<<<<< HEAD
   "execution_count": 437,
=======
   "execution_count": 65,
>>>>>>> 6bb30d8c7b8bcf3d8c65055fe82471633cb4eb10
   "metadata": {},
   "outputs": [
    {
     "data": {
      "text/plain": [
       "63"
      ]
     },
<<<<<<< HEAD
     "execution_count": 437,
=======
     "execution_count": 65,
>>>>>>> 6bb30d8c7b8bcf3d8c65055fe82471633cb4eb10
     "metadata": {},
     "output_type": "execute_result"
    }
   ],
   "source": [
    "len(final_data.subjID.unique())"
   ]
  },
  {
   "cell_type": "markdown",
   "metadata": {},
   "source": [
    "## Load in data if pipeline has already been run through"
   ]
  },
  {
   "cell_type": "code",
   "execution_count": 3,
   "metadata": {},
   "outputs": [],
   "source": [
    "# final_data = pd.read_csv('zs_e4v1_b3b4.csv')\n"
   ]
  },
  {
   "cell_type": "markdown",
   "metadata": {},
   "source": [
    "## Accuracy\n",
    "\n",
    "\n",
    "add error bars\n",
    "- overall accuracy per subj in each condition "
   ]
  },
  {
   "cell_type": "code",
   "execution_count": null,
   "metadata": {},
   "outputs": [],
   "source": []
  },
  {
   "cell_type": "code",
   "execution_count": 96,
   "metadata": {},
   "outputs": [
    {
     "data": {
      "text/plain": [
       "(0.8802395209580839, 0.8802395209580839)"
      ]
     },
     "execution_count": 96,
     "metadata": {},
     "output_type": "execute_result"
    }
   ],
   "source": [
    "# data split by object-scene size congruency aka scene zoom \n",
    "\n",
    "zo_df = final_data.loc[final_data['scene1ZoomName']=='zo']\n",
    "zi_df = final_data.loc[final_data['scene1ZoomName']=='zi']\n",
    "\n",
    "zo_acc = np.sum(np.array(zo_df['accuracy']))/len(np.array(zo_df['accuracy']))\n",
    "zi_acc = np.sum(np.array(zi_df['accuracy']))/len(np.array(zi_df['accuracy']))\n",
    "\n",
    "zo_acc, zi_acc"
   ]
  },
  {
   "cell_type": "code",
   "execution_count": 97,
   "metadata": {},
   "outputs": [
    {
     "data": {
      "text/plain": [
       "(0.8857715430861723, 0.8747514910536779)"
      ]
     },
     "execution_count": 97,
     "metadata": {},
     "output_type": "execute_result"
    }
   ],
   "source": [
    "misscaled_zo = zo_df.loc[zo_df['misscaled'] =='misscaled'] \n",
    "misscaled_zi = zi_df.loc[zi_df['misscaled'] =='misscaled']\n",
    "misscaled = misscaled_zo.append(misscaled_zi)\n",
    "\n",
    "scaled_zo = zo_df.loc[zo_df['misscaled'] =='scaled'] \n",
    "scaled_zi = zi_df.loc[zi_df['misscaled'] =='scaled']\n",
    "scaled = scaled_zo.append(scaled_zi)\n",
    "\n",
    "misscaled_acc = np.sum(np.array(misscaled['accuracy']))/len(np.array(misscaled['accuracy']))\n",
    "scaled_acc = np.sum(np.array(scaled['accuracy']))/len(np.array(scaled['accuracy']))\n",
    "\n",
    "misscaled_acc, scaled_acc"
   ]
  },
  {
   "cell_type": "code",
   "execution_count": 98,
   "metadata": {},
   "outputs": [],
   "source": [
    "# object scene semantic congruency \n",
    "# var = objectScene1SemanticCongruency\n",
    "# acc = np.sum(np.array(misscaled_zo_objSemCong['accuracy']))/len(np.array(misscaled_zo_objSemCong['accuracy']))\n",
    "\n",
    "misscaled_zo_objSemCong = misscaled_zo.loc[misscaled_zo[\"objectScene1SemanticCongruency\"]==1]\n",
    "misscaled_zo_objSemIncong = misscaled_zo.loc[misscaled_zo[\"objectScene1SemanticCongruency\"]==0]\n",
    "\n",
    "misscaled_zo_objSemCong_acc = np.sum(np.array(misscaled_zo_objSemCong['accuracy']))/len(np.array(misscaled_zo_objSemCong['accuracy']))\n",
    "misscaled_zo_objSemIncong_acc =np.sum(np.array(misscaled_zo_objSemIncong['accuracy']))/len(np.array(misscaled_zo_objSemIncong['accuracy']))\n",
    "\n",
    "misscaled_zo_objSemCong_sem = np.std(np.array(misscaled_zo_objSemCong['accuracy']))/np.sqrt(len(np.array(misscaled_zo_objSemCong['accuracy'])))\n",
    "misscaled_zo_objSemIncong_sem = np.std(np.array(misscaled_zo_objSemIncong['accuracy']))/np.sqrt(len(np.array(misscaled_zo_objSemIncong['accuracy'])))\n",
    "\n",
    "\n",
    "misscaled_zi_objSemCong = misscaled_zi.loc[misscaled_zi[\"objectScene1SemanticCongruency\"]==1]\n",
    "misscaled_zi_objSemIncong = misscaled_zi.loc[misscaled_zi[\"objectScene1SemanticCongruency\"]==0]\n",
    "\n",
    "misscaled_zi_objSemCong_acc = np.sum(np.array(misscaled_zi_objSemCong['accuracy']))/len(np.array(misscaled_zi_objSemCong['accuracy']))\n",
    "misscaled_zi_objSemIncong_acc = np.sum(np.array(misscaled_zi_objSemIncong['accuracy']))/len(np.array(misscaled_zi_objSemIncong['accuracy']))\n",
    "\n",
    "misscaled_zi_objSemCong_sem = np.std(np.array(misscaled_zi_objSemCong['accuracy']))/np.sqrt(len(np.array(misscaled_zi_objSemCong['accuracy'])))\n",
    "misscaled_zi_objSemIncong_sem = np.std(np.array(misscaled_zi_objSemIncong['accuracy']))/np.sqrt(len(np.array(misscaled_zi_objSemIncong['accuracy'])))\n",
    "\n",
    "# scaled\n",
    "scaled_zo_objSemCong = scaled_zo.loc[scaled_zo[\"objectScene1SemanticCongruency\"]==1]\n",
    "scaled_zo_objSemIncong = scaled_zo.loc[scaled_zo[\"objectScene1SemanticCongruency\"]==0]\n",
    "\n",
    "scaled_zo_objSemCong_acc = np.sum(np.array(scaled_zo_objSemCong['accuracy']))/len(np.array(scaled_zo_objSemCong['accuracy']))\n",
    "scaled_zo_objSemIncong_acc =np.sum(np.array(scaled_zo_objSemIncong['accuracy']))/len(np.array(scaled_zo_objSemIncong['accuracy']))\n",
    "\n",
    "scaled_zo_objSemCong_sem = np.std(np.array(scaled_zo_objSemCong['accuracy']))/np.sqrt(len(np.array(scaled_zo_objSemCong['accuracy'])))\n",
    "scaled_zo_objSemIncong_sem = np.std(np.array(scaled_zo_objSemIncong['accuracy']))/np.sqrt(len(np.array(scaled_zo_objSemIncong['accuracy'])))\n",
    "\n",
    "\n",
    "scaled_zi_objSemCong = scaled_zi.loc[scaled_zi[\"objectScene1SemanticCongruency\"]==1]\n",
    "scaled_zi_objSemIncong = scaled_zi.loc[scaled_zi[\"objectScene1SemanticCongruency\"]==0]\n",
    "\n",
    "scaled_zi_objSemCong_acc = np.sum(np.array(scaled_zi_objSemCong['accuracy']))/len(np.array(scaled_zi_objSemCong['accuracy']))\n",
    "scaled_zi_objSemIncong_acc = np.sum(np.array(scaled_zi_objSemIncong['accuracy']))/len(np.array(scaled_zi_objSemIncong['accuracy']))\n",
    "\n",
    "scaled_zi_objSemCong_sem = np.std(np.array(scaled_zi_objSemCong['accuracy']))/np.sqrt(len(np.array(scaled_zi_objSemCong['accuracy'])))\n",
    "scaled_zi_objSemIncong_sem = np.std(np.array(scaled_zi_objSemIncong['accuracy']))/np.sqrt(len(np.array(scaled_zi_objSemIncong['accuracy'])))"
   ]
  },
  {
   "cell_type": "code",
   "execution_count": null,
   "metadata": {},
   "outputs": [],
   "source": []
  },
  {
   "cell_type": "code",
   "execution_count": null,
   "metadata": {},
   "outputs": [],
   "source": []
  },
  {
   "cell_type": "code",
   "execution_count": 99,
   "metadata": {},
   "outputs": [
    {
     "data": {
      "image/png": "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\n",
      "text/plain": [
       "<Figure size 576x720 with 1 Axes>"
      ]
     },
     "metadata": {
      "needs_background": "light"
     },
     "output_type": "display_data"
    }
   ],
   "source": [
    "fig, ax = plt.subplots(figsize=[8,10])\n",
    "ax.spines['right'].set_visible(False)\n",
    "ax.spines['top'].set_visible(False)\n",
    "for axis in ['bottom','left']:\n",
    "    ax.spines[axis].set_linewidth(2.3)\n",
    "    \n",
    "x = np.arange(4)\n",
    "#                                          Misscaled                                               Scaled\n",
    "#                                zo                          zi                         zo                       zi\n",
    "Acc_objSemCong =   [misscaled_zo_objSemCong_acc, misscaled_zi_objSemCong_acc, scaled_zo_objSemCong_acc, scaled_zi_objSemCong_acc]\n",
    "yerr_objSemCong =  [misscaled_zo_objSemCong_sem, misscaled_zi_objSemCong_sem, scaled_zo_objSemCong_sem, scaled_zi_objSemCong_sem]\n",
    "\n",
    "Acc_objSemIncong =   [misscaled_zo_objSemIncong_acc, misscaled_zi_objSemIncong_acc, scaled_zo_objSemIncong_acc, scaled_zi_objSemIncong_acc]\n",
    "yerr_objSemIncong =  [misscaled_zo_objSemIncong_sem, misscaled_zi_objSemIncong_sem, scaled_zo_objSemIncong_sem, scaled_zi_objSemIncong_sem]\n",
    "\n",
    "width = 0.2\n",
    "  \n",
    "# plot data in grouped manner of bar type\n",
    "plt.bar(x-0.2, Acc_objSemCong, width, color='lightgreen', label='Object-Scene1 Semantic Congruency', yerr=yerr_objSemCong, capsize=5)\n",
    "plt.bar(x, Acc_objSemIncong, width, color='darkgreen', label='Object-Scene1 Semantic Incongruency', yerr=yerr_objSemIncong, capsize=5)\n",
    "plt.xticks(x, ['Misscaled zo', 'Misscaled zi', 'Canonical zo', 'Canonical zi'], fontsize='15')\n",
    "plt.ylim(0.50)\n",
    "plt.yticks(fontsize=15) \n",
    "plt.ylabel(\"Percent Correct\", fontsize=16)\n",
    "plt.legend(loc=1, fontsize=12)\n",
    "plt.show()"
   ]
  },
  {
   "cell_type": "code",
   "execution_count": null,
   "metadata": {},
   "outputs": [],
   "source": []
  },
  {
   "cell_type": "markdown",
   "metadata": {},
   "source": [
    "## RT\n",
    "\n",
    "CREATE DIFF DF - ONLY INCLUDE CORRECT TRIALS\n",
    "\n",
    "WITHIN PARTICIPANT SEM"
   ]
  },
  {
   "cell_type": "code",
   "execution_count": null,
   "metadata": {},
   "outputs": [],
   "source": []
  },
  {
   "cell_type": "code",
   "execution_count": 100,
   "metadata": {},
   "outputs": [
    {
     "data": {
      "text/plain": [
       "1521.0113378684807"
      ]
     },
     "execution_count": 100,
     "metadata": {},
     "output_type": "execute_result"
    }
   ],
   "source": [
    "final_data_correctOnly = final_data.loc[final_data['accuracy']==1]\n",
    "\n",
    "np.mean(np.array(final_data_correctOnly['RT']))"
   ]
  },
  {
   "cell_type": "code",
   "execution_count": null,
   "metadata": {},
   "outputs": [],
   "source": []
  },
  {
   "cell_type": "code",
   "execution_count": 101,
   "metadata": {},
   "outputs": [
    {
     "data": {
      "text/plain": [
       "(1487.7278911564626, 1554.2947845804988)"
      ]
     },
     "execution_count": 101,
     "metadata": {},
     "output_type": "execute_result"
    }
   ],
   "source": [
    "# data split by object-scene size congruency aka scene zoom \n",
    "\n",
    "zo_df_CO = final_data_correctOnly.loc[final_data_correctOnly['scene1ZoomName']=='zo']\n",
    "zi_df_CO = final_data_correctOnly.loc[final_data_correctOnly['scene1ZoomName']=='zi']\n",
    "\n",
    "zo_RT = np.mean(np.array(zo_df_CO['RT']))\n",
    "zi_RT = np.mean(np.array(zi_df_CO['RT']))\n",
    "\n",
    "\n",
    "zo_RT, zi_RT"
   ]
  },
  {
   "cell_type": "code",
   "execution_count": 102,
   "metadata": {},
   "outputs": [],
   "source": [
    "misscaled_zo_CO = zo_df_CO.loc[zo_df_CO['misscaled'] =='misscaled'] \n",
    "misscaled_zi_CO = zi_df_CO.loc[zi_df_CO['misscaled'] =='misscaled']\n",
    "misscaled_CO = misscaled_zo_CO.append(misscaled_zi_CO)\n",
    "\n",
    "scaled_zo_CO = zo_df_CO.loc[zo_df_CO['misscaled'] =='scaled'] \n",
    "scaled_zi_CO = zi_df_CO.loc[zi_df_CO['misscaled'] =='scaled']\n",
    "scaled_CO = scaled_zo_CO.append(scaled_zi_CO)"
   ]
  },
  {
   "cell_type": "code",
   "execution_count": 103,
   "metadata": {},
   "outputs": [],
   "source": [
    "misscaled_zo_objSemCong_CO = misscaled_zo_CO.loc[misscaled_zo_CO[\"objectScene1SemanticCongruency\"]==1]\n",
    "misscaled_zo_objSemIncong_CO = misscaled_zo_CO.loc[misscaled_zo_CO[\"objectScene1SemanticCongruency\"]==0]\n",
    "\n",
    "misscaled_zo_objSemCong_RT = np.mean(np.array(misscaled_zo_objSemCong_CO['RT']))\n",
    "misscaled_zo_objSemIncong_RT = np.mean(np.array(misscaled_zo_objSemIncong_CO['RT']))\n",
    "\n",
    "misscaled_zo_objSemCong_RT_sem = sem(np.array(misscaled_zo_objSemCong_CO['RT']))\n",
    "misscaled_zo_objSemIncong_RT_sem = sem(np.array(misscaled_zo_objSemIncong_CO['RT']))\n",
    "\n",
    "\n",
    "misscaled_zi_objSemCong_CO = misscaled_zi_CO.loc[misscaled_zi_CO[\"objectScene1SemanticCongruency\"]==1]\n",
    "misscaled_zi_objSemIncong_CO = misscaled_zi_CO.loc[misscaled_zi_CO[\"objectScene1SemanticCongruency\"]==0]\n",
    "\n",
    "misscaled_zi_objSemCong_RT = np.mean(np.array(misscaled_zi_objSemCong_CO['RT']))\n",
    "misscaled_zi_objSemIncong_RT = np.mean(np.array(misscaled_zi_objSemIncong_CO['RT']))\n",
    "\n",
    "misscaled_zi_objSemCong_RT_sem = sem(np.array(misscaled_zi_objSemCong_CO['RT']))\n",
    "misscaled_zi_objSemIncong_RT_sem = sem(np.array(misscaled_zi_objSemIncong_CO['RT']))\n",
    "\n",
    "\n",
    "# scaled\n",
    "scaled_zo_objSemCong_CO = scaled_zo_CO.loc[scaled_zo_CO[\"objectScene1SemanticCongruency\"]==1]\n",
    "scaled_zo_objSemIncong_CO = scaled_zo_CO.loc[scaled_zo_CO[\"objectScene1SemanticCongruency\"]==0]\n",
    "\n",
    "scaled_zo_objSemCong_RT = np.mean(np.array(scaled_zo_objSemCong_CO['RT']))\n",
    "scaled_zo_objSemIncong_RT = np.mean(np.array(scaled_zo_objSemIncong_CO['RT']))\n",
    "\n",
    "scaled_zo_objSemCong_RT_sem = sem(np.array(scaled_zo_objSemCong_CO['RT']))\n",
    "scaled_zo_objSemIncong_RT_sem = sem(np.array(scaled_zo_objSemIncong_CO['RT']))\n",
    "\n",
    "\n",
    "scaled_zi_objSemCong_CO = scaled_zi_CO.loc[scaled_zi_CO[\"objectScene1SemanticCongruency\"]==1]\n",
    "scaled_zi_objSemIncong_CO = scaled_zi_CO.loc[scaled_zi_CO[\"objectScene1SemanticCongruency\"]==0]\n",
    "\n",
    "scaled_zi_objSemCong_RT = np.mean(np.array(scaled_zi_objSemCong_CO['RT']))\n",
    "scaled_zi_objSemIncong_RT = np.mean(np.array(scaled_zi_objSemIncong_CO['RT']))\n",
    "\n",
    "scaled_zi_objSemCong_RT_sem = sem(np.array(scaled_zi_objSemCong_CO['RT']))\n",
    "scaled_zi_objSemIncong_RT_sem = sem(np.array(scaled_zi_objSemIncong_CO['RT']))\n"
   ]
  },
  {
   "cell_type": "code",
   "execution_count": null,
   "metadata": {},
   "outputs": [],
   "source": []
  },
  {
   "cell_type": "code",
   "execution_count": null,
   "metadata": {},
   "outputs": [],
   "source": []
  },
  {
   "cell_type": "code",
   "execution_count": null,
   "metadata": {},
   "outputs": [],
   "source": []
  },
  {
   "cell_type": "code",
   "execution_count": 104,
   "metadata": {},
   "outputs": [
    {
     "data": {
      "image/png": "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\n",
      "text/plain": [
       "<Figure size 720x720 with 1 Axes>"
      ]
     },
     "metadata": {
      "needs_background": "light"
     },
     "output_type": "display_data"
    }
   ],
   "source": [
    "fig, ax = plt.subplots(figsize=[10,10])\n",
    "ax.spines['right'].set_visible(False)\n",
    "ax.spines['top'].set_visible(False)\n",
    "for axis in ['bottom','left']:\n",
    "    ax.spines[axis].set_linewidth(2.3)\n",
    "    \n",
    "x = np.arange(4)\n",
    "#                                          Misscaled                                             Scaled\n",
    "#                               zo                          zi                         zo                     zi\n",
    "RT_objSemCong =   [misscaled_zo_objSemCong_RT, misscaled_zi_objSemCong_RT, scaled_zo_objSemCong_RT, scaled_zi_objSemCong_RT]\n",
    "RT_objSemCong_sem = [misscaled_zo_objSemCong_RT_sem, misscaled_zi_objSemCong_RT_sem, scaled_zo_objSemCong_RT_sem, scaled_zi_objSemCong_RT_sem]\n",
    "\n",
    "RT_objSemIncong = [misscaled_zo_objSemIncong_RT, misscaled_zi_objSemIncong_RT, scaled_zo_objSemIncong_RT, scaled_zi_objSemIncong_RT]\n",
    "RT_objSemIncong_sem = [misscaled_zo_objSemIncong_RT_sem, misscaled_zi_objSemIncong_RT_sem, scaled_zo_objSemIncong_RT_sem, scaled_zi_objSemIncong_RT_sem]\n",
    "\n",
    "width = 0.2\n",
    "  \n",
    "# plot data in grouped manner of bar type\n",
    "plt.bar(x-0.2, RT_objSemCong, width, color='lightgreen', label='Object-Scene1 Semantic Congruency', yerr=RT_objSemCong_sem, capsize=5, alpha=0.8)\n",
    "plt.bar(x, RT_objSemIncong, width, color='darkgreen', label='Object-Scene1 Semantic Incongruency', yerr=RT_objSemIncong_sem, capsize=5, alpha=0.8)\n",
    "plt.xticks(x, ['Misscaled zo', 'Misscaled zi', 'Canonical zo', 'Canonical zi'], fontsize='15')\n",
    "plt.yticks(fontsize=15) \n",
    "plt.ylim(400)\n",
    "plt.ylabel(\"RT (ms)\", fontsize=16)\n",
    "plt.legend(loc=0, fontsize=12)\n",
    "plt.show()"
   ]
  },
  {
   "cell_type": "code",
   "execution_count": 105,
   "metadata": {},
   "outputs": [],
   "source": [
    "RTs_correctOnly = list(final_data_correctOnly['RT']) "
   ]
  },
  {
   "cell_type": "code",
   "execution_count": 106,
   "metadata": {},
   "outputs": [
    {
     "data": {
      "image/png": "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\n",
      "text/plain": [
       "<Figure size 576x576 with 1 Axes>"
      ]
     },
     "metadata": {
      "needs_background": "light"
     },
     "output_type": "display_data"
    }
   ],
   "source": [
    "\n",
    "fig, ax = plt.subplots(figsize=[8,8])\n",
    "ax.spines['right'].set_visible(False)\n",
    "\n",
    "ax.spines['top'].set_visible(False)\n",
    "\n",
    "\n",
    "\n",
    "for axis in ['bottom','left']:\n",
    "\n",
    "    ax.spines[axis].set_linewidth(2.3)\n",
    "\n",
    "plt.hist(np.array(RTs_correctOnly), color='orange', bins=20)\n",
    "plt.title('RT Distribution: Correct Trials', fontsize=20)\n",
    "plt.xlabel('RT (ms)', fontsize=15)\n",
    "plt.ylabel('Number of trials', fontsize=15)\n",
    "plt.xticks(fontsize=15)\n",
    "plt.yticks(fontsize=15)\n",
    "plt.show()"
   ]
  },
  {
   "cell_type": "markdown",
   "metadata": {},
   "source": [
    "# Analyze Data by Mis-scaling Rating"
   ]
  },
  {
   "cell_type": "code",
<<<<<<< HEAD
   "execution_count": 438,
=======
   "execution_count": 107,
>>>>>>> 6bb30d8c7b8bcf3d8c65055fe82471633cb4eb10
   "metadata": {},
   "outputs": [],
   "source": [
    "data_1 = final_data.loc[final_data['rating'] == 1]\n",
    "data_2 = final_data.loc[final_data['rating'] == 2]\n",
    "data_3 = final_data.loc[final_data['rating'] == 3]\n",
    "data_4 = final_data.loc[final_data['rating'] == 4]\n",
    "\n",
    "\n"
   ]
  },
  {
   "cell_type": "code",
   "execution_count": 446,
   "metadata": {},
   "outputs": [
    {
     "data": {
      "text/plain": [
       "(111, 79, 41, 151)"
      ]
     },
     "execution_count": 446,
     "metadata": {},
     "output_type": "execute_result"
    }
   ],
   "source": [
    "len(data_1['accuracy']), len(data_2['accuracy']), len(data_3['accuracy']), len(data_4['accuracy'])"
   ]
  },
  {
   "cell_type": "code",
<<<<<<< HEAD
   "execution_count": 447,
=======
   "execution_count": 108,
>>>>>>> 6bb30d8c7b8bcf3d8c65055fe82471633cb4eb10
   "metadata": {},
   "outputs": [
    {
     "data": {
      "text/plain": [
<<<<<<< HEAD
       "(111, 79, 41, 151)"
      ]
     },
     "execution_count": 447,
=======
       "(352, 222, 203, 225)"
      ]
     },
     "execution_count": 108,
>>>>>>> 6bb30d8c7b8bcf3d8c65055fe82471633cb4eb10
     "metadata": {},
     "output_type": "execute_result"
    }
   ],
   "source": [
    "len(data_1['accuracy']), len(data_2['accuracy']), len(data_3['accuracy']), len(data_4['accuracy'])\n"
   ]
  },
  {
   "cell_type": "code",
   "execution_count": 109,
   "metadata": {},
   "outputs": [
    {
     "data": {
      "image/png": "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\n",
      "text/plain": [
       "<Figure size 576x720 with 1 Axes>"
      ]
     },
     "metadata": {
      "needs_background": "light"
     },
     "output_type": "display_data"
    }
   ],
   "source": [
    "fig, ax = plt.subplots(figsize=[8,10])\n",
    "ax.spines['right'].set_visible(False)\n",
    "ax.spines['top'].set_visible(False)\n",
    "for axis in ['bottom','left']:\n",
    "    ax.spines[axis].set_linewidth(2.3)\n",
    "    \n",
    "plt.xticks( fontsize='15')\n",
    "plt.yticks(fontsize=15) \n",
    "plt.ylabel('count', fontsize=18)\n",
    "plt.xlabel('rating', fontsize=18)\n",
    "    \n",
    "plt.bar(['1', '2', '3', '4'], [268, 166, 129, 151])\n",
    "plt.show()"
   ]
  },
  {
   "cell_type": "code",
<<<<<<< HEAD
   "execution_count": null,
   "metadata": {},
   "outputs": [],
   "source": []
  },
  {
   "cell_type": "code",
   "execution_count": 387,
=======
   "execution_count": 110,
>>>>>>> 6bb30d8c7b8bcf3d8c65055fe82471633cb4eb10
   "metadata": {},
   "outputs": [
    {
     "data": {
      "image/png": "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\n",
      "text/plain": [
       "<Figure size 576x720 with 1 Axes>"
      ]
     },
     "metadata": {
      "needs_background": "light"
     },
     "output_type": "display_data"
    }
   ],
   "source": [
    "fig, ax = plt.subplots(figsize=[8,10])\n",
    "ax.spines['right'].set_visible(False)\n",
    "ax.spines['top'].set_visible(False)\n",
    "for axis in ['bottom','left']:\n",
    "    ax.spines[axis].set_linewidth(2.3)\n",
    "    \n",
    "x = np.arange(4)\n",
    "\n",
    "Acc_ =   [np.sum(np.array(data_1['accuracy']))/len(np.array(data_1['accuracy'])), np.sum(np.array(data_2['accuracy']))/len(np.array(data_2['accuracy'])), np.sum(np.array(data_3['accuracy']))/len(np.array(data_3['accuracy'])), np.sum(np.array(data_4['accuracy']))/len(np.array(data_4['accuracy']))]\n",
    "yerr_ =  [np.std(np.array(data_1['accuracy']))/np.sqrt(len(np.array(data_1['accuracy']))), np.std(np.array(data_2['accuracy']))/np.sqrt(len(np.array(data_2['accuracy']))), np.std(np.array(data_3['accuracy']))/np.sqrt(len(np.array(data_3['accuracy']))), np.std(np.array(data_4['accuracy']))/np.sqrt(len(np.array(data_4['accuracy'])))]\n",
    "\n",
    "width = 0.2\n",
    "  \n",
    "# plot data in grouped manner of bar type\n",
    "plt.bar(x, Acc_, width, color='gray', yerr=yerr_, capsize=5)\n",
    "plt.xticks(x, [1, 2, 3, 4], fontsize='15')\n",
    "plt.ylim(0.50, 1)\n",
    "plt.yticks(fontsize=15) \n",
    "plt.xlabel(\"Subject Rating\", fontsize=18)\n",
    "plt.ylabel(\"Percent Correct\", fontsize=18)\n",
    "# plt.legend(loc=1, fontsize=15)\n",
    "plt.show()"
   ]
  },
  {
   "cell_type": "code",
   "execution_count": 111,
   "metadata": {},
   "outputs": [],
   "source": [
    "data_1_zo = data_1.loc[data_1['scene1ZoomName'] == 'zo']\n",
    "data_1_zi = data_1.loc[data_1['scene1ZoomName'] == 'zi']\n",
    "\n",
    "data_2_zo = data_2.loc[data_2['scene1ZoomName'] == 'zo']\n",
    "data_2_zi = data_2.loc[data_2['scene1ZoomName'] == 'zi']\n",
    "\n",
    "data_3_zo = data_3.loc[data_3['scene1ZoomName'] == 'zo']\n",
    "data_3_zi = data_3.loc[data_3['scene1ZoomName'] == 'zi']\n",
    "\n",
    "data_4_zo = data_4.loc[data_4['scene1ZoomName'] == 'zo']\n",
    "data_4_zi = data_4.loc[data_4['scene1ZoomName'] == 'zi']\n"
   ]
  },
  {
   "cell_type": "code",
   "execution_count": 112,
   "metadata": {},
   "outputs": [
    {
     "name": "stdout",
     "output_type": "stream",
     "text": [
      "177\n",
      "175\n",
      "106\n",
      "116\n",
      "112\n",
      "91\n",
      "106\n",
      "119\n"
     ]
    }
   ],
   "source": [
    "# Accuracy\n",
    "\n",
    "data_1_zo_acc = np.sum(np.array(data_1_zo['accuracy']))/len(np.array(data_1_zo['accuracy']))\n",
    "data_1_zi_acc =np.sum(np.array(data_1_zi['accuracy']))/len(np.array(data_1_zi['accuracy']))\n",
    "\n",
    "data_1_zo_sem = np.std(np.array(data_1_zo['accuracy']))/np.sqrt(len(np.array(data_1_zo['accuracy'])))\n",
    "data_1_zi_sem = np.std(np.array(data_1_zi['accuracy']))/np.sqrt(len(np.array(data_1_zi['accuracy'])))\n",
    "\n",
    "print(len(np.array(data_1_zo['accuracy'])))\n",
    "print(len(np.array(data_1_zi['accuracy'])))\n",
    "\n",
    "\n",
    "data_2_zo_acc = np.sum(np.array(data_2_zo['accuracy']))/len(np.array(data_2_zo['accuracy']))\n",
    "data_2_zi_acc =np.sum(np.array(data_2_zi['accuracy']))/len(np.array(data_2_zi['accuracy']))\n",
    "\n",
    "data_2_zo_sem = np.std(np.array(data_2_zo['accuracy']))/np.sqrt(len(np.array(data_2_zo['accuracy'])))\n",
    "data_2_zi_sem = np.std(np.array(data_2_zi['accuracy']))/np.sqrt(len(np.array(data_2_zi['accuracy'])))\n",
    "\n",
    "print(len(np.array(data_2_zo['accuracy'])))\n",
    "print(len(np.array(data_2_zi['accuracy'])))\n",
    "\n",
    "\n",
    "data_3_zo_acc = np.sum(np.array(data_3_zo['accuracy']))/len(np.array(data_3_zo['accuracy']))\n",
    "data_3_zi_acc =np.sum(np.array(data_3_zi['accuracy']))/len(np.array(data_3_zi['accuracy']))\n",
    "\n",
    "data_3_zo_sem = np.std(np.array(data_3_zo['accuracy']))/np.sqrt(len(np.array(data_3_zo['accuracy'])))\n",
    "data_3_zi_sem = np.std(np.array(data_3_zi['accuracy']))/np.sqrt(len(np.array(data_3_zi['accuracy'])))\n",
    "\n",
    "print(len(np.array(data_3_zo['accuracy'])))\n",
    "print(len(np.array(data_3_zi['accuracy'])))\n",
    "\n",
    "data_4_zo_acc = np.sum(np.array(data_4_zo['accuracy']))/len(np.array(data_4_zo['accuracy']))\n",
    "data_4_zi_acc =np.sum(np.array(data_4_zi['accuracy']))/len(np.array(data_4_zi['accuracy']))\n",
    "\n",
    "data_4_zo_sem = np.std(np.array(data_4_zo['accuracy']))/np.sqrt(len(np.array(data_4_zo['accuracy'])))\n",
    "data_4_zi_sem = np.std(np.array(data_4_zi['accuracy']))/np.sqrt(len(np.array(data_4_zi['accuracy'])))\n",
    "\n",
    "print(len(np.array(data_4_zo['accuracy'])))\n",
    "print(len(np.array(data_4_zi['accuracy'])))\n"
   ]
  },
  {
   "cell_type": "code",
   "execution_count": 113,
   "metadata": {},
   "outputs": [
    {
     "data": {
      "image/png": "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\n",
      "text/plain": [
       "<Figure size 576x720 with 1 Axes>"
      ]
     },
     "metadata": {
      "needs_background": "light"
     },
     "output_type": "display_data"
    }
   ],
   "source": [
    "fig, ax = plt.subplots(figsize=[8,10])\n",
    "ax.spines['right'].set_visible(False)\n",
    "ax.spines['top'].set_visible(False)\n",
    "for axis in ['bottom','left']:\n",
    "    ax.spines[axis].set_linewidth(2.3)\n",
    "    \n",
    "x = np.arange(4)\n",
    "\n",
    "Acc_zo =   [data_1_zo_acc, data_2_zo_acc, data_3_zo_acc, data_4_zo_acc]\n",
    "yerr_zo =  [data_1_zo_sem, data_2_zo_sem, data_3_zo_sem, data_4_zo_sem]\n",
    "\n",
    "Acc_zi =   [data_1_zi_acc, data_2_zi_acc, data_3_zi_acc, data_4_zi_acc]\n",
    "yerr_zi =  [data_1_zi_sem, data_2_zi_sem, data_3_zi_sem, data_4_zi_sem]\n",
    "\n",
    "width = 0.2\n",
    "  \n",
    "# plot data in grouped manner of bar type\n",
    "plt.bar(x-0.2, Acc_zo, width, color='orange', label='Zoom out', yerr=yerr_zo, capsize=5)\n",
    "plt.bar(x, Acc_zi, width, color='chocolate', label='Zoom in', yerr=yerr_zi, capsize=5)\n",
    "plt.xticks(x, [1, 2, 3, 4], fontsize='15')\n",
    "plt.ylim(0.50)\n",
    "plt.yticks(fontsize=15) \n",
    "plt.xlabel(\"Subject Rating\", fontsize=18)\n",
    "plt.ylabel(\"Percent Correct\", fontsize=18)\n",
    "plt.legend(loc=1, fontsize=15)\n",
    "plt.show()"
   ]
  },
  {
   "cell_type": "code",
   "execution_count": 114,
   "metadata": {},
   "outputs": [],
   "source": [
    "data_1_objectScene1SemanticCongruency0 = data_1.loc[data_1['objectScene1SemanticCongruency'] == 0]\n",
    "data_1_objectScene1SemanticCongruency1 = data_1.loc[data_1['objectScene1SemanticCongruency'] == 1]\n",
    "\n",
    "data_2_objectScene1SemanticCongruency0 = data_2.loc[data_2['objectScene1SemanticCongruency'] == 0]\n",
    "data_2_objectScene1SemanticCongruency1 = data_2.loc[data_2['objectScene1SemanticCongruency'] == 1]\n",
    "\n",
    "data_3_objectScene1SemanticCongruency0 = data_3.loc[data_3['objectScene1SemanticCongruency'] == 0]\n",
    "data_3_objectScene1SemanticCongruency1 = data_3.loc[data_3['objectScene1SemanticCongruency'] == 1]\n",
    "\n",
    "data_4_objectScene1SemanticCongruency0 = data_4.loc[data_4['objectScene1SemanticCongruency'] == 0]\n",
    "data_4_objectScene1SemanticCongruency1 = data_4.loc[data_4['objectScene1SemanticCongruency'] == 1]\n"
   ]
  },
  {
   "cell_type": "code",
   "execution_count": 115,
   "metadata": {},
   "outputs": [
    {
     "name": "stdout",
     "output_type": "stream",
     "text": [
      "378\n",
      "254\n",
      "188\n",
      "184\n"
     ]
    }
   ],
   "source": [
    "# Accuracy\n",
    "\n",
    "data_1_objectScene1SemanticCongruency0_acc = np.sum(np.array(data_1_objectScene1SemanticCongruency0['accuracy']))/len(np.array(data_1_objectScene1SemanticCongruency0['accuracy']))\n",
    "data_1_objectScene1SemanticCongruency1_acc =np.sum(np.array(data_1_objectScene1SemanticCongruency1['accuracy']))/len(np.array(data_1_objectScene1SemanticCongruency1['accuracy']))\n",
    "\n",
    "data_1_objectScene1SemanticCongruency0_sem = np.std(np.array(data_1_objectScene1SemanticCongruency0['accuracy']))/np.sqrt(len(np.array(data_1_objectScene1SemanticCongruency0['accuracy'])))\n",
    "data_1_objectScene1SemanticCongruency1_sem = np.std(np.array(data_1_objectScene1SemanticCongruency1['accuracy']))/np.sqrt(len(np.array(data_1_objectScene1SemanticCongruency1['accuracy'])))\n",
    "\n",
    "print(len(np.array(data_1_objectScene1SemanticCongruency0['accuracy'])) + len(np.array(data_1_objectScene1SemanticCongruency0['accuracy'])))\n",
    "\n",
    "data_2_objectScene1SemanticCongruency0_acc = np.sum(np.array(data_2_objectScene1SemanticCongruency0['accuracy']))/len(np.array(data_2_objectScene1SemanticCongruency0['accuracy']))\n",
    "data_2_objectScene1SemanticCongruency1_acc =np.sum(np.array(data_2_objectScene1SemanticCongruency1['accuracy']))/len(np.array(data_2_objectScene1SemanticCongruency1['accuracy']))\n",
    "\n",
    "data_2_objectScene1SemanticCongruency0_sem = np.std(np.array(data_2_objectScene1SemanticCongruency0['accuracy']))/np.sqrt(len(np.array(data_2_objectScene1SemanticCongruency0['accuracy'])))\n",
    "data_2_objectScene1SemanticCongruency1_sem = np.std(np.array(data_2_objectScene1SemanticCongruency1['accuracy']))/np.sqrt(len(np.array(data_2_objectScene1SemanticCongruency1['accuracy'])))\n",
    "\n",
    "print(len(np.array(data_2_objectScene1SemanticCongruency0['accuracy'])) + len(np.array(data_2_objectScene1SemanticCongruency0['accuracy'])))\n",
    "\n",
    "data_3_objectScene1SemanticCongruency0_acc = np.sum(np.array(data_3_objectScene1SemanticCongruency0['accuracy']))/len(np.array(data_3_objectScene1SemanticCongruency0['accuracy']))\n",
    "data_3_objectScene1SemanticCongruency1_acc =np.sum(np.array(data_3_objectScene1SemanticCongruency1['accuracy']))/len(np.array(data_3_objectScene1SemanticCongruency1['accuracy']))\n",
    "\n",
    "data_3_objectScene1SemanticCongruency0_sem = np.std(np.array(data_3_objectScene1SemanticCongruency0['accuracy']))/np.sqrt(len(np.array(data_3_objectScene1SemanticCongruency0['accuracy'])))\n",
    "data_3_objectScene1SemanticCongruency1_sem = np.std(np.array(data_3_objectScene1SemanticCongruency1['accuracy']))/np.sqrt(len(np.array(data_3_objectScene1SemanticCongruency1['accuracy'])))\n",
    "\n",
    "print(len(np.array(data_3_objectScene1SemanticCongruency0['accuracy'])) + len(np.array(data_3_objectScene1SemanticCongruency0['accuracy'])))\n",
    "\n",
    "data_4_objectScene1SemanticCongruency0_acc = np.sum(np.array(data_4_objectScene1SemanticCongruency0['accuracy']))/len(np.array(data_4_objectScene1SemanticCongruency0['accuracy']))\n",
    "data_4_objectScene1SemanticCongruency1_acc =np.sum(np.array(data_4_objectScene1SemanticCongruency1['accuracy']))/len(np.array(data_4_objectScene1SemanticCongruency1['accuracy']))\n",
    "\n",
    "data_4_objectScene1SemanticCongruency0_sem = np.std(np.array(data_4_objectScene1SemanticCongruency0['accuracy']))/np.sqrt(len(np.array(data_4_objectScene1SemanticCongruency0['accuracy'])))\n",
    "data_4_objectScene1SemanticCongruency1_sem = np.std(np.array(data_4_objectScene1SemanticCongruency1['accuracy']))/np.sqrt(len(np.array(data_4_objectScene1SemanticCongruency1['accuracy'])))\n",
    "\n",
    "print(len(np.array(data_4_objectScene1SemanticCongruency0['accuracy'])) + len(np.array(data_4_objectScene1SemanticCongruency0['accuracy'])))\n"
   ]
  },
  {
   "cell_type": "code",
   "execution_count": 116,
   "metadata": {},
   "outputs": [
    {
     "data": {
      "image/png": "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\n",
      "text/plain": [
       "<Figure size 576x720 with 1 Axes>"
      ]
     },
     "metadata": {
      "needs_background": "light"
     },
     "output_type": "display_data"
    }
   ],
   "source": [
    "fig, ax = plt.subplots(figsize=[8,10])\n",
    "ax.spines['right'].set_visible(False)\n",
    "ax.spines['top'].set_visible(False)\n",
    "for axis in ['bottom','left']:\n",
    "    ax.spines[axis].set_linewidth(2.3)\n",
    "    \n",
    "x = np.arange(4)\n",
    "\n",
    "Acc_0 =   [data_1_objectScene1SemanticCongruency0_acc, data_2_objectScene1SemanticCongruency0_acc, data_3_objectScene1SemanticCongruency0_acc, data_4_objectScene1SemanticCongruency0_acc]\n",
    "yerr_0 =  [data_1_objectScene1SemanticCongruency0_sem, data_2_objectScene1SemanticCongruency0_sem, data_3_objectScene1SemanticCongruency0_sem, data_4_objectScene1SemanticCongruency0_sem]\n",
    "\n",
    "Acc_1 =   [data_1_objectScene1SemanticCongruency1_acc, data_2_objectScene1SemanticCongruency1_acc, data_3_objectScene1SemanticCongruency1_acc, data_4_objectScene1SemanticCongruency1_acc]\n",
    "yerr_1 =  [data_1_objectScene1SemanticCongruency1_sem, data_2_objectScene1SemanticCongruency1_sem, data_3_objectScene1SemanticCongruency1_sem, data_4_objectScene1SemanticCongruency1_sem]\n",
    "\n",
    "width = 0.2\n",
    "  \n",
    "# plot data in grouped manner of bar type\n",
    "plt.bar(x-0.2, Acc_0, width, color='orange', label='Object-Scene1 Semantic Incongruent', yerr=yerr_0, capsize=5)\n",
    "plt.bar(x, Acc_1, width, color='chocolate', label='Object-Scene1 Semantic Congruent', yerr=yerr_1, capsize=5)\n",
    "plt.xticks(x, [1, 2, 3, 4], fontsize='15')\n",
    "plt.ylim(0.50)\n",
    "plt.yticks(fontsize=15) \n",
    "plt.xlabel(\"Subject Rating\", fontsize=18)\n",
    "plt.ylabel(\"Percent Correct\", fontsize=18)\n",
    "plt.legend(loc=1, fontsize=15)\n",
    "plt.show()"
   ]
  },
  {
   "cell_type": "code",
<<<<<<< HEAD
   "execution_count": 448,
=======
   "execution_count": 117,
>>>>>>> 6bb30d8c7b8bcf3d8c65055fe82471633cb4eb10
   "metadata": {},
   "outputs": [],
   "source": [
    "data_1_CO = final_data_correctOnly.loc[final_data_correctOnly['rating'] == 1]\n",
    "data_2_CO = final_data_correctOnly.loc[final_data_correctOnly['rating'] == 2]\n",
    "data_3_CO = final_data_correctOnly.loc[final_data_correctOnly['rating'] == 3]\n",
    "data_4_CO = final_data_correctOnly.loc[final_data_correctOnly['rating'] == 4]\n",
    "\n",
    "data_1_zo_CO = data_1_CO.loc[data_1_CO['scene1ZoomName'] == 'zo']\n",
    "data_1_zi_CO = data_1_CO.loc[data_1_CO['scene1ZoomName'] == 'zi']\n",
    "\n",
    "data_2_zo_CO = data_2_CO.loc[data_2_CO['scene1ZoomName'] == 'zo']\n",
    "data_2_zi_CO = data_2_CO.loc[data_2_CO['scene1ZoomName'] == 'zi']\n",
    "\n",
    "data_3_zo_CO = data_3_CO.loc[data_3_CO['scene1ZoomName'] == 'zo']\n",
    "data_3_zi_CO = data_3_CO.loc[data_3_CO['scene1ZoomName'] == 'zi']\n",
    "\n",
    "data_4_zo_CO = data_4_CO.loc[data_4_CO['scene1ZoomName'] == 'zo']\n",
    "data_4_zi_CO = data_4_CO.loc[data_4_CO['scene1ZoomName'] == 'zi']\n",
    "\n",
    "\n",
    "\n"
   ]
  },
  {
   "cell_type": "code",
<<<<<<< HEAD
   "execution_count": 449,
=======
   "execution_count": 118,
>>>>>>> 6bb30d8c7b8bcf3d8c65055fe82471633cb4eb10
   "metadata": {},
   "outputs": [],
   "source": [
    "# RT \n",
    "data_1_zo_RT = np.mean(np.array(data_1_zo_CO['RT']))\n",
    "data_1_zi_RT = np.mean(np.array(data_1_zi_CO['RT']))\n",
    "\n",
    "data_1_zo_RT_sem = sem(np.array(data_1_zo_CO['RT']))\n",
    "data_1_zi_RT_sem = sem(np.array(data_1_zi_CO['RT']))\n",
    "\n",
    "\n",
    "data_2_zo_RT = np.mean(np.array(data_2_zo_CO['RT']))\n",
    "data_2_zi_RT = np.mean(np.array(data_2_zi_CO['RT']))\n",
    "\n",
    "data_2_zo_RT_sem = sem(np.array(data_2_zo_CO['RT']))\n",
    "data_2_zi_RT_sem = sem(np.array(data_2_zi_CO['RT']))\n",
    "\n",
    "\n",
    "data_3_zo_RT = np.mean(np.array(data_3_zo_CO['RT']))\n",
    "data_3_zi_RT = np.mean(np.array(data_3_zi_CO['RT']))\n",
    "\n",
    "data_3_zo_RT_sem = sem(np.array(data_3_zo_CO['RT']))\n",
    "data_3_zi_RT_sem =sem(np.array(data_3_zi_CO['RT']))\n",
    "\n",
    "\n",
    "data_4_zo_RT = np.mean(np.array(data_4_zo_CO['RT']))\n",
    "data_4_zi_RT = np.mean(np.array(data_4_zi_CO['RT']))\n",
    "\n",
    "data_4_zo_RT_sem = sem(np.array(data_4_zo_CO['RT']))\n",
    "data_4_zi_RT_sem = sem(np.array(data_4_zi_CO['RT']))\n",
    "\n"
   ]
  },
  {
   "cell_type": "code",
   "execution_count": null,
   "metadata": {},
   "outputs": [],
   "source": []
  },
  {
   "cell_type": "code",
<<<<<<< HEAD
   "execution_count": 450,
=======
   "execution_count": 119,
>>>>>>> 6bb30d8c7b8bcf3d8c65055fe82471633cb4eb10
   "metadata": {},
   "outputs": [
    {
     "data": {
      "text/plain": [
       "(311, 194, 181, 196)"
      ]
     },
<<<<<<< HEAD
     "execution_count": 450,
=======
     "execution_count": 119,
>>>>>>> 6bb30d8c7b8bcf3d8c65055fe82471633cb4eb10
     "metadata": {},
     "output_type": "execute_result"
    }
   ],
   "source": [
    "len(data_1_CO['accuracy']), len(data_2_CO['accuracy']), len(data_3_CO['accuracy']), len(data_4_CO['accuracy'])"
   ]
  },
  {
   "cell_type": "code",
<<<<<<< HEAD
   "execution_count": 451,
=======
   "execution_count": 120,
>>>>>>> 6bb30d8c7b8bcf3d8c65055fe82471633cb4eb10
   "metadata": {},
   "outputs": [
    {
     "data": {
      "image/png": "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\n",
      "text/plain": [
       "<Figure size 576x720 with 1 Axes>"
      ]
     },
     "metadata": {
      "needs_background": "light"
     },
     "output_type": "display_data"
    }
   ],
   "source": [
    "fig, ax = plt.subplots(figsize=[8,10])\n",
    "ax.spines['right'].set_visible(False)\n",
    "ax.spines['top'].set_visible(False)\n",
    "for axis in ['bottom','left']:\n",
    "    ax.spines[axis].set_linewidth(2.3)\n",
    "    \n",
    "plt.xticks( fontsize='15')\n",
    "plt.yticks(fontsize=15) \n",
    "plt.ylabel('count', fontsize=18)\n",
    "plt.xlabel('rating', fontsize=18)\n",
    "\n",
    "plt.title('Correct Trials Only', fontsize=22)\n",
    "    \n",
    "plt.bar(['1', '2', '3', '4'], [128, 63, 44, 55])\n",
    "\n",
    "plt.show()"
   ]
  },
  {
   "cell_type": "code",
<<<<<<< HEAD
   "execution_count": 452,
=======
   "execution_count": 121,
>>>>>>> 6bb30d8c7b8bcf3d8c65055fe82471633cb4eb10
   "metadata": {},
   "outputs": [
    {
     "data": {
      "image/png": "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\n",
      "text/plain": [
       "<Figure size 576x720 with 1 Axes>"
      ]
     },
     "metadata": {
      "needs_background": "light"
     },
     "output_type": "display_data"
    }
   ],
   "source": [
    "fig, ax = plt.subplots(figsize=[8,10])\n",
    "ax.spines['right'].set_visible(False)\n",
    "ax.spines['top'].set_visible(False)\n",
    "for axis in ['bottom','left']:\n",
    "    ax.spines[axis].set_linewidth(2.3)\n",
    "    \n",
    "x = np.arange(4)\n",
    "\n",
    "RT_ = [np.mean(np.array(data_1_CO['RT'])), np.mean(np.array(data_2_CO['RT'])), np.mean(np.array(data_3_CO['RT'])), np.mean(np.array(data_4_CO['RT']))]\n",
    "yerr_RT = [sem(np.array(data_1_CO['RT'])), sem(np.array(data_2_CO['RT'])), sem(np.array(data_3_CO['RT'])), sem(np.array(data_4_CO['RT']))]\n",
    "\n",
    "width = 0.2\n",
    "  \n",
    "# plot data in grouped manner of bar type\n",
    "plt.bar(x, RT_, width, color='gray', yerr=yerr_RT, capsize=5)\n",
    "plt.xticks(x, [1, 2, 3, 4], fontsize='15')\n",
    "plt.ylim(600)\n",
    "plt.yticks(fontsize=15) \n",
    "plt.xlabel(\"Subject Rating\", fontsize=18)\n",
    "plt.ylabel(\"RT\", fontsize=18)\n",
    "# plt.legend(loc=1, fontsize=15)\n",
    "plt.show()"
   ]
  },
  {
   "cell_type": "code",
<<<<<<< HEAD
   "execution_count": 453,
=======
   "execution_count": 122,
>>>>>>> 6bb30d8c7b8bcf3d8c65055fe82471633cb4eb10
   "metadata": {},
   "outputs": [
    {
     "data": {
      "image/png": "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\n",
      "text/plain": [
       "<Figure size 576x720 with 1 Axes>"
      ]
     },
     "metadata": {
      "needs_background": "light"
     },
     "output_type": "display_data"
    }
   ],
   "source": [
    "fig, ax = plt.subplots(figsize=[8,10])\n",
    "ax.spines['right'].set_visible(False)\n",
    "ax.spines['top'].set_visible(False)\n",
    "for axis in ['bottom','left']:\n",
    "    ax.spines[axis].set_linewidth(2.3)\n",
    "    \n",
    "x = np.arange(4)\n",
    "\n",
    "RT_zo =   [data_1_zo_RT, data_2_zo_RT, data_3_zo_RT, data_4_zo_RT]\n",
    "yerr_RT_zo =  [data_1_zo_RT_sem, data_2_zo_RT_sem, data_3_zo_RT_sem, data_4_zo_RT_sem]\n",
    "\n",
    "RT_zi =   [data_1_zi_RT, data_2_zi_RT, data_3_zi_RT, data_4_zi_RT]\n",
    "yerr_RT_zi =  [data_1_zi_RT_sem, data_2_zi_RT_sem, data_3_zi_RT_sem, data_4_zi_RT_sem]\n",
    "\n",
    "width = 0.2\n",
    "  \n",
    "# plot data in grouped manner of bar type\n",
    "plt.bar(x-0.2, RT_zo, width, color='plum', label='Zoom out', yerr=yerr_RT_zo, capsize=5)\n",
    "plt.bar(x, RT_zi, width, color='purple', label='Zoom in', yerr=yerr_RT_zi, capsize=5)\n",
    "plt.xticks(x, [1, 2, 3, 4], fontsize='15')\n",
    "plt.ylim(600)\n",
    "plt.yticks(fontsize=15) \n",
    "plt.xlabel(\"Subject Rating\", fontsize=18)\n",
    "plt.ylabel(\"RT (ms)\", fontsize=18)\n",
    "plt.legend(loc=1, fontsize=15)\n",
    "plt.show()"
   ]
  },
  {
   "cell_type": "code",
<<<<<<< HEAD
   "execution_count": 454,
=======
   "execution_count": 123,
>>>>>>> 6bb30d8c7b8bcf3d8c65055fe82471633cb4eb10
   "metadata": {},
   "outputs": [],
   "source": [
    "data_1_objectScene1SemanticCongruency0_CO = data_1_CO.loc[data_1_CO['objectScene1SemanticCongruency'] == 0]\n",
    "data_1_objectScene1SemanticCongruency1_CO = data_1_CO.loc[data_1_CO['objectScene1SemanticCongruency'] == 1]\n",
    "\n",
    "data_2_objectScene1SemanticCongruency0_CO = data_2_CO.loc[data_2_CO['objectScene1SemanticCongruency'] == 0]\n",
    "data_2_objectScene1SemanticCongruency1_CO = data_2_CO.loc[data_2_CO['objectScene1SemanticCongruency'] == 1]\n",
    "\n",
    "data_3_objectScene1SemanticCongruency0_CO = data_3_CO.loc[data_3_CO['objectScene1SemanticCongruency'] == 0]\n",
    "data_3_objectScene1SemanticCongruency1_CO = data_3_CO.loc[data_3_CO['objectScene1SemanticCongruency'] == 1]\n",
    "\n",
    "data_4_objectScene1SemanticCongruency0_CO = data_4_CO.loc[data_4_CO['objectScene1SemanticCongruency'] == 0]\n",
    "data_4_objectScene1SemanticCongruency1_CO = data_4_CO.loc[data_4_CO['objectScene1SemanticCongruency'] == 1]\n"
   ]
  },
  {
   "cell_type": "code",
<<<<<<< HEAD
   "execution_count": 455,
=======
   "execution_count": 124,
>>>>>>> 6bb30d8c7b8bcf3d8c65055fe82471633cb4eb10
   "metadata": {},
   "outputs": [],
   "source": [
    "data_1_objectScene1SemanticCongruency0_CO_RT = np.mean(np.array(data_1_objectScene1SemanticCongruency0_CO['RT']))\n",
    "data_1_objectScene1SemanticCongruency1_CO_RT = np.mean(np.array(data_1_objectScene1SemanticCongruency1_CO['RT']))\n",
    "\n",
    "data_1_objectScene1SemanticCongruency0_CO_RT_sem = sem(np.array(data_1_objectScene1SemanticCongruency0_CO['RT']))\n",
    "data_1_objectScene1SemanticCongruency1_CO_RT_sem = sem(np.array(data_1_objectScene1SemanticCongruency1_CO['RT']))\n",
    "\n",
    "\n",
    "data_2_objectScene1SemanticCongruency0_CO_RT = np.mean(np.array(data_2_objectScene1SemanticCongruency0_CO['RT']))\n",
    "data_2_objectScene1SemanticCongruency1_CO_RT = np.mean(np.array(data_2_objectScene1SemanticCongruency1_CO['RT']))\n",
    "\n",
    "data_2_objectScene1SemanticCongruency0_CO_RT_sem = sem(np.array(data_2_objectScene1SemanticCongruency0_CO['RT']))\n",
    "data_2_objectScene1SemanticCongruency1_CO_RT_sem = sem(np.array(data_2_objectScene1SemanticCongruency1_CO['RT']))\n",
    "\n",
    "\n",
    "data_3_objectScene1SemanticCongruency0_CO_RT = np.mean(np.array(data_3_objectScene1SemanticCongruency0_CO['RT']))\n",
    "data_3_objectScene1SemanticCongruency1_CO_RT = np.mean(np.array(data_3_objectScene1SemanticCongruency1_CO['RT']))\n",
    "\n",
    "data_3_objectScene1SemanticCongruency0_CO_RT_sem = sem(np.array(data_3_objectScene1SemanticCongruency0_CO['RT']))\n",
    "data_3_objectScene1SemanticCongruency1_CO_RT_sem =sem(np.array(data_3_objectScene1SemanticCongruency1_CO['RT']))\n",
    "\n",
    "\n",
    "data_4_objectScene1SemanticCongruency0_CO_RT = np.mean(np.array(data_4_objectScene1SemanticCongruency0_CO['RT']))\n",
    "data_4_objectScene1SemanticCongruency1_CO_RT = np.mean(np.array(data_4_objectScene1SemanticCongruency1_CO['RT']))\n",
    "\n",
    "data_4_objectScene1SemanticCongruency0_CO_RT_sem = sem(np.array(data_4_objectScene1SemanticCongruency0_CO['RT']))\n",
    "data_4_objectScene1SemanticCongruency1_CO_RT_sem = sem(np.array(data_4_objectScene1SemanticCongruency1_CO['RT']))\n",
    "\n",
    "\n"
   ]
  },
  {
   "cell_type": "code",
<<<<<<< HEAD
   "execution_count": 456,
=======
   "execution_count": 125,
>>>>>>> 6bb30d8c7b8bcf3d8c65055fe82471633cb4eb10
   "metadata": {},
   "outputs": [
    {
     "data": {
      "image/png": "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\n",
      "text/plain": [
       "<Figure size 576x720 with 1 Axes>"
      ]
     },
     "metadata": {
      "needs_background": "light"
     },
     "output_type": "display_data"
    }
   ],
   "source": [
    "fig, ax = plt.subplots(figsize=[8,10])\n",
    "ax.spines['right'].set_visible(False)\n",
    "ax.spines['top'].set_visible(False)\n",
    "for axis in ['bottom','left']:\n",
    "    ax.spines[axis].set_linewidth(2.3)\n",
    "    \n",
    "x = np.arange(4)\n",
    "\n",
    "RT_0 =   [data_1_objectScene1SemanticCongruency0_CO_RT, data_2_objectScene1SemanticCongruency0_CO_RT, data_3_objectScene1SemanticCongruency0_CO_RT, data_4_objectScene1SemanticCongruency0_CO_RT]\n",
    "yerr_RT_0 =  [data_1_objectScene1SemanticCongruency0_CO_RT_sem, data_2_objectScene1SemanticCongruency0_CO_RT_sem, data_3_objectScene1SemanticCongruency0_CO_RT_sem, data_4_objectScene1SemanticCongruency0_CO_RT_sem]\n",
    "\n",
    "RT_1 =   [data_1_objectScene1SemanticCongruency1_CO_RT, data_2_objectScene1SemanticCongruency1_CO_RT, data_3_objectScene1SemanticCongruency1_CO_RT, data_4_objectScene1SemanticCongruency1_CO_RT]\n",
    "yerr_RT_1 =  [data_1_objectScene1SemanticCongruency1_CO_RT_sem, data_2_objectScene1SemanticCongruency1_CO_RT_sem, data_3_objectScene1SemanticCongruency1_CO_RT_sem, data_4_objectScene1SemanticCongruency1_CO_RT_sem]\n",
    "\n",
    "width = 0.2\n",
    "  \n",
    "# plot data in grouped manner of bar type\n",
    "plt.bar(x-0.2, RT_0, width, color='plum', label='Object-Scene Semantic Incongruent', yerr=yerr_RT_0, capsize=5)\n",
    "plt.bar(x, RT_1, width, color='purple', label='Object-Scene Semantic Congruent', yerr=yerr_RT_1, capsize=5)\n",
    "plt.xticks(x, [1, 2, 3, 4], fontsize='15')\n",
    "plt.ylim(600)\n",
    "plt.yticks(fontsize=15) \n",
    "plt.xlabel(\"Subject Rating\", fontsize=18)\n",
    "plt.ylabel(\"RT (ms)\", fontsize=18)\n",
    "plt.legend(loc=1, fontsize=15)\n",
    "plt.show()"
   ]
  },
  {
<<<<<<< HEAD
   "cell_type": "markdown",
   "metadata": {},
   "source": [
    "## Distribution of Ratings in Mis-scaled and Scaled"
   ]
  },
  {
   "cell_type": "code",
   "execution_count": null,
   "metadata": {},
   "outputs": [],
   "source": []
  },
  {
   "cell_type": "code",
   "execution_count": null,
   "metadata": {},
   "outputs": [],
   "source": []
  },
  {
=======
>>>>>>> 6bb30d8c7b8bcf3d8c65055fe82471633cb4eb10
   "cell_type": "code",
   "execution_count": null,
   "metadata": {},
   "outputs": [],
   "source": []
  },
  {
   "cell_type": "code",
   "execution_count": null,
   "metadata": {},
   "outputs": [],
   "source": []
  }
 ],
 "metadata": {
  "kernelspec": {
   "display_name": "Python 3",
   "language": "python",
   "name": "python3"
  },
  "language_info": {
   "codemirror_mode": {
    "name": "ipython",
    "version": 3
   },
   "file_extension": ".py",
   "mimetype": "text/x-python",
   "name": "python",
   "nbconvert_exporter": "python",
   "pygments_lexer": "ipython3",
<<<<<<< HEAD
   "version": "3.7.5"
=======
   "version": "3.7.6"
>>>>>>> 6bb30d8c7b8bcf3d8c65055fe82471633cb4eb10
  }
 },
 "nbformat": 4,
 "nbformat_minor": 4
}
