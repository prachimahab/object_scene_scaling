{
 "cells": [
  {
   "cell_type": "code",
   "execution_count": 11,
   "metadata": {},
   "outputs": [],
   "source": [
    "import itertools\n",
    "import json\n",
    "import random\n",
    "import numpy as np"
   ]
  },
  {
   "cell_type": "code",
   "execution_count": 2,
   "metadata": {
    "jupyter": {
     "source_hidden": true
    }
   },
   "outputs": [],
   "source": [
    "def generate_combinations(list1, list2):\n",
    "    combinations = list(itertools.product(list1, list2))\n",
    "    return combinations"
   ]
  },
  {
   "cell_type": "code",
   "execution_count": 20,
   "metadata": {
    "jupyter": {
     "source_hidden": true
    }
   },
   "outputs": [],
   "source": [
    "scenes = ['k0_', 'k1_', 'k2_', 'k3_', 'k4_', 'k5_', 'k6_', 'k7_', 'k8_', 'k9_', 'k10_', 'k11_', 'c0_', 'c1_', 'c2_', 'c3_', 'c4_', 'c5_', 'c6_', 'c7_', 'c8_', 'c9_', 'c10_', 'c11_']\n",
    "objects = ['binderclip', 'clipboard', 'eraser', 'flashdrive', 'kettle', 'laptop', 'notebook', 'pot', 'saltshaker', 'sponge', 'spoon', 'toaster', 'binderclip1', 'clipboard1', 'eraser1', 'flashdrive1', 'kettle1', 'laptop1', 'notebook1', 'pot1', 'saltshaker1', 'sponge1', 'spoon1', 'toaster1']\n",
    "\n",
    "combos = generate_combinations(scenes, objects)"
   ]
  },
  {
   "cell_type": "code",
   "execution_count": 9,
   "metadata": {},
   "outputs": [],
   "source": [
    "def rotate(lst, r=1):\n",
    "    return np.roll(lst,r)"
   ]
  },
  {
   "cell_type": "code",
   "execution_count": null,
   "metadata": {},
   "outputs": [],
   "source": []
  },
  {
   "cell_type": "code",
   "execution_count": 45,
   "metadata": {},
   "outputs": [
    {
     "name": "stdout",
     "output_type": "stream",
     "text": [
      "['4' '1' '2' '3']\n",
      "['3' '4' '1' '2']\n",
      "['2' '3' '4' '1']\n",
      "['1' '2' '3' '4']\n"
     ]
    },
    {
     "data": {
      "text/plain": [
       "[['A1', 'B2', 'C3', 'D4'],\n",
       " ['A4', 'B1', 'C2', 'D3'],\n",
       " ['A3', 'B4', 'C1', 'D2'],\n",
       " ['A2', 'B3', 'C4', 'D1']]"
      ]
     },
     "execution_count": 45,
     "metadata": {},
     "output_type": "execute_result"
    }
   ],
   "source": [
    "s = ['A', 'B', 'C', 'D']\n",
    "o = ['1', '2', '3', '4']\n",
    "\n",
    "test_seqs = []\n",
    "\n",
    "for i in range(len(s)):\n",
    "    seq = []\n",
    "    for i in range(len(s)):\n",
    "        seq.append(s[i]+o[i])\n",
    "    test_seqs.append(seq)\n",
    "    o = rotate(o)\n",
    "    print(o)\n",
    "    \n",
    "test_seqs"
   ]
  },
  {
   "cell_type": "code",
   "execution_count": 53,
   "metadata": {},
   "outputs": [],
   "source": [
    "scenes = ['k0_', 'k1_', 'k2_', 'k3_', 'k4_', 'k5_', 'k6_', 'k7_', 'k8_', 'k9_', 'k10_', 'k11_', 'c0_', 'c1_', 'c2_', 'c3_', 'c4_', 'c5_', 'c6_', 'c7_', 'c8_', 'c9_', 'c10_', 'c11_']\n",
    "objects = ['binderclip', 'clipboard', 'eraser', 'flashdrive', 'kettle', 'laptop', 'notebook', 'pot', 'saltshaker', 'sponge', 'spoon', 'toaster', 'binderclip', 'clipboard', 'eraser', 'flashdrive', 'kettle', 'laptop', 'notebook', 'pot', 'saltshaker', 'sponge', 'spoon', 'toaster']\n",
    "\n",
    "\n",
    "main_seqs = []\n",
    "\n",
    "for i in range(len(scenes)):\n",
    "    seq = []\n",
    "    for i in range(len(scenes)):\n",
    "        seq.append(scenes[i]+objects[i])\n",
    "    main_seqs.append(seq)\n",
    "    objects = rotate(objects)\n",
    "    \n",
    "# len(main_seqs[0]), main_seqs[0]"
   ]
  },
  {
   "cell_type": "code",
   "execution_count": 55,
   "metadata": {},
   "outputs": [
    {
     "data": {
      "text/plain": [
       "'[\"k0_binderclip\", \"k1_clipboard\", \"k2_eraser\", \"k3_flashdrive\", \"k4_kettle\", \"k5_laptop\", \"k6_notebook\", \"k7_pot\", \"k8_saltshaker\", \"k9_sponge\", \"k10_spoon\", \"k11_toaster\", \"c0_binderclip\", \"c1_clipboard\", \"c2_eraser\", \"c3_flashdrive\", \"c4_kettle\", \"c5_laptop\", \"c6_notebook\", \"c7_pot\", \"c8_saltshaker\", \"c9_sponge\", \"c10_spoon\", \"c11_toaster\"]'"
      ]
     },
     "execution_count": 55,
     "metadata": {},
     "output_type": "execute_result"
    }
   ],
   "source": [
    "jsonString = json.dumps(main_seqs[0])\n",
    "jsonString"
   ]
  },
  {
   "cell_type": "code",
   "execution_count": 59,
   "metadata": {},
   "outputs": [],
   "source": [
    "dest = '/Users/prachimahableshwarkar/Documents/GW/FacialAge/FacialAge_MTurk/OSS_MTurk/jsons/'\n",
    "i = 0\n",
    "for seq in main_seqs:\n",
    "    random.shuffle(seq)\n",
    "    seq_json = json.dumps(seq)\n",
    "    with open(dest + \"s\" + str(i) +\".json\", \"w\") as outfile:\n",
    "        outfile.write(seq_json)\n",
    "    i += 1"
   ]
  },
  {
   "cell_type": "markdown",
   "metadata": {},
   "source": [
    "## V2 Counterbalancing"
   ]
  },
  {
   "cell_type": "code",
   "execution_count": null,
   "metadata": {},
   "outputs": [],
   "source": []
  },
  {
   "cell_type": "code",
   "execution_count": 22,
   "metadata": {},
   "outputs": [],
   "source": [
    "\n",
    "scenes = ['k0_', 'k1_', 'k2_', 'k3_', 'k4_', 'k5_', 'k6_', 'k7_', 'k8_', 'k9_', 'k10_', 'k11_', 'c0_', 'c1_', 'c2_', 'c3_', 'c4_', 'c5_', 'c6_', 'c7_', 'c8_', 'c9_', 'c10_', 'c11_']\n",
    "\n",
    "# scenes = ['k0_', 'k1_', 'k2_', 'k3_', 'k4_', 'k5_', 'k6_', 'k7_', 'k8_', 'k9_', 'k10_', 'k11_', 'k12_', 'k13_', 'k14_', 'k15_', 'k16_', 'k17_', 'k18_', 'k19_', 'k20_', 'k21_', 'k22_', 'k23_', 'c0_', 'c1_', 'c2_', 'c3_', 'c4_', 'c5_', 'c6_', 'c7_', 'c8_', 'c9_', 'c10_', 'c11_', 'c12_', 'c13_', 'c14_', 'c15_', 'c16_', 'c17_', 'c18_', 'c19_', 'c20_', 'c21_', 'c22_', 'c23_']\n",
    "objects = ['small_binderclip', 'small_clipboard', 'small_eraser', 'small_flashdrive', 'small_kettle', 'small_laptop', 'small_notebook', 'small_pot', 'small_saltshaker', 'small_sponge', 'small_spoon', 'small_toaster', 'large_binderclip', 'large_clipboard', 'large_eraser', 'large_flashdrive', 'large_kettle', 'large_laptop', 'large_notebook', 'large_pot', 'large_saltshaker', 'large_sponge', 'large_spoon', 'large_toaster']\n",
    "\n",
    "\n",
    "main_seqs = []\n",
    "\n",
    "for i in range(len(scenes)):\n",
    "    seq = []\n",
    "    for i in range(len(scenes)):\n",
    "        seq.append(scenes[i]+objects[i])\n",
    "    main_seqs.append(seq)\n",
    "    objects = rotate(objects)\n",
    "    \n",
    "# len(main_seqs[0]), main_seqs[0]"
   ]
  },
  {
   "cell_type": "code",
   "execution_count": 23,
   "metadata": {},
   "outputs": [
    {
     "data": {
      "text/plain": [
       "'[\"k0_small_binderclip\", \"k1_small_clipboard\", \"k2_small_eraser\", \"k3_small_flashdrive\", \"k4_small_kettle\", \"k5_small_laptop\", \"k6_small_notebook\", \"k7_small_pot\", \"k8_small_saltshaker\", \"k9_small_sponge\", \"k10_small_spoon\", \"k11_small_toaster\", \"c0_large_binderclip\", \"c1_large_clipboard\", \"c2_large_eraser\", \"c3_large_flashdrive\", \"c4_large_kettle\", \"c5_large_laptop\", \"c6_large_notebook\", \"c7_large_pot\", \"c8_large_saltshaker\", \"c9_large_sponge\", \"c10_large_spoon\", \"c11_large_toaster\"]'"
      ]
     },
     "execution_count": 23,
     "metadata": {},
     "output_type": "execute_result"
    }
   ],
   "source": [
    "jsonString = json.dumps(main_seqs[0])\n",
    "jsonString"
   ]
  },
  {
   "cell_type": "code",
   "execution_count": 24,
   "metadata": {},
   "outputs": [],
   "source": [
    "dest = '/Users/prachimahableshwarkar/Documents/GW/FacialAge/FacialAge_MTurk/OSS_MTurk/jsons/'\n",
    "i = 0\n",
    "for seq in main_seqs:\n",
    "    random.shuffle(seq)\n",
    "    seq_json = json.dumps(seq)\n",
    "    with open(dest + \"s\" + str(i) +\".json\", \"w\") as outfile:\n",
    "        outfile.write(seq_json)\n",
    "    i += 1"
   ]
  },
  {
   "cell_type": "code",
   "execution_count": null,
   "metadata": {},
   "outputs": [],
   "source": []
  }
 ],
 "metadata": {
  "kernelspec": {
   "display_name": "Python 3",
   "language": "python",
   "name": "python3"
  },
  "language_info": {
   "codemirror_mode": {
    "name": "ipython",
    "version": 3
   },
   "file_extension": ".py",
   "mimetype": "text/x-python",
   "name": "python",
   "nbconvert_exporter": "python",
   "pygments_lexer": "ipython3",
   "version": "3.7.4"
  }
 },
 "nbformat": 4,
 "nbformat_minor": 4
}
