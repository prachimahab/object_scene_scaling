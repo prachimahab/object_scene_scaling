{
 "cells": [
  {
   "cell_type": "markdown",
   "metadata": {},
   "source": [
    "# Get Average Color of all Stimuli"
   ]
  },
  {
   "cell_type": "code",
   "execution_count": 38,
   "metadata": {},
   "outputs": [
    {
     "data": {
      "text/plain": [
       "(148.32378379629628, 144.82715239197532, 140.28973626543214)"
      ]
     },
     "execution_count": 38,
     "metadata": {},
     "output_type": "execute_result"
    }
   ],
   "source": [
    "from skimage import io\n",
    "import os\n",
    "import numpy as np\n",
    "\n",
    "homedir = '/Users/pmahableshwarkar/Documents/OSS/code_v1/all_stimuli'\n",
    "\n",
    "all_r = []\n",
    "all_g = []\n",
    "all_b = []\n",
    "for file in os.listdir(homedir):\n",
    "    img = io.imread(homedir + '/' + file)[:, :, :-1]\n",
    "    average = img.mean(axis=0).mean(axis=0)\n",
    "    if average.shape == (3,):\n",
    "        all_r.append(average[0])\n",
    "        all_g.append(average[1])\n",
    "        all_b.append(average[2])\n",
    "    \n",
    "np.mean(all_r), np.mean(all_g), np.mean(all_b)"
   ]
  },
  {
   "cell_type": "code",
   "execution_count": null,
   "metadata": {},
   "outputs": [],
   "source": []
  }
 ],
 "metadata": {
  "kernelspec": {
   "display_name": "Python 3",
   "language": "python",
   "name": "python3"
  },
  "language_info": {
   "codemirror_mode": {
    "name": "ipython",
    "version": 3
   },
   "file_extension": ".py",
   "mimetype": "text/x-python",
   "name": "python",
   "nbconvert_exporter": "python",
   "pygments_lexer": "ipython3",
   "version": "3.7.6"
  }
 },
 "nbformat": 4,
 "nbformat_minor": 4
}
