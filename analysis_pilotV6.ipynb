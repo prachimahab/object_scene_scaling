{
 "cells": [
  {
   "cell_type": "code",
   "execution_count": 1,
   "metadata": {},
   "outputs": [],
   "source": [
    "import numpy as np\n",
    "import os\n",
    "import pandas as pd\n",
    "import math\n",
    "import matplotlib.pyplot as plt\n",
    "from scipy.stats import sem\n"
   ]
  },
  {
   "cell_type": "markdown",
   "metadata": {},
   "source": [
    "# Add a column 'Miscaled' where miscaled = 1 and scaled = 0 --> export out to one BIGGO csv and send to Ellie"
   ]
  },
  {
   "cell_type": "markdown",
   "metadata": {},
   "source": [
    "### Exclusion Criteria\n",
    " - Accuracy: 70 % (17/24 correct)\n",
    " - RT: Exclude trial if < 250 ms or > 2s\n",
    "    "
   ]
  },
  {
   "cell_type": "markdown",
   "metadata": {},
   "source": [
    "### Pilot Analysis Plots\n",
    "\n",
    "1. Overall Accuracy\n",
    "    - accuracy by scene category\n",
    "    - accuracy by zoom \n",
    "    - accuracy by zoom x match\n",
    "2. RT Distribution\n",
    "    - RT by scene category\n",
    "    - RT by zoom \n",
    "    - RT by zoom x match\n",
    " "
   ]
  },
  {
   "cell_type": "code",
   "execution_count": 11,
   "metadata": {},
   "outputs": [],
   "source": [
    "def combineCSVs(datafolder):\n",
    "    \"\"\"\n",
    "    Combine all participant data into one pandas df\n",
    "    OR \n",
    "    Create df for single participant file \n",
    "    \"\"\"\n",
    "    \n",
    "    exclude = []\n",
    "    \n",
    "    #checks if path is a file \n",
    "    isFile = os.path.isfile(datafolder)\n",
    "    print(isFile)\n",
    "\n",
    "    #checks if path is a directory\n",
    "    \n",
    "    isDirectory = os.path.isdir(datafolder)\n",
    "    \n",
    "    if isDirectory == True:\n",
    "        data = []\n",
    "        for filename in os.listdir(datafolder):\n",
    "            if 'csv' in filename:\n",
    "                path = datafolder + \"/\" + filename\n",
    "                df = pd.read_csv(path, index_col=None, header=0)\n",
    "                \n",
    "                # do NOT include subject IDs that have been flagged \n",
    "                subjID = df.subjID.unique()[0]\n",
    "                if subjID not in exclude:\n",
    "                    data.append(df)\n",
    "\n",
    "                \n",
    "        input_frame = pd.concat(data, axis=0, ignore_index=True)\n",
    "        \n",
    "    if isFile == True:\n",
    "        if 'csv' in datafolder:\n",
    "            input_frame = pd.read_csv(datafolder, index_col=None, header=0)\n",
    "    \n",
    "    print('Number of participants before cleaning: ', len(input_frame.subjID.unique()))\n",
    "\n",
    " \n",
    "    return input_frame"
   ]
  },
  {
   "cell_type": "code",
   "execution_count": 12,
   "metadata": {},
   "outputs": [],
   "source": [
    "data_path = '/Users/pmahableshwarkar/Documents/object_scene_scaling/v6_b1_data.csv'\n",
    "\n",
    "# data_path = '/Users/prachimahableshwarkar/Documents/GW/FacialAge/FacialAge_MTurk/OSS_MTurk/data'"
   ]
  },
  {
   "cell_type": "code",
   "execution_count": 13,
   "metadata": {},
   "outputs": [
    {
     "name": "stdout",
     "output_type": "stream",
     "text": [
      "True\n",
      "Number of participants before cleaning:  21\n"
     ]
    }
   ],
   "source": [
    "input_data = combineCSVs(data_path)"
   ]
  },
  {
   "cell_type": "code",
   "execution_count": 14,
   "metadata": {},
   "outputs": [],
   "source": [
    "# input_data"
   ]
  },
  {
   "cell_type": "code",
   "execution_count": 15,
   "metadata": {},
   "outputs": [],
   "source": [
    "num_trials = 16"
   ]
  },
  {
   "cell_type": "code",
   "execution_count": 16,
   "metadata": {},
   "outputs": [
    {
     "data": {
      "image/png": "[encoded data removed]",
      "text/plain": [
       "<Figure size 432x288 with 1 Axes>"
      ]
     },
     "metadata": {
      "needs_background": "light"
     },
     "output_type": "display_data"
    }
   ],
   "source": [
    "plt.hist(list(input_data['RT']))\n",
    "plt.show();"
   ]
  },
  {
   "cell_type": "code",
   "execution_count": 17,
   "metadata": {},
   "outputs": [],
   "source": [
    "def cleanbyPracticeTries(df, num_allowed_tries):\n",
    "    all_subjIDs = df.subjID.unique()\n",
    "    \n",
    "    remove = []\n",
    "    df2_list = []\n",
    "    for subj in all_subjIDs:\n",
    "        count = 0\n",
    "        subj_df = df.loc[df['subjID'] == subj]\n",
    "        cleaned_subj_df = subj_df.copy(deep=True) # prevent setting with copy warning \n",
    "        \n",
    "        subj_num_practice_tries = cleaned_subj_df.pracTries.unique()[0]\n",
    "        \n",
    "        if subj_num_practice_tries > num_allowed_tries:\n",
    "            remove.append(subj)\n",
    "        else:  \n",
    "            df2_list.append(cleaned_subj_df)\n",
    "    \n",
    "    df2 = pd.concat(df2_list)\n",
    "            \n",
    "    print('Number of participants with more than ' + str(num_allowed_tries) + ' practice tries:', len(remove))\n",
    "    \n",
    "    return df2\n",
    "    "
   ]
  },
  {
   "cell_type": "code",
   "execution_count": 18,
   "metadata": {},
   "outputs": [
    {
     "name": "stdout",
     "output_type": "stream",
     "text": [
      "Number of participants with more than 3 practice tries: 0\n"
     ]
    }
   ],
   "source": [
    "pracTries_cleaned_data = cleanbyPracticeTries(input_data, 3)"
   ]
  },
  {
   "cell_type": "code",
   "execution_count": 19,
   "metadata": {},
   "outputs": [
    {
     "data": {
      "text/plain": [
       "21"
      ]
     },
     "execution_count": 19,
     "metadata": {},
     "output_type": "execute_result"
    }
   ],
   "source": [
    "len(pracTries_cleaned_data.subjID.unique())"
   ]
  },
  {
   "cell_type": "code",
   "execution_count": 20,
   "metadata": {},
   "outputs": [],
   "source": [
    "def RT_Cleaning(df, outlier_range, num_trials):\n",
    "    \"\"\"\n",
    "    Remove trials where trial RT is outside of the defined outlier range \n",
    "    \n",
    "    Returns:\n",
    "        dataframe with outlier RT trials removed\n",
    "        list of all RTs \n",
    "    \"\"\"\n",
    "    #List unique values in the df['subjID'] column\n",
    "    all_subjIDs = df.subjID.unique()\n",
    "    print(len(all_subjIDs))\n",
    "    \n",
    "    remove = []\n",
    "    df2_list = []\n",
    "    total_RT_outliers = 0\n",
    "    total = 0\n",
    "    list_trialRT = []\n",
    "    for subj in all_subjIDs:\n",
    "        count = 0\n",
    "        subj_df = df.loc[df['subjID'] == subj]\n",
    "        cleaned_subj_df = subj_df.copy(deep=True) # prevent setting with copy warning \n",
    "\n",
    "        for idx, row in subj_df.iterrows():\n",
    "            total += 1\n",
    "            RT = row[\"RT\"]\n",
    "            list_trialRT.append(RT)\n",
    "            if RT < outlier_range[0]: # outlier\n",
    "                cleaned_subj_df.drop([idx], inplace=True)\n",
    "                count += 1\n",
    "                total_RT_outliers += 1\n",
    "            if RT > outlier_range[1]:\n",
    "                cleaned_subj_df.drop([idx], inplace=True)\n",
    "                count += 1\n",
    "                total_RT_outliers += 1\n",
    "        \n",
    "        df2_list.append(cleaned_subj_df)\n",
    "    \n",
    "    df2 = pd.concat(df2_list)\n",
    "    print(len(df2.subjID.unique()))\n",
    "                \n",
    "    return df2, list_trialRT"
   ]
  },
  {
   "cell_type": "code",
   "execution_count": 21,
   "metadata": {},
   "outputs": [
    {
     "name": "stdout",
     "output_type": "stream",
     "text": [
      "21\n",
      "21\n"
     ]
    }
   ],
   "source": [
    "RT_cleaned_data, trialRTs_distribution = RT_Cleaning(pracTries_cleaned_data, [250, 3000], num_trials)\n"
   ]
  },
  {
   "cell_type": "code",
   "execution_count": 22,
   "metadata": {},
   "outputs": [
    {
     "data": {
      "text/plain": [
       "21"
      ]
     },
     "execution_count": 22,
     "metadata": {},
     "output_type": "execute_result"
    }
   ],
   "source": [
    "len(RT_cleaned_data.subjID.unique())"
   ]
  },
  {
   "cell_type": "code",
   "execution_count": 23,
   "metadata": {},
   "outputs": [
    {
     "data": {
      "text/plain": [
       "(array([566260, 497750, 810980, 739316, 721004, 388173, 507721, 870192,\n",
       "        180697, 482948, 431576, 691620, 945663, 188369, 262576, 102436,\n",
       "        652957, 312912, 449858, 302580, 139448]),\n",
       " array([566260, 497750, 810980, 739316, 721004, 388173, 507721, 870192,\n",
       "        180697, 482948, 431576, 691620, 945663, 188369, 262576, 102436,\n",
       "        652957, 312912, 449858, 302580, 139448]))"
      ]
     },
     "execution_count": 23,
     "metadata": {},
     "output_type": "execute_result"
    }
   ],
   "source": [
    "pracTries_cleaned_data.subjID.unique(), RT_cleaned_data.subjID.unique()"
   ]
  },
  {
   "cell_type": "code",
   "execution_count": 24,
   "metadata": {},
   "outputs": [
    {
     "data": {
      "text/plain": [
       "0.875"
      ]
     },
     "execution_count": 24,
     "metadata": {},
     "output_type": "execute_result"
    }
   ],
   "source": [
    "np.sum(np.array(RT_cleaned_data['accuracy']))/len(np.array(RT_cleaned_data['accuracy']))"
   ]
  },
  {
   "cell_type": "code",
   "execution_count": 25,
   "metadata": {},
   "outputs": [
    {
     "data": {
      "image/png": "[encoded data removed]",
      "text/plain": [
       "<Figure size 432x288 with 1 Axes>"
      ]
     },
     "metadata": {
      "needs_background": "light"
     },
     "output_type": "display_data"
    }
   ],
   "source": [
    "subj_accs = []\n",
    "for subj in RT_cleaned_data.subjID.unique():\n",
    "    subj_df = RT_cleaned_data.loc[RT_cleaned_data['subjID']==subj]\n",
    "    subj_PC = np.sum(np.array(subj_df['accuracy']))/len(np.array(subj_df['accuracy']))\n",
    "    subj_accs.append(subj_PC)\n",
    "    \n",
    "plt.hist(subj_accs)\n",
    "plt.yticks(np.arange(0,3,1), fontsize=15)\n",
    "plt.xticks(np.arange(0,1.2,0.2), fontsize=15)\n",
    "plt.xlabel('Proportion Correct', fontsize=15)\n",
    "plt.ylabel('Subject Count', fontsize=15)\n",
    "plt.show();\n",
    "# subj_accs"
   ]
  },
  {
   "cell_type": "code",
   "execution_count": 26,
   "metadata": {},
   "outputs": [],
   "source": [
    "def Accuracy_Cleaning(df, accuracy_threshold, num_trials):\n",
    "    \"\"\"    \n",
    "    Remove participants with overall accuracy below the accuracy threshold (e.g. 0.7)\n",
    "    \n",
    "    Returns:\n",
    "        data of participants that passed the accuracy threshold \n",
    "        list of the number of correct trials each participant got\n",
    "    \"\"\"\n",
    "    #List unique values in the df['subjID'] column\n",
    "    all_subjIDs = df.subjID.unique()\n",
    "    \n",
    "    remove = []\n",
    "    df2_list = []\n",
    "    list_trials_correct = []\n",
    "    for subj in all_subjIDs:\n",
    "        subj_df = df.loc[df['subjID'] == subj]\n",
    "        cleaned_subj_df = subj_df.copy(deep=True) # prevent setting with copy warning \n",
    "        \n",
    "        subj_num_correct_trials = 0\n",
    "        for idx, row in subj_df.iterrows():\n",
    "            trial_acc = row['accuracy']\n",
    "            if trial_acc == 1:\n",
    "                subj_num_correct_trials += 1\n",
    "                \n",
    "        subj_acc = subj_num_correct_trials/num_trials\n",
    "                \n",
    "        # minimum number of trials correct the participant must have to be included\n",
    "        if subj_acc < accuracy_threshold:\n",
    "            remove.append(subj)\n",
    "        \n",
    "        list_trials_correct.append(subj_num_correct_trials)\n",
    "        \n",
    "        df2_list.append(cleaned_subj_df)\n",
    "    \n",
    "    df2 = pd.concat(df2_list)\n",
    "    \n",
    "    print(\"Number of Participants with accuracy below 70%: \", len(remove))\n",
    "    \n",
    "    for index, row in df2.iterrows():\n",
    "        if row['subjID'] in remove:\n",
    "            df2.drop(index, inplace=True)\n",
    "            \n",
    "    print(len(df2.subjID.unique()))\n",
    "                \n",
    "    return df2, list_trials_correct "
   ]
  },
  {
   "cell_type": "code",
   "execution_count": 27,
   "metadata": {},
   "outputs": [
    {
     "name": "stdout",
     "output_type": "stream",
     "text": [
      "Number of Participants with accuracy below 70%:  0\n",
      "21\n"
     ]
    }
   ],
   "source": [
    "Accuracy_cleaned_data, correct_trials_distribution = Accuracy_Cleaning(RT_cleaned_data, 0.7, num_trials)\n"
   ]
  },
  {
   "cell_type": "code",
   "execution_count": 28,
   "metadata": {},
   "outputs": [
    {
     "data": {
      "text/plain": [
       "21"
      ]
     },
     "execution_count": 28,
     "metadata": {},
     "output_type": "execute_result"
    }
   ],
   "source": [
    "len(Accuracy_cleaned_data.subjID.unique())"
   ]
  },
  {
   "cell_type": "code",
   "execution_count": 29,
   "metadata": {},
   "outputs": [
    {
     "data": {
      "text/plain": [
       "0.875"
      ]
     },
     "execution_count": 29,
     "metadata": {},
     "output_type": "execute_result"
    }
   ],
   "source": [
    "np.sum(np.array(Accuracy_cleaned_data['accuracy']))/len(np.array(Accuracy_cleaned_data['accuracy']))"
   ]
  },
  {
   "cell_type": "code",
   "execution_count": 30,
   "metadata": {},
   "outputs": [],
   "source": [
    "# plt.figure()\n",
    "# plt.hist((np.array(correct_trials_distribution))/num_trials, color='darkblue', bins=20)\n",
    "# plt.yticks(np.arange(1,3))\n",
    "# plt.title('Accuracy Distribution', fontsize=16)\n",
    "# plt.xlabel('Percent Correct', fontsize=12)\n",
    "# plt.ylabel('Number of participants', fontsize=12)\n",
    "# plt.show()"
   ]
  },
  {
   "cell_type": "code",
   "execution_count": 31,
   "metadata": {},
   "outputs": [
    {
     "data": {
      "text/plain": [
       "21"
      ]
     },
     "execution_count": 31,
     "metadata": {},
     "output_type": "execute_result"
    }
   ],
   "source": [
    "final_data = Accuracy_cleaned_data.copy(deep=True)\n",
    "len(Accuracy_cleaned_data.subjID.unique())"
   ]
  },
  {
   "cell_type": "markdown",
   "metadata": {},
   "source": [
    "### Create df with 'misscaled' column for JASP analysis\n",
    "\n",
    "zo + objSize small --> misscaled \n",
    "\n",
    "zi + objSize large --> misscaled\n",
    "\n",
    "zo + objSize large --> scaled \n",
    "\n",
    "zi + objSize small --> scaled"
   ]
  },
  {
   "cell_type": "code",
   "execution_count": 32,
   "metadata": {},
   "outputs": [],
   "source": [
    "def get_misscaled_trials(df):\n",
    "    \"\"\"\n",
    "    args:\n",
    "        df  \n",
    "    returns:\n",
    "        array of misscaled/scaled\n",
    "    \"\"\"\n",
    "    misscaled_col = []\n",
    "    \n",
    "    for idx, row in df.iterrows():\n",
    "        if row['scene1ZoomName'] == 'zo' and row['objectSize']=='small':\n",
    "            misscaled_col.append('misscaled')\n",
    "\n",
    "        if row['scene1ZoomName'] == 'zi' and row['objectSize']=='large':\n",
    "            misscaled_col.append('misscaled')\n",
    "            \n",
    "        if row['scene1ZoomName'] == 'zo' and row['objectSize']=='large':\n",
    "            misscaled_col.append('scaled')\n",
    "\n",
    "        if row['scene1ZoomName'] == 'zi' and row['objectSize']=='small':\n",
    "            misscaled_col.append('scaled')\n",
    "            \n",
    "    \n",
    "    return np.array(misscaled_col)"
   ]
  },
  {
   "cell_type": "code",
   "execution_count": 33,
   "metadata": {},
   "outputs": [
    {
     "ename": "ValueError",
     "evalue": "cannot insert misscaled, already exists",
     "output_type": "error",
     "traceback": [
      "\u001b[0;31m---------------------------------------------------------------------------\u001b[0m",
      "\u001b[0;31mValueError\u001b[0m                                Traceback (most recent call last)",
      "\u001b[0;32m<ipython-input-33-f17e450cbf43>\u001b[0m in \u001b[0;36m<module>\u001b[0;34m\u001b[0m\n\u001b[1;32m      2\u001b[0m \u001b[0;34m\u001b[0m\u001b[0m\n\u001b[1;32m      3\u001b[0m \u001b[0;31m# # add misscaled column to dataframe\u001b[0m\u001b[0;34m\u001b[0m\u001b[0;34m\u001b[0m\u001b[0;34m\u001b[0m\u001b[0m\n\u001b[0;32m----> 4\u001b[0;31m \u001b[0mfinal_data\u001b[0m\u001b[0;34m.\u001b[0m\u001b[0minsert\u001b[0m\u001b[0;34m(\u001b[0m\u001b[0;36m14\u001b[0m\u001b[0;34m,\u001b[0m \u001b[0;34m\"misscaled\"\u001b[0m\u001b[0;34m,\u001b[0m \u001b[0mmisscaled_column\u001b[0m\u001b[0;34m)\u001b[0m\u001b[0;34m\u001b[0m\u001b[0;34m\u001b[0m\u001b[0m\n\u001b[0m",
      "\u001b[0;32m~/opt/anaconda3/envs/defaultenv/lib/python3.7/site-packages/pandas/core/frame.py\u001b[0m in \u001b[0;36minsert\u001b[0;34m(self, loc, column, value, allow_duplicates)\u001b[0m\n\u001b[1;32m   4412\u001b[0m         \u001b[0;32mif\u001b[0m \u001b[0;32mnot\u001b[0m \u001b[0mallow_duplicates\u001b[0m \u001b[0;32mand\u001b[0m \u001b[0mcolumn\u001b[0m \u001b[0;32min\u001b[0m \u001b[0mself\u001b[0m\u001b[0;34m.\u001b[0m\u001b[0mcolumns\u001b[0m\u001b[0;34m:\u001b[0m\u001b[0;34m\u001b[0m\u001b[0;34m\u001b[0m\u001b[0m\n\u001b[1;32m   4413\u001b[0m             \u001b[0;31m# Should this be a different kind of error??\u001b[0m\u001b[0;34m\u001b[0m\u001b[0;34m\u001b[0m\u001b[0;34m\u001b[0m\u001b[0m\n\u001b[0;32m-> 4414\u001b[0;31m             \u001b[0;32mraise\u001b[0m \u001b[0mValueError\u001b[0m\u001b[0;34m(\u001b[0m\u001b[0;34mf\"cannot insert {column}, already exists\"\u001b[0m\u001b[0;34m)\u001b[0m\u001b[0;34m\u001b[0m\u001b[0;34m\u001b[0m\u001b[0m\n\u001b[0m\u001b[1;32m   4415\u001b[0m         \u001b[0;32mif\u001b[0m \u001b[0;32mnot\u001b[0m \u001b[0misinstance\u001b[0m\u001b[0;34m(\u001b[0m\u001b[0mloc\u001b[0m\u001b[0;34m,\u001b[0m \u001b[0mint\u001b[0m\u001b[0;34m)\u001b[0m\u001b[0;34m:\u001b[0m\u001b[0;34m\u001b[0m\u001b[0;34m\u001b[0m\u001b[0m\n\u001b[1;32m   4416\u001b[0m             \u001b[0;32mraise\u001b[0m \u001b[0mTypeError\u001b[0m\u001b[0;34m(\u001b[0m\u001b[0;34m\"loc must be int\"\u001b[0m\u001b[0;34m)\u001b[0m\u001b[0;34m\u001b[0m\u001b[0;34m\u001b[0m\u001b[0m\n",
      "\u001b[0;31mValueError\u001b[0m: cannot insert misscaled, already exists"
     ]
    }
   ],
   "source": [
    "misscaled_column = get_misscaled_trials(final_data)\n",
    "\n",
    "# # add misscaled column to dataframe \n",
    "final_data.insert(14, \"misscaled\", misscaled_column)"
   ]
  },
  {
   "cell_type": "code",
   "execution_count": 193,
   "metadata": {},
   "outputs": [],
   "source": [
    "final_data.to_csv('v6_b1_data.csv', index=False)"
   ]
  },
  {
   "cell_type": "code",
   "execution_count": 34,
   "metadata": {},
   "outputs": [
    {
     "data": {
      "text/plain": [
       "21"
      ]
     },
     "execution_count": 34,
     "metadata": {},
     "output_type": "execute_result"
    }
   ],
   "source": [
    "len(final_data.subjID.unique())"
   ]
  },
  {
   "cell_type": "markdown",
   "metadata": {},
   "source": [
    "## Accuracy\n",
    "\n",
    "\n",
    "add error bars\n",
    "- overall accuracy per subj in each condition "
   ]
  },
  {
   "cell_type": "code",
   "execution_count": null,
   "metadata": {},
   "outputs": [],
   "source": []
  },
  {
   "cell_type": "code",
   "execution_count": 35,
   "metadata": {},
   "outputs": [
    {
     "data": {
      "text/plain": [
       "(0.8630952380952381, 0.8869047619047619)"
      ]
     },
     "execution_count": 35,
     "metadata": {},
     "output_type": "execute_result"
    }
   ],
   "source": [
    "# data split by object-scene size congruency aka scene zoom \n",
    "\n",
    "zo_df = final_data.loc[final_data['scene1ZoomName']=='zo']\n",
    "zi_df = final_data.loc[final_data['scene1ZoomName']=='zi']\n",
    "\n",
    "zo_acc = np.sum(np.array(zo_df['accuracy']))/len(np.array(zo_df['accuracy']))\n",
    "zi_acc = np.sum(np.array(zi_df['accuracy']))/len(np.array(zi_df['accuracy']))\n",
    "\n",
    "zo_acc, zi_acc"
   ]
  },
  {
   "cell_type": "code",
   "execution_count": 36,
   "metadata": {},
   "outputs": [],
   "source": [
    "misscaled_zo = zo_df.loc[zo_df['misscaled'] =='misscaled'] \n",
    "misscaled_zi = zi_df.loc[zi_df['misscaled'] =='misscaled']\n",
    "misscaled = misscaled_zo.append(misscaled_zi)\n",
    "\n",
    "scaled_zo = zo_df.loc[zo_df['misscaled'] =='scaled'] \n",
    "scaled_zi = zi_df.loc[zi_df['misscaled'] =='scaled']\n",
    "scaled = scaled_zo.append(scaled_zi)"
   ]
  },
  {
   "cell_type": "code",
   "execution_count": 37,
   "metadata": {},
   "outputs": [],
   "source": [
    "# object scene semantic congruency \n",
    "# var = objectScene1SemanticCongruency\n",
    "# acc = np.sum(np.array(misscaled_zo_objSemCong['accuracy']))/len(np.array(misscaled_zo_objSemCong['accuracy']))\n",
    "\n",
    "misscaled_zo_objSemCong = misscaled_zo.loc[misscaled_zo[\"objectScene1SemanticCongruency\"]==1]\n",
    "misscaled_zo_objSemIncong = misscaled_zo.loc[misscaled_zo[\"objectScene1SemanticCongruency\"]==0]\n",
    "\n",
    "misscaled_zo_objSemCong_acc = np.sum(np.array(misscaled_zo_objSemCong['accuracy']))/len(np.array(misscaled_zo_objSemCong['accuracy']))\n",
    "misscaled_zo_objSemIncong_acc =np.sum(np.array(misscaled_zo_objSemIncong['accuracy']))/len(np.array(misscaled_zo_objSemIncong['accuracy']))\n",
    "\n",
    "misscaled_zo_objSemCong_sem = np.std(np.array(misscaled_zo_objSemCong['accuracy']))/np.sqrt(len(np.array(misscaled_zo_objSemCong['accuracy'])))\n",
    "misscaled_zo_objSemIncong_sem = np.std(np.array(misscaled_zo_objSemIncong['accuracy']))/np.sqrt(len(np.array(misscaled_zo_objSemIncong['accuracy'])))\n",
    "\n",
    "\n",
    "misscaled_zi_objSemCong = misscaled_zi.loc[misscaled_zi[\"objectScene1SemanticCongruency\"]==1]\n",
    "misscaled_zi_objSemIncong = misscaled_zi.loc[misscaled_zi[\"objectScene1SemanticCongruency\"]==0]\n",
    "\n",
    "misscaled_zi_objSemCong_acc = np.sum(np.array(misscaled_zi_objSemCong['accuracy']))/len(np.array(misscaled_zi_objSemCong['accuracy']))\n",
    "misscaled_zi_objSemIncong_acc = np.sum(np.array(misscaled_zi_objSemIncong['accuracy']))/len(np.array(misscaled_zi_objSemIncong['accuracy']))\n",
    "\n",
    "misscaled_zi_objSemCong_sem = np.std(np.array(misscaled_zi_objSemCong['accuracy']))/np.sqrt(len(np.array(misscaled_zi_objSemCong['accuracy'])))\n",
    "misscaled_zi_objSemIncong_sem = np.std(np.array(misscaled_zi_objSemIncong['accuracy']))/np.sqrt(len(np.array(misscaled_zi_objSemIncong['accuracy'])))\n",
    "\n",
    "# scaled\n",
    "scaled_zo_objSemCong = scaled_zo.loc[scaled_zo[\"objectScene1SemanticCongruency\"]==1]\n",
    "scaled_zo_objSemIncong = scaled_zo.loc[scaled_zo[\"objectScene1SemanticCongruency\"]==0]\n",
    "\n",
    "scaled_zo_objSemCong_acc = np.sum(np.array(scaled_zo_objSemCong['accuracy']))/len(np.array(scaled_zo_objSemCong['accuracy']))\n",
    "scaled_zo_objSemIncong_acc =np.sum(np.array(scaled_zo_objSemIncong['accuracy']))/len(np.array(scaled_zo_objSemIncong['accuracy']))\n",
    "\n",
    "scaled_zo_objSemCong_sem = np.std(np.array(scaled_zo_objSemCong['accuracy']))/np.sqrt(len(np.array(scaled_zo_objSemCong['accuracy'])))\n",
    "scaled_zo_objSemIncong_sem = np.std(np.array(scaled_zo_objSemIncong['accuracy']))/np.sqrt(len(np.array(scaled_zo_objSemIncong['accuracy'])))\n",
    "\n",
    "\n",
    "scaled_zi_objSemCong = scaled_zi.loc[scaled_zi[\"objectScene1SemanticCongruency\"]==1]\n",
    "scaled_zi_objSemIncong = scaled_zi.loc[scaled_zi[\"objectScene1SemanticCongruency\"]==0]\n",
    "\n",
    "scaled_zi_objSemCong_acc = np.sum(np.array(scaled_zi_objSemCong['accuracy']))/len(np.array(scaled_zi_objSemCong['accuracy']))\n",
    "scaled_zi_objSemIncong_acc = np.sum(np.array(scaled_zi_objSemIncong['accuracy']))/len(np.array(scaled_zi_objSemIncong['accuracy']))\n",
    "\n",
    "scaled_zi_objSemCong_sem = np.std(np.array(scaled_zi_objSemCong['accuracy']))/np.sqrt(len(np.array(scaled_zi_objSemCong['accuracy'])))\n",
    "scaled_zi_objSemIncong_sem = np.std(np.array(scaled_zi_objSemIncong['accuracy']))/np.sqrt(len(np.array(scaled_zi_objSemIncong['accuracy'])))"
   ]
  },
  {
   "cell_type": "code",
   "execution_count": 48,
   "metadata": {},
   "outputs": [],
   "source": [
    "# dfs: objSemCong --> scene2SemCong(0,1)\n",
    "ms_zo_objSemCong_s2cong = misscaled_zo_objSemCong.loc[misscaled_zo_objSemCong[\"scene2SemCong\"]==1]\n",
    "ms_zo_objSemCong_s2incong = misscaled_zo_objSemCong.loc[misscaled_zo_objSemCong[\"scene2SemCong\"]==0]\n",
    "ms_zi_objSemCong_s2cong = misscaled_zi_objSemCong.loc[misscaled_zi_objSemCong[\"scene2SemCong\"]==1]\n",
    "ms_zi_objSemCong_s2incong = misscaled_zi_objSemCong.loc[misscaled_zi_objSemCong[\"scene2SemCong\"]==0]\n",
    "\n",
    "s_zo_objSemCong_s2cong = scaled_zo_objSemCong.loc[scaled_zo_objSemCong[\"scene2SemCong\"]==1]\n",
    "s_zo_objSemCong_s2incong = scaled_zo_objSemCong.loc[scaled_zo_objSemCong[\"scene2SemCong\"]==0]\n",
    "s_zi_objSemCong_s2cong = scaled_zi_objSemCong.loc[scaled_zi_objSemCong[\"scene2SemCong\"]==1]\n",
    "s_zi_objSemCong_s2incong = scaled_zi_objSemCong.loc[scaled_zi_objSemCong[\"scene2SemCong\"]==0]\n",
    "\n",
    "# accuracy \n",
    "ms_zo_objSemCong_s2cong_acc = np.sum(np.array(ms_zo_objSemCong_s2cong['accuracy']))/len(np.array(ms_zo_objSemCong_s2cong['accuracy']))\n",
    "ms_zo_objSemCong_s2incong_acc = np.sum(np.array(ms_zo_objSemCong_s2incong['accuracy']))/len(np.array(ms_zo_objSemCong_s2incong['accuracy']))\n",
    "ms_zi_objSemCong_s2cong_acc = np.sum(np.array(ms_zi_objSemCong_s2cong['accuracy']))/len(np.array(ms_zi_objSemCong_s2cong['accuracy']))\n",
    "ms_zi_objSemCong_s2incong_acc = np.sum(np.array(ms_zi_objSemCong_s2incong['accuracy']))/len(np.array(ms_zi_objSemCong_s2incong['accuracy']))\n",
    "\n",
    "s_zo_objSemCong_s2cong_acc = np.sum(np.array(s_zo_objSemCong_s2cong['accuracy']))/len(np.array(s_zo_objSemCong_s2cong['accuracy']))\n",
    "s_zo_objSemCong_s2incong_acc = np.sum(np.array(s_zo_objSemCong_s2incong['accuracy']))/len(np.array(s_zo_objSemCong_s2incong['accuracy']))\n",
    "s_zi_objSemCong_s2cong_acc = np.sum(np.array(s_zi_objSemCong_s2cong['accuracy']))/len(np.array(s_zi_objSemCong_s2cong['accuracy']))\n",
    "s_zi_objSemCong_s2incong_acc = np.sum(np.array(s_zi_objSemCong_s2incong['accuracy']))/len(np.array(s_zi_objSemCong_s2incong['accuracy']))\n",
    "\n",
    "# sem\n",
    "ms_zo_objSemCong_s2cong_sem = np.std(np.array(ms_zo_objSemCong_s2cong['accuracy']))/np.sqrt(len(np.array(ms_zo_objSemCong_s2cong['accuracy'])))\n",
    "ms_zo_objSemCong_s2incong_sem = np.std(np.array(ms_zo_objSemCong_s2incong['accuracy']))/np.sqrt(len(np.array(ms_zo_objSemCong_s2incong['accuracy'])))\n",
    "ms_zi_objSemCong_s2cong_sem = np.std(np.array(ms_zi_objSemCong_s2cong['accuracy']))/np.sqrt(len(np.array(ms_zi_objSemCong_s2cong['accuracy'])))\n",
    "ms_zi_objSemCong_s2incong_sem = np.std(np.array(ms_zi_objSemCong_s2incong['accuracy']))/np.sqrt(len(np.array(ms_zi_objSemCong_s2incong['accuracy'])))\n",
    "\n",
    "s_zo_objSemCong_s2cong_sem = np.std(np.array(s_zo_objSemCong_s2cong['accuracy']))/np.sqrt(len(np.array(s_zo_objSemCong_s2cong['accuracy'])))\n",
    "s_zo_objSemCong_s2incong_sem = np.std(np.array(s_zo_objSemCong_s2incong['accuracy']))/np.sqrt(len(np.array(s_zo_objSemCong_s2incong['accuracy'])))\n",
    "s_zi_objSemCong_s2cong_sem = np.std(np.array(s_zi_objSemCong_s2cong['accuracy']))/np.sqrt(len(np.array(s_zi_objSemCong_s2cong['accuracy'])))\n",
    "s_zi_objSemCong_s2incong_sem = np.std(np.array(s_zi_objSemCong_s2incong['accuracy']))/np.sqrt(len(np.array(s_zi_objSemCong_s2incong['accuracy'])))"
   ]
  },
  {
   "cell_type": "code",
   "execution_count": 49,
   "metadata": {},
   "outputs": [],
   "source": [
    "# dfs: objSemIncong --> scene2SemCong(0,1)\n",
    "ms_zo_objSemIncong_s2cong = misscaled_zo_objSemIncong.loc[misscaled_zo_objSemIncong[\"scene2SemCong\"]==1]\n",
    "ms_zo_objSemIncong_s2incong = misscaled_zo_objSemIncong.loc[misscaled_zo_objSemIncong[\"scene2SemCong\"]==0]\n",
    "ms_zi_objSemIncong_s2cong = misscaled_zi_objSemIncong.loc[misscaled_zi_objSemIncong[\"scene2SemCong\"]==1]\n",
    "ms_zi_objSemIncong_s2incong = misscaled_zi_objSemIncong.loc[misscaled_zi_objSemIncong[\"scene2SemCong\"]==0]\n",
    "\n",
    "s_zo_objSemIncong_s2cong = scaled_zo_objSemIncong.loc[scaled_zo_objSemIncong[\"scene2SemCong\"]==1]\n",
    "s_zo_objSemIncong_s2incong = scaled_zo_objSemIncong.loc[scaled_zo_objSemIncong[\"scene2SemCong\"]==0]\n",
    "s_zi_objSemIncong_s2cong = scaled_zi_objSemIncong.loc[scaled_zi_objSemIncong[\"scene2SemCong\"]==1]\n",
    "s_zi_objSemIncong_s2incong = scaled_zi_objSemIncong.loc[scaled_zi_objSemIncong[\"scene2SemCong\"]==0]\n",
    "\n",
    "# accuracy \n",
    "ms_zo_objSemIncong_s2cong_acc = np.sum(np.array(ms_zo_objSemCong_s2cong['accuracy']))/len(np.array(ms_zo_objSemCong_s2cong['accuracy']))\n",
    "ms_zo_objSemIncong_s2incong_acc = np.sum(np.array(ms_zo_objSemCong_s2incong['accuracy']))/len(np.array(ms_zo_objSemCong_s2incong['accuracy']))\n",
    "ms_zi_objSemIncong_s2cong_acc = np.sum(np.array(ms_zi_objSemCong_s2cong['accuracy']))/len(np.array(ms_zi_objSemCong_s2cong['accuracy']))\n",
    "ms_zi_objSemIncong_s2incong_acc = np.sum(np.array(ms_zi_objSemCong_s2incong['accuracy']))/len(np.array(ms_zi_objSemCong_s2incong['accuracy']))\n",
    "\n",
    "s_zo_objSemIncong_s2cong_acc = np.sum(np.array(s_zo_objSemIncong_s2cong['accuracy']))/len(np.array(s_zo_objSemIncong_s2cong['accuracy']))\n",
    "s_zo_objSemIncong_s2incong_acc = np.sum(np.array(s_zo_objSemIncong_s2incong['accuracy']))/len(np.array(s_zo_objSemIncong_s2incong['accuracy']))\n",
    "s_zi_objSemIncong_s2cong_acc = np.sum(np.array(s_zi_objSemIncong_s2cong['accuracy']))/len(np.array(s_zi_objSemIncong_s2cong['accuracy']))\n",
    "s_zi_objSemIncong_s2incong_acc = np.sum(np.array(s_zi_objSemIncong_s2incong['accuracy']))/len(np.array(s_zi_objSemIncong_s2incong['accuracy']))\n",
    "\n",
    "# sem\n",
    "ms_zo_objSemIncong_s2cong_sem = np.std(np.array(ms_zo_objSemIncong_s2cong['accuracy']))/np.sqrt(len(np.array(ms_zo_objSemIncong_s2cong['accuracy'])))\n",
    "ms_zo_objSemIncong_s2incong_sem = np.std(np.array(ms_zo_objSemIncong_s2incong['accuracy']))/np.sqrt(len(np.array(ms_zo_objSemIncong_s2incong['accuracy'])))\n",
    "ms_zi_objSemIncong_s2cong_sem = np.std(np.array(ms_zi_objSemIncong_s2cong['accuracy']))/np.sqrt(len(np.array(ms_zi_objSemIncong_s2cong['accuracy'])))\n",
    "ms_zi_objSemIncong_s2incong_sem = np.std(np.array(ms_zi_objSemIncong_s2incong['accuracy']))/np.sqrt(len(np.array(ms_zi_objSemIncong_s2incong['accuracy'])))\n",
    "\n",
    "s_zo_objSemIncong_s2cong_sem = np.std(np.array(s_zo_objSemIncong_s2cong['accuracy']))/np.sqrt(len(np.array(s_zo_objSemIncong_s2cong['accuracy'])))\n",
    "s_zo_objSemIncong_s2incong_sem = np.std(np.array(s_zo_objSemIncong_s2incong['accuracy']))/np.sqrt(len(np.array(s_zo_objSemIncong_s2incong['accuracy'])))\n",
    "s_zi_objSemIncong_s2cong_sem = np.std(np.array(s_zi_objSemIncong_s2cong['accuracy']))/np.sqrt(len(np.array(s_zi_objSemIncong_s2cong['accuracy'])))\n",
    "s_zi_objSemIncong_s2incong_sem = np.std(np.array(s_zi_objSemIncong_s2incong['accuracy']))/np.sqrt(len(np.array(s_zi_objSemIncong_s2incong['accuracy'])))"
   ]
  },
  {
   "cell_type": "code",
   "execution_count": 69,
   "metadata": {},
   "outputs": [
    {
     "data": {
      "image/png": "[encoded data removed]",
      "text/plain": [
       "<Figure size 576x720 with 1 Axes>"
      ]
     },
     "metadata": {
      "needs_background": "light"
     },
     "output_type": "display_data"
    }
   ],
   "source": [
    "fig, ax = plt.subplots(figsize=[8,10])\n",
    "ax.spines['right'].set_visible(False)\n",
    "ax.spines['top'].set_visible(False)\n",
    "for axis in ['bottom','left']:\n",
    "    ax.spines[axis].set_linewidth(2.3)\n",
    "    \n",
    "x = np.arange(4)\n",
    "#                                          Misscaled                                               Scaled\n",
    "#                                zo                          zi                         zo                       zi\n",
    "Acc_objSemCong =   [misscaled_zo_objSemCong_acc, misscaled_zi_objSemCong_acc, scaled_zo_objSemCong_acc, scaled_zi_objSemCong_acc]\n",
    "yerr_objSemCong =  [misscaled_zo_objSemCong_sem, misscaled_zi_objSemCong_sem, scaled_zo_objSemCong_sem, scaled_zi_objSemCong_sem]\n",
    "\n",
    "Acc_objSemIncong =   [misscaled_zo_objSemIncong_acc, misscaled_zi_objSemIncong_acc, scaled_zo_objSemIncong_acc, scaled_zi_objSemIncong_acc]\n",
    "yerr_objSemIncong =  [misscaled_zo_objSemIncong_sem, misscaled_zi_objSemIncong_sem, scaled_zo_objSemIncong_sem, scaled_zi_objSemIncong_sem]\n",
    "\n",
    "width = 0.2\n",
    "  \n",
    "# plot data in grouped manner of bar type\n",
    "plt.bar(x-0.2, Acc_objSemCong, width, color='lightgreen', label='Object-Scene1 Semantic Congruency', yerr=yerr_objSemCong, capsize=5)\n",
    "plt.bar(x, Acc_objSemIncong, width, color='darkgreen', label='Object-Scene1 Semantic Incongruency', yerr=yerr_objSemIncong, capsize=5)\n",
    "plt.xticks(x, ['Misscaled zo', 'Misscaled zi', 'Canonical zo', 'Canonical zi'], fontsize='15')\n",
    "plt.ylim(0.5)\n",
    "plt.yticks(fontsize=15) \n",
    "plt.ylabel(\"Percent Correct\", fontsize=16)\n",
    "plt.legend(loc=1, fontsize=12)\n",
    "plt.show()"
   ]
  },
  {
   "cell_type": "code",
   "execution_count": 85,
   "metadata": {},
   "outputs": [
    {
     "data": {
      "image/png": "[encoded data removed]",
      "text/plain": [
       "<Figure size 720x720 with 1 Axes>"
      ]
     },
     "metadata": {
      "needs_background": "light"
     },
     "output_type": "display_data"
    },
    {
     "name": "stdout",
     "output_type": "stream",
     "text": [
      "Blue colors: Object-Scene1 Semantic Congruency\n",
      "Green colors: Object-Scene1 Semantic Incongruency\n",
      "Dark colors: Scene1-Scene2 Semantic Congruency\n",
      "Light colors: Scene1-Scene2 Semantic Incongruency\n"
     ]
    }
   ],
   "source": [
    "fig, ax = plt.subplots(figsize=[10,10])\n",
    "ax.spines['right'].set_visible(False)\n",
    "ax.spines['top'].set_visible(False)\n",
    "for axis in ['bottom','left']:\n",
    "    ax.spines[axis].set_linewidth(2.3)\n",
    "    \n",
    "x = np.arange(4)\n",
    "#                                          Misscaled                                               Scaled\n",
    "#                                zo                          zi                         zo                       zi\n",
    "# Acc_objSemCong =   [misscaled_zo_objSemCong_acc, misscaled_zi_objSemCong_acc, scaled_zo_objSemCong_acc, scaled_zi_objSemCong_acc]\n",
    "# yerr_objSemCong =  [misscaled_zo_objSemCong_sem, misscaled_zi_objSemCong_sem, scaled_zo_objSemCong_sem, scaled_zi_objSemCong_sem]\n",
    "\n",
    "# Acc_objSemIncong =   [misscaled_zo_objSemIncong_acc, misscaled_zi_objSemIncong_acc, scaled_zo_objSemIncong_acc, scaled_zi_objSemIncong_acc]\n",
    "# yerr_objSemIncong =  [misscaled_zo_objSemIncong_sem, misscaled_zi_objSemIncong_sem, scaled_zo_objSemIncong_sem, scaled_zi_objSemIncong_sem]\n",
    "\n",
    "#                                                  Misscaled                                                       Scaled\n",
    "#                                      zo                             zi                             zo                             zi\n",
    "Acc_objSemCong_s2cong =   [ms_zo_objSemCong_s2cong_acc,   ms_zi_objSemCong_s2cong_acc,   s_zo_objSemCong_s2cong_acc,    s_zi_objSemCong_s2cong_acc]\n",
    "yerr_objSemCong_s2cong =  [ms_zo_objSemCong_s2cong_sem,   ms_zi_objSemCong_s2cong_sem,   s_zo_objSemCong_s2cong_sem,    s_zi_objSemCong_s2cong_sem]\n",
    "\n",
    "Acc_objSemCong_s2incong = [ms_zo_objSemCong_s2incong_acc,   ms_zi_objSemCong_s2incong_acc,   s_zo_objSemCong_s2incong_acc,    s_zi_objSemCong_s2incong_acc]\n",
    "yerr_objSemCong_s2incong = [ms_zo_objSemCong_s2incong_sem,   ms_zi_objSemCong_s2incong_sem,   s_zo_objSemCong_s2incong_sem,    s_zi_objSemCong_s2incong_sem]\n",
    "\n",
    "\n",
    "Acc_objSemIncong_s2cong =   [ms_zo_objSemIncong_s2cong_acc,   ms_zi_objSemIncong_s2cong_acc,   s_zo_objSemIncong_s2cong_acc,    s_zi_objSemIncong_s2cong_acc]\n",
    "yerr_objSemIncong_s2cong =  [ms_zo_objSemIncong_s2cong_sem,   ms_zi_objSemIncong_s2cong_sem,   s_zo_objSemIncong_s2cong_sem,    s_zi_objSemIncong_s2cong_sem]\n",
    "\n",
    "Acc_objSemIncong_s2incong = [ms_zo_objSemIncong_s2incong_acc,   ms_zi_objSemIncong_s2incong_acc,   s_zo_objSemIncong_s2incong_acc,    s_zi_objSemIncong_s2incong_acc]\n",
    "yerr_objSemIncong_s2incong = [ms_zo_objSemIncong_s2incong_sem,   ms_zi_objSemIncong_s2incong_sem,   s_zo_objSemIncong_s2incong_sem,    s_zi_objSemIncong_s2incong_sem]\n",
    "\n",
    "\n",
    "width = 0.2\n",
    "\n",
    "\n",
    "\n",
    "\n",
    "# plot data in grouped manner of bar type\n",
    "plt.bar(x-0.6, Acc_objSemCong_s2cong, width, color='darkblue', label='Object-Scene1 Semantic Congruency; Scene1-Scene2 Semantic Congruency', yerr=yerr_objSemCong_s2cong, capsize=5)\n",
    "plt.bar(x-0.4, Acc_objSemCong_s2incong, width, color='lightblue', label='Object-Scene1 Semantic Congruency; Scene1-Scene2 Semantic Incongruency', yerr=yerr_objSemCong_s2incong, capsize=5)\n",
    "\n",
    "plt.bar(x-0.2, Acc_objSemIncong_s2cong, width, color='darkgreen', label='Object-Scene1 Semantic Incongruency; Scene1-Scene2 Semantic Congruency', yerr=yerr_objSemIncong_s2cong, capsize=5)\n",
    "plt.bar(x, Acc_objSemIncong_s2incong, width, color='lightgreen', label='Object-Scene1 Semantic Incongruency; Scene1-Scene2 Semantic Incongruency', yerr=yerr_objSemIncong_s2incong, capsize=5)\n",
    "\n",
    "\n",
    "plt.xticks(x, ['Misscaled zo','Misscaled zi', 'Canonical zo', 'Canonical zi'], fontsize='15')\n",
    "\n",
    "\n",
    "\n",
    "plt.ylim(0.4,1.2)\n",
    "plt.yticks(np.arange(0.4, 1.1, 0.1))\n",
    "plt.yticks(fontsize=15) \n",
    "plt.ylabel(\"Percent Correct\", fontsize=16)\n",
    "plt.legend(loc=1, fontsize=12)\n",
    "plt.show()\n",
    "\n",
    "print('Blue colors: Object-Scene1 Semantic Congruency')\n",
    "print('Green colors: Object-Scene1 Semantic Incongruency')\n",
    "print('Dark colors: Scene1-Scene2 Semantic Congruency')\n",
    "print('Light colors: Scene1-Scene2 Semantic Incongruency')"
   ]
  },
  {
   "cell_type": "code",
   "execution_count": 39,
   "metadata": {},
   "outputs": [
    {
     "data": {
      "text/plain": [
       "[0.8333333333333334,\n",
       " 0.8809523809523809,\n",
       " 0.9047619047619048,\n",
       " 0.9285714285714286]"
      ]
     },
     "execution_count": 39,
     "metadata": {},
     "output_type": "execute_result"
    }
   ],
   "source": [
    "Acc_objSemCong #mzo, mzi, czo, czi "
   ]
  },
  {
   "cell_type": "code",
   "execution_count": 40,
   "metadata": {},
   "outputs": [
    {
     "data": {
      "text/plain": [
       "Index(['subjID', 'experimentName', 'versionName', 'windowWidth',\n",
       "       'windowHeight', 'screenWidth', 'screenHeight', 'startDate', 'startTime',\n",
       "       'pracTries', 'trialNum', 'objectSize', 'objectCategory', 'object',\n",
       "       'misscaled', 'objectScene1SemanticCongruency', 'scene1ZoomName',\n",
       "       'scene1Category', 'scene1', 'scene2SizeCong', 'scene2SemCong',\n",
       "       'scene2ZoomName', 'scene2Category', 'scene2', 'keyPress', 'accuracy',\n",
       "       'RT', 'experimentTime', 'totalTime'],\n",
       "      dtype='object')"
      ]
     },
     "execution_count": 40,
     "metadata": {},
     "output_type": "execute_result"
    }
   ],
   "source": [
    "zo_df.columns"
   ]
  },
  {
   "cell_type": "code",
   "execution_count": 37,
   "metadata": {},
   "outputs": [],
   "source": [
    "# scene 2 semantic congruency \n",
    "\n",
    "zo_scene2SemCong = zo_df.loc[zo_df[\"scene2SemCong\"]==0]\n",
    "zo_scene2SemIncong = zo_df.loc[zo_df[\"scene2SemCong\"]==1]\n",
    "\n",
    "zo_scene2SemCong_acc = np.sum(np.array(zo_scene2SemCong['accuracy']))/len(np.array(zo_scene2SemCong['accuracy']))\n",
    "zo_scene2SemIncong_acc =np.sum(np.array(zo_scene2SemIncong['accuracy']))/len(np.array(zo_scene2SemIncong['accuracy']))\n",
    "\n",
    "zo_scene2SemCong_sem = sem(np.array(zo_scene2SemCong['accuracy']))/len(np.array(zo_scene2SemCong['accuracy']))\n",
    "zo_scene2SemIncong_sem = sem(np.array(zo_scene2SemIncong['accuracy']))/len(np.array(zo_scene2SemIncong['accuracy']))\n",
    "\n",
    "\n",
    "zi_scene2SemCong = zi_df.loc[zi_df[\"scene2SemCong\"]==0]\n",
    "zi_scene2SemIncong = zi_df.loc[zi_df[\"scene2SemCong\"]==1]\n",
    "\n",
    "zi_scene2SemCong_acc = np.sum(np.array(zi_scene2SemCong['accuracy']))/len(np.array(zi_scene2SemCong['accuracy']))\n",
    "zi_scene2SemIncong_acc = np.sum(np.array(zi_scene2SemIncong['accuracy']))/len(np.array(zi_scene2SemIncong['accuracy']))\n",
    "\n",
    "zi_scene2SemCong_sem = sem(np.array(zi_scene2SemCong['accuracy']))/len(np.array(zi_scene2SemCong['accuracy']))\n",
    "zi_scene2SemIncong_sem = sem(np.array(zi_scene2SemIncong['accuracy']))/len(np.array(zi_scene2SemIncong['accuracy']))"
   ]
  },
  {
   "cell_type": "code",
   "execution_count": 38,
   "metadata": {},
   "outputs": [
    {
     "data": {
      "image/png": "[encoded data removed]",
      "text/plain": [
       "<Figure size 576x576 with 1 Axes>"
      ]
     },
     "metadata": {
      "needs_background": "light"
     },
     "output_type": "display_data"
    }
   ],
   "source": [
    "plt.figure(figsize=[8,8])\n",
    "x = np.arange(2)\n",
    "#                                zo                  zi\n",
    "Acc_scene2SemCong =   [zo_scene2SemCong_acc, zi_scene2SemCong_acc]\n",
    "yerr_scene2SemCong =  [zo_scene2SemCong_sem, zi_scene2SemCong_sem]\n",
    "\n",
    "Acc_scene2SemIncong = [zo_scene2SemIncong_acc, zi_scene2SemIncong_acc]\n",
    "yerr_scene2SemIncong =  [zo_scene2SemIncong_sem, zi_scene2SemIncong_sem]\n",
    "\n",
    "width = 0.2\n",
    "  \n",
    "# plot data in grouped manner of bar type\n",
    "plt.bar(x-0.2, Acc_scene2SemCong, width, color='cyan', label='Scene 2 Semantic Congruency', yerr=yerr_scene2SemCong, capsize=5)\n",
    "plt.bar(x, Acc_scene2SemIncong, width, color='royalblue', label='Scene 2 Semantic Incongruency', yerr=yerr_scene2SemIncong, capsize=5)\n",
    "plt.xticks(x, ['zo', 'zi'], fontsize='12')\n",
    "plt.xlabel(\"Zoom level\", fontsize=15)\n",
    "plt.ylabel(\"Percent Correct\", fontsize=15)\n",
    "plt.legend(loc=1, fontsize=10)\n",
    "plt.show()"
   ]
  },
  {
   "cell_type": "code",
   "execution_count": 39,
   "metadata": {
    "jupyter": {
     "source_hidden": true
    }
   },
   "outputs": [],
   "source": [
    "# scene 2 size congruency \n",
    "\n",
    "zo_scene2SizeCong = zo_df.loc[zo_df[\"scene2SizeCong\"]==0]\n",
    "zo_scene2SizeIncong = zo_df.loc[zo_df[\"scene2SizeCong\"]==1]\n",
    "\n",
    "zo_scene2SizeCong_acc = np.sum(np.array(zo_scene2SizeCong['accuracy']))/len(np.array(zo_scene2SizeCong['accuracy']))\n",
    "zo_scene2SizeIncong_acc =np.sum(np.array(zo_scene2SizeIncong['accuracy']))/len(np.array(zo_scene2SizeIncong['accuracy']))\n",
    "\n",
    "zo_scene2SizeCong_sem = sem(np.array(zo_scene2SizeCong['accuracy']))/len(np.array(zo_scene2SizeCong['accuracy']))\n",
    "zo_scene2SizeIncong_sem = sem(np.array(zo_scene2SizeIncong['accuracy']))/len(np.array(zo_scene2SizeIncong['accuracy']))\n",
    "\n",
    "\n",
    "zi_scene2SizeCong = zi_df.loc[zi_df[\"scene2SizeCong\"]==0]\n",
    "zi_scene2SizeIncong = zi_df.loc[zi_df[\"scene2SizeCong\"]==1]\n",
    "\n",
    "zi_scene2SizeCong_acc = np.sum(np.array(zi_scene2SizeCong['accuracy']))/len(np.array(zi_scene2SizeCong['accuracy']))\n",
    "zi_scene2SizeIncong_acc = np.sum(np.array(zi_scene2SizeIncong['accuracy']))/len(np.array(zi_scene2SizeIncong['accuracy']))\n",
    "\n",
    "zi_scene2SizeCong_sem = sem(np.array(zi_scene2SizeCong['accuracy']))/len(np.array(zi_scene2SizeCong['accuracy']))\n",
    "zi_scene2SizeIncong_sem = sem(np.array(zi_scene2SizeIncong['accuracy']))/len(np.array(zi_scene2SizeIncong['accuracy']))"
   ]
  },
  {
   "cell_type": "code",
   "execution_count": 41,
   "metadata": {
    "collapsed": true,
    "jupyter": {
     "outputs_hidden": true,
     "source_hidden": true
    }
   },
   "outputs": [
    {
     "data": {
      "image/png": "[encoded data removed]",
      "text/plain": [
       "<Figure size 576x576 with 1 Axes>"
      ]
     },
     "metadata": {
      "needs_background": "light"
     },
     "output_type": "display_data"
    }
   ],
   "source": [
    "plt.figure(figsize=[8,8])\n",
    "x = np.arange(2)\n",
    "#                                zo                  zi\n",
    "Acc_scene2SizeCong =   [zo_scene2SizeCong_acc, zi_scene2SizeCong_acc]\n",
    "yerr_scene2SizeCong =  [zo_scene2SizeCong_sem, zi_scene2SizeCong_sem]\n",
    "\n",
    "Acc_scene2SizeIncong = [zo_scene2SizeIncong_acc, zi_scene2SizeIncong_acc]\n",
    "yerr_scene2SizeIncong =  [zo_scene2SizeIncong_sem, zi_scene2SizeIncong_sem]\n",
    "\n",
    "width = 0.2\n",
    "  \n",
    "# plot data in grouped manner of bar type\n",
    "plt.bar(x-0.2, Acc_scene2SizeCong, width, color='pink', label='Scene 2 Size Congruency', yerr=yerr_scene2SizeCong, capsize=5)\n",
    "plt.bar(x, Acc_scene2SizeIncong, width, color='hotpink', label='Scene 2 Size Incongruency', yerr=yerr_scene2SizeIncong, capsize=5)\n",
    "plt.xticks(x, ['zo', 'zi'], fontsize='12')\n",
    "plt.xlabel(\"Zoom level\", fontsize=15)\n",
    "plt.ylabel(\"Percent Correct\", fontsize=15)\n",
    "plt.legend(loc=1, fontsize=10)\n",
    "plt.show()"
   ]
  },
  {
   "cell_type": "markdown",
   "metadata": {},
   "source": [
    "## RT\n",
    "\n",
    "CREATE DIFF DF - ONLY INCLUDE CORRECT TRIALS\n",
    "\n",
    "WITHIN PARTICIPANT SEM"
   ]
  },
  {
   "cell_type": "code",
   "execution_count": null,
   "metadata": {},
   "outputs": [],
   "source": []
  },
  {
   "cell_type": "code",
   "execution_count": 87,
   "metadata": {},
   "outputs": [
    {
     "data": {
      "text/plain": [
       "862.0272108843537"
      ]
     },
     "execution_count": 87,
     "metadata": {},
     "output_type": "execute_result"
    }
   ],
   "source": [
    "final_data_correctOnly = final_data.loc[final_data['accuracy']==1]\n",
    "\n",
    "np.mean(np.array(final_data_correctOnly['RT']))"
   ]
  },
  {
   "cell_type": "code",
   "execution_count": 88,
   "metadata": {},
   "outputs": [
    {
     "data": {
      "text/plain": [
       "(861.6344827586207, 862.4093959731543)"
      ]
     },
     "execution_count": 88,
     "metadata": {},
     "output_type": "execute_result"
    }
   ],
   "source": [
    "# data split by object-scene size congruency aka scene zoom \n",
    "\n",
    "zo_df_CO = final_data_correctOnly.loc[final_data_correctOnly['scene1ZoomName']=='zo']\n",
    "zi_df_CO = final_data_correctOnly.loc[final_data_correctOnly['scene1ZoomName']=='zi']\n",
    "\n",
    "zo_RT = np.mean(np.array(zo_df_CO['RT']))\n",
    "zi_RT = np.mean(np.array(zi_df_CO['RT']))\n",
    "\n",
    "zo_RT, zi_RT"
   ]
  },
  {
   "cell_type": "code",
   "execution_count": 89,
   "metadata": {},
   "outputs": [],
   "source": [
    "misscaled_zo_CO = zo_df_CO.loc[zo_df_CO['misscaled'] =='misscaled'] \n",
    "misscaled_zi_CO = zi_df_CO.loc[zi_df_CO['misscaled'] =='misscaled']\n",
    "misscaled_CO = misscaled_zo_CO.append(misscaled_zi_CO)\n",
    "\n",
    "scaled_zo_CO = zo_df_CO.loc[zo_df_CO['misscaled'] =='scaled'] \n",
    "scaled_zi_CO = zi_df_CO.loc[zi_df_CO['misscaled'] =='scaled']\n",
    "scaled_CO = scaled_zo_CO.append(scaled_zi_CO)"
   ]
  },
  {
   "cell_type": "code",
   "execution_count": 96,
   "metadata": {},
   "outputs": [],
   "source": [
    "misscaled_zo_objSemCong_CO = misscaled_zo_CO.loc[misscaled_zo_CO[\"objectScene1SemanticCongruency\"]==1]\n",
    "misscaled_zo_objSemIncong_CO = misscaled_zo_CO.loc[misscaled_zo_CO[\"objectScene1SemanticCongruency\"]==0]\n",
    "\n",
    "misscaled_zo_objSemCong_RT = np.mean(np.array(misscaled_zo_objSemCong_CO['RT']))\n",
    "misscaled_zo_objSemIncong_RT = np.mean(np.array(misscaled_zo_objSemIncong_CO['RT']))\n",
    "\n",
    "misscaled_zo_objSemCong_RT_sem = sem(np.array(misscaled_zo_objSemCong_CO['RT']))\n",
    "misscaled_zo_objSemIncong_RT_sem = sem(np.array(misscaled_zo_objSemIncong_CO['RT']))\n",
    "\n",
    "\n",
    "misscaled_zi_objSemCong_CO = misscaled_zi_CO.loc[misscaled_zi_CO[\"objectScene1SemanticCongruency\"]==1]\n",
    "misscaled_zi_objSemIncong_CO = misscaled_zi_CO.loc[misscaled_zi_CO[\"objectScene1SemanticCongruency\"]==0]\n",
    "\n",
    "misscaled_zi_objSemCong_RT = np.mean(np.array(misscaled_zi_objSemCong_CO['RT']))\n",
    "misscaled_zi_objSemIncong_RT = np.mean(np.array(misscaled_zi_objSemIncong_CO['RT']))\n",
    "\n",
    "misscaled_zi_objSemCong_RT_sem = sem(np.array(misscaled_zi_objSemCong_CO['RT']))\n",
    "misscaled_zi_objSemIncong_RT_sem = sem(np.array(misscaled_zi_objSemIncong_CO['RT']))\n",
    "\n",
    "\n",
    "# scaled\n",
    "scaled_zo_objSemCong_CO = scaled_zo_CO.loc[scaled_zo_CO[\"objectScene1SemanticCongruency\"]==1]\n",
    "scaled_zo_objSemIncong_CO = scaled_zo_CO.loc[scaled_zo_CO[\"objectScene1SemanticCongruency\"]==0]\n",
    "\n",
    "scaled_zo_objSemCong_RT = np.mean(np.array(scaled_zo_objSemCong_CO['RT']))\n",
    "scaled_zo_objSemIncong_RT = np.mean(np.array(scaled_zo_objSemIncong_CO['RT']))\n",
    "\n",
    "scaled_zo_objSemCong_RT_sem = sem(np.array(scaled_zo_objSemCong_CO['RT']))\n",
    "scaled_zo_objSemIncong_RT_sem = sem(np.array(scaled_zo_objSemIncong_CO['RT']))\n",
    "\n",
    "\n",
    "scaled_zi_objSemCong_CO = scaled_zi_CO.loc[scaled_zi_CO[\"objectScene1SemanticCongruency\"]==1]\n",
    "scaled_zi_objSemIncong_CO = scaled_zi_CO.loc[scaled_zi_CO[\"objectScene1SemanticCongruency\"]==0]\n",
    "\n",
    "scaled_zi_objSemCong_RT = np.mean(np.array(scaled_zi_objSemCong_CO['RT']))\n",
    "scaled_zi_objSemIncong_RT = np.mean(np.array(scaled_zi_objSemIncong_CO['RT']))\n",
    "\n",
    "scaled_zi_objSemCong_RT_sem = sem(np.array(scaled_zi_objSemCong_CO['RT']))\n",
    "scaled_zi_objSemIncong_RT_sem = sem(np.array(scaled_zi_objSemIncong_CO['RT']))\n"
   ]
  },
  {
   "cell_type": "code",
   "execution_count": null,
   "metadata": {},
   "outputs": [],
   "source": []
  },
  {
   "cell_type": "code",
   "execution_count": 97,
   "metadata": {},
   "outputs": [],
   "source": [
    "zo_scene2SemCong_CO = zo_df_CO.loc[zo_df_CO[\"scene2SemCong\"]==0]\n",
    "zo_scene2SemIncong_CO = zo_df_CO.loc[zo_df_CO[\"scene2SemCong\"]==1]\n",
    "\n",
    "zo_scene2SemCong_RT = np.mean(np.array(zo_scene2SemCong_CO['RT']))\n",
    "zo_scene2SemIncong_RT =np.mean(np.array(zo_scene2SemIncong_CO['RT']))\n",
    "\n",
    "zo_scene2SemCong_RT_sem = sem(np.array(zo_scene2SemCong_CO['RT']))\n",
    "zo_scene2SemIncong_RT_sem = sem(np.array(zo_scene2SemIncong_CO['RT']))\n",
    "\n",
    "\n",
    "zi_scene2SemCong_CO = zi_df_CO.loc[zi_df_CO[\"scene2SemCong\"]==0]\n",
    "zi_scene2SemIncong_CO = zi_df_CO.loc[zi_df_CO[\"scene2SemCong\"]==1]\n",
    "\n",
    "zi_scene2SemCong_RT = np.mean(np.array(zi_scene2SemCong_CO['RT']))\n",
    "zi_scene2SemIncong_RT = np.mean(np.array(zi_scene2SemIncong_CO['RT']))\n",
    "\n",
    "zi_scene2SemCong_RT_sem = sem(np.array(zi_scene2SemCong_CO['RT']))\n",
    "zi_scene2SemIncong_RT_sem = sem(np.array(zi_scene2SemIncong_CO['RT']))"
   ]
  },
  {
   "cell_type": "code",
   "execution_count": 98,
   "metadata": {},
   "outputs": [],
   "source": [
    "zo_scene2SizeCong_CO = zo_df_CO.loc[zo_df_CO[\"scene2SizeCong\"]==0]\n",
    "zo_scene2SizeIncong_CO = zo_df_CO.loc[zo_df_CO[\"scene2SizeCong\"]==1]\n",
    "\n",
    "zo_scene2SizeCong_RT = np.mean(np.array(zo_scene2SizeCong_CO['RT']))\n",
    "zo_scene2SizeIncong_RT =np.mean(np.array(zo_scene2SizeIncong_CO['RT']))\n",
    "\n",
    "zo_scene2SizeCong_RT_sem = sem(np.array(zo_scene2SizeCong_CO['RT']))\n",
    "zo_scene2SizeIncong_RT_sem = sem(np.array(zo_scene2SizeIncong_CO['RT']))\n",
    "\n",
    "\n",
    "zi_scene2SizeCong_CO = zi_df_CO.loc[zi_df_CO[\"scene2SizeCong\"]==0]\n",
    "zi_scene2SizeIncong_CO = zi_df_CO.loc[zi_df_CO[\"scene2SizeCong\"]==1]\n",
    "\n",
    "zi_scene2SizeCong_RT = np.mean(np.array(zi_scene2SizeCong_CO['RT']))\n",
    "zi_scene2SizeIncong_RT = np.mean(np.array(zi_scene2SizeIncong_CO['RT']))\n",
    "\n",
    "zi_scene2SizeCong_RT_sem = sem(np.array(zi_scene2SizeCong_CO['RT']))\n",
    "zi_scene2SizeIncong_RT_sem = sem(np.array(zi_scene2SizeIncong_CO['RT']))"
   ]
  },
  {
   "cell_type": "code",
   "execution_count": 100,
   "metadata": {},
   "outputs": [
    {
     "data": {
      "image/png": "[encoded data removed]",
      "text/plain": [
       "<Figure size 720x720 with 1 Axes>"
      ]
     },
     "metadata": {
      "needs_background": "light"
     },
     "output_type": "display_data"
    }
   ],
   "source": [
    "fig, ax = plt.subplots(figsize=[10,10])\n",
    "ax.spines['right'].set_visible(False)\n",
    "ax.spines['top'].set_visible(False)\n",
    "for axis in ['bottom','left']:\n",
    "    ax.spines[axis].set_linewidth(2.3)\n",
    "    \n",
    "x = np.arange(4)\n",
    "#                                          Misscaled                                             Scaled\n",
    "#                               zo                          zi                         zo                     zi\n",
    "RT_objSemCong =   [misscaled_zo_objSemCong_RT, misscaled_zi_objSemCong_RT, scaled_zo_objSemCong_RT, scaled_zi_objSemCong_RT]\n",
    "RT_objSemCong_sem = [misscaled_zo_objSemCong_RT_sem, misscaled_zi_objSemCong_RT_sem, scaled_zo_objSemCong_RT_sem, scaled_zi_objSemCong_RT_sem]\n",
    "\n",
    "RT_objSemIncong = [misscaled_zo_objSemIncong_RT, misscaled_zi_objSemIncong_RT, scaled_zo_objSemIncong_RT, scaled_zi_objSemIncong_RT]\n",
    "RT_objSemIncong_sem = [misscaled_zo_objSemIncong_RT_sem, misscaled_zi_objSemIncong_RT_sem, scaled_zo_objSemIncong_RT_sem, scaled_zi_objSemIncong_RT_sem]\n",
    "\n",
    "width = 0.2\n",
    "  \n",
    "# plot data in grouped manner of bar type\n",
    "plt.bar(x-0.2, RT_objSemCong, width, color='lightgreen', label='Object-Scene1 Semantic Congruency', yerr=RT_objSemCong_sem, capsize=5, alpha=0.8)\n",
    "plt.bar(x, RT_objSemIncong, width, color='darkgreen', label='Object-Scene1 Semantic Incongruency', yerr=RT_objSemIncong_sem, capsize=5, alpha=0.8)\n",
    "plt.xticks(x, ['Misscaled zo', 'Misscaled zi', 'Canonical zo', 'Canonical zi'], fontsize='15')\n",
    "plt.yticks(fontsize=15) \n",
    "plt.ylim(400)\n",
    "plt.ylabel(\"RT (ms)\", fontsize=16)\n",
    "plt.legend(loc=0, fontsize=12)\n",
    "plt.show()"
   ]
  },
  {
   "cell_type": "code",
   "execution_count": null,
   "metadata": {},
   "outputs": [],
   "source": []
  },
  {
   "cell_type": "code",
   "execution_count": 101,
   "metadata": {},
   "outputs": [],
   "source": [
    "# dfs: objSemCong --> scene2SemCong(0,1)\n",
    "ms_zo_objSemCong_s2cong_CO = misscaled_zo_objSemCong_CO.loc[misscaled_zo_objSemCong_CO[\"scene2SemCong\"]==1]\n",
    "ms_zo_objSemCong_s2incong_CO = misscaled_zo_objSemCong_CO.loc[misscaled_zo_objSemCong_CO[\"scene2SemCong\"]==0]\n",
    "ms_zi_objSemCong_s2cong_CO = misscaled_zi_objSemCong_CO.loc[misscaled_zi_objSemCong_CO[\"scene2SemCong\"]==1]\n",
    "ms_zi_objSemCong_s2incong_CO = misscaled_zi_objSemCong_CO.loc[misscaled_zi_objSemCong_CO[\"scene2SemCong\"]==0]\n",
    "\n",
    "s_zo_objSemCong_s2cong_CO = scaled_zo_objSemCong_CO.loc[scaled_zo_objSemCong_CO[\"scene2SemCong\"]==1]\n",
    "s_zo_objSemCong_s2incong_CO = scaled_zo_objSemCong_CO.loc[scaled_zo_objSemCong_CO[\"scene2SemCong\"]==0]\n",
    "s_zi_objSemCong_s2cong_CO = scaled_zi_objSemCong_CO.loc[scaled_zi_objSemCong_CO[\"scene2SemCong\"]==1]\n",
    "s_zi_objSemCong_s2incong_CO = scaled_zi_objSemCong_CO.loc[scaled_zi_objSemCong_CO[\"scene2SemCong\"]==0]\n",
    "\n",
    "# RT \n",
    "ms_zo_objSemCong_s2cong_CO_RT = np.mean(np.array(ms_zo_objSemCong_s2cong_CO['RT']))\n",
    "ms_zo_objSemCong_s2incong_CO_RT = np.mean(np.array(ms_zo_objSemCong_s2incong_CO['RT']))\n",
    "ms_zi_objSemCong_s2cong_CO_RT = np.mean(np.array(ms_zi_objSemCong_s2cong_CO['RT']))\n",
    "ms_zi_objSemCong_s2incong_CO_RT = np.mean(np.array(ms_zo_objSemCong_s2cong_CO['RT']))\n",
    "\n",
    "s_zo_objSemCong_s2cong_CO_RT = np.mean(np.array(s_zo_objSemCong_s2cong_CO['RT']))\n",
    "s_zo_objSemCong_s2incong_CO_RT = np.mean(np.array(s_zo_objSemCong_s2incong_CO['RT']))\n",
    "s_zi_objSemCong_s2cong_CO_RT = np.mean(np.array(s_zi_objSemCong_s2cong_CO['RT']))\n",
    "s_zi_objSemCong_s2incong_CO_RT = np.mean(np.array(s_zi_objSemCong_s2incong_CO['RT']))\n",
    "\n",
    "# RT sem\n",
    "ms_zo_objSemCong_s2cong_CO_RT_sem = sem(np.array(ms_zo_objSemCong_s2cong_CO['RT']))\n",
    "ms_zo_objSemCong_s2incong_CO_RT_sem = sem(np.array(ms_zo_objSemCong_s2incong_CO['RT']))\n",
    "ms_zi_objSemCong_s2cong_CO_RT_sem = sem(np.array(ms_zi_objSemCong_s2cong_CO['RT']))\n",
    "ms_zi_objSemCong_s2incong_CO_RT_sem = sem(np.array(ms_zi_objSemCong_s2incong_CO['RT']))\n",
    "\n",
    "s_zo_objSemCong_s2cong_CO_RT_sem = sem(np.array(s_zo_objSemCong_s2cong_CO['RT']))\n",
    "s_zo_objSemCong_s2incong_CO_RT_sem = sem(np.array(s_zo_objSemCong_s2incong_CO['RT']))\n",
    "s_zi_objSemCong_s2cong_CO_RT_sem = sem(np.array(s_zi_objSemCong_s2cong_CO['RT']))\n",
    "s_zi_objSemCong_s2incong_CO_RT_sem = sem(np.array(s_zi_objSemCong_s2incong_CO['RT']))"
   ]
  },
  {
   "cell_type": "code",
   "execution_count": 102,
   "metadata": {},
   "outputs": [],
   "source": [
    "# dfs: objSemIncong --> scene2SemCong(0,1)\n",
    "ms_zo_objSemIncong_s2cong_CO = misscaled_zo_objSemIncong_CO.loc[misscaled_zo_objSemIncong_CO[\"scene2SemCong\"]==1]\n",
    "ms_zo_objSemIncong_s2incong_CO = misscaled_zo_objSemIncong_CO.loc[misscaled_zo_objSemIncong_CO[\"scene2SemCong\"]==0]\n",
    "ms_zi_objSemIncong_s2cong_CO = misscaled_zi_objSemIncong_CO.loc[misscaled_zi_objSemIncong_CO[\"scene2SemCong\"]==1]\n",
    "ms_zi_objSemIncong_s2incong_CO = misscaled_zi_objSemIncong_CO.loc[misscaled_zi_objSemIncong_CO[\"scene2SemCong\"]==0]\n",
    "\n",
    "s_zo_objSemIncong_s2cong_CO = scaled_zo_objSemIncong_CO.loc[scaled_zo_objSemIncong_CO[\"scene2SemCong\"]==1]\n",
    "s_zo_objSemIncong_s2incong_CO = scaled_zo_objSemIncong_CO.loc[scaled_zo_objSemIncong_CO[\"scene2SemCong\"]==0]\n",
    "s_zi_objSemIncong_s2cong_CO = scaled_zi_objSemIncong_CO.loc[scaled_zi_objSemIncong_CO[\"scene2SemCong\"]==1]\n",
    "s_zi_objSemIncong_s2incong_CO = scaled_zi_objSemIncong_CO.loc[scaled_zi_objSemIncong_CO[\"scene2SemCong\"]==0]\n",
    "\n",
    "# RT \n",
    "ms_zo_objSemIncong_s2cong_CO_RT = np.mean(np.array(ms_zo_objSemIncong_s2cong_CO['RT']))\n",
    "ms_zo_objSemIncong_s2incong_CO_RT = np.mean(np.array(ms_zo_objSemIncong_s2incong_CO['RT']))\n",
    "ms_zi_objSemIncong_s2cong_CO_RT = np.mean(np.array(ms_zi_objSemIncong_s2cong_CO['RT']))\n",
    "ms_zi_objSemIncong_s2incong_CO_RT = np.mean(np.array(ms_zo_objSemIncong_s2cong_CO['RT']))\n",
    "\n",
    "s_zo_objSemIncong_s2cong_CO_RT = np.mean(np.array(s_zo_objSemIncong_s2cong_CO['RT']))\n",
    "s_zo_objSemIncong_s2incong_CO_RT = np.mean(np.array(s_zo_objSemIncong_s2incong_CO['RT']))\n",
    "s_zi_objSemIncong_s2cong_CO_RT = np.mean(np.array(s_zi_objSemIncong_s2cong_CO['RT']))\n",
    "s_zi_objSemIncong_s2incong_CO_RT = np.mean(np.array(s_zi_objSemIncong_s2incong_CO['RT']))\n",
    "\n",
    "# RT sem\n",
    "ms_zo_objSemIncong_s2cong_CO_RT_sem = sem(np.array(ms_zo_objSemIncong_s2cong_CO['RT']))\n",
    "ms_zo_objSemIncong_s2incong_CO_RT_sem = sem(np.array(ms_zo_objSemIncong_s2incong_CO['RT']))\n",
    "ms_zi_objSemIncong_s2cong_CO_RT_sem = sem(np.array(ms_zi_objSemIncong_s2cong_CO['RT']))\n",
    "ms_zi_objSemIncong_s2incong_CO_RT_sem = sem(np.array(ms_zi_objSemIncong_s2incong_CO['RT']))\n",
    "\n",
    "s_zo_objSemIncong_s2cong_CO_RT_sem = sem(np.array(s_zo_objSemIncong_s2cong_CO['RT']))\n",
    "s_zo_objSemIncong_s2incong_CO_RT_sem = sem(np.array(s_zo_objSemIncong_s2incong_CO['RT']))\n",
    "s_zi_objSemIncong_s2cong_CO_RT_sem = sem(np.array(s_zi_objSemIncong_s2cong_CO['RT']))\n",
    "s_zi_objSemIncong_s2incong_CO_RT_sem = sem(np.array(s_zi_objSemIncong_s2incong_CO['RT']))"
   ]
  },
  {
   "cell_type": "code",
   "execution_count": 111,
   "metadata": {},
   "outputs": [
    {
     "data": {
      "text/plain": [
       "([0.07332121111929343,\n",
       "  0.08944271909999159,\n",
       "  0.06129089658756746,\n",
       "  0.054258639865002144],\n",
       " 0.07332121111929343,\n",
       " 57.61516712631489)"
      ]
     },
     "execution_count": 111,
     "metadata": {},
     "output_type": "execute_result"
    }
   ],
   "source": [
    "yerr_RT_objSemCong_s2incong, ms_zo_objSemCong_s2incong_sem, sem(np.array(ms_zo_objSemCong_s2incong_CO['RT']))"
   ]
  },
  {
   "cell_type": "code",
   "execution_count": 195,
   "metadata": {},
   "outputs": [
    {
     "data": {
      "image/png": "[encoded data removed]",
      "text/plain": [
       "<Figure size 1440x720 with 1 Axes>"
      ]
     },
     "metadata": {
      "needs_background": "light"
     },
     "output_type": "display_data"
    }
   ],
   "source": [
    "fig, ax = plt.subplots(figsize=[20, 10])\n",
    "ax.spines['right'].set_visible(False)\n",
    "ax.spines['top'].set_visible(False)\n",
    "for axis in ['bottom','left']:\n",
    "    ax.spines[axis].set_linewidth(2.3)\n",
    "    \n",
    "x = np.arange(1)\n",
    "\n",
    "width = 0.15\n",
    "\n",
    "plt.bar(x-3, ms_zo_objSemCong_s2cong_CO_RT, width, color='lightblue', label='misscaled,zo,objSemCong, s2cong', yerr=ms_zo_objSemCong_s2cong_CO_RT_sem, capsize=5)\n",
    "plt.bar(x-2.8, ms_zo_objSemCong_s2incong_CO_RT, width, color='lightblue', label='misscaled,zo,objSemCong, s2incong', yerr=ms_zo_objSemCong_s2incong_CO_RT_sem, capsize=5, hatch='.')\n",
    "\n",
    "plt.bar(x-2.6, ms_zi_objSemCong_s2cong_CO_RT, width, color='lightgreen', label='misscaled,zi,objSemCong, s2cong', yerr=ms_zi_objSemCong_s2cong_CO_RT_sem, capsize=5)\n",
    "plt.bar(x-2.4, ms_zi_objSemCong_s2incong_CO_RT, width, color='lightgreen', label='misscaled,zi,objSemCong, s2incong', yerr=ms_zi_objSemCong_s2incong_CO_RT_sem, capsize=5, hatch='.')\n",
    "\n",
    "plt.bar(x-2.2, ms_zo_objSemIncong_s2cong_CO_RT, width, color='paleturquoise', label='misscaled,zo,objSemIncong, s2cong', yerr=ms_zo_objSemIncong_s2cong_CO_RT_sem, capsize=5)\n",
    "plt.bar(x-2, ms_zo_objSemIncong_s2incong_CO_RT, width, color='paleturquoise', label='misscaled,zo,objSemIncong, s2incong', yerr=ms_zo_objSemIncong_s2incong_CO_RT_sem, capsize=5, hatch='.')\n",
    "\n",
    "plt.bar(x-1.8, ms_zi_objSemIncong_s2cong_CO_RT, width, color='greenyellow', label='misscaled,zi,objSemIncong, s2cong', yerr=ms_zi_objSemIncong_s2cong_CO_RT_sem, capsize=5)\n",
    "plt.bar(x-1.6, ms_zi_objSemIncong_s2incong_CO_RT, width, color='greenyellow', label='misscaled,zi,objSemIncong, s2incong', yerr=ms_zi_objSemIncong_s2incong_CO_RT_sem, capsize=5, hatch='.')\n",
    "\n",
    "\n",
    "\n",
    "plt.bar(x-1.4, s_zo_objSemCong_s2cong_CO_RT, width, color='orange', label='scaled,zo,objSemCong, s2cong', yerr=s_zo_objSemCong_s2cong_CO_RT_sem, capsize=5)\n",
    "plt.bar(x-1.2, s_zo_objSemCong_s2incong_CO_RT, width, color='orange', label='scaled,zo,objSemCong, s2incong', yerr=s_zo_objSemCong_s2incong_CO_RT_sem, capsize=5, hatch='.')\n",
    "\n",
    "plt.bar(x-1, s_zi_objSemCong_s2cong_CO_RT, width, color='palevioletred', label='scaled,zi,objSemCong, s2cong', yerr=s_zi_objSemCong_s2cong_CO_RT_sem, capsize=5)\n",
    "plt.bar(x-0.8, s_zi_objSemCong_s2incong_CO_RT, width, color='palevioletred', label='scaled,zi,objSemCong, s2incong', yerr=s_zi_objSemCong_s2incong_CO_RT_sem, capsize=5, hatch='.')\n",
    "\n",
    "plt.bar(x-0.6, s_zo_objSemIncong_s2cong_CO_RT, width, color='magenta', label='scaled,zo,objSemIncong, s2cong', yerr=s_zo_objSemIncong_s2cong_CO_RT_sem, capsize=5)\n",
    "plt.bar(x-0.4, s_zo_objSemIncong_s2incong_CO_RT, width, color='magenta', label='scaled,zo,objSemIncong, s2incong', yerr=s_zo_objSemIncong_s2incong_CO_RT_sem, capsize=5, hatch='.')\n",
    "\n",
    "plt.bar(x-0.2, s_zi_objSemIncong_s2cong_CO_RT, width, color='coral', label='scaled,zi,objSemIncong, s2cong', yerr=s_zi_objSemIncong_s2cong_CO_RT_sem, capsize=5)\n",
    "plt.bar(x, s_zi_objSemIncong_s2incong_CO_RT, width, color='coral', label='scaled,zi,objSemIncong, s2incong', yerr=s_zi_objSemIncong_s2incong_CO_RT_sem, capsize=5, hatch='.')\n",
    "\n",
    "\n",
    "#                                                  Misscaled                                                       Scaled\n",
    "#                                      zo                             zi                             zo                             zi\n",
    "# RT_objSemCong_s2cong =   [ms_zo_objSemCong_s2cong_CO_RT,   ms_zi_objSemCong_s2cong_CO_RT,   s_zo_objSemCong_s2cong_CO_RT,    s_zi_objSemCong_s2cong_CO_RT]\n",
    "# yerr_RT_objSemCong_s2cong =  [ms_zo_objSemCong_s2cong_CO_RT_sem,   ms_zi_objSemCong_s2cong_CO_RT_sem,   s_zo_objSemCong_s2cong_CO_RT_sem,    s_zi_objSemCong_s2cong_CO_RT_sem]\n",
    "\n",
    "# RT_objSemCong_s2incong = [ms_zo_objSemCong_s2incong_CO_RT,   ms_zi_objSemCong_s2incong_CO_RT,   s_zo_objSemCong_s2incong_CO_RT,    s_zi_objSemCong_s2incong_CO_RT]\n",
    "# yerr_RT_objSemCong_s2incong = [ms_zo_objSemCong_s2incong_CO_RT_sem,   ms_zi_objSemCong_s2incong_CO_RT_sem,   s_zo_objSemCong_s2incong_CO_RT_sem,    s_zi_objSemCong_s2incong_CO_RT_sem]\n",
    "\n",
    "\n",
    "# RT_objSemIncong_s2cong =   [ms_zo_objSemIncong_s2cong_CO_RT,   ms_zi_objSemIncong_s2cong_CO_RT,   s_zo_objSemIncong_s2cong_CO_RT,    s_zi_objSemIncong_s2cong_CO_RT]\n",
    "# yerr_RT_objSemIncong_s2cong =  [ms_zo_objSemIncong_s2cong_CO_RT_sem,   ms_zi_objSemIncong_s2cong_CO_RT_sem,   s_zo_objSemIncong_s2cong_CO_RT_sem,    s_zi_objSemIncong_s2cong_CO_RT_sem]\n",
    "\n",
    "# RT_objSemIncong_s2incong = [ms_zo_objSemIncong_s2incong_CO_RT,   ms_zi_objSemIncong_s2incong_CO_RT,   s_zo_objSemIncong_s2incong_CO_RT,    s_zi_objSemIncong_s2incong_CO_RT]\n",
    "# yerr_RT_objSemIncong_s2incong = [ms_zo_objSemIncong_s2incong_CO_RT_sem,   ms_zi_objSemIncong_s2incong_CO_RT_sem,   s_zo_objSemIncong_s2incong_CO_RT_sem,    s_zi_objSemIncong_s2incong_CO_RT_sem]\n",
    "\n",
    "\n",
    "\n",
    "\n",
    "\n",
    "# plot data in grouped manner of bar type\n",
    "# plt.bar(x-0.6, RT_objSemCong_s2cong, width, color='darkblue', label='Object-Scene1 Semantic Congruency; Scene1-Scene2 Semantic Congruency', yerr=yerr_RT_objSemCong_s2cong, capsize=5)\n",
    "# plt.bar(x-0.4, RT_objSemCong_s2incong, width, color='lightblue', label='Object-Scene1 Semantic Congruency; Scene1-Scene2 Semantic Incongruency', yerr=yerr_RT_objSemCong_s2incong, capsize=5)\n",
    "\n",
    "# plt.bar(x-0.2, RT_objSemIncong_s2cong, width, color='darkgreen', label='Object-Scene1 Semantic Incongruency; Scene1-Scene2 Semantic Congruency', yerr=yerr_RT_objSemIncong_s2cong, capsize=5)\n",
    "# plt.bar(x, RT_objSemIncong_s2incong, width, color='lightgreen', label='Object-Scene1 Semantic Incongruency; Scene1-Scene2 Semantic Incongruency', yerr=yerr_RT_objSemIncong_s2incong, capsize=5)\n",
    "\n",
    "\n",
    "# plt.xticks(x, ['Misscaled zo','Misscaled zi', 'Canonical zo', 'Canonical zi'], fontsize='15')\n",
    "\n",
    "\n",
    "\n",
    "plt.ylim(600,1100)\n",
    "# plt.yticks(np.arange(0.4, 1.1, 0.1))\n",
    "plt.yticks(fontsize=20) \n",
    "plt.ylabel(\"RT (ms)\", fontsize=25)\n",
    "plt.xticks([])\n",
    "# legend = ax.legend(loc='upper center', shadow=True, fontsize=20)\n",
    "# legend.get_frame().set_facecolor('white')\n",
    "plt.show()\n"
   ]
  },
  {
   "cell_type": "code",
   "execution_count": 58,
   "metadata": {},
   "outputs": [
    {
     "data": {
      "image/png": "[encoded data removed]",
      "text/plain": [
       "<Figure size 576x576 with 1 Axes>"
      ]
     },
     "metadata": {
      "needs_background": "light"
     },
     "output_type": "display_data"
    }
   ],
   "source": [
    "plt.figure(figsize=[8,8])\n",
    "x = np.arange(2)\n",
    "\n",
    "#                                   zo                          zi\n",
    "RT_scene2SemCong =   [zo_scene2SemCong_RT, zi_scene2SemCong_RT]\n",
    "RT_scene2SemCong_sem = [zo_scene2SemCong_RT_sem, zi_scene2SemCong_RT_sem]\n",
    "\n",
    "RT_scene2SemIncong = [zo_scene2SemIncong_RT, zi_scene2SemIncong_RT]\n",
    "RT_scene2SemIncong_sem = [zo_scene2SemIncong_RT_sem, zi_scene2SemIncong_RT_sem]\n",
    "\n",
    "width = 0.2\n",
    "\n",
    "# plt.ylim(900,1200)\n",
    "  \n",
    "# plot data in grouped manner of bar type\n",
    "plt.bar(x-0.2, RT_scene2SemCong, width, color='cyan', label='Scene 2 Semantic Congruency', yerr=RT_scene2SemCong_sem, capsize=5)\n",
    "plt.bar(x, RT_scene2SemIncong, width, color='royalblue', label='Scene 2 Semantic Incongruency', yerr=RT_scene2SemIncong_sem, capsize=5)\n",
    "plt.xticks(x, ['zo', 'zi'], fontsize='12')\n",
    "plt.xlabel(\"Zoom level\", fontsize=15)\n",
    "plt.ylabel(\"Average RT (ms)\", fontsize=15)\n",
    "plt.legend(loc=2, fontsize=10)\n",
    "plt.show()"
   ]
  },
  {
   "cell_type": "code",
   "execution_count": 59,
   "metadata": {
    "collapsed": true,
    "jupyter": {
     "outputs_hidden": true,
     "source_hidden": true
    }
   },
   "outputs": [
    {
     "data": {
      "image/png": "[encoded data removed]",
      "text/plain": [
       "<Figure size 576x576 with 1 Axes>"
      ]
     },
     "metadata": {
      "needs_background": "light"
     },
     "output_type": "display_data"
    }
   ],
   "source": [
    "plt.figure(figsize=[8,8])\n",
    "x = np.arange(2)\n",
    "\n",
    "#                                   zo                          zi\n",
    "RT_scene2SizeCong =   [zo_scene2SizeCong_RT, zi_scene2SizeCong_RT]\n",
    "RT_scene2SizeCong_sem = [zo_scene2SizeCong_RT_sem, zi_scene2SizeCong_RT_sem]\n",
    "\n",
    "RT_scene2SizeIncong = [zo_scene2SizeIncong_RT, zi_scene2SizeIncong_RT]\n",
    "RT_scene2SizeIncong_sem = [zo_scene2SizeIncong_RT_sem, zi_scene2SizeIncong_RT_sem]\n",
    "\n",
    "width = 0.2\n",
    "  \n",
    "# plot data in grouped manner of bar type\n",
    "plt.bar(x-0.2, RT_scene2SizeCong, width, color='pink', label='Scene 2 Size Congruency', yerr=RT_scene2SizeCong_sem, capsize=5)\n",
    "plt.bar(x, RT_scene2SizeIncong, width, color='hotpink', label='Scene 2 Size Incongruency', yerr=RT_scene2SizeIncong_sem, capsize=5)\n",
    "plt.xticks(x, ['zo', 'zi'], fontsize='12')\n",
    "plt.xlabel(\"Zoom level\", fontsize=15)\n",
    "plt.ylabel(\"Percent Correct\", fontsize=15)\n",
    "plt.legend(loc=1, fontsize=10)\n",
    "plt.show()"
   ]
  },
  {
   "cell_type": "code",
   "execution_count": 158,
   "metadata": {},
   "outputs": [],
   "source": [
    "RTs_correctOnly = list(final_data_correctOnly['RT']) "
   ]
  },
  {
   "cell_type": "code",
   "execution_count": 173,
   "metadata": {},
   "outputs": [
    {
     "data": {
      "image/png": "[encoded data removed]",
      "text/plain": [
       "<Figure size 576x576 with 1 Axes>"
      ]
     },
     "metadata": {
      "needs_background": "light"
     },
     "output_type": "display_data"
    }
   ],
   "source": [
    "\n",
    "fig, ax = plt.subplots(figsize=[8,8])\n",
    "ax.spines['right'].set_visible(False)\n",
    "\n",
    "ax.spines['top'].set_visible(False)\n",
    "\n",
    "\n",
    "\n",
    "for axis in ['bottom','left']:\n",
    "\n",
    "    ax.spines[axis].set_linewidth(2.3)\n",
    "\n",
    "plt.hist(np.array(RTs_correctOnly), color='orange', bins=20)\n",
    "plt.title('RT Distribution: Correct Trials', fontsize=20)\n",
    "plt.xlabel('RT (ms)', fontsize=15)\n",
    "plt.ylabel('Number of trials', fontsize=15)\n",
    "plt.xticks(fontsize=15)\n",
    "plt.yticks(fontsize=15)\n",
    "plt.show()"
   ]
  },
  {
   "cell_type": "code",
   "execution_count": null,
   "metadata": {},
   "outputs": [],
   "source": [
    "\n"
   ]
  },
  {
   "cell_type": "code",
   "execution_count": 285,
   "metadata": {},
   "outputs": [],
   "source": []
  },
  {
   "cell_type": "code",
   "execution_count": null,
   "metadata": {},
   "outputs": [],
   "source": []
  },
  {
   "cell_type": "code",
   "execution_count": 300,
   "metadata": {},
   "outputs": [],
   "source": []
  },
  {
   "cell_type": "code",
   "execution_count": null,
   "metadata": {},
   "outputs": [],
   "source": []
  },
  {
   "cell_type": "code",
   "execution_count": null,
   "metadata": {},
   "outputs": [],
   "source": []
  },
  {
   "cell_type": "code",
   "execution_count": null,
   "metadata": {},
   "outputs": [],
   "source": []
  }
 ],
 "metadata": {
  "kernelspec": {
   "display_name": "Python 3",
   "language": "python",
   "name": "python3"
  },
  "language_info": {
   "codemirror_mode": {
    "name": "ipython",
    "version": 3
   },
   "file_extension": ".py",
   "mimetype": "text/x-python",
   "name": "python",
   "nbconvert_exporter": "python",
   "pygments_lexer": "ipython3",
   "version": "3.7.6"
  }
 },
 "nbformat": 4,
 "nbformat_minor": 4
}
