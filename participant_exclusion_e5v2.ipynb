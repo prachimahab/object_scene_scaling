{
 "cells": [
  {
   "cell_type": "markdown",
   "metadata": {},
   "source": [
    "# Participant Exclusion and Replacement Pipeline\n",
    "\n",
    "1. The counterbalancing.csv contains every json that needs to be sampled for the discrimination and verbal judgement experiment (includes all durations) \n",
    "    - The row number for each sequence corresponds to the url fragment used in the variables file uploaded to Mechanical Turk \n",
    "    - This file does not change, the variables files is updated to resample sequences that get excluded\n",
    "2. First need to match up reported participant worker IDs to worker IDs reported in batch data \n",
    "    - All data files downloaded from the server need to be matched to a worker ID in batch data\n",
    "    - Data files that do not have a matched worker ID are moved to a seperate folder and are not analyzed \n",
    "3. Participant exclusion criteron are pre-registered on OSF (https://osf.io/28vjd) - if the participant is excluded, the counterbalanced sequence needs to be replaced in the variables file \n",
    "4. All participants who have completed need to be excluded from completing future HITs (exclude_workers.csv)"
   ]
  },
  {
   "cell_type": "code",
   "execution_count": 59,
   "metadata": {},
   "outputs": [],
   "source": [
    "import os\n",
    "import json \n",
    "import pandas as pd \n",
    "import numpy as np \n",
    "import math\n",
    "import matplotlib.pyplot as plt"
   ]
  },
  {
   "cell_type": "code",
   "execution_count": 60,
   "metadata": {},
   "outputs": [],
   "source": [
    "def combineCSVs(datafolder):\n",
    "    \"\"\"\n",
    "    Combine all participant data into one pandas df\n",
    "    OR \n",
    "    Create df for single participant file \n",
    "    \"\"\"\n",
    "    \n",
    "    exclude = []\n",
    "    \n",
    "    #checks if path is a file\n",
    "    isFile = os.path.isfile(datafolder)\n",
    "\n",
    "    #checks if path is a directory\n",
    "    \n",
    "    isDirectory = os.path.isdir(datafolder)\n",
    "    \n",
    "    if isDirectory == True:\n",
    "        data = []\n",
    "        for filename in os.listdir(datafolder):\n",
    "            if 'csv' in filename:\n",
    "                path = datafolder + \"/\" + filename\n",
    "                df = pd.read_csv(path, index_col=None, header=0)\n",
    "                \n",
    "                # do NOT include subject IDs that have been flagged \n",
    "                subjID = df.subjID.unique()[0]\n",
    "                if subjID not in exclude:\n",
    "                    data.append(df)\n",
    "\n",
    "                \n",
    "        input_frame = pd.concat(data, axis=0, ignore_index=True)\n",
    "        \n",
    "    if isFile == True:\n",
    "        if 'csv' in datafolder:\n",
    "            input_frame = pd.read_csv(datafolder, index_col=None, header=0)\n",
    "    \n",
    "    print('Number of participants before cleaning: ', len(input_frame.subjID.unique()))\n",
    "\n",
    " \n",
    "    return input_frame"
   ]
  },
  {
   "cell_type": "code",
   "execution_count": 61,
   "metadata": {},
   "outputs": [],
   "source": [
    "# data_path = '/Users/prachi/Documents/object_scene_scaling_data/pilot2'\n",
    "\n",
    "data_path = '/Users/prachimahableshwarkar/Documents/GW/FacialAge/FacialAge_MTurk/OSS_MTurk/data'"
   ]
  },
  {
   "cell_type": "code",
   "execution_count": 62,
   "metadata": {},
   "outputs": [
    {
     "name": "stdout",
     "output_type": "stream",
     "text": [
      "Number of participants before cleaning:  271\n"
     ]
    }
   ],
   "source": [
    "input_data = combineCSVs(data_path)"
   ]
  },
  {
   "cell_type": "code",
   "execution_count": null,
   "metadata": {},
   "outputs": [],
   "source": []
  },
  {
   "cell_type": "code",
   "execution_count": 63,
   "metadata": {},
   "outputs": [],
   "source": [
    "num_trials = 24"
   ]
  },
  {
   "cell_type": "code",
   "execution_count": 64,
   "metadata": {},
   "outputs": [],
   "source": [
    "def cleanbyPracticeTries(df, num_allowed_tries):\n",
    "    all_subjIDs = df.subjID.unique()\n",
    "    \n",
    "    remove = []\n",
    "    df2_list = []\n",
    "    prac_too_many_dist = []\n",
    "    for subj in all_subjIDs:\n",
    "        count = 0\n",
    "        subj_df = df.loc[df['subjID'] == subj]\n",
    "        cleaned_subj_df = subj_df.copy(deep=True) # prevent setting with copy warning \n",
    "        \n",
    "        subj_num_practice_tries = cleaned_subj_df.pracTries.unique()[0]\n",
    "        \n",
    "        if subj_num_practice_tries > num_allowed_tries:\n",
    "            prac_too_many_dist.append(subj_num_practice_tries)\n",
    "            remove.append(subj)\n",
    "        else:  \n",
    "            df2_list.append(cleaned_subj_df)\n",
    "    \n",
    "    df2 = pd.concat(df2_list)\n",
    "            \n",
    "    print('Number of participants with more than ' + str(num_allowed_tries) + ' practice tries:', len(remove))\n",
    "    \n",
    "    return df2, prac_too_many_dist\n",
    "    "
   ]
  },
  {
   "cell_type": "code",
   "execution_count": 65,
   "metadata": {},
   "outputs": [
    {
     "name": "stdout",
     "output_type": "stream",
     "text": [
      "Number of participants with more than 3 practice tries: 9\n"
     ]
    }
   ],
   "source": [
    "pracTries_cleaned_data, prac_dist = cleanbyPracticeTries(input_data, 3)"
   ]
  },
  {
   "cell_type": "code",
   "execution_count": 66,
   "metadata": {},
   "outputs": [
    {
     "data": {
      "text/plain": [
       "262"
      ]
     },
     "execution_count": 66,
     "metadata": {},
     "output_type": "execute_result"
    }
   ],
   "source": [
    "len(pracTries_cleaned_data.subjID.unique())"
   ]
  },
  {
   "cell_type": "code",
   "execution_count": 67,
   "metadata": {},
   "outputs": [],
   "source": [
    "def Accuracy_Cleaning(df, accuracy_threshold, num_trials):\n",
    "    \"\"\"    \n",
    "    Remove participants with overall accuracy below the accuracy threshold (e.g. 0.7)\n",
    "    \n",
    "    Returns:\n",
    "        data of participants that passed the accuracy threshold \n",
    "        list of the number of correct trials each participant got\n",
    "    \"\"\"\n",
    "    #List unique values in the df['subjID'] column\n",
    "    all_subjIDs = df.subjID.unique()\n",
    "    \n",
    "    remove = []\n",
    "    df2_list = []\n",
    "    list_trials_correct = []\n",
    "    # number of participants where exclusion is because all responses were 'none'\n",
    "    c = 0\n",
    "    \n",
    "    for subj in all_subjIDs:\n",
    "        keypresses = []\n",
    "\n",
    "        subj_df = df.loc[df['subjID'] == subj]\n",
    "        cleaned_subj_df = subj_df.copy(deep=True) # prevent setting with copy warning \n",
    "        \n",
    "        subj_num_correct_trials = 0\n",
    "        \n",
    "        acc_column = np.array(list(subj_df['accuracy']))\n",
    "        sum_acc = np.sum(acc_column)\n",
    "        \n",
    "        \n",
    "        for idx, row in subj_df.iterrows():\n",
    "            trial_acc = row['accuracy']\n",
    "            if trial_acc == 1:\n",
    "                subj_num_correct_trials += 1\n",
    "            else:\n",
    "                keypresses.append(row['keyPress'])\n",
    "        \n",
    "        subj_acc = sum_acc/num_trials\n",
    "#         print(acc_column)\n",
    "#         print(subj, sum_acc, subj_acc)\n",
    "                \n",
    "        # minimum number of trials correct the participant must have to be included\n",
    "        if subj_acc < accuracy_threshold:\n",
    "#             print(subj_acc, subj)\n",
    "            remove.append(subj)\n",
    "#             print(len([x for x in keypresses if x == 'none']))\n",
    "            if len([x for x in keypresses if x == 'none']) >= 4:\n",
    "                c += 1\n",
    "            \n",
    "#         else:\n",
    "#             print(subj_acc)\n",
    "        \n",
    "        list_trials_correct.append(subj_num_correct_trials)\n",
    "        \n",
    "        df2_list.append(cleaned_subj_df)\n",
    "    \n",
    "    df2 = pd.concat(df2_list)\n",
    "    \n",
    "    print(\"Number of Participants with accuracy below 70%: \", len(remove))\n",
    "    \n",
    "    for index, row in df2.iterrows():\n",
    "        if row['subjID'] in remove:\n",
    "            df2.drop(index, inplace=True)\n",
    "                \n",
    "    print('Number of participants that did not respond for 4 or more trials:', c)\n",
    "    \n",
    "    print('Number of participants left: ', len(df2.subjID.unique()))\n",
    "                \n",
    "    return df2, list_trials_correct, keypresses"
   ]
  },
  {
   "cell_type": "code",
   "execution_count": null,
   "metadata": {},
   "outputs": [],
   "source": []
  },
  {
   "cell_type": "code",
   "execution_count": 68,
   "metadata": {},
   "outputs": [
    {
     "name": "stdout",
     "output_type": "stream",
     "text": [
      "Number of Participants with accuracy below 70%:  26\n",
      "Number of participants that did not respond for 4 or more trials: 4\n",
      "Number of participants left:  236\n"
     ]
    }
   ],
   "source": [
    "Accuracy_cleaned_data, correct_trials_distribution, keypresses = Accuracy_Cleaning(pracTries_cleaned_data, 0.7, num_trials)\n"
   ]
  },
  {
   "cell_type": "code",
   "execution_count": 69,
   "metadata": {},
   "outputs": [
    {
     "data": {
      "image/png": "[encoded data removed]",
      "text/plain": [
       "<Figure size 432x288 with 1 Axes>"
      ]
     },
     "metadata": {
      "needs_background": "light"
     },
     "output_type": "display_data"
    }
   ],
   "source": [
    "plt.hist(list(Accuracy_cleaned_data['RT']))\n",
    "plt.show()"
   ]
  },
  {
   "cell_type": "code",
   "execution_count": 70,
   "metadata": {},
   "outputs": [],
   "source": [
    "def RT_Cleaning(df, outlier_range, num_trials):\n",
    "    \"\"\"\n",
    "    Remove trials where trial RT is outside of the defined outlier range \n",
    "    \n",
    "    Returns:\n",
    "        dataframe with outlier RT trials removed\n",
    "        list of all RTs \n",
    "    \"\"\"\n",
    "    #List unique values in the df['subjID'] column\n",
    "    all_subjIDs = df.subjID.unique()\n",
    "    print(len(all_subjIDs))\n",
    "    \n",
    "    remove = []\n",
    "    df2_list = []\n",
    "    total_RT_outliers = 0\n",
    "    total = 0\n",
    "    list_trialRT = []\n",
    "    for subj in all_subjIDs:\n",
    "        count = 0\n",
    "        subj_df = df.loc[df['subjID'] == subj]\n",
    "        cleaned_subj_df = subj_df.copy(deep=True) # prevent setting with copy warning \n",
    "\n",
    "        for idx, row in subj_df.iterrows():\n",
    "            total += 1\n",
    "            RT = row[\"RT\"]\n",
    "            list_trialRT.append(RT)\n",
    "            if RT < outlier_range[0]: # outlier\n",
    "                cleaned_subj_df.drop([idx], inplace=True)\n",
    "                count += 1\n",
    "                total_RT_outliers += 1\n",
    "            if RT > outlier_range[1]:\n",
    "                cleaned_subj_df.drop([idx], inplace=True)\n",
    "                count += 1\n",
    "                total_RT_outliers += 1\n",
    "        \n",
    "        df2_list.append(cleaned_subj_df)\n",
    "    \n",
    "    df2 = pd.concat(df2_list)\n",
    "    print(len(df2.subjID.unique()))\n",
    "                \n",
    "    return df2, list_trialRT"
   ]
  },
  {
   "cell_type": "code",
   "execution_count": 71,
   "metadata": {},
   "outputs": [
    {
     "name": "stdout",
     "output_type": "stream",
     "text": [
      "236\n",
      "236\n"
     ]
    }
   ],
   "source": [
    "RT_cleaned_data, trialRTs_distribution = RT_Cleaning(Accuracy_cleaned_data, [250, 5000], num_trials)\n"
   ]
  },
  {
   "cell_type": "code",
   "execution_count": 72,
   "metadata": {},
   "outputs": [
    {
     "data": {
      "image/png": "[encoded data removed]",
      "text/plain": [
       "<Figure size 432x288 with 1 Axes>"
      ]
     },
     "metadata": {
      "needs_background": "light"
     },
     "output_type": "display_data"
    }
   ],
   "source": [
    "plt.hist(trialRTs_distribution)\n",
    "plt.show()"
   ]
  },
  {
   "cell_type": "code",
   "execution_count": 73,
   "metadata": {},
   "outputs": [],
   "source": [
    "all_subjIDs = RT_cleaned_data.subjID.unique()\n",
    "dist = []\n",
    "for subj in all_subjIDs:\n",
    "    count = 0\n",
    "    subj_df = RT_cleaned_data.loc[RT_cleaned_data['subjID'] == subj]\n",
    "    dist.append(len(subj_df))\n",
    "#     print(len(subj_df))"
   ]
  },
  {
   "cell_type": "code",
   "execution_count": 74,
   "metadata": {},
   "outputs": [
    {
     "data": {
      "text/plain": [
       "228"
      ]
     },
     "execution_count": 74,
     "metadata": {},
     "output_type": "execute_result"
    }
   ],
   "source": [
    "len([d for d in dist if d >11])"
   ]
  },
  {
   "cell_type": "code",
   "execution_count": 75,
   "metadata": {},
   "outputs": [],
   "source": [
    "# pracTries_cleaned_data.subjID.unique(), RT_cleaned_data.subjID.unique()"
   ]
  },
  {
   "cell_type": "code",
   "execution_count": 76,
   "metadata": {},
   "outputs": [],
   "source": [
    "def finalTrialCountCheck(df, num_trials, min_trials):\n",
    "    \"\"\"\n",
    "    If more then 10% of a participants data is missing, remove the participant\n",
    "    \"\"\"\n",
    "    #List unique values in the df['subjID'] column\n",
    "    all_subjIDs = df.subjID.unique()\n",
    "    \n",
    "    remove = []\n",
    "    for subj in all_subjIDs:\n",
    "        subj_df = df.loc[df['subjID'] == subj]\n",
    "        count_trials = len(subj_df.index)\n",
    "        if count_trials < min_trials:\n",
    "            remove.append(subj)\n",
    "            \n",
    "#         threshold_trials_remaining = num_trials - math.floor(num_trials * 0.1)\n",
    "\n",
    "#         if count_trials <= threshold_trials_remaining:\n",
    "#             remove.append(subj)\n",
    "            \n",
    "    print(\"Number of Participants with >= 10% trials removed: \", len(remove))\n",
    "            \n",
    "    for subj in remove:\n",
    "        df.drop(df[df['subjID'] == subj].index, inplace = True) \n",
    "                    \n",
    "    print(\"Number of participants left: \",len(df.subjID.unique()))\n",
    "    return df"
   ]
  },
  {
   "cell_type": "code",
   "execution_count": 77,
   "metadata": {},
   "outputs": [
    {
     "name": "stdout",
     "output_type": "stream",
     "text": [
      "Number of Participants with >= 10% trials removed:  45\n",
      "Number of participants left:  191\n"
     ]
    }
   ],
   "source": [
    "finalTrialCount_data = finalTrialCountCheck(RT_cleaned_data, num_trials, 22)"
   ]
  },
  {
   "cell_type": "code",
   "execution_count": 78,
   "metadata": {},
   "outputs": [
    {
     "data": {
      "text/plain": [
       "191"
      ]
     },
     "execution_count": 78,
     "metadata": {},
     "output_type": "execute_result"
    }
   ],
   "source": [
    "raw_final_data = finalTrialCount_data.copy(deep=True)\n",
    "len(raw_final_data.subjID.unique())"
   ]
  },
  {
   "cell_type": "code",
   "execution_count": 79,
   "metadata": {},
   "outputs": [
    {
     "data": {
      "text/plain": [
       "{'jsons/s22.json': 8,\n",
       " 'jsons/s13.json': 8,\n",
       " 'jsons/s14.json': 8,\n",
       " 'jsons/s3.json': 8,\n",
       " 'jsons/s19.json': 8,\n",
       " 'jsons/s7.json': 8,\n",
       " 'jsons/s2.json': 8,\n",
       " 'jsons/s1.json': 8,\n",
       " 'jsons/s10.json': 8,\n",
       " 'jsons/s12.json': 8,\n",
       " 'jsons/s23.json': 8,\n",
       " 'jsons/s9.json': 8,\n",
       " 'jsons/s6.json': 8,\n",
       " 'jsons/s17.json': 8,\n",
       " 'jsons/s18.json': 8,\n",
       " 'jsons/s11.json': 8,\n",
       " 'jsons/s4.json': 8,\n",
       " 'jsons/s16.json': 8,\n",
       " 'jsons/s8.json': 8,\n",
       " 'jsons/s0.json': 8,\n",
       " 'jsons/s21.json': 8,\n",
       " 'jsons/s5.json': 7,\n",
       " 'jsons/s15.json': 8,\n",
       " 'jsons/s20.json': 8}"
      ]
     },
     "execution_count": 79,
     "metadata": {},
     "output_type": "execute_result"
    }
   ],
   "source": [
    "seq_count = {}\n",
    "\n",
    "incl_subjs = raw_final_data.subjID.unique()\n",
    "\n",
    "for subj in incl_subjs:\n",
    "    subjdf = raw_final_data.loc[raw_final_data['subjID'] == subj]\n",
    "    subj_seq = subjdf.sequenceName.unique()[0]\n",
    "    if subj_seq not in seq_count.keys():\n",
    "        seq_count[subj_seq] = 1\n",
    "    else:\n",
    "        seq_count[subj_seq] += 1\n",
    "len(seq_count.keys())\n",
    "seq_count"
   ]
  },
  {
   "cell_type": "code",
   "execution_count": 81,
   "metadata": {},
   "outputs": [
    {
     "data": {
      "text/plain": [
       "True"
      ]
     },
     "execution_count": 81,
     "metadata": {},
     "output_type": "execute_result"
    }
   ],
   "source": [
    "sequences_to_replace = []\n",
    "\n",
    "for seq in seq_count:\n",
    "    if seq_count[seq] != 8:\n",
    "        num_needed = 8-seq_count[seq]\n",
    "        for i in range(num_needed):\n",
    "            sequences_to_replace.append(seq)\n",
    "\n",
    "len(sequences_to_replace) + len(raw_final_data.subjID.unique()) == 192"
   ]
  },
  {
   "cell_type": "code",
   "execution_count": 82,
   "metadata": {},
   "outputs": [],
   "source": [
    "# sequences_to_replace"
   ]
  },
  {
   "cell_type": "code",
   "execution_count": null,
   "metadata": {},
   "outputs": [],
   "source": []
  },
  {
   "cell_type": "code",
   "execution_count": 83,
   "metadata": {},
   "outputs": [],
   "source": [
    "counterbalancing_path = '/Users/prachimahableshwarkar/Documents/GW/FacialAge/FacialAge_MTurk/OSS_MTurk/counterbalancing.csv'\n",
    "counterbalancing_df = pd.read_csv(counterbalancing_path)\n",
    "# counterbalancing_df"
   ]
  },
  {
   "cell_type": "code",
   "execution_count": 84,
   "metadata": {},
   "outputs": [
    {
     "data": {
      "text/plain": [
       "('jsons/s5.json', 1)"
      ]
     },
     "execution_count": 84,
     "metadata": {},
     "output_type": "execute_result"
    }
   ],
   "source": [
    "sequences_to_replace[0], len(sequences_to_replace)"
   ]
  },
  {
   "cell_type": "code",
   "execution_count": 85,
   "metadata": {},
   "outputs": [],
   "source": [
    "url_fragments = []\n",
    "for sequence in sequences_to_replace:\n",
    "    url_fragments.append(counterbalancing_df.index[counterbalancing_df['Path']==sequence][0] + 1)"
   ]
  },
  {
   "cell_type": "code",
   "execution_count": 86,
   "metadata": {},
   "outputs": [
    {
     "data": {
      "text/plain": [
       "6"
      ]
     },
     "execution_count": 86,
     "metadata": {},
     "output_type": "execute_result"
    }
   ],
   "source": [
    "url_fragments[0]"
   ]
  },
  {
   "cell_type": "code",
   "execution_count": 88,
   "metadata": {},
   "outputs": [],
   "source": [
    "# number for the NEXT batch \n",
    "batch = 5"
   ]
  },
  {
   "cell_type": "code",
   "execution_count": 89,
   "metadata": {},
   "outputs": [],
   "source": [
    "dest_variables_csv = '/Users/prachimahableshwarkar/Documents/GW/FacialAge/FacialAge_MTurk/OSS_MTurk/batch_variables/'\n",
    "\n",
    "base_url = 'http://54.235.29.9/FacialAge/OSS_MTurk/OSS_HTML_e5v2.html#'\n",
    "\n",
    "variables = {'experiment_url': []}\n",
    "\n",
    "for fragment in url_fragments:\n",
    "     variables['experiment_url'].append(base_url + str(fragment))\n",
    "\n",
    "variables_df = pd.DataFrame(variables)"
   ]
  },
  {
   "cell_type": "code",
   "execution_count": 90,
   "metadata": {},
   "outputs": [
    {
     "data": {
      "text/plain": [
       "'http://54.235.29.9/FacialAge/OSS_MTurk/OSS_HTML_e5v2.html#6'"
      ]
     },
     "execution_count": 90,
     "metadata": {},
     "output_type": "execute_result"
    }
   ],
   "source": [
    "variables_df['experiment_url'][0]"
   ]
  },
  {
   "cell_type": "code",
   "execution_count": 91,
   "metadata": {},
   "outputs": [],
   "source": [
    "variables_df.to_csv(dest_variables_csv + 'e5v2Final_b' + str(batch) + '.csv', index=False)\n"
   ]
  },
  {
   "cell_type": "code",
   "execution_count": null,
   "metadata": {},
   "outputs": [],
   "source": []
  }
 ],
 "metadata": {
  "kernelspec": {
   "display_name": "Python 3",
   "language": "python",
   "name": "python3"
  },
  "language_info": {
   "codemirror_mode": {
    "name": "ipython",
    "version": 3
   },
   "file_extension": ".py",
   "mimetype": "text/x-python",
   "name": "python",
   "nbconvert_exporter": "python",
   "pygments_lexer": "ipython3",
   "version": "3.7.4"
  }
 },
 "nbformat": 4,
 "nbformat_minor": 4
}
