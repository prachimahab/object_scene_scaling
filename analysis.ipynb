{
 "cells": [
  {
   "cell_type": "markdown",
   "metadata": {},
   "source": [
    "# Object-Scene Scaling Analysis"
   ]
  },
  {
   "cell_type": "code",
   "execution_count": 119,
   "metadata": {},
   "outputs": [],
   "source": [
    "import numpy as np\n",
    "import os\n",
    "import pandas as pd\n",
    "import math\n",
    "import matplotlib.pyplot as plt\n",
    "from scipy.stats import sem\n"
   ]
  },
  {
   "cell_type": "code",
   "execution_count": null,
   "metadata": {},
   "outputs": [],
   "source": []
  },
  {
   "cell_type": "markdown",
   "metadata": {},
   "source": [
    "### Exclusion Criteria\n",
    " - Accuracy: 70 % (17/24 correct)\n",
    " - RT: Exclude trial if < 250 ms or > 2s\n",
    " - Remove participant if more than 10% of the data is removed (?) \n",
    "    "
   ]
  },
  {
   "cell_type": "markdown",
   "metadata": {},
   "source": [
    "### Pilot Analysis Plots\n",
    "\n",
    "1. Overall Accuracy\n",
    "    - accuracy by scene category\n",
    "    - accuracy by zoom \n",
    "    - accuracy by zoom x match\n",
    "2. RT Distribution\n",
    "    - RT by scene category\n",
    "    - RT by zoom \n",
    "    - RT by zoom x match\n",
    "3. 2x3 ANOVA\n",
    " "
   ]
  },
  {
   "cell_type": "code",
   "execution_count": 120,
   "metadata": {},
   "outputs": [],
   "source": [
    "def combineCSVs(datafolder):\n",
    "    \"\"\"\n",
    "    Combine all participant data into one pandas df\n",
    "    OR \n",
    "    Create df for single participant file \n",
    "    \"\"\"\n",
    "    \n",
    "    exclude = []\n",
    "    \n",
    "    #checks if path is a file\n",
    "    isFile = os.path.isfile(datafolder)\n",
    "\n",
    "    #checks if path is a directory\n",
    "    \n",
    "    isDirectory = os.path.isdir(datafolder)\n",
    "    \n",
    "    if isDirectory == True:\n",
    "        data = []\n",
    "        for filename in os.listdir(datafolder):\n",
    "            if 'csv' in filename:\n",
    "                path = datafolder + \"/\" + filename\n",
    "                df = pd.read_csv(path, index_col=None, header=0)\n",
    "                \n",
    "                # do NOT include subject IDs that have been flagged \n",
    "                subjID = df.subjID.unique()[0]\n",
    "                if subjID not in exclude:\n",
    "                    data.append(df)\n",
    "\n",
    "        input_frame = pd.concat(data, axis=0, ignore_index=True)\n",
    "        \n",
    "    if isFile == True:\n",
    "        if 'csv' in datafolder:\n",
    "            input_frame = pd.read_csv(datafolder, index_col=None, header=0)\n",
    "    \n",
    "    print('Number of participants before cleaning: ', len(input_frame.subjID.unique()))\n",
    "\n",
    " \n",
    "    return input_frame"
   ]
  },
  {
   "cell_type": "code",
   "execution_count": 121,
   "metadata": {},
   "outputs": [],
   "source": [
    "# data_path = '/Users/prachi/Documents/object_scene_scaling_data/pilot2'\n",
    "\n",
    "data_path = '/Users/prachimahableshwarkar/Documents/GW/FacialAge/FacialAge_MTurk/OSS_MTurk/pilot_b3-9'"
   ]
  },
  {
   "cell_type": "code",
   "execution_count": 122,
   "metadata": {},
   "outputs": [
    {
     "name": "stdout",
     "output_type": "stream",
     "text": [
      "Number of participants before cleaning:  92\n"
     ]
    }
   ],
   "source": [
    "input_data = combineCSVs(data_path)"
   ]
  },
  {
   "cell_type": "code",
   "execution_count": 123,
   "metadata": {},
   "outputs": [],
   "source": [
    "# input_data"
   ]
  },
  {
   "cell_type": "code",
   "execution_count": 124,
   "metadata": {},
   "outputs": [],
   "source": [
    "num_trials = 24"
   ]
  },
  {
   "cell_type": "code",
   "execution_count": 125,
   "metadata": {},
   "outputs": [],
   "source": [
    "def cleanbyPracticeTries(df, num_allowed_tries):\n",
    "    all_subjIDs = df.subjID.unique()\n",
    "    \n",
    "    remove = []\n",
    "    df2_list = []\n",
    "    for subj in all_subjIDs:\n",
    "        count = 0\n",
    "        subj_df = df.loc[df['subjID'] == subj]\n",
    "        cleaned_subj_df = subj_df.copy(deep=True) # prevent setting with copy warning \n",
    "        \n",
    "        subj_num_practice_tries = cleaned_subj_df.pracTries.unique()[0]\n",
    "        \n",
    "        if subj_num_practice_tries > num_allowed_tries:\n",
    "            remove.append(subj)\n",
    "        else:  \n",
    "            df2_list.append(cleaned_subj_df)\n",
    "    \n",
    "    df2 = pd.concat(df2_list)\n",
    "            \n",
    "    print('Number of participants with more than ' + str(num_allowed_tries) + ' practice tries:', len(remove))\n",
    "    \n",
    "    return df2\n",
    "    "
   ]
  },
  {
   "cell_type": "code",
   "execution_count": 126,
   "metadata": {},
   "outputs": [
    {
     "name": "stdout",
     "output_type": "stream",
     "text": [
      "Number of participants with more than 3 practice tries: 21\n"
     ]
    }
   ],
   "source": [
    "pracTries_cleaned_data = cleanbyPracticeTries(input_data, 3)"
   ]
  },
  {
   "cell_type": "code",
   "execution_count": 127,
   "metadata": {},
   "outputs": [],
   "source": [
    "def RT_Cleaning(df, outlier_range, num_trials):\n",
    "    \"\"\"\n",
    "    Remove trials where trial RT is outside of the defined outlier range \n",
    "    \n",
    "    Remove participants who have more than 10% of their data removed\n",
    "    \n",
    "    Returns:\n",
    "        dataframe with outlier RT trials and outlier participants removed\n",
    "        list of all RTs \n",
    "    \"\"\"\n",
    "    #List unique values in the df['subjID'] column\n",
    "    all_subjIDs = df.subjID.unique()\n",
    "    \n",
    "    remove = []\n",
    "    df2_list = []\n",
    "    total_RT_outliers = 0\n",
    "    total = 0\n",
    "    list_trialRT = []\n",
    "    for subj in all_subjIDs:\n",
    "        count = 0\n",
    "        subj_df = df.loc[df['subjID'] == subj]\n",
    "        cleaned_subj_df = subj_df.copy(deep=True) # prevent setting with copy warning \n",
    "\n",
    "        for idx, row in subj_df.iterrows():\n",
    "            total += 1\n",
    "            RT = row[\"RT\"]\n",
    "            list_trialRT.append(RT)\n",
    "            if RT < outlier_range[0]: # outlier\n",
    "                cleaned_subj_df.drop([idx], inplace=True)\n",
    "                count += 1\n",
    "                total_RT_outliers += 1\n",
    "            if RT > outlier_range[1]:\n",
    "                cleaned_subj_df.drop([idx], inplace=True)\n",
    "                count += 1\n",
    "                total_RT_outliers += 1\n",
    "                \n",
    "#         threshold = math.floor(num_trials * 0.1)\n",
    "#         if count >= threshold:\n",
    "#             remove.append(subj)\n",
    "        \n",
    "        df2_list.append(cleaned_subj_df)\n",
    "    \n",
    "    df2 = pd.concat(df2_list)\n",
    "            \n",
    "#     print(\"Number of Participants with 10% or more trials outside their RT range: \", len(remove))\n",
    "#     print(\"Percent of RT trials outside the outlier range: \", total_RT_outliers/total)\n",
    "    \n",
    "#     for index, row in df2.iterrows():\n",
    "#         if row['subjID'] in remove:\n",
    "#             df2.drop(index, inplace=True)\n",
    "                \n",
    "    return df2, list_trialRT"
   ]
  },
  {
   "cell_type": "code",
   "execution_count": 128,
   "metadata": {},
   "outputs": [],
   "source": [
    "RT_cleaned_data, trialRTs_distribution = RT_Cleaning(pracTries_cleaned_data, [250, 2000], num_trials)\n"
   ]
  },
  {
   "cell_type": "code",
   "execution_count": null,
   "metadata": {},
   "outputs": [],
   "source": []
  },
  {
   "cell_type": "code",
   "execution_count": null,
   "metadata": {},
   "outputs": [],
   "source": []
  },
  {
   "cell_type": "code",
   "execution_count": 129,
   "metadata": {},
   "outputs": [],
   "source": [
    "def Accuracy_Cleaning(df, accuracy_threshold, num_trials):\n",
    "    \"\"\"    \n",
    "    Remove participants with overall accuracy below the accuracy threshold (e.g. 0.7)\n",
    "    \n",
    "    Returns:\n",
    "        data of participants that passed the accuracy threshold \n",
    "        list of the number of correct trials each participant got\n",
    "    \"\"\"\n",
    "    #List unique values in the df['subjID'] column\n",
    "    all_subjIDs = df.subjID.unique()\n",
    "    \n",
    "    remove = []\n",
    "    df2_list = []\n",
    "    list_trials_correct = []\n",
    "    for subj in all_subjIDs:\n",
    "        subj_df = df.loc[df['subjID'] == subj]\n",
    "        cleaned_subj_df = subj_df.copy(deep=True) # prevent setting with copy warning \n",
    "        \n",
    "        subj_num_correct_trials = 0\n",
    "        for idx, row in subj_df.iterrows():\n",
    "            trial_acc = row['accuracy']\n",
    "            if trial_acc == 1:\n",
    "                subj_num_correct_trials += 1\n",
    "                \n",
    "        subj_acc = subj_num_correct_trials/num_trials\n",
    "                \n",
    "        # minimum number of trials correct the participant must have to be included\n",
    "        if subj_acc < accuracy_threshold:\n",
    "            remove.append(subj)\n",
    "        \n",
    "        list_trials_correct.append(subj_num_correct_trials)\n",
    "        \n",
    "        df2_list.append(cleaned_subj_df)\n",
    "    \n",
    "    df2 = pd.concat(df2_list)\n",
    "    \n",
    "    print(\"Number of Participants with accuracy below 70%: \", len(remove))\n",
    "    \n",
    "    for index, row in df2.iterrows():\n",
    "        if row['subjID'] in remove:\n",
    "            df2.drop(index, inplace=True)\n",
    "                \n",
    "    return df2, list_trials_correct "
   ]
  },
  {
   "cell_type": "code",
   "execution_count": 130,
   "metadata": {},
   "outputs": [
    {
     "name": "stdout",
     "output_type": "stream",
     "text": [
      "Number of Participants with accuracy below 70%:  22\n"
     ]
    }
   ],
   "source": [
    "Accuracy_cleaned_data, correct_trials_distribution = Accuracy_Cleaning(RT_cleaned_data, 0.7, num_trials)\n"
   ]
  },
  {
   "cell_type": "code",
   "execution_count": 131,
   "metadata": {},
   "outputs": [
    {
     "data": {
      "text/plain": [
       "0.8469475494411006"
      ]
     },
     "execution_count": 131,
     "metadata": {},
     "output_type": "execute_result"
    }
   ],
   "source": [
    "np.sum(np.array(Accuracy_cleaned_data['accuracy']))/len(np.array(Accuracy_cleaned_data['accuracy']))"
   ]
  },
  {
   "cell_type": "code",
   "execution_count": 132,
   "metadata": {},
   "outputs": [
    {
     "data": {
      "image/png": "[encoded data removed]",
      "text/plain": [
       "<Figure size 432x288 with 1 Axes>"
      ]
     },
     "metadata": {
      "needs_background": "light"
     },
     "output_type": "display_data"
    }
   ],
   "source": [
    "plt.figure()\n",
    "plt.hist((np.array(correct_trials_distribution))/num_trials, color='darkblue', bins=20)\n",
    "plt.yticks(np.arange(1,3))\n",
    "plt.title('Accuracy Distribution', fontsize=16)\n",
    "plt.xlabel('Percent Correct', fontsize=12)\n",
    "plt.ylabel('Number of participants', fontsize=12)\n",
    "plt.show()"
   ]
  },
  {
   "cell_type": "code",
   "execution_count": 133,
   "metadata": {},
   "outputs": [
    {
     "data": {
      "text/plain": [
       "49"
      ]
     },
     "execution_count": 133,
     "metadata": {},
     "output_type": "execute_result"
    }
   ],
   "source": [
    "final_data = Accuracy_cleaned_data.copy(deep=True)\n",
    "len(final_data.subjID.unique())"
   ]
  },
  {
   "cell_type": "code",
   "execution_count": 134,
   "metadata": {},
   "outputs": [],
   "source": [
    "# data split by semantic match\n",
    "catCongruent_df = final_data.loc[final_data['semanticMatch'] == 1.0]\n",
    "catIncongruent_df = final_data.loc[final_data['semanticMatch'] == 0.0]\n"
   ]
  },
  {
   "cell_type": "code",
   "execution_count": 135,
   "metadata": {},
   "outputs": [],
   "source": [
    "# data split by zoom level \n",
    "zo_df = final_data.loc[final_data['sceneZoom'] == 'zo']\n",
    "zi_df = final_data.loc[final_data['sceneZoom'] == 'zi']\n",
    "zc_df = final_data.loc[final_data['sceneZoom'] == 'zc']\n"
   ]
  },
  {
   "cell_type": "code",
   "execution_count": 136,
   "metadata": {},
   "outputs": [],
   "source": [
    "# semantic matched data across all zooms \n",
    "zo_catCongruent = catCongruent_df.loc[catCongruent_df['sceneZoom'] == 'zo']\n",
    "zi_catCongruent = catCongruent_df.loc[catCongruent_df['sceneZoom'] == 'zi']\n",
    "zc_catCongruent = catCongruent_df.loc[catCongruent_df['sceneZoom'] == 'zc']\n"
   ]
  },
  {
   "cell_type": "code",
   "execution_count": 137,
   "metadata": {},
   "outputs": [],
   "source": [
    "# semantic mis-matched data across all zooms \n",
    "zo_catIncongruent = catIncongruent_df.loc[catIncongruent_df['sceneZoom'] == 'zo']\n",
    "zi_catIncongruent = catIncongruent_df.loc[catIncongruent_df['sceneZoom'] == 'zi']\n",
    "zc_catIncongruent = catIncongruent_df.loc[catIncongruent_df['sceneZoom'] == 'zc']\n"
   ]
  },
  {
   "cell_type": "markdown",
   "metadata": {},
   "source": [
    "## Accuracy\n",
    "\n",
    "\n",
    "add error bars\n",
    "- overall accuracy per subj in each condition "
   ]
  },
  {
   "cell_type": "code",
   "execution_count": 138,
   "metadata": {},
   "outputs": [
    {
     "data": {
      "text/plain": [
       "(0.9032815198618307, 0.791095890410959)"
      ]
     },
     "execution_count": 138,
     "metadata": {},
     "output_type": "execute_result"
    }
   ],
   "source": [
    "catCongruent_acc = np.sum(np.array(catCongruent_df['accuracy']))/len(np.array(catCongruent_df['accuracy']))\n",
    "catIncongruent_acc = np.sum(np.array(catIncongruent_df['accuracy']))/len(np.array(catIncongruent_df['accuracy']))\n",
    "\n",
    "catCongruent_acc, catIncongruent_acc"
   ]
  },
  {
   "cell_type": "code",
   "execution_count": 174,
   "metadata": {},
   "outputs": [
    {
     "data": {
      "text/plain": [
       "(0.8427835051546392, 0.8626943005181347, 0.8354755784061697)"
      ]
     },
     "execution_count": 174,
     "metadata": {},
     "output_type": "execute_result"
    }
   ],
   "source": [
    "zo_acc = np.sum(np.array(zo_df['accuracy']))/len(np.array(zo_df['accuracy']))\n",
    "zi_acc = np.sum(np.array(zi_df['accuracy']))/len(np.array(zi_df['accuracy']))\n",
    "zc_acc = np.sum(np.array(zc_df['accuracy']))/len(np.array(zc_df['accuracy']))\n",
    "\n",
    "zo_acc, zc_acc, zi_acc"
   ]
  },
  {
   "cell_type": "code",
   "execution_count": 175,
   "metadata": {},
   "outputs": [
    {
     "data": {
      "text/plain": [
       "(0.9114583333333334, 0.9270833333333334, 0.8717948717948718)"
      ]
     },
     "execution_count": 175,
     "metadata": {},
     "output_type": "execute_result"
    }
   ],
   "source": [
    "zo_catCongruent_acc = np.sum(np.array(zo_catCongruent['accuracy']))/len(np.array(zo_catCongruent['accuracy']))\n",
    "zi_catCongruent_acc = np.sum(np.array(zi_catCongruent['accuracy']))/len(np.array(zi_catCongruent['accuracy']))\n",
    "zc_catCongruent_acc = np.sum(np.array(zc_catCongruent['accuracy']))/len(np.array(zc_catCongruent['accuracy']))\n",
    "\n",
    "zo_catCongruent_acc,  zc_catCongruent_acc, zi_catCongruent_acc"
   ]
  },
  {
   "cell_type": "code",
   "execution_count": 141,
   "metadata": {},
   "outputs": [],
   "source": [
    "zo_catCongruent_acc_sem = sem(np.array(zo_catCongruent['accuracy']))/len(np.array(zo_catCongruent['accuracy']))\n",
    "zi_catCongruent_acc_sem = sem(np.array(zi_catCongruent['accuracy']))/len(np.array(zi_catCongruent['accuracy']))\n",
    "zc_catCongruent_acc_sem = sem(np.array(zc_catCongruent['accuracy']))/len(np.array(zc_catCongruent['accuracy']))\n",
    "\n"
   ]
  },
  {
   "cell_type": "code",
   "execution_count": 142,
   "metadata": {},
   "outputs": [
    {
     "data": {
      "text/plain": [
       "(0.7755102040816326, 0.7989690721649485, 0.7989690721649485)"
      ]
     },
     "execution_count": 142,
     "metadata": {},
     "output_type": "execute_result"
    }
   ],
   "source": [
    "zo_catIncongruent_acc = np.sum(np.array(zo_catIncongruent['accuracy']))/len(np.array(zo_catIncongruent['accuracy']))\n",
    "zi_catIncongruent_acc = np.sum(np.array(zi_catIncongruent['accuracy']))/len(np.array(zi_catIncongruent['accuracy']))\n",
    "zc_catIncongruent_acc = np.sum(np.array(zc_catIncongruent['accuracy']))/len(np.array(zc_catIncongruent['accuracy']))\n",
    "\n",
    "zo_catIncongruent_acc, zc_catIncongruent_acc ,zi_catIncongruent_acc"
   ]
  },
  {
   "cell_type": "code",
   "execution_count": 176,
   "metadata": {},
   "outputs": [
    {
     "data": {
      "image/png": "[encoded data removed]",
      "text/plain": [
       "<Figure size 576x576 with 1 Axes>"
      ]
     },
     "metadata": {
      "needs_background": "light"
     },
     "output_type": "display_data"
    }
   ],
   "source": [
    "plt.figure(figsize=[8,8])\n",
    "x = np.arange(3)\n",
    "#                          z0                   zc                  zi\n",
    "Acc_catCongruent =   [zo_catCongruent_acc, zc_catCongruent_acc, zi_catCongruent_acc]\n",
    "\n",
    "Acc_catIncongruent = [zo_catIncongruent_acc, zc_catIncongruent_acc, zi_catIncongruent_acc]\n",
    "\n",
    "width = 0.2\n",
    "  \n",
    "# plot data in grouped manner of bar type\n",
    "plt.bar(x-0.2, Acc_catCongruent, width, color='cyan', label='Category Congruent')\n",
    "plt.bar(x, Acc_catIncongruent, width, color='royalblue', label='Category Incongruent')\n",
    "plt.xticks(x, ['zo', 'zc', 'zi'], fontsize='12')\n",
    "plt.xlabel(\"Zoom level\", fontsize=15)\n",
    "plt.ylabel(\"Percent Correct\", fontsize=15)\n",
    "plt.legend(loc=1, fontsize=10)\n",
    "plt.show()"
   ]
  },
  {
   "cell_type": "markdown",
   "metadata": {},
   "source": [
    "### Accuracy by Scene Category"
   ]
  },
  {
   "cell_type": "code",
   "execution_count": 177,
   "metadata": {},
   "outputs": [
    {
     "data": {
      "text/plain": [
       "['gym', 'classroom', 'kitchen', 'bathroom']"
      ]
     },
     "execution_count": 177,
     "metadata": {},
     "output_type": "execute_result"
    }
   ],
   "source": [
    "all_sceneCategories = final_data.sceneCategory.unique()\n",
    "all_sceneCategories = [scene for scene in all_sceneCategories if type(scene) == str]\n",
    "all_sceneCategories"
   ]
  },
  {
   "cell_type": "code",
   "execution_count": 178,
   "metadata": {},
   "outputs": [],
   "source": [
    "scenes = []\n",
    "scenes_acc = []\n",
    "for scene in all_sceneCategories:\n",
    "    scene_df = final_data.loc[final_data['sceneCategory'] == scene]\n",
    "    scene_acc = np.sum(np.array(scene_df['accuracy']))/len(np.array(scene_df['accuracy']))\n",
    "    scenes.append(scene)\n",
    "    scenes_acc.append(scene_acc)\n"
   ]
  },
  {
   "cell_type": "code",
   "execution_count": 179,
   "metadata": {},
   "outputs": [
    {
     "data": {
      "image/png": "[encoded data removed]",
      "text/plain": [
       "<Figure size 432x432 with 1 Axes>"
      ]
     },
     "metadata": {
      "needs_background": "light"
     },
     "output_type": "display_data"
    }
   ],
   "source": [
    "plt.figure(figsize=[6,6])\n",
    "\n",
    "width = 0.2\n",
    "\n",
    "plt.xticks(np.arange(len(scenes)), scenes, fontsize=12)\n",
    "plt.ylim([0, 1])\n",
    "plt.bar(np.arange(len(scenes)), scenes_acc, color='darkblue')\n",
    "plt.xlabel('Scene Category', fontsize=14)\n",
    "plt.ylabel('Percent Correct', fontsize=14)\n",
    "plt.title('Accuracy x Scene Category', fontsize=16)\n",
    "\n",
    "plt.show();"
   ]
  },
  {
   "cell_type": "markdown",
   "metadata": {},
   "source": [
    "## RT\n",
    "\n",
    "CREATE DIFF DF - ONLY INCLUDE CORRECT TRIALS\n",
    "\n",
    "WITHIN PARTICIPANT SEM"
   ]
  },
  {
   "cell_type": "code",
   "execution_count": null,
   "metadata": {},
   "outputs": [],
   "source": []
  },
  {
   "cell_type": "code",
   "execution_count": 149,
   "metadata": {},
   "outputs": [],
   "source": [
    "catCongruent_df_correctOnly = catCongruent_df.loc[catCongruent_df['accuracy'] == 1]\n",
    "catIncongruent_df_correctOnly = catIncongruent_df.loc[catIncongruent_df['accuracy'] == 1]\n",
    "\n",
    "catCongruent_RT_correctOnly = np.mean(np.array(catCongruent_df_correctOnly['RT']))\n",
    "catIncongruent_RT_correctOnly = np.mean(np.array(catIncongruent_df_correctOnly['RT']))"
   ]
  },
  {
   "cell_type": "code",
   "execution_count": 170,
   "metadata": {},
   "outputs": [],
   "source": [
    "RTs_correctOnly = list(catCongruent_df_correctOnly['RT']) + list(catIncongruent_df_correctOnly['RT'])"
   ]
  },
  {
   "cell_type": "code",
   "execution_count": 173,
   "metadata": {},
   "outputs": [
    {
     "data": {
      "image/png": "[encoded data removed]",
      "text/plain": [
       "<Figure size 432x288 with 1 Axes>"
      ]
     },
     "metadata": {
      "needs_background": "light"
     },
     "output_type": "display_data"
    }
   ],
   "source": [
    "plt.figure()\n",
    "plt.hist(np.array(RTs_correctOnly), color='orange', bins=20)\n",
    "plt.title('RT Distribution: Correct Trials', fontsize=16)\n",
    "plt.xlabel('RT (ms)', fontsize=12)\n",
    "plt.ylabel('Number of trials', fontsize=12)\n",
    "plt.show()"
   ]
  },
  {
   "cell_type": "code",
   "execution_count": 180,
   "metadata": {},
   "outputs": [
    {
     "data": {
      "text/plain": [
       "(1015.3696027633852, 1098.388698630137)"
      ]
     },
     "execution_count": 180,
     "metadata": {},
     "output_type": "execute_result"
    }
   ],
   "source": [
    "catCongruent_RT = np.mean(np.array(catCongruent_df['RT']))\n",
    "catIncongruent_RT = np.mean(np.array(catIncongruent_df['RT']))\n",
    "\n",
    "catCongruent_RT, catIncongruent_RT \n",
    "\n"
   ]
  },
  {
   "cell_type": "code",
   "execution_count": 151,
   "metadata": {},
   "outputs": [],
   "source": [
    "zo_df_correctOnly = zo_df.loc[zo_df['accuracy'] == 1]\n",
    "zi_df_correctOnly = zi_df.loc[zi_df['accuracy'] == 1]\n",
    "zc_df_correctOnly = zc_df.loc[zc_df['accuracy'] == 1]\n",
    "\n",
    "zo_RT_correctOnly = np.mean(np.array(zo_df_correctOnly['RT']))\n",
    "zi_RT_correctOnly = np.mean(np.array(zi_df_correctOnly['RT']))\n",
    "zc_RT_correctOnly = np.mean(np.array(zc_df_correctOnly['RT']))"
   ]
  },
  {
   "cell_type": "code",
   "execution_count": 181,
   "metadata": {},
   "outputs": [
    {
     "data": {
      "text/plain": [
       "(1033.4664948453608, 1045.8756476683939, 1091.6838046272494)"
      ]
     },
     "execution_count": 181,
     "metadata": {},
     "output_type": "execute_result"
    }
   ],
   "source": [
    "zo_RT = np.mean(np.array(zo_df['RT']))\n",
    "zi_RT = np.mean(np.array(zi_df['RT']))\n",
    "zc_RT = np.mean(np.array(zc_df['RT']))\n",
    "\n",
    "zo_RT,  zc_RT, zi_RT,"
   ]
  },
  {
   "cell_type": "code",
   "execution_count": 153,
   "metadata": {},
   "outputs": [],
   "source": [
    "zo_catCongruent_correctOnly = zo_catCongruent.loc[zo_catCongruent['accuracy'] == 1]\n",
    "zi_catCongruent_correctOnly = zi_catCongruent.loc[zi_catCongruent['accuracy'] == 1]\n",
    "zc_catCongruent_correctOnly = zc_catCongruent.loc[zc_catCongruent['accuracy'] == 1]\n",
    "\n",
    "zo_catCongruent_RT_correctOnly = np.mean(np.array(zo_catCongruent_correctOnly['RT']))\n",
    "zi_catCongruent_RT_correctOnly = np.mean(np.array(zi_catCongruent_correctOnly['RT']))\n",
    "zc_catCongruent_RT_correctOnly = np.mean(np.array(zc_catCongruent_correctOnly['RT']))"
   ]
  },
  {
   "cell_type": "code",
   "execution_count": 154,
   "metadata": {},
   "outputs": [
    {
     "data": {
      "text/plain": [
       "(1001.6041666666666, 1045.0974358974358, 998.9427083333334)"
      ]
     },
     "execution_count": 154,
     "metadata": {},
     "output_type": "execute_result"
    }
   ],
   "source": [
    "zo_catCongruent_RT = np.mean(np.array(zo_catCongruent['RT']))\n",
    "zi_catCongruent_RT = np.mean(np.array(zi_catCongruent['RT']))\n",
    "zc_catCongruent_RT = np.mean(np.array(zc_catCongruent['RT']))\n",
    "\n",
    "zo_catCongruent_RT, zi_catCongruent_RT, zc_catCongruent_RT"
   ]
  },
  {
   "cell_type": "code",
   "execution_count": 155,
   "metadata": {},
   "outputs": [],
   "source": [
    "zo_catCongruent_RT_sem_correctOnly = sem(np.array(zo_catCongruent_correctOnly['RT']))\n",
    "zi_catCongruent_RT_sem_correctOnly = sem(np.array(zi_catCongruent_correctOnly['RT']))\n",
    "zc_catCongruent_RT_sem_correctOnly = sem(np.array(zc_catCongruent_correctOnly['RT']))"
   ]
  },
  {
   "cell_type": "code",
   "execution_count": 156,
   "metadata": {},
   "outputs": [],
   "source": [
    "zo_catCongruent_RT_sem = sem(np.array(zo_catCongruent['RT']))\n",
    "zi_catCongruent_RT_sem = sem(np.array(zi_catCongruent['RT']))\n",
    "zc_catCongruent_RT_sem = sem(np.array(zc_catCongruent['RT']))\n"
   ]
  },
  {
   "cell_type": "code",
   "execution_count": 157,
   "metadata": {},
   "outputs": [],
   "source": [
    "zo_catIncongruent_correctOnly = zo_catIncongruent.loc[zo_catIncongruent['accuracy']==1]\n",
    "zi_catIncongruent_correctOnly = zi_catIncongruent.loc[zi_catIncongruent['accuracy']==1]\n",
    "zc_catIncongruent_correctOnly = zc_catIncongruent.loc[zc_catIncongruent['accuracy']==1]\n",
    "\n",
    "\n",
    "zo_catIncongruent_RT_correctOnly = np.mean(np.array(zo_catIncongruent_correctOnly['RT']))\n",
    "zi_catIncongruent_RT_correctOnly = np.mean(np.array(zi_catIncongruent_correctOnly['RT']))\n",
    "zc_catIncongruent_RT_correctOnly = np.mean(np.array(zc_catIncongruent_correctOnly['RT']))"
   ]
  },
  {
   "cell_type": "code",
   "execution_count": 158,
   "metadata": {},
   "outputs": [
    {
     "data": {
      "text/plain": [
       "(1064.6785714285713, 1138.5103092783504, 1092.3247422680413)"
      ]
     },
     "execution_count": 158,
     "metadata": {},
     "output_type": "execute_result"
    }
   ],
   "source": [
    "zo_catIncongruent_RT = np.mean(np.array(zo_catIncongruent['RT']))\n",
    "zi_catIncongruent_RT = np.mean(np.array(zi_catIncongruent['RT']))\n",
    "zc_catIncongruent_RT = np.mean(np.array(zc_catIncongruent['RT']))\n",
    "\n",
    "zo_catIncongruent_RT, zi_catIncongruent_RT, zc_catIncongruent_RT"
   ]
  },
  {
   "cell_type": "code",
   "execution_count": 159,
   "metadata": {},
   "outputs": [],
   "source": [
    "zo_catIncongruent_RT_sem_correctOnly = sem(np.array(zo_catIncongruent_correctOnly['RT']))\n",
    "zi_catIncongruent_RT_sem_correctOnly = sem(np.array(zi_catIncongruent_correctOnly['RT']))\n",
    "zc_catIncongruent_RT_sem_correctOnly = sem(np.array(zc_catIncongruent_correctOnly['RT']))\n"
   ]
  },
  {
   "cell_type": "code",
   "execution_count": 160,
   "metadata": {},
   "outputs": [],
   "source": [
    "zo_catIncongruent_RT_sem = sem(np.array(zo_catIncongruent['RT']))\n",
    "zi_catIncongruent_RT_sem = sem(np.array(zi_catIncongruent['RT']))\n",
    "zc_catIncongruent_RT_sem = sem(np.array(zc_catIncongruent['RT']))\n"
   ]
  },
  {
   "cell_type": "code",
   "execution_count": 161,
   "metadata": {},
   "outputs": [
    {
     "data": {
      "image/png": "[encoded data removed]",
      "text/plain": [
       "<Figure size 576x576 with 1 Axes>"
      ]
     },
     "metadata": {
      "needs_background": "light"
     },
     "output_type": "display_data"
    }
   ],
   "source": [
    "plt.figure(figsize=[8,8])\n",
    "x = np.arange(3)\n",
    "\n",
    "#                          z0                   zc                  zi\n",
    "RT_catCongruent =   [zo_catCongruent_RT_correctOnly, zc_catCongruent_RT_correctOnly, zi_catCongruent_RT_correctOnly]\n",
    "RT_catCongruent_sem = [zo_catCongruent_RT_sem_correctOnly, zc_catCongruent_RT_sem_correctOnly, zi_catCongruent_RT_sem_correctOnly]\n",
    "#                          z0                   zc                  zi\n",
    "\n",
    "RT_catIncongruent = [zo_catIncongruent_RT_correctOnly, zc_catIncongruent_RT_correctOnly, zi_catIncongruent_RT_correctOnly]\n",
    "RT_catIncongruent_sem = [zo_catIncongruent_RT_sem_correctOnly, zc_catIncongruent_RT_sem_correctOnly, zi_catIncongruent_RT_sem_correctOnly]\n",
    "\n",
    "width = 0.2\n",
    "  \n",
    "# plot data in grouped manner of bar type\n",
    "plt.bar(x-0.2, RT_catCongruent, width, color='orange', label='Category Congruent', yerr=RT_catCongruent_sem, capsize=5)\n",
    "plt.bar(x, RT_catIncongruent, width, color='orangered', label='Category Incongruent', yerr=RT_catIncongruent_sem, capsize=5)\n",
    "plt.xticks(x, ['zo', 'zc', 'zi'], fontsize='12')\n",
    "plt.xlabel(\"Zoom level\", fontsize=15)\n",
    "plt.ylabel(\"Average RT (ms)\", fontsize=15)\n",
    "plt.legend(loc=2, fontsize=10)\n",
    "plt.show()"
   ]
  },
  {
   "cell_type": "code",
   "execution_count": 162,
   "metadata": {},
   "outputs": [
    {
     "data": {
      "text/plain": [
       "['gym', 'classroom', 'kitchen', 'bathroom']"
      ]
     },
     "execution_count": 162,
     "metadata": {},
     "output_type": "execute_result"
    }
   ],
   "source": [
    "all_sceneCategories = final_data.sceneCategory.unique()\n",
    "all_sceneCategories = [scene for scene in all_sceneCategories if type(scene) == str]\n",
    "all_sceneCategories"
   ]
  },
  {
   "cell_type": "code",
   "execution_count": 163,
   "metadata": {},
   "outputs": [],
   "source": [
    "scenes = []\n",
    "scenes_RT = []\n",
    "scenes_sem = []\n",
    "for scene in all_sceneCategories:\n",
    "    scene_df = final_data.loc[final_data['sceneCategory'] == scene]\n",
    "    scene_RT = np.mean(np.array(scene_df['RT']))\n",
    "    scene_sem = sem(np.array(scene_df['RT']))\n",
    "    scenes.append(scene)\n",
    "    scenes_RT.append(scene_RT)\n",
    "    scenes_sem.append(scene_sem)\n"
   ]
  },
  {
   "cell_type": "code",
   "execution_count": 182,
   "metadata": {},
   "outputs": [
    {
     "data": {
      "image/png": "[encoded data removed]",
      "text/plain": [
       "<Figure size 432x432 with 1 Axes>"
      ]
     },
     "metadata": {
      "needs_background": "light"
     },
     "output_type": "display_data"
    }
   ],
   "source": [
    "plt.figure(figsize=[6,6])\n",
    "\n",
    "width = 0.2\n",
    "\n",
    "plt.xticks(np.arange(len(scenes)), scenes, fontsize=12)\n",
    "plt.bar(np.arange(len(scenes)), scenes_RT, color='darkorange', yerr = scenes_sem, capsize=5)\n",
    "plt.xlabel('Scene Category', fontsize=14)\n",
    "plt.ylabel('RT (ms)', fontsize=14)\n",
    "plt.title('RT x Scene Category', fontsize=16)\n",
    "\n",
    "plt.show();"
   ]
  },
  {
   "cell_type": "markdown",
   "metadata": {},
   "source": [
    "## IES: Inverse Efficiency Score\n",
    "\n",
    "RT for correct trials only or all?\n"
   ]
  },
  {
   "cell_type": "code",
   "execution_count": 165,
   "metadata": {},
   "outputs": [
    {
     "data": {
      "image/png": "[encoded data removed]",
      "text/plain": [
       "<Figure size 576x576 with 1 Axes>"
      ]
     },
     "metadata": {
      "needs_background": "light"
     },
     "output_type": "display_data"
    }
   ],
   "source": [
    "plt.figure(figsize=[8,8])\n",
    "x = np.arange(3)\n",
    "\n",
    "#                          z0                   zc                  zi\n",
    "IES_catCongruent =   [zo_catCongruent_RT/zo_catCongruent_acc, zc_catCongruent_RT/zc_catCongruent_acc, zi_catCongruent_RT/zi_catCongruent_acc]\n",
    "#                          z0                   zc                  zi\n",
    "\n",
    "IES_catIncongruent = [zo_catIncongruent_RT/zo_catIncongruent_acc, zc_catIncongruent_RT/zc_catIncongruent_acc, zi_catIncongruent_RT/zi_catIncongruent_acc]\n",
    "\n",
    "width = 0.2\n",
    "  \n",
    "# plot data in grouped manner of bar type\n",
    "plt.bar(x-0.2, IES_catCongruent, width, color='mediumorchid', label='Category Congruent', yerr=RT_catCongruent_sem, capsize=5)\n",
    "plt.bar(x, IES_catIncongruent, width, color='indigo', label='Category Inongruent', yerr=RT_catIncongruent_sem, capsize=5)\n",
    "plt.xticks(x, ['zo', 'zc', 'zi'], fontsize='12')\n",
    "plt.xlabel(\"Zoom level\", fontsize=15)\n",
    "plt.ylabel(\"IES (RT(ms)/Percent Correct)\", fontsize=15)\n",
    "plt.legend(loc=1, fontsize=10)\n",
    "plt.show()"
   ]
  },
  {
   "cell_type": "code",
   "execution_count": null,
   "metadata": {},
   "outputs": [],
   "source": []
  },
  {
   "cell_type": "code",
   "execution_count": null,
   "metadata": {},
   "outputs": [],
   "source": []
  }
 ],
 "metadata": {
  "kernelspec": {
   "display_name": "Python 3",
   "language": "python",
   "name": "python3"
  },
  "language_info": {
   "codemirror_mode": {
    "name": "ipython",
    "version": 3
   },
   "file_extension": ".py",
   "mimetype": "text/x-python",
   "name": "python",
   "nbconvert_exporter": "python",
   "pygments_lexer": "ipython3",
   "version": "3.7.5"
  }
 },
 "nbformat": 4,
 "nbformat_minor": 4
}
