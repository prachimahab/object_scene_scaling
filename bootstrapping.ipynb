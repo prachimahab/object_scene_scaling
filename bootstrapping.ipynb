{
 "cells": [
  {
   "cell_type": "markdown",
   "metadata": {},
   "source": [
    "# OSS Bootstrapping Analysis\n",
    "\n",
    "How many participants are needed to get to the Object-Scene Semantic Congruency x Scale interaction?"
   ]
  },
  {
   "cell_type": "code",
   "execution_count": 24,
   "metadata": {},
   "outputs": [],
   "source": [
    "import pandas as pd\n",
    "import numpy as np\n",
    "import scipy \n",
    "import os\n",
    "import statsmodels.formula.api as smf\n",
    "import matplotlib.pyplot as plt"
   ]
  },
  {
   "cell_type": "code",
   "execution_count": 2,
   "metadata": {},
   "outputs": [
    {
     "data": {
      "text/plain": [
       "Index(['subjID', 'experimentName', 'versionName', 'sequenceName',\n",
       "       'Z-Scored RT', 'windowWidth', 'windowHeight', 'screenWidth',\n",
       "       'screenHeight', 'startDate', 'startTime', 'pracTries', 'trialNum',\n",
       "       'scene', 'size_name', 'image_name', 'object', 'side', 'objectCategory',\n",
       "       'objSceneSemCong', 'scale', 'image', 'presentationSize', 'keyPress',\n",
       "       'accuracy', 'RT', 'ratingTrialNum', 'rating', 'thisRatingTrialFile',\n",
       "       'experimentTime', 'totalTime', 'age', 'gender'],\n",
       "      dtype='object')"
      ]
     },
     "execution_count": 2,
     "metadata": {},
     "output_type": "execute_result"
    }
   ],
   "source": [
    "df = pd.read_csv('/Users/prachimahableshwarkar/Documents/GW/OSS/zs_e5v2Final_unfolded.csv')\n",
    "\n",
    "df.columns"
   ]
  },
  {
   "cell_type": "code",
   "execution_count": 3,
   "metadata": {},
   "outputs": [],
   "source": [
    "CO_df = df[df['accuracy'] !=0] "
   ]
  },
  {
   "cell_type": "code",
   "execution_count": 4,
   "metadata": {},
   "outputs": [
    {
     "name": "stderr",
     "output_type": "stream",
     "text": [
      "/Users/prachimahableshwarkar/opt/anaconda3/envs/defaultenv/lib/python3.7/site-packages/pandas/core/generic.py:5208: SettingWithCopyWarning: \n",
      "A value is trying to be set on a copy of a slice from a DataFrame.\n",
      "Try using .loc[row_indexer,col_indexer] = value instead\n",
      "\n",
      "See the caveats in the documentation: http://pandas.pydata.org/pandas-docs/stable/user_guide/indexing.html#returning-a-view-versus-a-copy\n",
      "  self[name] = value\n"
     ]
    }
   ],
   "source": [
    "CO_df.subjID = CO_df.subjID.astype(str)"
   ]
  },
  {
   "cell_type": "code",
   "execution_count": null,
   "metadata": {},
   "outputs": [],
   "source": []
  },
  {
   "cell_type": "code",
   "execution_count": 5,
   "metadata": {},
   "outputs": [],
   "source": [
    "CO_df = CO_df.rename(columns={'Z-Scored RT': 'zsRT'})\n"
   ]
  },
  {
   "cell_type": "code",
   "execution_count": 6,
   "metadata": {},
   "outputs": [],
   "source": [
    "small_df = CO_df.loc[df['presentationSize']=='small']\n",
    "large_df = CO_df.loc[df['presentationSize']=='small']"
   ]
  },
  {
   "cell_type": "code",
   "execution_count": 9,
   "metadata": {},
   "outputs": [
    {
     "name": "stdout",
     "output_type": "stream",
     "text": [
      "                             Mixed Linear Model Regression Results\n",
      "===============================================================================================\n",
      "Model:                         MixedLM              Dependent Variable:              zsRT      \n",
      "No. Observations:              4403                 Method:                          REML      \n",
      "No. Groups:                    192                  Scale:                           0.9197    \n",
      "Min. group size:               18                   Likelihood:                      -6076.7010\n",
      "Max. group size:               24                   Converged:                       Yes       \n",
      "Mean group size:               22.9                                                            \n",
      "-----------------------------------------------------------------------------------------------\n",
      "                                                     Coef.  Std.Err.   z    P>|z| [0.025 0.975]\n",
      "-----------------------------------------------------------------------------------------------\n",
      "Intercept                                            -0.133    0.038 -3.492 0.000 -0.208 -0.058\n",
      "C(scale)[T.scaled]                                   -0.016    0.050 -0.324 0.746 -0.114  0.081\n",
      "C(presentationSize)[T.small]                          0.248    0.050  4.964 0.000  0.150  0.345\n",
      "C(objSceneSemCong)[T.1]                               0.031    0.050  0.628 0.530 -0.066  0.129\n",
      "C(scale)[T.scaled]:C(presentationSize)[T.small]      -0.102    0.058 -1.771 0.077 -0.216  0.011\n",
      "C(scale)[T.scaled]:C(objSceneSemCong)[T.1]           -0.090    0.058 -1.549 0.121 -0.203  0.024\n",
      "C(presentationSize)[T.small]:C(objSceneSemCong)[T.1]  0.152    0.058  2.630 0.009  0.039  0.265\n",
      "subjID Var                                            0.000                                    \n",
      "===============================================================================================\n",
      "\n"
     ]
    },
    {
     "name": "stderr",
     "output_type": "stream",
     "text": [
      "/Users/prachimahableshwarkar/opt/anaconda3/envs/defaultenv/lib/python3.7/site-packages/statsmodels/regression/mixed_linear_model.py:2094: ConvergenceWarning: The MLE may be on the boundary of the parameter space.\n",
      "  warnings.warn(msg, ConvergenceWarning)\n",
      "/Users/prachimahableshwarkar/opt/anaconda3/envs/defaultenv/lib/python3.7/site-packages/statsmodels/regression/mixed_linear_model.py:2115: ConvergenceWarning: The Hessian matrix at the estimated parameter values is not positive definite.\n",
      "  warnings.warn(msg, ConvergenceWarning)\n",
      "/Users/prachimahableshwarkar/opt/anaconda3/envs/defaultenv/lib/python3.7/site-packages/statsmodels/base/model.py:1286: RuntimeWarning: invalid value encountered in sqrt\n",
      "  bse_ = np.sqrt(np.diag(self.cov_params()))\n"
     ]
    }
   ],
   "source": [
    "\n",
    "model = smf.mixedlm(\"zsRT ~ C(scale) + C(presentationSize) + C(objSceneSemCong) + C(scale)*C(presentationSize) + C(scale)*C(objSceneSemCong) + C(presentationSize)*C(objSceneSemCong)\", CO_df, groups= \"subjID\")\n",
    "result = model.fit()\n",
    "print(result.summary())\n"
   ]
  },
  {
   "cell_type": "code",
   "execution_count": null,
   "metadata": {},
   "outputs": [],
   "source": []
  },
  {
   "cell_type": "code",
   "execution_count": 10,
   "metadata": {},
   "outputs": [],
   "source": [
    "def results_summary_to_dataframe(results):\n",
    "    '''take the result of an statsmodel results table and transforms it into a dataframe'''\n",
    "    pvals = results.pvalues\n",
    "    coeff = results.params\n",
    "    estimates = results.tvalues\n",
    "    conf_lower = results.conf_int()[0]\n",
    "    conf_higher = results.conf_int()[1]\n",
    "\n",
    "    results_df = pd.DataFrame({\"pvals\":pvals,\n",
    "                               \"coeff\":coeff,\n",
    "                               \"estimate\":estimates,\n",
    "                               \"conf_lower\":conf_lower,\n",
    "                               \"conf_higher\":conf_higher\n",
    "                                })\n",
    "\n",
    "    #Reordering...\n",
    "    results_df = results_df[[\"coeff\",\"pvals\", \"estimate\",\"conf_lower\",\"conf_higher\"]]\n",
    "    return results_df\n",
    "\n",
    "def get_objSceneSemCongxScale_interaction_results(results_df):\n",
    "    \n",
    "    res = results_df.loc['C(scale)[T.scaled]:C(objSceneSemCong)[T.1]']\n",
    "    \n",
    "    estim = res['estimate']\n",
    "    pval = res['pvals']\n",
    "    \n",
    "    return estim, pval\n",
    "    "
   ]
  },
  {
   "cell_type": "code",
   "execution_count": 11,
   "metadata": {},
   "outputs": [
    {
     "name": "stderr",
     "output_type": "stream",
     "text": [
      "/Users/prachimahableshwarkar/opt/anaconda3/envs/defaultenv/lib/python3.7/site-packages/scipy/stats/_distn_infrastructure.py:901: RuntimeWarning: invalid value encountered in greater\n",
      "  return (a < x) & (x < b)\n",
      "/Users/prachimahableshwarkar/opt/anaconda3/envs/defaultenv/lib/python3.7/site-packages/scipy/stats/_distn_infrastructure.py:901: RuntimeWarning: invalid value encountered in less\n",
      "  return (a < x) & (x < b)\n",
      "/Users/prachimahableshwarkar/opt/anaconda3/envs/defaultenv/lib/python3.7/site-packages/scipy/stats/_distn_infrastructure.py:1892: RuntimeWarning: invalid value encountered in less_equal\n",
      "  cond2 = cond0 & (x <= _a)\n"
     ]
    }
   ],
   "source": [
    "results_df = results_summary_to_dataframe(result)"
   ]
  },
  {
   "cell_type": "code",
   "execution_count": 12,
   "metadata": {},
   "outputs": [
    {
     "data": {
      "text/plain": [
       "(-1.548686615573961, 0.1214570729062921)"
      ]
     },
     "execution_count": 12,
     "metadata": {},
     "output_type": "execute_result"
    }
   ],
   "source": [
    "get_objSceneSemCongxScale_interaction_results(results_df)\n"
   ]
  },
  {
   "cell_type": "code",
   "execution_count": 13,
   "metadata": {},
   "outputs": [
    {
     "data": {
      "text/plain": [
       "coeff         -0.089523\n",
       "pvals          0.121457\n",
       "estimate      -1.548687\n",
       "conf_lower    -0.202821\n",
       "conf_higher    0.023774\n",
       "Name: C(scale)[T.scaled]:C(objSceneSemCong)[T.1], dtype: float64"
      ]
     },
     "execution_count": 13,
     "metadata": {},
     "output_type": "execute_result"
    }
   ],
   "source": [
    "results_df.loc['C(scale)[T.scaled]:C(objSceneSemCong)[T.1]']"
   ]
  },
  {
   "cell_type": "code",
   "execution_count": 14,
   "metadata": {},
   "outputs": [
    {
     "data": {
      "text/plain": [
       "192"
      ]
     },
     "execution_count": 14,
     "metadata": {},
     "output_type": "execute_result"
    }
   ],
   "source": [
    "len(CO_df.subjID.unique())"
   ]
  },
  {
   "cell_type": "code",
   "execution_count": 15,
   "metadata": {},
   "outputs": [],
   "source": [
    "def run_LME(df):\n",
    "    model = smf.mixedlm(\"zsRT ~ C(scale) + C(presentationSize) + C(objSceneSemCong) + C(scale)*C(presentationSize) + C(scale)*C(objSceneSemCong) + C(presentationSize)*C(objSceneSemCong)\", df, groups= \"subjID\")\n",
    "    result = model.fit()\n",
    "    \n",
    "    return result\n"
   ]
  },
  {
   "cell_type": "code",
   "execution_count": 151,
   "metadata": {},
   "outputs": [],
   "source": [
    "# def main_output(df):\n",
    "#     LME_res = run_LME(df)\n",
    "#     results_df = results_summary_to_dataframe(LME_res)\n",
    "#     estim, pval = get_objSceneSemCongxScale_interaction_results(results_df)\n",
    "    \n",
    "#     return estim, pval"
   ]
  },
  {
   "cell_type": "code",
   "execution_count": 153,
   "metadata": {},
   "outputs": [
    {
     "name": "stdout",
     "output_type": "stream",
     "text": [
      "8\n"
     ]
    }
   ],
   "source": [
    "import os\n",
    "print(os.cpu_count())"
   ]
  },
  {
   "cell_type": "code",
   "execution_count": 149,
   "metadata": {
    "jupyter": {
     "source_hidden": true
    }
   },
   "outputs": [],
   "source": [
    "# # Define the upsampling percentages\n",
    "# upsampling_percentages = [0.10, 0.20, 0.30, 0.50]\n",
    "\n",
    "# bootstrapped_estimates = []\n",
    "# bootstrapped_pvals = []\n",
    "\n",
    "# # Set a random seed for reproducibility\n",
    "# np.random.seed(42)\n",
    "\n",
    "# iterations = 1 \n",
    "\n",
    "# # Iterate through the desired upsampling percentages\n",
    "# for i in range(iterations):\n",
    "#     # Determine the number of samples to draw\n",
    "#     num_samples = int(len(CO_df) * (1 + 0.10))\n",
    "    \n",
    "#     # Perform random sampling with replacement\n",
    "#     bootstrapped_sample = CO_df.sample(n=num_samples, replace=True)\n",
    "    \n",
    "#     bs_estim, bs_pval = main_output(bootstrapped_sample)\n",
    "    \n",
    "#     bootstrapped_estimates.append(bs_estim)\n",
    "#     bootstrapped_pvals.append(bs_pval)\n",
    "\n",
    "# # You now have a list of bootstrapped DataFrames, one for each percentage\n",
    "# # Access them as bootstrapped_dfs[0], bootstrapped_dfs[1], etc."
   ]
  },
  {
   "cell_type": "code",
   "execution_count": 16,
   "metadata": {},
   "outputs": [
    {
     "name": "stdout",
     "output_type": "stream",
     "text": [
      "bootstrapped\n",
      "Starting...\n",
      "Iteration took 23.62 seconds\n"
     ]
    }
   ],
   "source": [
    "from multiprocessing import Pool\n",
    "import warnings\n",
    "from statsmodels.tools.sm_exceptions import ConvergenceWarning\n",
    "import time  # Import the time module\n",
    "\n",
    "def run_LME(df):\n",
    "    model = smf.mixedlm(\"zsRT ~ C(scale) + C(presentationSize) + C(objSceneSemCong) + C(scale)*C(presentationSize) + C(scale)*C(objSceneSemCong) + C(presentationSize)*C(objSceneSemCong)\", df, groups= \"subjID\")\n",
    "    result = model.fit()\n",
    "    \n",
    "    return result\n",
    "\n",
    "\n",
    "def bootstrap_sample(df, percentage):\n",
    "    num_samples = int(len(df) * (1 + percentage))\n",
    "    return df.sample(n=num_samples, replace=True)\n",
    "\n",
    "def bootstrap(iteration):\n",
    "    np.random.seed(iteration)\n",
    "    print('bootstrapped')\n",
    "    return bootstrap_sample(CO_df, 0.10)  # Adjust the percentage as needed\n",
    "\n",
    "def main_output(df):\n",
    "    start_time = time.time()  # Record the start time\n",
    "    print('Starting...')\n",
    "    with warnings.catch_warnings():\n",
    "        warnings.filterwarnings(\"ignore\", category=ConvergenceWarning)\n",
    "        LME_res = run_LME(df)\n",
    "        \n",
    "    results_df = results_summary_to_dataframe(LME_res)\n",
    "    estim, pval = get_objSceneSemCongxScale_interaction_results(results_df)\n",
    "    end_time = time.time()  # Record the end time\n",
    "    elapsed_time = end_time - start_time  # Calculate the elapsed time\n",
    "    print(f\"Iteration took {elapsed_time:.2f} seconds\")  # Print the elapsed time\n",
    "    return estim, pval\n",
    "\n",
    "if __name__ == \"__main__\":\n",
    "    num_bootstrap_iterations = 1  # Number of bootstrap iterations\n",
    "\n",
    "    # Create a Pool of worker processes\n",
    "    num_processes = 6  # Adjust based on your CPU cores\n",
    "    with Pool(processes=num_processes) as pool:\n",
    "        # Perform bootstrapping and apply main_output function in parallel\n",
    "        bootstrapped_results = pool.map(bootstrap, range(num_bootstrap_iterations))\n",
    "        results = pool.map(main_output, bootstrapped_results)\n"
   ]
  },
  {
   "cell_type": "code",
   "execution_count": 17,
   "metadata": {},
   "outputs": [
    {
     "data": {
      "text/plain": [
       "1"
      ]
     },
     "execution_count": 17,
     "metadata": {},
     "output_type": "execute_result"
    }
   ],
   "source": [
    "len(bootstrapped_results)"
   ]
  },
  {
   "cell_type": "code",
   "execution_count": 18,
   "metadata": {},
   "outputs": [],
   "source": [
    "import warnings\n",
    "from statsmodels.tools.sm_exceptions import ConvergenceWarning\n",
    "import time  # Import the time module\n",
    "\n",
    "def results_summary_to_dataframe(results):\n",
    "    '''take the result of an statsmodel results table and transforms it into a dataframe'''\n",
    "    pvals = results.pvalues\n",
    "    coeff = results.params\n",
    "    estimates = results.tvalues\n",
    "    conf_lower = results.conf_int()[0]\n",
    "    conf_higher = results.conf_int()[1]\n",
    "\n",
    "    results_df = pd.DataFrame({\"pvals\":pvals,\n",
    "                               \"coeff\":coeff,\n",
    "                               \"estimate\":estimates,\n",
    "                               \"conf_lower\":conf_lower,\n",
    "                               \"conf_higher\":conf_higher\n",
    "                                })\n",
    "\n",
    "    #Reordering...\n",
    "    results_df = results_df[[\"coeff\",\"pvals\", \"estimate\",\"conf_lower\",\"conf_higher\"]]\n",
    "    return results_df\n",
    "\n",
    "def get_objSceneSemCongxScale_interaction_results(results_df):\n",
    "    \n",
    "    res = results_df.loc['C(scale)[T.scaled]:C(objSceneSemCong)[T.1]']\n",
    "    \n",
    "    estim = res['estimate']\n",
    "    pval = res['pvals']\n",
    "    \n",
    "    return estim, pval\n",
    "\n",
    "def run_LME(df):\n",
    "    model = smf.mixedlm(\"zsRT ~ C(scale) + C(presentationSize) + C(objSceneSemCong) + C(scale)*C(presentationSize) + C(scale)*C(objSceneSemCong) + C(presentationSize)*C(objSceneSemCong)\", df, groups= \"subjID\")\n",
    "    result = model.fit()\n",
    "    \n",
    "    return result\n",
    "\n",
    "def bootstrap_sample(df, percentage):\n",
    "    num_samples = int(len(df) * (1 + percentage))\n",
    "    df = df.sample(n=num_samples, replace=True)\n",
    "    return df\n",
    "\n",
    "def main_output(df):\n",
    "    start_time = time.time()  # Record the start time\n",
    "    with warnings.catch_warnings():\n",
    "        warnings.filterwarnings(\"ignore\", category=ConvergenceWarning)\n",
    "        LME_res = run_LME(df)\n",
    "        \n",
    "    results_df = results_summary_to_dataframe(LME_res)\n",
    "    estim, pval = get_objSceneSemCongxScale_interaction_results(results_df)\n",
    "    end_time = time.time()  # Record the end time\n",
    "    elapsed_time = end_time - start_time  # Calculate the elapsed time\n",
    "#     print(f\"Iteration took {elapsed_time:.2f} seconds\")  # Print the elapsed time\n",
    "    return estim, pval\n"
   ]
  },
  {
   "cell_type": "code",
   "execution_count": 36,
   "metadata": {},
   "outputs": [],
   "source": [
    "\n",
    "def main(df, iterations, fraction):\n",
    "    bootstrapped_estims = []\n",
    "    bootstrapped_pvals = []\n",
    "    for i in range(iterations):\n",
    "        # Determine the number of samples to draw\n",
    "        num_samples = int(len(df) * (1 + fraction))\n",
    "        print(num_samples)\n",
    "\n",
    "        # Perform random sampling with replacement\n",
    "        bootstrapped_sample = CO_df.sample(n=num_samples, replace=True)\n",
    "        estim, pval = main_output(bootstrapped_sample)\n",
    "\n",
    "        bootstrapped_estims.append(estim)\n",
    "        bootstrapped_pvals.append(pval)\n",
    "    \n",
    "    return bootstrapped_estims, bootstrapped_pvals\n",
    "    "
   ]
  },
  {
   "cell_type": "code",
   "execution_count": 38,
   "metadata": {},
   "outputs": [
    {
     "name": "stdout",
     "output_type": "stream",
     "text": [
      "6164\n"
     ]
    },
    {
     "data": {
      "text/plain": [
       "([-3.6174570070871526], [0.0002975117293338863])"
      ]
     },
     "execution_count": 38,
     "metadata": {},
     "output_type": "execute_result"
    }
   ],
   "source": [
    "main(CO_df, 1, 0.40)"
   ]
  },
  {
   "cell_type": "code",
   "execution_count": 32,
   "metadata": {},
   "outputs": [],
   "source": [
    "frac40 = main(CO_df, 1000, 0.40)\n",
    "frac50 = main(CO_df, 1000, 0.50)\n",
    "frac60 = main(CO_df, 1000, 0.60)\n",
    "frac70 = main(CO_df, 1000, 0.70)\n"
   ]
  },
  {
   "cell_type": "code",
   "execution_count": 33,
   "metadata": {},
   "outputs": [],
   "source": [
    "fracs = [0.40, 0.50, 0.60, 0.70]\n",
    "estims = [np.mean(np.array(frac30[0])), np.mean(np.array(frac40[0])), np.mean(np.array(frac50[0])), np.mean(np.array(frac60[0]))]\n",
    "pvals = [np.mean(np.array(frac30[1])), np.mean(np.array(frac40[1])), np.mean(np.array(frac50[1])), np.mean(np.array(frac60[1]))]\n",
    "\n"
   ]
  },
  {
   "cell_type": "code",
   "execution_count": 34,
   "metadata": {},
   "outputs": [
    {
     "data": {
      "text/plain": [
       "[0.1516600169113428,\n",
       " 0.17178183543309966,\n",
       " 0.17446495269455006,\n",
       " 0.17230281367163172]"
      ]
     },
     "execution_count": 34,
     "metadata": {},
     "output_type": "execute_result"
    }
   ],
   "source": [
    "pvals"
   ]
  },
  {
   "cell_type": "code",
   "execution_count": 42,
   "metadata": {},
   "outputs": [
    {
     "data": {
      "image/png": "[encoded data removed]",
      "text/plain": [
       "<Figure size 720x720 with 1 Axes>"
      ]
     },
     "metadata": {
      "needs_background": "light"
     },
     "output_type": "display_data"
    }
   ],
   "source": [
    "fig, ax = plt.subplots(figsize=[10,10])\n",
    "ax.spines['right'].set_visible(False)\n",
    "ax.spines['top'].set_visible(False)\n",
    "\n",
    "for axis in ['bottom','left']:\n",
    "    ax.spines[axis].set_linewidth(2.3)\n",
    "    \n",
    "# Plot estims\n",
    "plt.plot(fracs, estims, marker='o', label='Estims', linestyle='-', color='b')\n",
    "\n",
    "# Plot pvals\n",
    "plt.plot(fracs, pvals, marker='o', label='Pvals', linestyle='-', color='g')\n",
    "\n",
    "\n",
    "# Add a horizontal line at y = 0.05\n",
    "ax.axhline(y=0.05, color='r', linestyle='--', label='y = 0.05')\n",
    "\n",
    "# Add labels and legend\n",
    "plt.xlabel('Fraction', fontsize=20)\n",
    "plt.xticks(fracs,fontsize=18)\n",
    "plt.yticks(fontsize=18)\n",
    "\n",
    "plt.legend(frameon=False,fontsize=16)\n",
    "\n",
    "\n",
    "plt.show()"
   ]
  },
  {
   "cell_type": "code",
   "execution_count": null,
   "metadata": {},
   "outputs": [],
   "source": []
  }
 ],
 "metadata": {
  "kernelspec": {
   "display_name": "Python 3",
   "language": "python",
   "name": "python3"
  },
  "language_info": {
   "codemirror_mode": {
    "name": "ipython",
    "version": 3
   },
   "file_extension": ".py",
   "mimetype": "text/x-python",
   "name": "python",
   "nbconvert_exporter": "python",
   "pygments_lexer": "ipython3",
   "version": "3.7.5"
  }
 },
 "nbformat": 4,
 "nbformat_minor": 4
}
